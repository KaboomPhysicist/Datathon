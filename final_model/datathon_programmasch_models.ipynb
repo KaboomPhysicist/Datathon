{
  "nbformat": 4,
  "nbformat_minor": 0,
  "metadata": {
    "colab": {
      "name": "datathon_programmasch_models.ipynb",
      "provenance": [],
      "collapsed_sections": []
    },
    "kernelspec": {
      "name": "python3",
      "display_name": "Python 3"
    },
    "language_info": {
      "name": "python"
    }
  },
  "cells": [
    {
      "cell_type": "markdown",
      "metadata": {
        "id": "UGI5nmcxKC4b"
      },
      "source": [
        "En el presente notebook se exponen los resultados obtenidos por el equipo Programmasch para la I Datathon Interna convocada por el Grupo de Física Teórica y Matemática Aplicada, con apoyo de Guane Enterprises.\n",
        "\n",
        "El equipo conformado por Cristian Oswaldo Serna Henao y Juan Pablo Ortiz Gil realizó dos modelos enfocados a clasificación de párrafos noticiosos, uno para clasificar la gravedad y otro para clasificar el sesgo, estos mismos se encuentran a continuación. Con el fin de evaluar los modelos, se muestran las métricas de \"precision\", \"recall\" y la matriz de confusión. "
      ]
    },
    {
      "cell_type": "code",
      "metadata": {
        "colab": {
          "base_uri": "https://localhost:8080/"
        },
        "id": "okkvts5U1L8h",
        "outputId": "b0943248-eaff-4c2c-f964-ae647835707e"
      },
      "source": [
        "#Libreria necesaria para importar la tokenización.\n",
        "!pip install pickle5"
      ],
      "execution_count": 1,
      "outputs": [
        {
          "output_type": "stream",
          "text": [
            "Requirement already satisfied: pickle5 in /usr/local/lib/python3.7/dist-packages (0.0.11)\n"
          ],
          "name": "stdout"
        }
      ]
    },
    {
      "cell_type": "code",
      "metadata": {
        "id": "7j-B1Vqz0uzm"
      },
      "source": [
        "#Librerias necesarias para el proceso.\n",
        "from google.colab import drive\n",
        "\n",
        "import os\n",
        "import matplotlib.pyplot as plt\n",
        "import numpy as np\n",
        "import pandas as pd\n",
        "\n",
        "from tensorflow import keras\n",
        "from tensorflow.keras.preprocessing.sequence import pad_sequences\n",
        "\n",
        "from sklearn.metrics import precision_score\n",
        "from sklearn.metrics import confusion_matrix\n",
        "from sklearn.metrics import recall_score\n",
        "\n",
        "from mlxtend.plotting import plot_confusion_matrix\n",
        "import pickle5 as pickle"
      ],
      "execution_count": 2,
      "outputs": []
    },
    {
      "cell_type": "code",
      "metadata": {
        "colab": {
          "base_uri": "https://localhost:8080/"
        },
        "id": "n4fetK-bIbgM",
        "outputId": "8d648dbc-13ff-4a5d-9d74-a583e44c9154"
      },
      "source": [
        "drive.mount('/content/drive')"
      ],
      "execution_count": 3,
      "outputs": [
        {
          "output_type": "stream",
          "text": [
            "Drive already mounted at /content/drive; to attempt to forcibly remount, call drive.mount(\"/content/drive\", force_remount=True).\n"
          ],
          "name": "stdout"
        }
      ]
    },
    {
      "cell_type": "code",
      "metadata": {
        "id": "WNI2IpCbIlkN"
      },
      "source": [
        "#Ubicar la ruta en la que tenga guardado el DataSet, con el fin de realizar el preprocesado de datos.\n",
        "CSV_Path =\"/content/drive/MyDrive/IdentificacionSesgo - DataSet.csv\"\n",
        "df = pd.read_csv(CSV_Path, header = 0)\n",
        "df['GravedadMode'] = df['Gravedad'].str.split(',',expand=True).mode(axis=1, numeric_only=False, dropna=True)[0]\n",
        "df['SesgoMode'] = df['Sesgo'].str.split(',',expand=True).mode(axis=1, numeric_only=False, dropna=True)[0]\n",
        "df = df[['Item (Texto)', 'GravedadMode', 'SesgoMode']]\n",
        "\n",
        "x = df['Item (Texto)'].values\n",
        "y_g = df['GravedadMode'].values\n",
        "y_s = df['SesgoMode'].values\n",
        "\n",
        "#En el siguiente bloque, cambiar a la carpeta en la que estén los modelos compartidos."
      ],
      "execution_count": 4,
      "outputs": []
    },
    {
      "cell_type": "code",
      "metadata": {
        "colab": {
          "base_uri": "https://localhost:8080/"
        },
        "id": "n07axUEQwxbV",
        "outputId": "711f7554-5c4e-438b-8345-bf1ef5057d2c"
      },
      "source": [
        "cd drive/MyDrive"
      ],
      "execution_count": 5,
      "outputs": [
        {
          "output_type": "stream",
          "text": [
            "/content/drive/MyDrive\n"
          ],
          "name": "stdout"
        }
      ]
    },
    {
      "cell_type": "code",
      "metadata": {
        "id": "LNj1-kmWJjQI"
      },
      "source": [
        "#Carga de los modelos.\n",
        "model_gravedad = keras.models.load_model('neural_v3_grav_r0.h5')\n",
        "model_sesgo = keras.models.load_model('neural_v3_ses_r0.h5')"
      ],
      "execution_count": 6,
      "outputs": []
    },
    {
      "cell_type": "code",
      "metadata": {
        "id": "AqbTULKCKDIm"
      },
      "source": [
        "#Carga de la tokenización.\n",
        "with open('tokenizer_grav.pickle', 'rb') as handle1:\n",
        "    tg = pickle.load(handle1)\n",
        "\n",
        "with open('tokenizer_ses.pickle', 'rb') as handle:\n",
        "    ts = pickle.load(handle)"
      ],
      "execution_count": 7,
      "outputs": []
    },
    {
      "cell_type": "code",
      "metadata": {
        "id": "CXaREf8ywc4A"
      },
      "source": [
        "#Función para crear la matriz de confusión.\n",
        "def cm(y_true,y_pred):\n",
        "  return plot_confusion_matrix(confusion_matrix(y_true,y_pred), cmap='Reds', show_absolute=False,show_normed = True, figsize=(7,7))"
      ],
      "execution_count": 8,
      "outputs": []
    },
    {
      "cell_type": "markdown",
      "metadata": {
        "id": "qZVBoqIOucNO"
      },
      "source": [
        "### Gravedad\n",
        "\n",
        "En los siguientes bloques de código se llevan los datos importados al lenguaje del modelo, con el fin de realizar la prueba de gravedad sobre los mismos."
      ]
    },
    {
      "cell_type": "code",
      "metadata": {
        "id": "Azyw18w9v4OU"
      },
      "source": [
        "#Procesado de los datos importados.\n",
        "sequences_g = tg.texts_to_sequences(x)\n",
        "\n",
        "x_g = pad_sequences(sequences_g, padding='pre', maxlen=300)\n",
        "\n",
        "for i in range(len(y_g)):\n",
        "  y_g[i] = int(y_g[i])\n",
        "\n",
        "y_g = list(y_g)"
      ],
      "execution_count": 9,
      "outputs": []
    },
    {
      "cell_type": "code",
      "metadata": {
        "id": "rwxZle3cKtPU"
      },
      "source": [
        "#Calculo de las predicciónes del modelo.\n",
        "y_g_pred = model_gravedad.predict(x_g)\n",
        "\n",
        "#Aplicación del confidence threshold.\n",
        "y_g_pred = (y_g_pred > 0.5)\n",
        "y_g_pred = y_g_pred.argmax(axis=1)"
      ],
      "execution_count": 10,
      "outputs": []
    },
    {
      "cell_type": "code",
      "metadata": {
        "colab": {
          "base_uri": "https://localhost:8080/",
          "height": 442
        },
        "id": "Kso8_1F4K-Zo",
        "outputId": "b072b594-628a-4c3f-86a3-6a7c3fdc0d13"
      },
      "source": [
        "#Matriz de confusión a partir de los datos importados.\n",
        "cm(y_g, y_g_pred)\n",
        "plt.show()"
      ],
      "execution_count": 11,
      "outputs": [
        {
          "output_type": "display_data",
          "data": {
            "image/png": "[encoded data removed]",
            "text/plain": [
              "<Figure size 504x504 with 1 Axes>"
            ]
          },
          "metadata": {
            "tags": [],
            "needs_background": "light"
          }
        }
      ]
    },
    {
      "cell_type": "code",
      "metadata": {
        "colab": {
          "base_uri": "https://localhost:8080/"
        },
        "id": "jqknLcZdLAxX",
        "outputId": "8ef1472d-ab76-452a-b7e3-e1e8d182b14a"
      },
      "source": [
        "#Cálculo de las métricas mencionadas al principio.\n",
        "psg = precision_score(y_g, y_g_pred, average='macro')\n",
        "rsg = recall_score(y_g, y_g_pred, average='macro')\n",
        "print(f'Para el modelo de gravedad, la métrica precision tiene un valor de {psg}, y la métrica recall tiene un valor de {rsg}')"
      ],
      "execution_count": 12,
      "outputs": [
        {
          "output_type": "stream",
          "text": [
            "Para el modelo de gravedad, la métrica precision tiene un valor de 0.8685190201035271, y la métrica recall tiene un valor de 0.8867071524966262\n"
          ],
          "name": "stdout"
        }
      ]
    },
    {
      "cell_type": "markdown",
      "metadata": {
        "id": "KPB4aYJ1ya2B"
      },
      "source": [
        "### Sesgo\n",
        "\n",
        "Finalmente, se realiza un proceso análogo al anterior, pero con el modelo de clasificación para el sesgo."
      ]
    },
    {
      "cell_type": "code",
      "metadata": {
        "id": "z9W-3Lkjyeps"
      },
      "source": [
        "sequences_s = ts.texts_to_sequences(x)\n",
        "\n",
        "x_s = pad_sequences(sequences_s, padding='pre', maxlen=300)\n",
        "\n",
        "for i in range(len(y_g)):\n",
        "  y_s[i] = int(y_s[i])\n",
        "\n",
        "y_s = list(y_s)"
      ],
      "execution_count": 13,
      "outputs": []
    },
    {
      "cell_type": "code",
      "metadata": {
        "id": "FGMV4NP3ykhJ"
      },
      "source": [
        "y_s_pred = model_sesgo.predict(x_s)\n",
        "\n",
        "y_s_pred = (y_s_pred > 0.5)\n",
        "y_s_pred = y_s_pred.argmax(axis=1) - 1"
      ],
      "execution_count": 14,
      "outputs": []
    },
    {
      "cell_type": "code",
      "metadata": {
        "colab": {
          "base_uri": "https://localhost:8080/",
          "height": 442
        },
        "id": "HSeSKjDDy2rQ",
        "outputId": "76f0d601-6325-4e74-8970-574a0b70bfd0"
      },
      "source": [
        "fig, ax = cm(y_s,y_s_pred)\n",
        "\n",
        "ax.set_xticklabels([''] + list(np.unique(y_s_pred)))\n",
        "ax.set_yticklabels([''] + list(np.unique(y_s)))\n",
        "plt.show()"
      ],
      "execution_count": 15,
      "outputs": [
        {
          "output_type": "display_data",
          "data": {
            "image/png": "[encoded data removed]",
            "text/plain": [
              "<Figure size 504x504 with 1 Axes>"
            ]
          },
          "metadata": {
            "tags": [],
            "needs_background": "light"
          }
        }
      ]
    },
    {
      "cell_type": "code",
      "metadata": {
        "colab": {
          "base_uri": "https://localhost:8080/"
        },
        "id": "_mKWlYpbD96d",
        "outputId": "a8df0333-5290-46ec-a36f-aa7c9586b518"
      },
      "source": [
        "pss = precision_score(y_s, y_s_pred, average='macro')\n",
        "rss = recall_score(y_s, y_s_pred, average='macro')\n",
        "print(f'Para el modelo de gravedad, la métrica precision tiene un valor de {pss}, y la métrica recall tiene un valor de {rss}')"
      ],
      "execution_count": 16,
      "outputs": [
        {
          "output_type": "stream",
          "text": [
            "Para el modelo de gravedad, la métrica precision tiene un valor de 0.9290738083851426, y la métrica recall tiene un valor de 0.8884837839755871\n"
          ],
          "name": "stdout"
        }
      ]
    }
  ]
}