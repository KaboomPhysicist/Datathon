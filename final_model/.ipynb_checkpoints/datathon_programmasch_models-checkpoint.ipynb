{
 "cells": [
  {
   "cell_type": "markdown",
   "metadata": {
    "id": "UGI5nmcxKC4b"
   },
   "source": [
    "En el presente notebook se exponen los resultados obtenidos por el equipo Programmasch para la I Datathon Interna convocada por el Grupo de Física Teórica y Matemática Aplicada, con apoyo de Guane Enterprises.\n",
    "\n",
    "El equipo conformado por Cristian Oswaldo Serna Henao y Juan Pablo Ortiz Gil realizó dos modelos enfocados a la clasificación de párrafos noticiosos, uno para clasificar la gravedad y otro para clasificar el sesgo, estos mismos se encuentran a continuación. Con el fin de evaluar los modelos se muestran las métricas de \"precision\", \"recall\" y la matriz de confusión. "
   ]
  },
  {
   "cell_type": "code",
   "execution_count": null,
   "metadata": {
    "id": "okkvts5U1L8h"
   },
   "outputs": [],
   "source": [
    "#Libreria necesaria para importar la tokenización.\n",
    "!pip install pickle5"
   ]
  },
  {
   "cell_type": "code",
   "execution_count": null,
   "metadata": {
    "id": "7j-B1Vqz0uzm"
   },
   "outputs": [],
   "source": [
    "#Librerias necesarias para el proceso.\n",
    "from google.colab import drive\n",
    "\n",
    "import os\n",
    "import matplotlib.pyplot as plt\n",
    "import numpy as np\n",
    "import pandas as pd\n",
    "\n",
    "from tensorflow import keras\n",
    "from tensorflow.keras.preprocessing.sequence import pad_sequences\n",
    "\n",
    "from sklearn.metrics import precision_score\n",
    "from sklearn.metrics import confusion_matrix\n",
    "from sklearn.metrics import recall_score\n",
    "\n",
    "from mlxtend.plotting import plot_confusion_matrix\n",
    "import pickle5 as pickle"
   ]
  },
  {
   "cell_type": "code",
   "execution_count": null,
   "metadata": {
    "id": "n4fetK-bIbgM"
   },
   "outputs": [],
   "source": [
    "drive.mount('/content/drive')"
   ]
  },
  {
   "cell_type": "code",
   "execution_count": null,
   "metadata": {
    "id": "WNI2IpCbIlkN"
   },
   "outputs": [],
   "source": [
    "#Ubicar la ruta en la que tenga guardado el DataSet, con el fin de realizar el preprocesado de datos.\n",
    "CSV_Path =\"/content/drive/MyDrive/Datathon/final_model/clasificacion.csv\"\n",
    "\n",
    "df = pd.read_csv(CSV_Path, header = 0)\n",
    "df['GravedadMode'] = df['Gravedad'].str.split(',',expand=True).mode(axis=1, numeric_only=False, dropna=True)[0]\n",
    "df['SesgoMode'] = df['Sesgo'].str.split(',',expand=True).mode(axis=1, numeric_only=False, dropna=True)[0]\n",
    "df = df[['Item (Texto)', 'GravedadMode', 'SesgoMode']]\n",
    "\n",
    "df.dropna(subset=[\"Item (Texto)\"],inplace=True)\n",
    "\n",
    "x = df['Item (Texto)'].values\n",
    "y_g = df['GravedadMode'].values\n",
    "y_s = df['SesgoMode'].values\n",
    "\n",
    "#En el siguiente bloque, cambiar a la carpeta en la que estén los modelos compartidos."
   ]
  },
  {
   "cell_type": "code",
   "execution_count": null,
   "metadata": {
    "id": "n07axUEQwxbV"
   },
   "outputs": [],
   "source": [
    "cd drive/MyDrive/Datathon/final_model"
   ]
  },
  {
   "cell_type": "code",
   "execution_count": null,
   "metadata": {
    "id": "LNj1-kmWJjQI"
   },
   "outputs": [],
   "source": [
    "#Carga de los modelos.\n",
    "model_gravedad = keras.models.load_model('neural_v3_grav_r0.h5')\n",
    "model_sesgo = keras.models.load_model('neural_v3_ses_r0.h5')"
   ]
  },
  {
   "cell_type": "code",
   "execution_count": null,
   "metadata": {
    "id": "AqbTULKCKDIm"
   },
   "outputs": [],
   "source": [
    "#Carga de la tokenización.\n",
    "with open('tokenizer_grav.pickle', 'rb') as handle1:\n",
    "    tg = pickle.load(handle1)\n",
    "\n",
    "with open('tokenizer_ses.pickle', 'rb') as handle:\n",
    "    ts = pickle.load(handle)"
   ]
  },
  {
   "cell_type": "code",
   "execution_count": null,
   "metadata": {
    "id": "CXaREf8ywc4A"
   },
   "outputs": [],
   "source": [
    "#Función para crear la matriz de confusión.\n",
    "def cm(y_true,y_pred):\n",
    "  return plot_confusion_matrix(confusion_matrix(y_true,y_pred), cmap='Reds', show_absolute=False,show_normed = True, figsize=(7,7))"
   ]
  },
  {
   "cell_type": "markdown",
   "metadata": {
    "id": "qZVBoqIOucNO"
   },
   "source": [
    "### Gravedad\n",
    "\n",
    "En los siguientes bloques de código se llevan los datos importados al lenguaje del modelo, con el fin de realizar la prueba de gravedad sobre los mismos."
   ]
  },
  {
   "cell_type": "code",
   "execution_count": null,
   "metadata": {
    "id": "Azyw18w9v4OU"
   },
   "outputs": [],
   "source": [
    "#Procesado de los datos importados.\n",
    "sequences_g = tg.texts_to_sequences(x)\n",
    "\n",
    "x_g = pad_sequences(sequences_g, padding='post', maxlen=300)\n",
    "\n",
    "for i in range(len(y_g)):\n",
    "  y_g[i] = int(y_g[i])\n",
    "\n",
    "y_g = list(y_g)"
   ]
  },
  {
   "cell_type": "code",
   "execution_count": null,
   "metadata": {
    "id": "rwxZle3cKtPU"
   },
   "outputs": [],
   "source": [
    "#Calculo de las predicciónes del modelo.\n",
    "y_g_pred = model_gravedad.predict(x_g)\n",
    "\n",
    "#Aplicación del confidence threshold.\n",
    "y_g_pred = (y_g_pred > 0.5)\n",
    "y_g_pred = y_g_pred.argmax(axis=1)"
   ]
  },
  {
   "cell_type": "code",
   "execution_count": null,
   "metadata": {
    "colab": {
     "base_uri": "https://localhost:8080/",
     "height": 442
    },
    "id": "Kso8_1F4K-Zo",
    "outputId": "b072b594-628a-4c3f-86a3-6a7c3fdc0d13"
   },
   "outputs": [],
   "source": [
    "#Matriz de confusión a partir de los datos importados.\n",
    "cm(y_g, y_g_pred)\n",
    "plt.show()"
   ]
  },
  {
   "cell_type": "code",
   "execution_count": null,
   "metadata": {
    "id": "jqknLcZdLAxX"
   },
   "outputs": [],
   "source": [
    "#Cálculo de las métricas mencionadas al principio.\n",
    "psg = precision_score(y_g, y_g_pred, average='macro')\n",
    "rsg = recall_score(y_g, y_g_pred, average='macro')\n",
    "print(f'Para el modelo de gravedad, la métrica precision tiene un valor de {psg}, y la métrica recall tiene un valor de {rsg}')"
   ]
  },
  {
   "cell_type": "markdown",
   "metadata": {
    "id": "KPB4aYJ1ya2B"
   },
   "source": [
    "### Sesgo\n",
    "\n",
    "Finalmente, se realiza un proceso análogo al anterior, pero con el modelo de clasificación para el sesgo."
   ]
  },
  {
   "cell_type": "code",
   "execution_count": null,
   "metadata": {
    "id": "z9W-3Lkjyeps"
   },
   "outputs": [],
   "source": [
    "sequences_s = ts.texts_to_sequences(x)\n",
    "\n",
    "x_s = pad_sequences(sequences_s, padding='post', maxlen=300)\n",
    "\n",
    "for i in range(len(y_g)):\n",
    "  y_s[i] = int(y_s[i])\n",
    "\n",
    "y_s = list(y_s)"
   ]
  },
  {
   "cell_type": "code",
   "execution_count": null,
   "metadata": {
    "id": "FGMV4NP3ykhJ"
   },
   "outputs": [],
   "source": [
    "y_s_pred = model_sesgo.predict(x_s)\n",
    "\n",
    "y_s_pred = (y_s_pred > 0.5)\n",
    "y_s_pred = y_s_pred.argmax(axis=1) - 1"
   ]
  },
  {
   "cell_type": "code",
   "execution_count": null,
   "metadata": {
    "colab": {
     "base_uri": "https://localhost:8080/",
     "height": 442
    },
    "id": "HSeSKjDDy2rQ",
    "outputId": "76f0d601-6325-4e74-8970-574a0b70bfd0"
   },
   "outputs": [],
   "source": [
    "fig, ax = cm(y_s,y_s_pred)\n",
    "\n",
    "ax.set_xticklabels([''] + list(np.unique(y_s_pred)))\n",
    "ax.set_yticklabels([''] + list(np.unique(y_s)))\n",
    "plt.show()"
   ]
  },
  {
   "cell_type": "code",
   "execution_count": null,
   "metadata": {
    "id": "_mKWlYpbD96d"
   },
   "outputs": [],
   "source": [
    "pss = precision_score(y_s, y_s_pred, average='macro')\n",
    "rss = recall_score(y_s, y_s_pred, average='macro')\n",
    "print(f'Para el modelo de gravedad, la métrica precision tiene un valor de {pss}, y la métrica recall tiene un valor de {rss}')"
   ]
  },
  {
   "cell_type": "markdown",
   "metadata": {},
   "source": [
    "### Implementación del modelo"
   ]
  },
  {
   "cell_type": "markdown",
   "metadata": {},
   "source": [
    "A continuación, se define una función para la implementación automática del modelo. Basta ejecutar las últimas celdas para que se solicite una frase o un párrafo del cual quiere evaluar su gravedad o su sesgo, e inmediatamente devuelve el valor calculado."
   ]
  },
  {
   "cell_type": "code",
   "execution_count": null,
   "metadata": {},
   "outputs": [],
   "source": [
    "def modelo(version):\n",
    "    pers_test = str(input(\"Ingrese la frase a ser clasificada: \"))\n",
    "    model = keras.models.load_model(f'neural_v3_{version}_r0.h5')\n",
    "\n",
    "    maxlen = 300\n",
    "\n",
    "    with open(f'tokenizer_{version}.pickle','rb') as handle1:\n",
    "        tokenizer = pickle.load(handle1)\n",
    "    \n",
    "    test1 = tokenizer.texts_to_sequences(np.array([pers_test]))\n",
    "    test1 = pad_sequences(test1, padding='post', maxlen= maxlen)\n",
    "\n",
    "    y_pred = model.predict(test1)\n",
    "    y_pred = (y_pred > 0.5)\n",
    "    y_pred = y_pred.argmax(axis=1)\n",
    "    \n",
    "    if version == 'grav':\n",
    "        if y_pred == 0:\n",
    "            val = 'Sin gravedad'\n",
    "        elif y_pred == 1:\n",
    "            val = 'Levemente grave'\n",
    "        elif y_pred == 2:\n",
    "            val = 'Grave'\n",
    "        elif y_pred == 3:\n",
    "            val = 'Muy grave'\n",
    "            \n",
    "        print(f\"Gravedad: {val}\\n\")\n",
    "        \n",
    "\n",
    "    elif version == 'ses':\n",
    "        if y_pred == 0:\n",
    "            val = 'Sesgo negativo'\n",
    "        elif y_pred == 1:\n",
    "            val = 'Imparcial'\n",
    "        elif y_pred == 2:\n",
    "            val = 'Sesgo positivo'\n",
    "\n",
    "        print(f\"Sesgo: {val}\\n\")"
   ]
  },
  {
   "cell_type": "code",
   "execution_count": null,
   "metadata": {},
   "outputs": [],
   "source": [
    "#Función para evaluar gravedad\n",
    "modelo('grav')"
   ]
  },
  {
   "cell_type": "code",
   "execution_count": null,
   "metadata": {},
   "outputs": [],
   "source": [
    "#Función para evaluar sesgo\n",
    "modelo('ses')"
   ]
  },
  {
   "cell_type": "code",
   "execution_count": null,
   "metadata": {},
   "outputs": [],
   "source": []
  }
 ],
 "metadata": {
  "colab": {
   "collapsed_sections": [],
   "name": "datathon_programmasch_models.ipynb",
   "provenance": []
  },
  "kernelspec": {
   "display_name": "Python 3 (ipykernel)",
   "language": "python",
   "name": "python3"
  },
  "language_info": {
   "codemirror_mode": {
    "name": "ipython",
    "version": 3
   },
   "file_extension": ".py",
   "mimetype": "text/x-python",
   "name": "python",
   "nbconvert_exporter": "python",
   "pygments_lexer": "ipython3",
   "version": "3.8.10"
  }
 },
 "nbformat": 4,
 "nbformat_minor": 1
}
