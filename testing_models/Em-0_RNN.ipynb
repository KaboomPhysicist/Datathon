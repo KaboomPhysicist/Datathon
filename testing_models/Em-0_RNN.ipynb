{
  "nbformat": 4,
  "nbformat_minor": 0,
  "metadata": {
    "colab": {
      "name": "Em-0_RNN.ipynb",
      "provenance": [],
      "collapsed_sections": []
    },
    "kernelspec": {
      "name": "python3",
      "display_name": "Python 3"
    },
    "language_info": {
      "name": "python"
    },
    "accelerator": "GPU"
  },
  "cells": [
    {
      "cell_type": "code",
      "metadata": {
        "colab": {
          "base_uri": "https://localhost:8080/"
        },
        "id": "DzPbmPqCHEEv",
        "outputId": "4f5262f6-b3a7-4508-cd1c-741216d82bca"
      },
      "source": [
        "from google.colab import drive\n",
        "drive.mount('/content/drive/')"
      ],
      "execution_count": null,
      "outputs": [
        {
          "output_type": "stream",
          "text": [
            "Drive already mounted at /content/drive/; to attempt to forcibly remount, call drive.mount(\"/content/drive/\", force_remount=True).\n"
          ],
          "name": "stdout"
        }
      ]
    },
    {
      "cell_type": "code",
      "metadata": {
        "id": "MkKUN5C2KtaY"
      },
      "source": [
        ""
      ],
      "execution_count": null,
      "outputs": []
    },
    {
      "cell_type": "code",
      "metadata": {
        "id": "IDYykDIdIAmF"
      },
      "source": [
        "import pandas as pd\n",
        "\n",
        "File = '/content/drive/MyDrive/Algoritmos/Datathon/Datos/IdentificacionSesgo - DataSet29.06.csv'\n",
        "df = pd.read_csv(File, header = 0)"
      ],
      "execution_count": null,
      "outputs": []
    },
    {
      "cell_type": "code",
      "metadata": {
        "id": "2RaQTkKBIK1M"
      },
      "source": [
        "df['GravedadMode'] = df['Gravedad'].str.split(',',expand=True).mode(axis=1, numeric_only=False, dropna=True)[0]\n"
      ],
      "execution_count": null,
      "outputs": []
    },
    {
      "cell_type": "code",
      "metadata": {
        "id": "i2Gk8nFTIWvf"
      },
      "source": [
        "df = df[['Item (Texto)', 'GravedadMode']]\n"
      ],
      "execution_count": null,
      "outputs": []
    },
    {
      "cell_type": "code",
      "metadata": {
        "colab": {
          "base_uri": "https://localhost:8080/"
        },
        "id": "pX2wBnHlIZdf",
        "outputId": "ad2aa98c-0e0f-4ec0-ec69-6391d898bfa1"
      },
      "source": [
        "df.iloc[0]"
      ],
      "execution_count": null,
      "outputs": [
        {
          "output_type": "execute_result",
          "data": {
            "text/plain": [
              "Item (Texto)    Las protestas, sin precedentes, ya completan c...\n",
              "GravedadMode                                                    2\n",
              "Name: 0, dtype: object"
            ]
          },
          "metadata": {
            "tags": []
          },
          "execution_count": 5
        }
      ]
    },
    {
      "cell_type": "code",
      "metadata": {
        "id": "-CwlbvXoK4MJ"
      },
      "source": [
        "X = df['Item (Texto)'].values\n",
        "y = df['GravedadMode'].values"
      ],
      "execution_count": null,
      "outputs": []
    },
    {
      "cell_type": "code",
      "metadata": {
        "id": "TDWAHcXLKGRc"
      },
      "source": [
        "from tensorflow import keras\n",
        "%tensorflow_version 2.x"
      ],
      "execution_count": null,
      "outputs": []
    },
    {
      "cell_type": "code",
      "metadata": {
        "id": "7O-L20GrKqpC"
      },
      "source": [
        "from tensorflow.keras.preprocessing.text import Tokenizer\n",
        "from tensorflow.keras.preprocessing.text import text_to_word_sequence"
      ],
      "execution_count": null,
      "outputs": []
    },
    {
      "cell_type": "code",
      "metadata": {
        "id": "V1XOfgu4KvGy"
      },
      "source": [
        "t = Tokenizer()\n",
        "t.fit_on_texts(X)"
      ],
      "execution_count": null,
      "outputs": []
    },
    {
      "cell_type": "code",
      "metadata": {
        "colab": {
          "base_uri": "https://localhost:8080/"
        },
        "id": "Jqu2d33TLWTu",
        "outputId": "15080330-d583-4554-f10c-662ef2a80b03"
      },
      "source": [
        "vocab_size = len(t.word_index) + 1\n",
        "print(vocab_size) #número de palabras únicas"
      ],
      "execution_count": null,
      "outputs": [
        {
          "output_type": "stream",
          "text": [
            "3209\n"
          ],
          "name": "stdout"
        }
      ]
    },
    {
      "cell_type": "code",
      "metadata": {
        "id": "CaEWVByfLXaf"
      },
      "source": [
        "sequences = t.texts_to_sequences(X)"
      ],
      "execution_count": null,
      "outputs": []
    },
    {
      "cell_type": "code",
      "metadata": {
        "colab": {
          "base_uri": "https://localhost:8080/"
        },
        "id": "14VkOkRcLmpS",
        "outputId": "661bfccf-98af-4e05-a215-d242c4d46308"
      },
      "source": [
        "print(X[2])\n",
        "print(sequences[2])"
      ],
      "execution_count": null,
      "outputs": [
        {
          "output_type": "stream",
          "text": [
            "Una patrullera de la Policía Nacional denunció este jueves que fue violada por vándalos en Cali, Valle del Cauca. La oficial se encontraba en labores de seguridad durante las manifestaciones del pasado 29 de abril cuando ocurrieron los hechos. Había sido asignada para brindar seguridad en un sector al oriente de Cali. En medio de los actos vandálicos, ella ingresó al CAI para protegerse. Pero los vándalos la emprendieron contra las instalaciones y lo prendieron fuego. Allí, esta mujer empezó a vivir los momentos más duros de su vida.\n",
            "[14, 1137, 1, 2, 34, 20, 433, 30, 255, 3, 42, 1138, 12, 434, 5, 32, 110, 11, 101, 2, 435, 10, 654, 5, 1139, 1, 82, 53, 9, 111, 11, 74, 1140, 1, 102, 50, 436, 7, 51, 202, 54, 1141, 16, 1142, 82, 5, 13, 103, 18, 1143, 1, 32, 5, 104, 1, 7, 256, 437, 655, 1144, 18, 438, 16, 1145, 44, 7, 434, 2, 1146, 35, 9, 439, 6, 29, 1147, 143, 203, 83, 656, 1148, 8, 1149, 7, 315, 23, 1150, 1, 21, 84]\n"
          ],
          "name": "stdout"
        }
      ]
    },
    {
      "cell_type": "code",
      "metadata": {
        "id": "AQIzvmTXMBl1"
      },
      "source": [
        "def max_sequence():\n",
        "    for i in range(1, len(sequences)):\n",
        "        max_length = len(sequences[0])\n",
        "        if len(sequences[i]) > max_length:\n",
        "            max_length = len(sequences[i])\n",
        "    return max_length"
      ],
      "execution_count": null,
      "outputs": []
    },
    {
      "cell_type": "code",
      "metadata": {
        "colab": {
          "base_uri": "https://localhost:8080/"
        },
        "id": "tDU881cuMJ4S",
        "outputId": "8f099acb-999b-4efa-a1b6-95f37fc4113e"
      },
      "source": [
        "maxlen = max_sequence()\n",
        "\n",
        "maxlen"
      ],
      "execution_count": null,
      "outputs": [
        {
          "output_type": "execute_result",
          "data": {
            "text/plain": [
              "76"
            ]
          },
          "metadata": {
            "tags": []
          },
          "execution_count": 14
        }
      ]
    },
    {
      "cell_type": "code",
      "metadata": {
        "id": "8ugH_8W4MNhT"
      },
      "source": [
        "from tensorflow.keras.preprocessing.sequence import pad_sequences\n",
        "\n",
        "padded_X = pad_sequences(sequences, padding='post', maxlen=maxlen)"
      ],
      "execution_count": null,
      "outputs": []
    },
    {
      "cell_type": "code",
      "metadata": {
        "colab": {
          "base_uri": "https://localhost:8080/"
        },
        "id": "QByMZqgsMd8y",
        "outputId": "85b6fffc-362e-4d4e-ae97-dd5ebcbbdab8"
      },
      "source": [
        "padded_X[0,:]"
      ],
      "execution_count": null,
      "outputs": [
        {
          "output_type": "execute_result",
          "data": {
            "text/plain": [
              "array([   9,   39,   33,  429,   67, 1100, 1101,   13,   81,   10,   25,\n",
              "       1102,    1,  313,   12,  142,    1,    2,   88,    6,  126,   18,\n",
              "       1103,    1,    2, 1104,    8,   73,    1,   57,    6,  251,    5,\n",
              "          4,   26,   98,  430,    1,    9,  643,    1,    7,   37,   64,\n",
              "        644,    0,    0,    0,    0,    0,    0,    0,    0,    0,    0,\n",
              "          0,    0,    0,    0,    0,    0,    0,    0,    0,    0,    0,\n",
              "          0,    0,    0,    0,    0,    0,    0,    0,    0,    0],\n",
              "      dtype=int32)"
            ]
          },
          "metadata": {
            "tags": []
          },
          "execution_count": 16
        }
      ]
    },
    {
      "cell_type": "code",
      "metadata": {
        "id": "0ryRQgXlMnp6"
      },
      "source": [
        "from tensorflow.keras.utils import to_categorical\n",
        "import numpy as np\n",
        "\n",
        "labels = to_categorical(np.asarray(y))"
      ],
      "execution_count": null,
      "outputs": []
    },
    {
      "cell_type": "code",
      "metadata": {
        "colab": {
          "base_uri": "https://localhost:8080/"
        },
        "id": "6sIUpNTLMyoU",
        "outputId": "ee4dd14e-39fd-4ad2-e88b-1813b7cdfa75"
      },
      "source": [
        "labels[:3]"
      ],
      "execution_count": null,
      "outputs": [
        {
          "output_type": "execute_result",
          "data": {
            "text/plain": [
              "array([[0., 0., 1., 0.],\n",
              "       [0., 1., 0., 0.],\n",
              "       [0., 0., 0., 1.]], dtype=float32)"
            ]
          },
          "metadata": {
            "tags": []
          },
          "execution_count": 18
        }
      ]
    },
    {
      "cell_type": "code",
      "metadata": {
        "id": "nSl-4MpaMyDj"
      },
      "source": [
        "from sklearn.model_selection import train_test_split\n",
        "\n",
        "X_train, X_test, y_train, y_test = train_test_split(padded_X, labels, test_size = 0.25, random_state = 0)"
      ],
      "execution_count": null,
      "outputs": []
    },
    {
      "cell_type": "code",
      "metadata": {
        "colab": {
          "base_uri": "https://localhost:8080/"
        },
        "id": "3NRkLIYoNQCl",
        "outputId": "2d2a65b0-ad6f-4e0f-a8b2-26223fe540b3"
      },
      "source": [
        "print('X_train size:', X_train.shape)\n",
        "print('y_train size:', y_train.shape)\n",
        "print('X_test size:', X_test.shape)\n",
        "print('y_test size:', y_test.shape)"
      ],
      "execution_count": null,
      "outputs": [
        {
          "output_type": "stream",
          "text": [
            "X_train size: (109, 76)\n",
            "y_train size: (109, 4)\n",
            "X_test size: (37, 76)\n",
            "y_test size: (37, 4)\n"
          ],
          "name": "stdout"
        }
      ]
    },
    {
      "cell_type": "code",
      "metadata": {
        "id": "qccAMQ-nQFEg"
      },
      "source": [
        "keras.backend.clear_session()"
      ],
      "execution_count": null,
      "outputs": []
    },
    {
      "cell_type": "code",
      "metadata": {
        "colab": {
          "base_uri": "https://localhost:8080/"
        },
        "id": "C_PtccXxOBPj",
        "outputId": "f96c31ef-aa30-42aa-e147-fda7d71f2253"
      },
      "source": [
        "# aver\n",
        "\n",
        "from keras.models import Sequential\n",
        "from keras import layers\n",
        "from tensorflow.keras.layers import LSTM\n",
        "\n",
        "embedding_dim = 50\n",
        "\n",
        "lstm_mod = Sequential()\n",
        "lstm_mod.add(layers.Embedding(input_dim=vocab_size, \n",
        "                           output_dim=embedding_dim, \n",
        "                           input_length=maxlen))\n",
        "lstm_mod.add(LSTM(456, \n",
        "               dropout = 0.2, \n",
        "               recurrent_dropout = 0.5))\n",
        "lstm_mod.add(layers.Dense(4, activation='softmax'))\n",
        "lstm_mod.compile(optimizer='adam', loss='categorical_crossentropy', metrics=['acc'])\n",
        "lstm_mod.summary()"
      ],
      "execution_count": null,
      "outputs": [
        {
          "output_type": "stream",
          "text": [
            "WARNING:tensorflow:Layer lstm will not use cuDNN kernels since it doesn't meet the criteria. It will use a generic GPU kernel as fallback when running on GPU.\n",
            "Model: \"sequential\"\n",
            "_________________________________________________________________\n",
            "Layer (type)                 Output Shape              Param #   \n",
            "=================================================================\n",
            "embedding (Embedding)        (None, 76, 50)            160450    \n",
            "_________________________________________________________________\n",
            "module_wrapper (ModuleWrappe (None, 456)               924768    \n",
            "_________________________________________________________________\n",
            "dense (Dense)                (None, 4)                 1828      \n",
            "=================================================================\n",
            "Total params: 1,087,046\n",
            "Trainable params: 1,087,046\n",
            "Non-trainable params: 0\n",
            "_________________________________________________________________\n"
          ],
          "name": "stdout"
        }
      ]
    },
    {
      "cell_type": "code",
      "metadata": {
        "id": "LvA_9tcgOe_b"
      },
      "source": [
        "import matplotlib.pyplot as plt\n",
        "plt.style.use('ggplot')\n",
        "\n",
        "def plot_history(history):\n",
        "    acc = history.history['acc']\n",
        "    val_acc = history.history['val_acc']\n",
        "    loss = history.history['loss']\n",
        "    val_loss = history.history['val_loss']\n",
        "    x = range(1, len(acc) + 1)\n",
        "\n",
        "    plt.figure(figsize=(12, 5))\n",
        "    plt.subplot(1, 2, 1)\n",
        "    plt.plot(x, acc, 'b', label='Training acc')\n",
        "    plt.plot(x, val_acc, 'r', label='Validation acc')\n",
        "    plt.title('Training and validation accuracy')\n",
        "    plt.legend()\n",
        "    plt.subplot(1, 2, 2)\n",
        "    plt.plot(x, loss, 'b', label='Training loss')\n",
        "    plt.plot(x, val_loss, 'r', label='Validation loss')\n",
        "    plt.title('Training and validation loss')\n",
        "    plt.legend()"
      ],
      "execution_count": null,
      "outputs": []
    },
    {
      "cell_type": "code",
      "metadata": {
        "colab": {
          "base_uri": "https://localhost:8080/",
          "height": 745
        },
        "id": "rwU4nx5aOaxq",
        "outputId": "8c4ec170-4d29-40e7-9ec6-cc11c5be1938"
      },
      "source": [
        "from tensorflow.keras.callbacks import EarlyStopping      \n",
        "\n",
        "\n",
        "es=EarlyStopping(monitor='val_loss',patience=10)\n",
        "\n",
        "history = lstm_mod.fit(X_train, y_train, epochs=100 , validation_split=0.2, batch_size=456, callbacks=[es])\n",
        "loss, accuracy = lstm_mod.evaluate(X_train, y_train, verbose=False)\n",
        "print(\"Training Accuracy: {:.4f}\".format(accuracy))\n",
        "loss, accuracy = lstm_mod.evaluate(X_test, y_test, verbose=False)\n",
        "print(\"Testing Accuracy:  {:.4f}\".format(accuracy))\n",
        "plot_history(history)"
      ],
      "execution_count": null,
      "outputs": [
        {
          "output_type": "stream",
          "text": [
            "Epoch 1/100\n",
            "1/1 [==============================] - 14s 14s/step - loss: 1.3858 - acc: 0.3448 - val_loss: 1.3931 - val_acc: 0.2727\n",
            "Epoch 2/100\n",
            "1/1 [==============================] - 0s 338ms/step - loss: 1.3765 - acc: 0.3218 - val_loss: 1.4015 - val_acc: 0.2727\n",
            "Epoch 3/100\n",
            "1/1 [==============================] - 0s 344ms/step - loss: 1.3658 - acc: 0.3218 - val_loss: 1.4266 - val_acc: 0.2727\n",
            "Epoch 4/100\n",
            "1/1 [==============================] - 0s 364ms/step - loss: 1.3531 - acc: 0.3218 - val_loss: 1.5317 - val_acc: 0.2727\n",
            "Epoch 5/100\n",
            "1/1 [==============================] - 0s 347ms/step - loss: 1.3795 - acc: 0.3218 - val_loss: 1.4341 - val_acc: 0.2727\n",
            "Epoch 6/100\n",
            "1/1 [==============================] - 0s 324ms/step - loss: 1.3407 - acc: 0.3218 - val_loss: 1.4156 - val_acc: 0.2273\n",
            "Epoch 7/100\n",
            "1/1 [==============================] - 0s 336ms/step - loss: 1.3434 - acc: 0.5057 - val_loss: 1.4087 - val_acc: 0.1818\n",
            "Epoch 8/100\n",
            "1/1 [==============================] - 0s 379ms/step - loss: 1.3429 - acc: 0.5747 - val_loss: 1.4055 - val_acc: 0.1818\n",
            "Epoch 9/100\n",
            "1/1 [==============================] - 0s 341ms/step - loss: 1.3393 - acc: 0.5747 - val_loss: 1.4041 - val_acc: 0.2273\n",
            "Epoch 10/100\n",
            "1/1 [==============================] - 0s 344ms/step - loss: 1.3318 - acc: 0.4713 - val_loss: 1.4056 - val_acc: 0.2273\n",
            "Epoch 11/100\n",
            "1/1 [==============================] - 0s 332ms/step - loss: 1.3224 - acc: 0.4253 - val_loss: 1.4245 - val_acc: 0.2727\n",
            "Training Accuracy: 0.3303\n",
            "Testing Accuracy:  0.4865\n"
          ],
          "name": "stdout"
        },
        {
          "output_type": "display_data",
          "data": {
            "image/png": "[encoded data removed]",
            "text/plain": [
              "<Figure size 864x360 with 2 Axes>"
            ]
          },
          "metadata": {
            "tags": []
          }
        }
      ]
    },
    {
      "cell_type": "code",
      "metadata": {
        "colab": {
          "base_uri": "https://localhost:8080/"
        },
        "id": "Ir-WeRLeKul7",
        "outputId": "11be4b40-8647-4c4e-9c76-562e0aee3f88"
      },
      "source": [
        "y_test[0]"
      ],
      "execution_count": null,
      "outputs": [
        {
          "output_type": "execute_result",
          "data": {
            "text/plain": [
              "array([0., 1., 0., 0.], dtype=float32)"
            ]
          },
          "metadata": {
            "tags": []
          },
          "execution_count": 25
        }
      ]
    },
    {
      "cell_type": "code",
      "metadata": {
        "id": "nSeGVYTlK1wk"
      },
      "source": [
        "comentario = ['El presidente en alocución oficial pronunció un discurso de amor para toda la población, incitando a abrazar a todo aquel de la oposición y declarando que todas las posturas son válidas en el país.']"
      ],
      "execution_count": null,
      "outputs": []
    },
    {
      "cell_type": "code",
      "metadata": {
        "id": "ZgtngVXuMayE"
      },
      "source": [
        "comentario = t.texts_to_sequences(comentario)\n"
      ],
      "execution_count": null,
      "outputs": []
    },
    {
      "cell_type": "code",
      "metadata": {
        "id": "NKB6P4OdMekM"
      },
      "source": [
        "comentario = pad_sequences(comentario, padding = 'post',maxlen=maxlen)\n"
      ],
      "execution_count": null,
      "outputs": []
    },
    {
      "cell_type": "code",
      "metadata": {
        "colab": {
          "base_uri": "https://localhost:8080/"
        },
        "id": "TIW2RY8lMhXM",
        "outputId": "b0aa3ad4-7d24-41a9-8a65-8b4a74259f6d"
      },
      "source": [
        "np.argmax(lstm_mod.predict(comentario), axis=-1)"
      ],
      "execution_count": null,
      "outputs": [
        {
          "output_type": "execute_result",
          "data": {
            "text/plain": [
              "array([2])"
            ]
          },
          "metadata": {
            "tags": []
          },
          "execution_count": 30
        }
      ]
    },
    {
      "cell_type": "code",
      "metadata": {
        "id": "TynHNIptMoJ9",
        "colab": {
          "base_uri": "https://localhost:8080/"
        },
        "outputId": "5180cccf-9c61-48f5-fab3-eb07e35c8073"
      },
      "source": [
        "X_train.shape[1]"
      ],
      "execution_count": null,
      "outputs": [
        {
          "output_type": "execute_result",
          "data": {
            "text/plain": [
              "76"
            ]
          },
          "metadata": {
            "tags": []
          },
          "execution_count": 31
        }
      ]
    }
  ]
}