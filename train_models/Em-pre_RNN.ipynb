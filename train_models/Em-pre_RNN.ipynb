{
  "nbformat": 4,
  "nbformat_minor": 0,
  "metadata": {
    "colab": {
      "name": "Em-pre_RNN.ipynb",
      "provenance": [],
      "collapsed_sections": []
    },
    "kernelspec": {
      "name": "python3",
      "display_name": "Python 3"
    },
    "language_info": {
      "name": "python"
    },
    "accelerator": "GPU"
  },
  "cells": [
    {
      "cell_type": "code",
      "metadata": {
        "colab": {
          "base_uri": "https://localhost:8080/"
        },
        "id": "yQzALxOT3Ofx",
        "outputId": "d281baa8-9ab7-4d5f-c812-bf80b571a0bd"
      },
      "source": [
        "from google.colab import drive\n",
        "drive.mount('/content/drive/')"
      ],
      "execution_count": 1,
      "outputs": [
        {
          "output_type": "stream",
          "text": [
            "Mounted at /content/drive/\n"
          ],
          "name": "stdout"
        }
      ]
    },
    {
      "cell_type": "code",
      "metadata": {
        "id": "XpC9cSDl3dmx"
      },
      "source": [
        "import pandas as pd\n",
        "\n",
        "File = '/content/drive/MyDrive/Algoritmos/Datathon/Datos/IdentificacionSesgo - DataSet29.06.csv'\n",
        "df = pd.read_csv(File, header = 0)"
      ],
      "execution_count": 2,
      "outputs": []
    },
    {
      "cell_type": "code",
      "metadata": {
        "id": "MUPQgWdz3sCg"
      },
      "source": [
        "df['GravedadMode'] = df['Gravedad'].str.split(',',expand=True).mode(axis=1, numeric_only=False, dropna=True)[0]\n"
      ],
      "execution_count": 4,
      "outputs": []
    },
    {
      "cell_type": "code",
      "metadata": {
        "id": "fEcbAmQE4N9X"
      },
      "source": [
        "df = df[['Item (Texto)', 'GravedadMode']]\n"
      ],
      "execution_count": 5,
      "outputs": []
    },
    {
      "cell_type": "code",
      "metadata": {
        "id": "bk2tZBIKOd1_"
      },
      "source": [
        "x = df['Item (Texto)'].values\n",
        "y = df['GravedadMode'].values"
      ],
      "execution_count": 6,
      "outputs": []
    },
    {
      "cell_type": "code",
      "metadata": {
        "id": "su-0FqdhOxyz"
      },
      "source": [
        "from tensorflow import keras\n",
        "%tensorflow_version 2.x"
      ],
      "execution_count": 7,
      "outputs": []
    },
    {
      "cell_type": "code",
      "metadata": {
        "id": "nIBt_05HOpRq"
      },
      "source": [
        "from sklearn.model_selection import train_test_split\n",
        "from tensorflow.keras.utils import to_categorical\n",
        "from tensorflow.keras.preprocessing.text import Tokenizer\n",
        "from tensorflow.keras.preprocessing.text import text_to_word_sequence"
      ],
      "execution_count": 8,
      "outputs": []
    },
    {
      "cell_type": "code",
      "metadata": {
        "id": "4iTaZ80tPJ_X"
      },
      "source": [
        "t = Tokenizer()\n",
        "t.fit_on_texts(x)"
      ],
      "execution_count": 9,
      "outputs": []
    },
    {
      "cell_type": "code",
      "metadata": {
        "colab": {
          "base_uri": "https://localhost:8080/"
        },
        "id": "oKBFzrdvPQgP",
        "outputId": "1ff624a0-cc48-4b17-fe05-b878926dc97a"
      },
      "source": [
        "vocab_size = len(t.word_index) + 1\n",
        "print(vocab_size)"
      ],
      "execution_count": 10,
      "outputs": [
        {
          "output_type": "stream",
          "text": [
            "3209\n"
          ],
          "name": "stdout"
        }
      ]
    },
    {
      "cell_type": "code",
      "metadata": {
        "id": "RX_gNEjRPTZe"
      },
      "source": [
        "sequences = t.texts_to_sequences(x)"
      ],
      "execution_count": 11,
      "outputs": []
    },
    {
      "cell_type": "code",
      "metadata": {
        "colab": {
          "base_uri": "https://localhost:8080/"
        },
        "id": "GUin-OTwPU3J",
        "outputId": "4615f12a-14b8-40fa-90e6-2e78fecd6b16"
      },
      "source": [
        "import numpy as np\n",
        "\n",
        "np.shape(sequences)"
      ],
      "execution_count": 13,
      "outputs": [
        {
          "output_type": "stream",
          "text": [
            "/usr/local/lib/python3.7/dist-packages/numpy/core/_asarray.py:83: VisibleDeprecationWarning: Creating an ndarray from ragged nested sequences (which is a list-or-tuple of lists-or-tuples-or ndarrays with different lengths or shapes) is deprecated. If you meant to do this, you must specify 'dtype=object' when creating the ndarray\n",
            "  return array(a, dtype, copy=False, order=order)\n"
          ],
          "name": "stderr"
        },
        {
          "output_type": "execute_result",
          "data": {
            "text/plain": [
              "(146,)"
            ]
          },
          "metadata": {
            "tags": []
          },
          "execution_count": 13
        }
      ]
    },
    {
      "cell_type": "code",
      "metadata": {
        "id": "Zu2qdtn-PW-n"
      },
      "source": [
        "def max_news():\n",
        "    for i in range(1, len(sequences)):\n",
        "        max_length = len(sequences[0])\n",
        "        if len(sequences[i]) > max_length:\n",
        "            max_length = len(sequences[i])\n",
        "    return max_length"
      ],
      "execution_count": 14,
      "outputs": []
    },
    {
      "cell_type": "code",
      "metadata": {
        "colab": {
          "base_uri": "https://localhost:8080/"
        },
        "id": "d_ZEEtOEPcJI",
        "outputId": "6d0bebfa-4643-44a9-f201-5c566e1a6d84"
      },
      "source": [
        "news_num = max_news()\n",
        "news_num"
      ],
      "execution_count": 15,
      "outputs": [
        {
          "output_type": "execute_result",
          "data": {
            "text/plain": [
              "76"
            ]
          },
          "metadata": {
            "tags": []
          },
          "execution_count": 15
        }
      ]
    },
    {
      "cell_type": "code",
      "metadata": {
        "id": "87RpcyMkPllC"
      },
      "source": [
        "from tensorflow.keras.preprocessing.sequence import pad_sequences\n",
        "\n",
        "padded_x = pad_sequences(sequences, padding='pre', maxlen=news_num)"
      ],
      "execution_count": 16,
      "outputs": []
    },
    {
      "cell_type": "code",
      "metadata": {
        "id": "_drxSnqgPo1J"
      },
      "source": [
        "labels = to_categorical(np.asarray(y))"
      ],
      "execution_count": 17,
      "outputs": []
    },
    {
      "cell_type": "code",
      "metadata": {
        "id": "c-pQybKJPzO6"
      },
      "source": [
        "X_train, X_test, y_train, y_test = train_test_split(padded_x, labels, test_size = 0.2, random_state = 0)"
      ],
      "execution_count": 18,
      "outputs": []
    },
    {
      "cell_type": "code",
      "metadata": {
        "colab": {
          "base_uri": "https://localhost:8080/"
        },
        "id": "py2XIDbRP1u7",
        "outputId": "b8243c67-946d-4e8f-f6cc-d020f31a6cc6"
      },
      "source": [
        "print('X_train size:', X_train.shape)\n",
        "print('y_train size:', y_train.shape)\n",
        "print('X_test size:', X_test.shape)\n",
        "print('y_test size:', y_test.shape)"
      ],
      "execution_count": 19,
      "outputs": [
        {
          "output_type": "stream",
          "text": [
            "X_train size: (116, 76)\n",
            "y_train size: (116, 4)\n",
            "X_test size: (30, 76)\n",
            "y_test size: (30, 4)\n"
          ],
          "name": "stdout"
        }
      ]
    },
    {
      "cell_type": "code",
      "metadata": {
        "id": "g0b_4DBdY7AD"
      },
      "source": [
        "import os"
      ],
      "execution_count": 20,
      "outputs": []
    },
    {
      "cell_type": "code",
      "metadata": {
        "colab": {
          "base_uri": "https://localhost:8080/"
        },
        "id": "y4Qr9RusY8Mh",
        "outputId": "e70f69fa-a1a5-47a8-8154-d2984ec0d273"
      },
      "source": [
        "cd /content/drive/MyDrive/Algoritmos/Datathon/Embeddings"
      ],
      "execution_count": 21,
      "outputs": [
        {
          "output_type": "stream",
          "text": [
            "/content/drive/MyDrive/Algoritmos/Datathon/Embeddings\n"
          ],
          "name": "stdout"
        }
      ]
    },
    {
      "cell_type": "code",
      "metadata": {
        "colab": {
          "base_uri": "https://localhost:8080/"
        },
        "id": "dl5q2GdPd4bI",
        "outputId": "780193d7-4154-4499-ffc1-b93c74484262"
      },
      "source": [
        "ls"
      ],
      "execution_count": 23,
      "outputs": [
        {
          "output_type": "stream",
          "text": [
            "embeddings-l-model.vec  fasttext-sbwc.300k.vec\n"
          ],
          "name": "stdout"
        }
      ]
    },
    {
      "cell_type": "code",
      "metadata": {
        "colab": {
          "base_uri": "https://localhost:8080/"
        },
        "id": "r904lFwPd9Bl",
        "outputId": "0b930544-7f20-44a4-e6b1-e5c553ff56d4"
      },
      "source": [
        "from gensim.models import KeyedVectors\n",
        "import logging\n",
        "\n",
        "logging.basicConfig(format='%(asctime)s : %(message)s', level=logging.INFO)\n",
        "\n",
        "vectors = KeyedVectors.load_word2vec_format('embeddings-l-model.vec', binary = False)"
      ],
      "execution_count": 25,
      "outputs": [
        {
          "output_type": "stream",
          "text": [
            "2021-07-02 17:09:58,944 : loading projection weights from embeddings-l-model.vec\n",
            "2021-07-02 17:15:21,253 : loaded (1313423, 300) matrix from embeddings-l-model.vec\n"
          ],
          "name": "stderr"
        }
      ]
    },
    {
      "cell_type": "code",
      "metadata": {
        "colab": {
          "base_uri": "https://localhost:8080/"
        },
        "id": "t4sKti_TX9U1",
        "outputId": "4da1bdbd-31a6-4603-d80b-4a4eab6eaeab"
      },
      "source": [
        "import numpy as np\n",
        "\n",
        "embeddings_index = dict()\n",
        "f = open('embeddings-l-model.vec')\n",
        "for line in f:\n",
        "    values = line.split()\n",
        "    word = values[0]\n",
        "    coefs = np.asarray(values[1:], dtype='float32')\n",
        "    embeddings_index[word] = coefs\n",
        "f.close()\n",
        "print('Loaded %s word vectors.' % len(embeddings_index))"
      ],
      "execution_count": 24,
      "outputs": [
        {
          "output_type": "stream",
          "text": [
            "Loaded 1313424 word vectors.\n"
          ],
          "name": "stdout"
        }
      ]
    },
    {
      "cell_type": "code",
      "metadata": {
        "id": "vdQ7R_w9eCZv"
      },
      "source": [
        "from tensorflow import keras\n",
        "from tensorflow.keras.models import Sequential\n",
        "from tensorflow.keras.layers import Dense\n",
        "from tensorflow.keras.layers import Flatten\n",
        "from tensorflow.keras.layers import LSTM\n",
        "from tensorflow.keras.layers import BatchNormalization\n",
        "from keras.callbacks import EarlyStopping"
      ],
      "execution_count": 26,
      "outputs": []
    },
    {
      "cell_type": "code",
      "metadata": {
        "id": "vPR_5YY3goWs"
      },
      "source": [
        "# Definición del tamaño de la matriz embedding: Número de palabas únicas x dimensión del embedding (100)\n",
        "embedding_matrix = np.zeros((vocab_size, 300))\n",
        "\n",
        "# relleno de la matriz\n",
        "for word, i in t.word_index.items():  # diccionario\n",
        "    embedding_vector = embeddings_index.get(word) # obtención de los vectores embedded de la palabra en GloVe.\n",
        "    if embedding_vector is not None:\n",
        "        # adición en la matriz\n",
        "        embedding_matrix[i] = embedding_vector # cada fila de la matriz."
      ],
      "execution_count": 27,
      "outputs": []
    },
    {
      "cell_type": "code",
      "metadata": {
        "id": "aij0fpHJfDvK"
      },
      "source": [
        "keras.backend.clear_session()\n",
        "\n",
        "# Creación de la capa embedding esando la matriz embedding predefinida.\n",
        "from tensorflow.keras.layers import Embedding\n",
        "\n",
        "# la entrada será vocab_size, y la salida 300\n",
        "# para cargar los pesos de la matriz embedding hacemos trainable = False\n",
        "embedding_layer = Embedding(input_dim=vocab_size, output_dim=300, weights=[embedding_matrix],\n",
        "                           input_length = news_num, trainable=False)"
      ],
      "execution_count": 35,
      "outputs": []
    },
    {
      "cell_type": "code",
      "metadata": {
        "colab": {
          "base_uri": "https://localhost:8080/"
        },
        "id": "d_xWxL61fLRb",
        "outputId": "86b17b7b-dd0c-48ff-c153-5c62cd4adf06"
      },
      "source": [
        "lstm_mod1 = Sequential()\n",
        "lstm_mod1.add(embedding_layer)\n",
        "lstm_mod1.add(LSTM(456, \n",
        "               dropout = 0.2, \n",
        "               recurrent_dropout = 0.5))\n",
        "lstm_mod1.add(Dense(4, activation='softmax'))\n",
        "lstm_mod1.compile(optimizer='adam', loss='categorical_crossentropy', metrics=['acc'])\n",
        "lstm_mod1.summary()"
      ],
      "execution_count": 36,
      "outputs": [
        {
          "output_type": "stream",
          "text": [
            "WARNING:tensorflow:Layer lstm will not use cuDNN kernels since it doesn't meet the criteria. It will use a generic GPU kernel as fallback when running on GPU.\n"
          ],
          "name": "stdout"
        },
        {
          "output_type": "stream",
          "text": [
            "2021-07-02 17:18:36,147 : Layer lstm will not use cuDNN kernels since it doesn't meet the criteria. It will use a generic GPU kernel as fallback when running on GPU.\n"
          ],
          "name": "stderr"
        },
        {
          "output_type": "stream",
          "text": [
            "Model: \"sequential\"\n",
            "_________________________________________________________________\n",
            "Layer (type)                 Output Shape              Param #   \n",
            "=================================================================\n",
            "embedding (Embedding)        (None, 76, 300)           962700    \n",
            "_________________________________________________________________\n",
            "lstm (LSTM)                  (None, 456)               1380768   \n",
            "_________________________________________________________________\n",
            "dense (Dense)                (None, 4)                 1828      \n",
            "=================================================================\n",
            "Total params: 2,345,296\n",
            "Trainable params: 1,382,596\n",
            "Non-trainable params: 962,700\n",
            "_________________________________________________________________\n"
          ],
          "name": "stdout"
        }
      ]
    },
    {
      "cell_type": "code",
      "metadata": {
        "colab": {
          "base_uri": "https://localhost:8080/"
        },
        "id": "r628w_PBhJkf",
        "outputId": "2b14c407-aa15-4b1e-e594-ac6bc29c338d"
      },
      "source": [
        "es=EarlyStopping(monitor='val_loss',patience=10)\n",
        "\n",
        "hist_1 = lstm_mod1.fit(X_train, y_train,\n",
        "                    validation_split = 0.2,\n",
        "                    epochs=100, callbacks=[es],batch_size=456)"
      ],
      "execution_count": 37,
      "outputs": [
        {
          "output_type": "stream",
          "text": [
            "Epoch 1/100\n",
            "1/1 [==============================] - 3s 3s/step - loss: 1.3948 - acc: 0.1413 - val_loss: 1.3838 - val_acc: 0.2083\n",
            "Epoch 2/100\n",
            "1/1 [==============================] - 0s 359ms/step - loss: 1.3220 - acc: 0.3370 - val_loss: 1.3709 - val_acc: 0.3333\n",
            "Epoch 3/100\n",
            "1/1 [==============================] - 0s 329ms/step - loss: 1.2540 - acc: 0.5543 - val_loss: 1.3549 - val_acc: 0.3750\n",
            "Epoch 4/100\n",
            "1/1 [==============================] - 0s 342ms/step - loss: 1.1772 - acc: 0.6739 - val_loss: 1.3401 - val_acc: 0.3333\n",
            "Epoch 5/100\n",
            "1/1 [==============================] - 0s 339ms/step - loss: 1.0919 - acc: 0.6413 - val_loss: 1.3131 - val_acc: 0.4583\n",
            "Epoch 6/100\n",
            "1/1 [==============================] - 0s 381ms/step - loss: 0.9863 - acc: 0.7500 - val_loss: 1.3552 - val_acc: 0.4167\n",
            "Epoch 7/100\n",
            "1/1 [==============================] - 0s 351ms/step - loss: 0.9151 - acc: 0.6739 - val_loss: 2.1940 - val_acc: 0.2917\n",
            "Epoch 8/100\n",
            "1/1 [==============================] - 0s 328ms/step - loss: 1.7362 - acc: 0.3152 - val_loss: 1.4034 - val_acc: 0.3333\n",
            "Epoch 9/100\n",
            "1/1 [==============================] - 0s 316ms/step - loss: 0.9639 - acc: 0.6304 - val_loss: 1.3983 - val_acc: 0.2917\n",
            "Epoch 10/100\n",
            "1/1 [==============================] - 0s 347ms/step - loss: 0.9730 - acc: 0.6739 - val_loss: 1.3600 - val_acc: 0.3750\n",
            "Epoch 11/100\n",
            "1/1 [==============================] - 0s 369ms/step - loss: 0.9343 - acc: 0.7717 - val_loss: 1.3485 - val_acc: 0.3333\n",
            "Epoch 12/100\n",
            "1/1 [==============================] - 0s 333ms/step - loss: 0.9237 - acc: 0.7609 - val_loss: 1.3542 - val_acc: 0.2917\n",
            "Epoch 13/100\n",
            "1/1 [==============================] - 0s 362ms/step - loss: 0.9105 - acc: 0.7283 - val_loss: 1.3623 - val_acc: 0.3333\n",
            "Epoch 14/100\n",
            "1/1 [==============================] - 0s 324ms/step - loss: 0.9078 - acc: 0.7174 - val_loss: 1.3634 - val_acc: 0.3333\n",
            "Epoch 15/100\n",
            "1/1 [==============================] - 0s 313ms/step - loss: 0.8827 - acc: 0.7391 - val_loss: 1.3540 - val_acc: 0.3333\n"
          ],
          "name": "stdout"
        }
      ]
    },
    {
      "cell_type": "code",
      "metadata": {
        "id": "e1myXd6vhnCS"
      },
      "source": [
        "import matplotlib.pyplot as plt\n",
        "plt.style.use('ggplot')\n",
        "\n",
        "def plot_history(history):\n",
        "    acc = history.history['acc']\n",
        "    val_acc = history.history['val_acc']\n",
        "    loss = history.history['loss']\n",
        "    val_loss = history.history['val_loss']\n",
        "    x = range(1, len(acc) + 1)\n",
        "\n",
        "    plt.figure(figsize=(12, 5))\n",
        "    plt.subplot(1, 2, 1)\n",
        "    plt.plot(x, acc, 'b', label='Training acc')\n",
        "    plt.plot(x, val_acc, 'r', label='Validation acc')\n",
        "    plt.title('Training and validation accuracy')\n",
        "    plt.legend()\n",
        "    plt.subplot(1, 2, 2)\n",
        "    plt.plot(x, loss, 'b', label='Training loss')\n",
        "    plt.plot(x, val_loss, 'r', label='Validation loss')\n",
        "    plt.title('Training and validation loss')\n",
        "    plt.legend()"
      ],
      "execution_count": 38,
      "outputs": []
    },
    {
      "cell_type": "code",
      "metadata": {
        "colab": {
          "base_uri": "https://localhost:8080/",
          "height": 371
        },
        "id": "5vyNjjGGOXMD",
        "outputId": "5b10932c-69b0-4d93-c476-b07a20dc727b"
      },
      "source": [
        "loss, accuracy = lstm_mod1.evaluate(X_train, y_train, verbose=False)\n",
        "print(\"Training Accuracy: {:.4f}\".format(accuracy))\n",
        "loss, accuracy = lstm_mod1.evaluate(X_test, y_test, verbose=False)\n",
        "print(\"Testing Accuracy:  {:.4f}\".format(accuracy))\n",
        "plot_history(hist_1)"
      ],
      "execution_count": 39,
      "outputs": [
        {
          "output_type": "stream",
          "text": [
            "Training Accuracy: 0.6379\n",
            "Testing Accuracy:  0.3667\n"
          ],
          "name": "stdout"
        },
        {
          "output_type": "display_data",
          "data": {
            "image/png": "[encoded data removed]",
            "text/plain": [
              "<Figure size 864x360 with 2 Axes>"
            ]
          },
          "metadata": {
            "tags": []
          }
        }
      ]
    }
  ]
}
