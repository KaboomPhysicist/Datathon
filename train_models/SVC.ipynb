{
  "nbformat": 4,
  "nbformat_minor": 0,
  "metadata": {
    "colab": {
      "name": "SVC.ipynb",
      "provenance": [],
      "collapsed_sections": []
    },
    "kernelspec": {
      "name": "python3",
      "display_name": "Python 3"
    },
    "language_info": {
      "name": "python"
    }
  },
  "cells": [
    {
      "cell_type": "code",
      "metadata": {
        "colab": {
          "base_uri": "https://localhost:8080/"
        },
        "id": "LlpzOTBjnZq0",
        "outputId": "0bf5e26f-ef3c-4ccc-b388-a5b60d9fb029"
      },
      "source": [
        "from google.colab import drive\n",
        "drive.mount('/content/drive')"
      ],
      "execution_count": 1,
      "outputs": [
        {
          "output_type": "stream",
          "text": [
            "Drive already mounted at /content/drive; to attempt to forcibly remount, call drive.mount(\"/content/drive\", force_remount=True).\n"
          ],
          "name": "stdout"
        }
      ]
    },
    {
      "cell_type": "code",
      "metadata": {
        "id": "2bTGTWCRnjNk"
      },
      "source": [
        "import pandas as pd\n",
        "\n",
        "File = '/content/drive/MyDrive/Algoritmos/Datathon/Datos/IdentificacionSesgo - DataSet29.06.csv'\n",
        "df = pd.read_csv(File, header = 0)\n",
        "\n",
        "df['GravedadMode'] = df['Gravedad'].str.split(',',expand=True).mode(axis=1, numeric_only=False, dropna=True)[0]\n",
        "df = df[['Item (Texto)', 'GravedadMode']]\n",
        "\n",
        "df = df.sort_values('GravedadMode')\n",
        "\n",
        "X = df['Item (Texto)'].values\n",
        "y = df['GravedadMode'].values"
      ],
      "execution_count": 2,
      "outputs": []
    },
    {
      "cell_type": "code",
      "metadata": {
        "colab": {
          "base_uri": "https://localhost:8080/"
        },
        "id": "-XONmN3znnkU",
        "outputId": "d0628fc1-f665-4903-ddc1-59e79d7aea0f"
      },
      "source": [
        "from sklearn.model_selection import train_test_split\n",
        "\n",
        "X_train, X_test, y_train, y_test = train_test_split(X, y, test_size = 0.2, random_state = 45)\n",
        "\n",
        "from sklearn.feature_extraction.text import CountVectorizer\n",
        "\n",
        "vectorizer = CountVectorizer()\n",
        "vectorizer.fit(X_train)\n",
        "\n",
        "X_train = vectorizer.transform(X_train)\n",
        "X_test  = vectorizer.transform(X_test)\n",
        "X_train"
      ],
      "execution_count": 3,
      "outputs": [
        {
          "output_type": "execute_result",
          "data": {
            "text/plain": [
              "<116x2628 sparse matrix of type '<class 'numpy.int64'>'\n",
              "\twith 6552 stored elements in Compressed Sparse Row format>"
            ]
          },
          "metadata": {
            "tags": []
          },
          "execution_count": 3
        }
      ]
    },
    {
      "cell_type": "code",
      "metadata": {
        "id": "GaFUEaEjnwFt"
      },
      "source": [
        "from sklearn.pipeline import make_pipeline\n",
        "from sklearn.preprocessing import StandardScaler\n",
        "from sklearn.svm import LinearSVC \n",
        "from sklearn.preprocessing import PolynomialFeatures\n",
        "\n",
        "model = make_pipeline(PolynomialFeatures(),LinearSVC(multi_class='crammer_singer', max_iter=1e9)).fit(X_train,y_train)"
      ],
      "execution_count": 42,
      "outputs": []
    },
    {
      "cell_type": "code",
      "metadata": {
        "id": "yYjtGhvtojk9"
      },
      "source": [
        "score = model.score(X_test, y_test)"
      ],
      "execution_count": 43,
      "outputs": []
    },
    {
      "cell_type": "code",
      "metadata": {
        "colab": {
          "base_uri": "https://localhost:8080/"
        },
        "id": "ECHftTYhon5x",
        "outputId": "c18ab762-9155-4bee-d48f-1a7989a65181"
      },
      "source": [
        "print('Accuracy: ', score)"
      ],
      "execution_count": 44,
      "outputs": [
        {
          "output_type": "stream",
          "text": [
            "Accuracy:  0.4666666666666667\n"
          ],
          "name": "stdout"
        }
      ]
    }
  ]
}