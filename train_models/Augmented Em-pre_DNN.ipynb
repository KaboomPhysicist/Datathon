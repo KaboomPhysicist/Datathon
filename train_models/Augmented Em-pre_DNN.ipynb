{
  "nbformat": 4,
  "nbformat_minor": 0,
  "metadata": {
    "colab": {
      "name": "Augmented Em-pre_DNN.ipynb",
      "provenance": [],
      "collapsed_sections": []
    },
    "kernelspec": {
      "name": "python3",
      "display_name": "Python 3"
    },
    "language_info": {
      "name": "python"
    },
    "accelerator": "GPU"
  },
  "cells": [
    {
      "cell_type": "code",
      "metadata": {
        "colab": {
          "base_uri": "https://localhost:8080/"
        },
        "id": "yQzALxOT3Ofx",
        "outputId": "9c0c9070-bed0-4de9-e113-2ff2464b3558"
      },
      "source": [
        "from google.colab import drive\n",
        "drive.mount('/content/drive/')"
      ],
      "execution_count": 1,
      "outputs": [
        {
          "output_type": "stream",
          "text": [
            "Drive already mounted at /content/drive/; to attempt to forcibly remount, call drive.mount(\"/content/drive/\", force_remount=True).\n"
          ],
          "name": "stdout"
        }
      ]
    },
    {
      "cell_type": "code",
      "metadata": {
        "colab": {
          "base_uri": "https://localhost:8080/"
        },
        "id": "ugcaq_LhFGLs",
        "outputId": "b900842d-f87c-455c-d1c5-aa7c04a8d988"
      },
      "source": [
        "!pip install BackTranslation\n",
        "!pip install nlpaug"
      ],
      "execution_count": 2,
      "outputs": [
        {
          "output_type": "stream",
          "text": [
            "Requirement already satisfied: BackTranslation in /usr/local/lib/python3.7/dist-packages (0.3.1)\n",
            "Requirement already satisfied: nltk in /usr/local/lib/python3.7/dist-packages (from BackTranslation) (3.2.5)\n",
            "Requirement already satisfied: googletrans==4.0.0rc1 in /usr/local/lib/python3.7/dist-packages (from BackTranslation) (4.0.0rc1)\n",
            "Requirement already satisfied: six in /usr/local/lib/python3.7/dist-packages (from nltk->BackTranslation) (1.15.0)\n",
            "Requirement already satisfied: httpx==0.13.3 in /usr/local/lib/python3.7/dist-packages (from googletrans==4.0.0rc1->BackTranslation) (0.13.3)\n",
            "Requirement already satisfied: certifi in /usr/local/lib/python3.7/dist-packages (from httpx==0.13.3->googletrans==4.0.0rc1->BackTranslation) (2021.5.30)\n",
            "Requirement already satisfied: idna==2.* in /usr/local/lib/python3.7/dist-packages (from httpx==0.13.3->googletrans==4.0.0rc1->BackTranslation) (2.10)\n",
            "Requirement already satisfied: sniffio in /usr/local/lib/python3.7/dist-packages (from httpx==0.13.3->googletrans==4.0.0rc1->BackTranslation) (1.2.0)\n",
            "Requirement already satisfied: chardet==3.* in /usr/local/lib/python3.7/dist-packages (from httpx==0.13.3->googletrans==4.0.0rc1->BackTranslation) (3.0.4)\n",
            "Requirement already satisfied: hstspreload in /usr/local/lib/python3.7/dist-packages (from httpx==0.13.3->googletrans==4.0.0rc1->BackTranslation) (2021.7.5)\n",
            "Requirement already satisfied: httpcore==0.9.* in /usr/local/lib/python3.7/dist-packages (from httpx==0.13.3->googletrans==4.0.0rc1->BackTranslation) (0.9.1)\n",
            "Requirement already satisfied: rfc3986<2,>=1.3 in /usr/local/lib/python3.7/dist-packages (from httpx==0.13.3->googletrans==4.0.0rc1->BackTranslation) (1.5.0)\n",
            "Requirement already satisfied: h11<0.10,>=0.8 in /usr/local/lib/python3.7/dist-packages (from httpcore==0.9.*->httpx==0.13.3->googletrans==4.0.0rc1->BackTranslation) (0.9.0)\n",
            "Requirement already satisfied: h2==3.* in /usr/local/lib/python3.7/dist-packages (from httpcore==0.9.*->httpx==0.13.3->googletrans==4.0.0rc1->BackTranslation) (3.2.0)\n",
            "Requirement already satisfied: hpack<4,>=3.0 in /usr/local/lib/python3.7/dist-packages (from h2==3.*->httpcore==0.9.*->httpx==0.13.3->googletrans==4.0.0rc1->BackTranslation) (3.0.0)\n",
            "Requirement already satisfied: hyperframe<6,>=5.2.0 in /usr/local/lib/python3.7/dist-packages (from h2==3.*->httpcore==0.9.*->httpx==0.13.3->googletrans==4.0.0rc1->BackTranslation) (5.2.0)\n",
            "Requirement already satisfied: nlpaug in /usr/local/lib/python3.7/dist-packages (1.1.4)\n"
          ],
          "name": "stdout"
        }
      ]
    },
    {
      "cell_type": "code",
      "metadata": {
        "id": "1Yl80VGSESHI"
      },
      "source": [
        "import pandas as pd\n",
        "from BackTranslation import BackTranslation\n",
        "import seaborn as sns\n",
        "import matplotlib.pyplot as plt\n",
        "from time import sleep\n",
        "\n",
        "#If you get \"AttributeError: 'Translator' object has no attribute 'raise_Exception'\", change your IP adress using a VPN.\n",
        "\n",
        "\n",
        "CSV_Path =\"/content/drive/MyDrive/Algoritmos/Datathon/Datos/DataSet (Augmentation.test).csv\"\n",
        "LANG = 'en'\n",
        "OLANG = 'es'\n",
        "API = 'google'\n",
        "\n",
        "def translate(df, LANG, OLANG):\n",
        "    translations = {}\n",
        "    trans = BackTranslation()\n",
        "    \n",
        "    df_en = df.copy()\n",
        "    trans.raise_Exception = True\n",
        "\n",
        "    for element in df_en['Item (Texto)'].unique():\n",
        "        sleep(1)\n",
        "        try:\n",
        "            translations[element] =  trans.translate(element, src=OLANG, tmp = LANG).result_text\n",
        "        except TypeError:\n",
        "            translations[element] = element\n",
        "    df_en.replace(translations, inplace = True)\n",
        "    \n",
        "    return df_en"
      ],
      "execution_count": 3,
      "outputs": []
    },
    {
      "cell_type": "code",
      "metadata": {
        "id": "7p-aJQVwTWmv"
      },
      "source": [
        "def augmen(df):\n",
        "    augmentation = {}\n",
        "    aug = naw.SynonymAug(aug_src='wordnet', lang='spa')\n",
        "    \n",
        "    df_a = df.copy()\n",
        "    df_a = df_a.drop(df_a[(df_a['GravedadMode']=='2')].index)\n",
        "    df_a = df_a.drop(df_a[(df_a['GravedadMode']=='1')].index)\n",
        "    df_a = df_a.drop(df_a[(df_a['GravedadMode']=='3')].index)\n",
        "\n",
        "    for element in df_a['Item (Texto)'].unique():\n",
        "        augmentation[element] =  aug.augment(element)\n",
        "\n",
        "    df_a.replace(augmentation, inplace = True)\n",
        "    \n",
        "    return df_a"
      ],
      "execution_count": 4,
      "outputs": []
    },
    {
      "cell_type": "code",
      "metadata": {
        "colab": {
          "base_uri": "https://localhost:8080/"
        },
        "id": "Vpg4glP1T-d4",
        "outputId": "3bda292a-9e91-49ab-9b05-22e6247296cc"
      },
      "source": [
        "import nltk\n",
        "nltk.download('averaged_perceptron_tagger')\n",
        "nltk.download('wordnet')\n",
        "nltk.download('omw')"
      ],
      "execution_count": 5,
      "outputs": [
        {
          "output_type": "stream",
          "text": [
            "[nltk_data] Downloading package averaged_perceptron_tagger to\n",
            "[nltk_data]     /root/nltk_data...\n",
            "[nltk_data]   Package averaged_perceptron_tagger is already up-to-\n",
            "[nltk_data]       date!\n",
            "[nltk_data] Downloading package wordnet to /root/nltk_data...\n",
            "[nltk_data]   Package wordnet is already up-to-date!\n",
            "[nltk_data] Downloading package omw to /root/nltk_data...\n",
            "[nltk_data]   Package omw is already up-to-date!\n"
          ],
          "name": "stdout"
        },
        {
          "output_type": "execute_result",
          "data": {
            "text/plain": [
              "True"
            ]
          },
          "metadata": {
            "tags": []
          },
          "execution_count": 5
        }
      ]
    },
    {
      "cell_type": "code",
      "metadata": {
        "id": "UJsMZLsZTcDH"
      },
      "source": [
        "import nlpaug.augmenter.word as naw\n",
        "\n",
        "df = pd.read_csv(CSV_Path, header = 0)\n",
        "df['GravedadMode'] = df['Gravedad'].str.split(',',expand=True).mode(axis=1, numeric_only=False, dropna=True)[0]\n",
        "df['SesgoMode'] = df['Sesgo'].str.split(',',expand=True).mode(axis=1, numeric_only=False, dropna=True)[0]\n",
        "df = df[['Item (Texto)', 'GravedadMode', 'SesgoMode']]\n",
        "    \n",
        "df2 = pd.concat([df, augmen(df)], ignore_index=True, sort=False)"
      ],
      "execution_count": 6,
      "outputs": []
    },
    {
      "cell_type": "code",
      "metadata": {
        "id": "fdpFNYa3HlOU"
      },
      "source": [
        "from sklearn.model_selection import train_test_split\n",
        "\n",
        "df = df2\n",
        "x = df['Item (Texto)'].values\n",
        "y = df['GravedadMode'].values\n",
        "    \n",
        "X_train, X_test, y_train, y_test = train_test_split(x,y,test_size = 0.25, random_state = 0)\n",
        "df2 = pd.DataFrame(columns = ['Item (Texto)' , 'GravedadMode'])\n",
        "df3 = pd.DataFrame(columns = ['Item (Texto)' , 'GravedadMode'])\n",
        "for i in range(len(X_train)):\n",
        "  df2.loc[i] = [X_train[i],y_train[i]]\n",
        "for i in range(len(X_test)):\n",
        "  df3.loc[i] = [X_test[i],y_test[i]]\n",
        "df_concat = pd.concat([df2, translate(df2, LANG, OLANG)], ignore_index=True, sort=False)\n"
      ],
      "execution_count": 7,
      "outputs": []
    },
    {
      "cell_type": "code",
      "metadata": {
        "id": "su-0FqdhOxyz"
      },
      "source": [
        "from tensorflow import keras\n",
        "%tensorflow_version 2.x"
      ],
      "execution_count": 8,
      "outputs": []
    },
    {
      "cell_type": "code",
      "metadata": {
        "id": "nIBt_05HOpRq"
      },
      "source": [
        "from tensorflow.keras.utils import to_categorical\n",
        "from tensorflow.keras.preprocessing.text import Tokenizer\n",
        "from tensorflow.keras.preprocessing.text import text_to_word_sequence"
      ],
      "execution_count": 9,
      "outputs": []
    },
    {
      "cell_type": "code",
      "metadata": {
        "id": "wXr7txytHbg9"
      },
      "source": [
        "X_train = df_concat['Item (Texto)'].values\n",
        "y_train = df_concat['GravedadMode'].values\n",
        "\n",
        "X_test = df3['Item (Texto)'].values\n",
        "y_test = df3['GravedadMode'].values"
      ],
      "execution_count": 10,
      "outputs": []
    },
    {
      "cell_type": "code",
      "metadata": {
        "id": "4iTaZ80tPJ_X"
      },
      "source": [
        "t = Tokenizer()\n",
        "t.fit_on_texts(X_train)\n",
        "t.fit_on_texts(X_test)"
      ],
      "execution_count": 11,
      "outputs": []
    },
    {
      "cell_type": "code",
      "metadata": {
        "colab": {
          "base_uri": "https://localhost:8080/"
        },
        "id": "oKBFzrdvPQgP",
        "outputId": "c406203a-136a-4761-fd8b-56e9b320a25c"
      },
      "source": [
        "vocab_size = len(t.word_index) + 1\n",
        "print(vocab_size)"
      ],
      "execution_count": 12,
      "outputs": [
        {
          "output_type": "stream",
          "text": [
            "4134\n"
          ],
          "name": "stdout"
        }
      ]
    },
    {
      "cell_type": "code",
      "metadata": {
        "id": "RX_gNEjRPTZe"
      },
      "source": [
        "sequences1 = t.texts_to_sequences(X_train)\n",
        "sequences2 = t.texts_to_sequences(X_test)"
      ],
      "execution_count": 13,
      "outputs": []
    },
    {
      "cell_type": "code",
      "metadata": {
        "colab": {
          "base_uri": "https://localhost:8080/"
        },
        "id": "GUin-OTwPU3J",
        "outputId": "45a03a51-9c28-4e52-ff08-c701bcc73435"
      },
      "source": [
        "import numpy as np\n",
        "\n",
        "np.shape(sequences1)"
      ],
      "execution_count": 14,
      "outputs": [
        {
          "output_type": "stream",
          "text": [
            "/usr/local/lib/python3.7/dist-packages/numpy/core/_asarray.py:83: VisibleDeprecationWarning: Creating an ndarray from ragged nested sequences (which is a list-or-tuple of lists-or-tuples-or ndarrays with different lengths or shapes) is deprecated. If you meant to do this, you must specify 'dtype=object' when creating the ndarray\n",
            "  return array(a, dtype, copy=False, order=order)\n"
          ],
          "name": "stderr"
        },
        {
          "output_type": "execute_result",
          "data": {
            "text/plain": [
              "(276,)"
            ]
          },
          "metadata": {
            "tags": []
          },
          "execution_count": 14
        }
      ]
    },
    {
      "cell_type": "code",
      "metadata": {
        "id": "Zu2qdtn-PW-n"
      },
      "source": [
        "def max_news(seq):\n",
        "    for i in range(1, len(seq)):\n",
        "        max_length = len(seq[0])\n",
        "        if len(seq[i]) > max_length:\n",
        "            max_length = len(seq[i])\n",
        "    return max_length"
      ],
      "execution_count": 15,
      "outputs": []
    },
    {
      "cell_type": "code",
      "metadata": {
        "colab": {
          "base_uri": "https://localhost:8080/"
        },
        "id": "d_ZEEtOEPcJI",
        "outputId": "91081a1e-8e16-4a8f-d592-37132e06d4fd"
      },
      "source": [
        "news_num1 = max_news(seq = sequences1)\n",
        "news_num1"
      ],
      "execution_count": 16,
      "outputs": [
        {
          "output_type": "execute_result",
          "data": {
            "text/plain": [
              "139"
            ]
          },
          "metadata": {
            "tags": []
          },
          "execution_count": 16
        }
      ]
    },
    {
      "cell_type": "code",
      "metadata": {
        "id": "fvXzOSOMx-xe",
        "colab": {
          "base_uri": "https://localhost:8080/"
        },
        "outputId": "e1fb792c-bef0-4cd1-e0b5-08b08ddc3ce4"
      },
      "source": [
        "news_num2 = max_news(seq = sequences2)\n",
        "news_num2"
      ],
      "execution_count": 17,
      "outputs": [
        {
          "output_type": "execute_result",
          "data": {
            "text/plain": [
              "75"
            ]
          },
          "metadata": {
            "tags": []
          },
          "execution_count": 17
        }
      ]
    },
    {
      "cell_type": "code",
      "metadata": {
        "id": "87RpcyMkPllC"
      },
      "source": [
        "from tensorflow.keras.preprocessing.sequence import pad_sequences\n",
        "\n",
        "padded_x_train = pad_sequences(sequences1, padding='pre', maxlen=max(news_num1, news_num2))\n",
        "padded_x_test = pad_sequences(sequences2, padding='pre', maxlen=max(news_num1, news_num2))"
      ],
      "execution_count": 19,
      "outputs": []
    },
    {
      "cell_type": "code",
      "metadata": {
        "id": "_drxSnqgPo1J"
      },
      "source": [
        "import numpy as np\n",
        "\n",
        "labels_train = to_categorical(np.asarray(y_train))\n",
        "labels_test = to_categorical(np.asarray(y_test))"
      ],
      "execution_count": 20,
      "outputs": []
    },
    {
      "cell_type": "code",
      "metadata": {
        "id": "c-pQybKJPzO6"
      },
      "source": [
        "X_train, X_test, y_train, y_test = padded_x_train, padded_x_test, labels_train, labels_test"
      ],
      "execution_count": 21,
      "outputs": []
    },
    {
      "cell_type": "code",
      "metadata": {
        "colab": {
          "base_uri": "https://localhost:8080/"
        },
        "id": "py2XIDbRP1u7",
        "outputId": "10e3e1ce-c40a-4d3c-f89f-5d02be178360"
      },
      "source": [
        "print('X_train size:', X_train.shape)\n",
        "print('y_train size:', y_train.shape)\n",
        "print('X_test size:', X_test.shape)\n",
        "print('y_test size:', y_test.shape)"
      ],
      "execution_count": 22,
      "outputs": [
        {
          "output_type": "stream",
          "text": [
            "X_train size: (276, 139)\n",
            "y_train size: (276, 4)\n",
            "X_test size: (46, 139)\n",
            "y_test size: (46, 4)\n"
          ],
          "name": "stdout"
        }
      ]
    },
    {
      "cell_type": "code",
      "metadata": {
        "id": "g0b_4DBdY7AD"
      },
      "source": [
        "import os"
      ],
      "execution_count": 23,
      "outputs": []
    },
    {
      "cell_type": "code",
      "metadata": {
        "colab": {
          "base_uri": "https://localhost:8080/"
        },
        "id": "y4Qr9RusY8Mh",
        "outputId": "8afdf6c6-de82-48d9-f120-47927741a570"
      },
      "source": [
        "cd /content/drive/MyDrive/Algoritmos/Datathon/Embeddings"
      ],
      "execution_count": 24,
      "outputs": [
        {
          "output_type": "stream",
          "text": [
            "/content/drive/MyDrive/Algoritmos/Datathon/Embeddings\n"
          ],
          "name": "stdout"
        }
      ]
    },
    {
      "cell_type": "code",
      "metadata": {
        "colab": {
          "base_uri": "https://localhost:8080/"
        },
        "id": "dl5q2GdPd4bI",
        "outputId": "79912337-f315-4c88-c07c-ece73389ef1d"
      },
      "source": [
        "ls"
      ],
      "execution_count": 25,
      "outputs": [
        {
          "output_type": "stream",
          "text": [
            "\u001b[0m\u001b[01;34mcheckpoint\u001b[0m/  embeddings-l-model.vec  fasttext-sbwc.300k.vec\n"
          ],
          "name": "stdout"
        }
      ]
    },
    {
      "cell_type": "code",
      "metadata": {
        "id": "r904lFwPd9Bl"
      },
      "source": [
        "# from gensim.models import KeyedVectors\n",
        "# import logging\n",
        "\n",
        "# logging.basicConfig(format='%(asctime)s : %(message)s', level=logging.INFO)\n",
        "\n",
        "# vectors = KeyedVectors.load_word2vec_format('embeddings-l-model.vec', binary = False)"
      ],
      "execution_count": null,
      "outputs": []
    },
    {
      "cell_type": "code",
      "metadata": {
        "colab": {
          "base_uri": "https://localhost:8080/"
        },
        "id": "t4sKti_TX9U1",
        "outputId": "246b3ec0-87c4-4b41-dfb2-94150229a21d"
      },
      "source": [
        "import numpy as np\n",
        "\n",
        "embeddings_index = dict()\n",
        "f = open('embeddings-l-model.vec')\n",
        "for line in f:\n",
        "    values = line.split()\n",
        "    word = values[0]\n",
        "    coefs = np.asarray(values[1:], dtype='float32')\n",
        "    embeddings_index[word] = coefs\n",
        "f.close()\n",
        "print('Loaded %s word vectors.' % len(embeddings_index))"
      ],
      "execution_count": 26,
      "outputs": [
        {
          "output_type": "stream",
          "text": [
            "Loaded 1313424 word vectors.\n"
          ],
          "name": "stdout"
        }
      ]
    },
    {
      "cell_type": "code",
      "metadata": {
        "id": "vdQ7R_w9eCZv"
      },
      "source": [
        "from tensorflow import keras\n",
        "from tensorflow.keras.models import Sequential\n",
        "from tensorflow.keras.layers import Dense\n",
        "from tensorflow.keras.layers import Flatten\n",
        "from tensorflow.keras.layers import LSTM, Conv1D\n",
        "from tensorflow.keras.layers import BatchNormalization\n",
        "from tensorflow.keras.layers import Dropout, GlobalMaxPool1D\n",
        "from keras.callbacks import EarlyStopping, ReduceLROnPlateau"
      ],
      "execution_count": 27,
      "outputs": []
    },
    {
      "cell_type": "code",
      "metadata": {
        "id": "vPR_5YY3goWs"
      },
      "source": [
        "# Definición del tamaño de la matriz embedding: Número de palabas únicas x dimensión del embedding (100)\n",
        "embedding_matrix = np.zeros((vocab_size, 300))\n",
        "\n",
        "# relleno de la matriz\n",
        "for word, i in t.word_index.items():  # diccionario\n",
        "    embedding_vector = embeddings_index.get(word) # obtención de los vectores embedded de la palabra en GloVe.\n",
        "    if embedding_vector is not None:\n",
        "        # adición en la matriz\n",
        "        embedding_matrix[i] = embedding_vector # cada fila de la matriz."
      ],
      "execution_count": 28,
      "outputs": []
    },
    {
      "cell_type": "code",
      "metadata": {
        "id": "aij0fpHJfDvK"
      },
      "source": [
        "keras.backend.clear_session()\n",
        "\n",
        "# Creación de la capa embedding esando la matriz embedding predefinida.\n",
        "from tensorflow.keras.layers import Embedding\n",
        "\n",
        "# la entrada será vocab_size, y la salida 300\n",
        "# para cargar los pesos de la matriz embedding hacemos trainable = False\n",
        "embedding_layer = Embedding(input_dim=vocab_size, output_dim=300, weights=[embedding_matrix],\n",
        "                           input_length = max(news_num1, news_num2), trainable=True)"
      ],
      "execution_count": 30,
      "outputs": []
    },
    {
      "cell_type": "code",
      "metadata": {
        "colab": {
          "base_uri": "https://localhost:8080/"
        },
        "id": "d_xWxL61fLRb",
        "outputId": "011b06e8-d58a-4c9f-fe9b-b710b6a5e24d"
      },
      "source": [
        "mod = Sequential()\n",
        "mod.add(embedding_layer)\n",
        "mod.add(Flatten())\n",
        "mod.add(Dense(50, activation='relu', kernel_initializer='he_uniform', kernel_regularizer=keras.regularizers.l1(0.005),bias_regularizer='l1'))\n",
        "mod.add(Dropout(0.2))\n",
        "mod.add(Dense(50, activation='relu', kernel_initializer='he_uniform', kernel_regularizer=keras.regularizers.l1(0.005),bias_regularizer='l1'))\n",
        "mod.add(Dropout(0.2))\n",
        "mod.add(Dense(50, activation='relu', kernel_initializer='he_uniform', kernel_regularizer=keras.regularizers.l1(0.005),bias_regularizer='l1'))\n",
        "mod.add(Dropout(0.2))\n",
        "mod.add(Dense(50, activation='relu', kernel_initializer='he_uniform', kernel_regularizer=keras.regularizers.l1(0.005),bias_regularizer='l1'))\n",
        "mod.add(Dropout(0.2))\n",
        "mod.add(Dense(50, activation='relu', kernel_initializer='he_uniform', kernel_regularizer=keras.regularizers.l1(0.005),bias_regularizer='l1'))\n",
        "mod.add(Dropout(0.2))\n",
        "mod.add(Dense(50, activation='relu', kernel_initializer='he_uniform', kernel_regularizer=keras.regularizers.l1(0.005),bias_regularizer='l1'))\n",
        "mod.add(Dense(4, activation='softmax'))\n",
        "opt = keras.optimizers.SGD(learning_rate=0.01, momentum=0.9, nesterov=True, clipnorm = 1, clipvalue = 0.5)\n",
        "mod.compile(optimizer=opt,\n",
        "              loss='categorical_crossentropy',\n",
        "              metrics=['acc'])\n",
        "mod.summary()"
      ],
      "execution_count": 31,
      "outputs": [
        {
          "output_type": "stream",
          "text": [
            "Model: \"sequential\"\n",
            "_________________________________________________________________\n",
            "Layer (type)                 Output Shape              Param #   \n",
            "=================================================================\n",
            "embedding (Embedding)        (None, 139, 300)          1240200   \n",
            "_________________________________________________________________\n",
            "flatten (Flatten)            (None, 41700)             0         \n",
            "_________________________________________________________________\n",
            "dense (Dense)                (None, 50)                2085050   \n",
            "_________________________________________________________________\n",
            "dropout (Dropout)            (None, 50)                0         \n",
            "_________________________________________________________________\n",
            "dense_1 (Dense)              (None, 50)                2550      \n",
            "_________________________________________________________________\n",
            "dropout_1 (Dropout)          (None, 50)                0         \n",
            "_________________________________________________________________\n",
            "dense_2 (Dense)              (None, 50)                2550      \n",
            "_________________________________________________________________\n",
            "dropout_2 (Dropout)          (None, 50)                0         \n",
            "_________________________________________________________________\n",
            "dense_3 (Dense)              (None, 50)                2550      \n",
            "_________________________________________________________________\n",
            "dropout_3 (Dropout)          (None, 50)                0         \n",
            "_________________________________________________________________\n",
            "dense_4 (Dense)              (None, 50)                2550      \n",
            "_________________________________________________________________\n",
            "dropout_4 (Dropout)          (None, 50)                0         \n",
            "_________________________________________________________________\n",
            "dense_5 (Dense)              (None, 50)                2550      \n",
            "_________________________________________________________________\n",
            "dense_6 (Dense)              (None, 4)                 204       \n",
            "=================================================================\n",
            "Total params: 3,338,204\n",
            "Trainable params: 3,338,204\n",
            "Non-trainable params: 0\n",
            "_________________________________________________________________\n"
          ],
          "name": "stdout"
        }
      ]
    },
    {
      "cell_type": "code",
      "metadata": {
        "id": "BFvtFcFrOBX0"
      },
      "source": [
        "import matplotlib.pyplot as plt\n",
        "plt.style.use('ggplot')\n",
        "\n",
        "def plot_history(history):\n",
        "    acc = history.history['acc']\n",
        "    val_acc = history.history['val_acc']\n",
        "    loss = history.history['loss']\n",
        "    val_loss = history.history['val_loss']\n",
        "    x = range(1, len(acc) + 1)\n",
        "\n",
        "    plt.figure(figsize=(12, 5))\n",
        "    plt.subplot(1, 2, 1)\n",
        "    plt.plot(x, acc, 'b', label='Training acc')\n",
        "    plt.plot(x, val_acc, 'r', label='Validation acc')\n",
        "    plt.title('Training and validation accuracy')\n",
        "    plt.legend()\n",
        "    plt.subplot(1, 2, 2)\n",
        "    plt.plot(x, loss, 'b', label='Training loss')\n",
        "    plt.plot(x, val_loss, 'r', label='Validation loss')\n",
        "    plt.title('Training and validation loss')\n",
        "    plt.legend()"
      ],
      "execution_count": 32,
      "outputs": []
    },
    {
      "cell_type": "code",
      "metadata": {
        "id": "XAAFBayxPMJ_"
      },
      "source": [
        "keras.backend.clear_session()"
      ],
      "execution_count": 33,
      "outputs": []
    },
    {
      "cell_type": "code",
      "metadata": {
        "id": "CX3lwgydNSxh"
      },
      "source": [
        "from keras.callbacks import ModelCheckpoint\n",
        "mcp_save = ModelCheckpoint('./checkpoint',save_best_only=True, monitor='val_acc', mode='max')"
      ],
      "execution_count": 34,
      "outputs": []
    },
    {
      "cell_type": "markdown",
      "metadata": {
        "id": "cQXFZFTqTspu"
      },
      "source": [
        "### Validation_Split"
      ]
    },
    {
      "cell_type": "code",
      "metadata": {
        "colab": {
          "base_uri": "https://localhost:8080/",
          "height": 1000
        },
        "id": "r628w_PBhJkf",
        "outputId": "de4948cc-5445-4743-d73d-00f804300a6e"
      },
      "source": [
        "es=EarlyStopping(monitor='val_loss',patience=30, restore_best_weights=True)\n",
        "\n",
        "history = mod.fit(X_train, y_train,\n",
        "                            batch_size=256,\n",
        "                            epochs=500,\n",
        "                            validation_split=0.2,\n",
        "                            callbacks=[es,mcp_save])\n",
        "loss, accuracy = mod.evaluate(X_train, y_train, verbose=False)\n",
        "print(\"Training Accuracy: {:.4f}\".format(accuracy))\n",
        "loss, accuracy = mod.evaluate(X_test, y_test, verbose=False)\n",
        "print(\"Testing Accuracy:  {:.4f}\".format(accuracy))\n",
        "plot_history(history)"
      ],
      "execution_count": 35,
      "outputs": [
        {
          "output_type": "stream",
          "text": [
            "Epoch 1/500\n",
            "1/1 [==============================] - 4s 4s/step - loss: 74.8179 - acc: 0.2318 - val_loss: 74.6175 - val_acc: 0.1786\n",
            "INFO:tensorflow:Assets written to: ./checkpoint/assets\n",
            "Epoch 2/500\n",
            "1/1 [==============================] - 0s 48ms/step - loss: 74.6865 - acc: 0.2136 - val_loss: 74.4253 - val_acc: 0.1964\n",
            "INFO:tensorflow:Assets written to: ./checkpoint/assets\n",
            "Epoch 3/500\n",
            "1/1 [==============================] - 0s 47ms/step - loss: 74.4425 - acc: 0.2545 - val_loss: 74.1811 - val_acc: 0.2143\n",
            "INFO:tensorflow:Assets written to: ./checkpoint/assets\n",
            "Epoch 4/500\n",
            "1/1 [==============================] - 0s 46ms/step - loss: 74.2059 - acc: 0.1864 - val_loss: 73.8928 - val_acc: 0.1964\n",
            "Epoch 5/500\n",
            "1/1 [==============================] - 0s 47ms/step - loss: 73.9176 - acc: 0.2682 - val_loss: 73.5639 - val_acc: 0.2143\n",
            "Epoch 6/500\n",
            "1/1 [==============================] - 0s 47ms/step - loss: 73.5654 - acc: 0.2545 - val_loss: 73.1980 - val_acc: 0.1964\n",
            "Epoch 7/500\n",
            "1/1 [==============================] - 0s 66ms/step - loss: 73.2144 - acc: 0.2409 - val_loss: 72.7987 - val_acc: 0.2500\n",
            "INFO:tensorflow:Assets written to: ./checkpoint/assets\n",
            "Epoch 8/500\n",
            "1/1 [==============================] - 0s 47ms/step - loss: 72.7897 - acc: 0.2909 - val_loss: 72.3691 - val_acc: 0.2857\n",
            "INFO:tensorflow:Assets written to: ./checkpoint/assets\n",
            "Epoch 9/500\n",
            "1/1 [==============================] - 0s 46ms/step - loss: 72.3624 - acc: 0.2818 - val_loss: 71.9130 - val_acc: 0.2857\n",
            "Epoch 10/500\n",
            "1/1 [==============================] - 0s 46ms/step - loss: 71.8849 - acc: 0.3545 - val_loss: 71.4328 - val_acc: 0.2857\n",
            "Epoch 11/500\n",
            "1/1 [==============================] - 0s 48ms/step - loss: 71.4163 - acc: 0.3545 - val_loss: 70.9318 - val_acc: 0.2857\n",
            "Epoch 12/500\n",
            "1/1 [==============================] - 0s 45ms/step - loss: 70.9056 - acc: 0.3591 - val_loss: 70.4114 - val_acc: 0.2857\n",
            "Epoch 13/500\n",
            "1/1 [==============================] - 0s 49ms/step - loss: 70.3967 - acc: 0.3273 - val_loss: 69.8750 - val_acc: 0.2857\n",
            "Epoch 14/500\n",
            "1/1 [==============================] - 0s 57ms/step - loss: 69.8453 - acc: 0.3591 - val_loss: 69.3240 - val_acc: 0.2857\n",
            "Epoch 15/500\n",
            "1/1 [==============================] - 0s 50ms/step - loss: 69.2937 - acc: 0.3636 - val_loss: 68.7602 - val_acc: 0.2857\n",
            "Epoch 16/500\n",
            "1/1 [==============================] - 0s 50ms/step - loss: 68.7268 - acc: 0.3682 - val_loss: 68.1860 - val_acc: 0.2857\n",
            "Epoch 17/500\n",
            "1/1 [==============================] - 0s 50ms/step - loss: 68.1477 - acc: 0.3773 - val_loss: 67.6023 - val_acc: 0.2857\n",
            "Epoch 18/500\n",
            "1/1 [==============================] - 0s 48ms/step - loss: 67.5609 - acc: 0.3727 - val_loss: 67.0101 - val_acc: 0.2857\n",
            "Epoch 19/500\n",
            "1/1 [==============================] - 0s 49ms/step - loss: 66.9764 - acc: 0.3409 - val_loss: 66.4118 - val_acc: 0.2857\n",
            "Epoch 20/500\n",
            "1/1 [==============================] - 0s 52ms/step - loss: 66.3645 - acc: 0.3500 - val_loss: 65.8078 - val_acc: 0.2857\n",
            "Epoch 21/500\n",
            "1/1 [==============================] - 0s 49ms/step - loss: 65.7543 - acc: 0.3455 - val_loss: 65.1987 - val_acc: 0.2857\n",
            "Epoch 22/500\n",
            "1/1 [==============================] - 0s 46ms/step - loss: 65.1346 - acc: 0.3909 - val_loss: 64.5858 - val_acc: 0.2857\n",
            "Epoch 23/500\n",
            "1/1 [==============================] - 0s 59ms/step - loss: 64.5346 - acc: 0.3773 - val_loss: 63.9695 - val_acc: 0.2857\n",
            "Epoch 24/500\n",
            "1/1 [==============================] - 0s 49ms/step - loss: 63.9171 - acc: 0.3818 - val_loss: 63.3509 - val_acc: 0.2857\n",
            "Epoch 25/500\n",
            "1/1 [==============================] - 0s 45ms/step - loss: 63.2868 - acc: 0.3773 - val_loss: 62.7303 - val_acc: 0.2857\n",
            "Epoch 26/500\n",
            "1/1 [==============================] - 0s 49ms/step - loss: 62.6685 - acc: 0.3682 - val_loss: 62.1090 - val_acc: 0.2857\n",
            "Epoch 27/500\n",
            "1/1 [==============================] - 0s 47ms/step - loss: 62.0419 - acc: 0.3955 - val_loss: 61.4865 - val_acc: 0.2857\n",
            "Epoch 28/500\n",
            "1/1 [==============================] - 0s 48ms/step - loss: 61.4138 - acc: 0.4000 - val_loss: 60.8640 - val_acc: 0.2857\n",
            "Epoch 29/500\n",
            "1/1 [==============================] - 0s 61ms/step - loss: 60.7862 - acc: 0.4045 - val_loss: 60.2426 - val_acc: 0.2857\n",
            "Epoch 30/500\n",
            "1/1 [==============================] - 0s 52ms/step - loss: 60.1603 - acc: 0.4000 - val_loss: 59.6224 - val_acc: 0.2857\n",
            "Epoch 31/500\n",
            "1/1 [==============================] - 0s 57ms/step - loss: 59.5429 - acc: 0.3864 - val_loss: 59.0026 - val_acc: 0.2857\n",
            "Epoch 32/500\n",
            "1/1 [==============================] - 0s 48ms/step - loss: 58.9119 - acc: 0.4000 - val_loss: 58.3844 - val_acc: 0.2857\n",
            "Epoch 33/500\n",
            "1/1 [==============================] - 0s 49ms/step - loss: 58.2831 - acc: 0.4455 - val_loss: 57.7678 - val_acc: 0.2857\n",
            "Epoch 34/500\n",
            "1/1 [==============================] - 0s 52ms/step - loss: 57.6777 - acc: 0.4136 - val_loss: 57.1538 - val_acc: 0.2857\n",
            "Epoch 35/500\n",
            "1/1 [==============================] - 0s 51ms/step - loss: 57.0523 - acc: 0.4091 - val_loss: 56.5424 - val_acc: 0.2857\n",
            "Epoch 36/500\n",
            "1/1 [==============================] - 0s 50ms/step - loss: 56.4344 - acc: 0.4273 - val_loss: 55.9331 - val_acc: 0.2857\n",
            "Epoch 37/500\n",
            "1/1 [==============================] - 0s 52ms/step - loss: 55.8258 - acc: 0.4227 - val_loss: 55.3256 - val_acc: 0.3036\n",
            "INFO:tensorflow:Assets written to: ./checkpoint/assets\n",
            "Epoch 38/500\n",
            "1/1 [==============================] - 0s 50ms/step - loss: 55.1803 - acc: 0.4545 - val_loss: 54.7220 - val_acc: 0.3036\n",
            "Epoch 39/500\n",
            "1/1 [==============================] - 0s 48ms/step - loss: 54.6242 - acc: 0.4318 - val_loss: 54.1203 - val_acc: 0.3036\n",
            "Epoch 40/500\n",
            "1/1 [==============================] - 0s 47ms/step - loss: 53.9778 - acc: 0.4545 - val_loss: 53.5213 - val_acc: 0.3036\n",
            "Epoch 41/500\n",
            "1/1 [==============================] - 0s 63ms/step - loss: 53.3868 - acc: 0.4227 - val_loss: 52.9255 - val_acc: 0.3214\n",
            "INFO:tensorflow:Assets written to: ./checkpoint/assets\n",
            "Epoch 42/500\n",
            "1/1 [==============================] - 0s 47ms/step - loss: 52.8086 - acc: 0.4273 - val_loss: 52.3332 - val_acc: 0.3214\n",
            "Epoch 43/500\n",
            "1/1 [==============================] - 0s 46ms/step - loss: 52.1982 - acc: 0.4455 - val_loss: 51.7436 - val_acc: 0.3214\n",
            "Epoch 44/500\n",
            "1/1 [==============================] - 0s 52ms/step - loss: 51.6062 - acc: 0.4591 - val_loss: 51.1575 - val_acc: 0.3214\n",
            "Epoch 45/500\n",
            "1/1 [==============================] - 0s 49ms/step - loss: 51.0013 - acc: 0.4364 - val_loss: 50.5754 - val_acc: 0.3214\n",
            "Epoch 46/500\n",
            "1/1 [==============================] - 0s 47ms/step - loss: 50.4299 - acc: 0.4545 - val_loss: 49.9958 - val_acc: 0.3214\n",
            "Epoch 47/500\n",
            "1/1 [==============================] - 0s 52ms/step - loss: 49.8363 - acc: 0.4545 - val_loss: 49.4215 - val_acc: 0.3393\n",
            "INFO:tensorflow:Assets written to: ./checkpoint/assets\n",
            "Epoch 48/500\n",
            "1/1 [==============================] - 0s 47ms/step - loss: 49.2368 - acc: 0.4727 - val_loss: 48.8488 - val_acc: 0.3571\n",
            "INFO:tensorflow:Assets written to: ./checkpoint/assets\n",
            "Epoch 49/500\n",
            "1/1 [==============================] - 0s 48ms/step - loss: 48.6503 - acc: 0.4864 - val_loss: 48.2808 - val_acc: 0.3571\n",
            "Epoch 50/500\n",
            "1/1 [==============================] - 0s 48ms/step - loss: 48.0774 - acc: 0.4773 - val_loss: 47.7179 - val_acc: 0.3571\n",
            "Epoch 51/500\n",
            "1/1 [==============================] - 0s 50ms/step - loss: 47.5130 - acc: 0.4818 - val_loss: 47.1576 - val_acc: 0.3571\n",
            "Epoch 52/500\n",
            "1/1 [==============================] - 0s 49ms/step - loss: 46.9352 - acc: 0.5000 - val_loss: 46.6010 - val_acc: 0.3571\n",
            "Epoch 53/500\n",
            "1/1 [==============================] - 0s 61ms/step - loss: 46.3780 - acc: 0.5000 - val_loss: 46.0484 - val_acc: 0.3571\n",
            "Epoch 54/500\n",
            "1/1 [==============================] - 0s 53ms/step - loss: 45.8128 - acc: 0.5045 - val_loss: 45.4996 - val_acc: 0.3571\n",
            "Epoch 55/500\n",
            "1/1 [==============================] - 0s 52ms/step - loss: 45.2496 - acc: 0.4773 - val_loss: 44.9515 - val_acc: 0.3571\n",
            "Epoch 56/500\n",
            "1/1 [==============================] - 0s 49ms/step - loss: 44.6958 - acc: 0.5136 - val_loss: 44.4100 - val_acc: 0.3571\n",
            "Epoch 57/500\n",
            "1/1 [==============================] - 0s 51ms/step - loss: 44.1488 - acc: 0.5182 - val_loss: 43.8692 - val_acc: 0.3571\n",
            "Epoch 58/500\n",
            "1/1 [==============================] - 0s 49ms/step - loss: 43.5935 - acc: 0.5364 - val_loss: 43.3350 - val_acc: 0.3571\n",
            "Epoch 59/500\n",
            "1/1 [==============================] - 0s 49ms/step - loss: 43.0496 - acc: 0.5227 - val_loss: 42.8037 - val_acc: 0.3750\n",
            "INFO:tensorflow:Assets written to: ./checkpoint/assets\n",
            "Epoch 60/500\n",
            "1/1 [==============================] - 0s 48ms/step - loss: 42.5083 - acc: 0.5455 - val_loss: 42.2782 - val_acc: 0.3750\n",
            "Epoch 61/500\n",
            "1/1 [==============================] - 0s 49ms/step - loss: 41.9948 - acc: 0.5636 - val_loss: 41.7516 - val_acc: 0.3750\n",
            "Epoch 62/500\n",
            "1/1 [==============================] - 0s 48ms/step - loss: 41.4466 - acc: 0.6000 - val_loss: 41.2317 - val_acc: 0.3750\n",
            "Epoch 63/500\n",
            "1/1 [==============================] - 0s 47ms/step - loss: 40.9391 - acc: 0.5409 - val_loss: 40.7097 - val_acc: 0.3750\n",
            "Epoch 64/500\n",
            "1/1 [==============================] - 0s 57ms/step - loss: 40.4054 - acc: 0.6000 - val_loss: 40.2004 - val_acc: 0.3750\n",
            "Epoch 65/500\n",
            "1/1 [==============================] - 0s 48ms/step - loss: 39.8659 - acc: 0.6000 - val_loss: 39.6945 - val_acc: 0.3929\n",
            "INFO:tensorflow:Assets written to: ./checkpoint/assets\n",
            "Epoch 66/500\n",
            "1/1 [==============================] - 0s 49ms/step - loss: 39.3478 - acc: 0.6500 - val_loss: 39.1927 - val_acc: 0.3750\n",
            "Epoch 67/500\n",
            "1/1 [==============================] - 0s 46ms/step - loss: 38.8626 - acc: 0.6364 - val_loss: 38.6956 - val_acc: 0.3750\n",
            "Epoch 68/500\n",
            "1/1 [==============================] - 0s 62ms/step - loss: 38.3303 - acc: 0.6818 - val_loss: 38.1985 - val_acc: 0.3750\n",
            "Epoch 69/500\n",
            "1/1 [==============================] - 0s 54ms/step - loss: 37.8052 - acc: 0.7091 - val_loss: 37.7124 - val_acc: 0.3929\n",
            "Epoch 70/500\n",
            "1/1 [==============================] - 0s 46ms/step - loss: 37.3494 - acc: 0.6455 - val_loss: 37.2205 - val_acc: 0.3750\n",
            "Epoch 71/500\n",
            "1/1 [==============================] - 0s 49ms/step - loss: 36.8375 - acc: 0.6864 - val_loss: 36.7372 - val_acc: 0.3750\n",
            "Epoch 72/500\n",
            "1/1 [==============================] - 0s 53ms/step - loss: 36.3445 - acc: 0.7364 - val_loss: 36.2608 - val_acc: 0.3750\n",
            "Epoch 73/500\n",
            "1/1 [==============================] - 0s 47ms/step - loss: 35.8519 - acc: 0.7227 - val_loss: 35.7831 - val_acc: 0.3750\n",
            "Epoch 74/500\n",
            "1/1 [==============================] - 0s 49ms/step - loss: 35.3634 - acc: 0.7227 - val_loss: 35.3249 - val_acc: 0.3750\n",
            "Epoch 75/500\n",
            "1/1 [==============================] - 0s 64ms/step - loss: 34.8839 - acc: 0.7500 - val_loss: 34.8621 - val_acc: 0.3571\n",
            "Epoch 76/500\n",
            "1/1 [==============================] - 0s 47ms/step - loss: 34.3834 - acc: 0.7636 - val_loss: 34.3917 - val_acc: 0.3571\n",
            "Epoch 77/500\n",
            "1/1 [==============================] - 0s 48ms/step - loss: 33.9505 - acc: 0.7545 - val_loss: 33.9313 - val_acc: 0.3750\n",
            "Epoch 78/500\n",
            "1/1 [==============================] - 0s 48ms/step - loss: 33.4625 - acc: 0.7591 - val_loss: 33.4871 - val_acc: 0.3750\n",
            "Epoch 79/500\n",
            "1/1 [==============================] - 0s 49ms/step - loss: 32.9799 - acc: 0.7591 - val_loss: 33.0276 - val_acc: 0.3571\n",
            "Epoch 80/500\n",
            "1/1 [==============================] - 0s 52ms/step - loss: 32.5048 - acc: 0.7909 - val_loss: 32.5854 - val_acc: 0.3571\n",
            "Epoch 81/500\n",
            "1/1 [==============================] - 0s 46ms/step - loss: 32.0704 - acc: 0.7909 - val_loss: 32.1444 - val_acc: 0.3929\n",
            "Epoch 82/500\n",
            "1/1 [==============================] - 0s 49ms/step - loss: 31.6419 - acc: 0.7773 - val_loss: 31.6996 - val_acc: 0.4107\n",
            "INFO:tensorflow:Assets written to: ./checkpoint/assets\n",
            "Epoch 83/500\n",
            "1/1 [==============================] - 0s 49ms/step - loss: 31.1728 - acc: 0.7727 - val_loss: 31.2626 - val_acc: 0.4107\n",
            "Epoch 84/500\n",
            "1/1 [==============================] - 0s 48ms/step - loss: 30.7375 - acc: 0.7773 - val_loss: 30.8174 - val_acc: 0.4286\n",
            "INFO:tensorflow:Assets written to: ./checkpoint/assets\n",
            "Epoch 85/500\n",
            "1/1 [==============================] - 0s 52ms/step - loss: 30.2975 - acc: 0.7818 - val_loss: 30.3859 - val_acc: 0.4107\n",
            "Epoch 86/500\n",
            "1/1 [==============================] - 0s 53ms/step - loss: 29.8439 - acc: 0.7909 - val_loss: 29.9473 - val_acc: 0.4107\n",
            "Epoch 87/500\n",
            "1/1 [==============================] - 0s 52ms/step - loss: 29.4245 - acc: 0.7955 - val_loss: 29.5516 - val_acc: 0.4286\n",
            "Epoch 88/500\n",
            "1/1 [==============================] - 0s 46ms/step - loss: 29.0110 - acc: 0.7773 - val_loss: 29.1155 - val_acc: 0.4286\n",
            "Epoch 89/500\n",
            "1/1 [==============================] - 0s 48ms/step - loss: 28.5972 - acc: 0.7773 - val_loss: 28.7158 - val_acc: 0.4286\n",
            "Epoch 90/500\n",
            "1/1 [==============================] - 0s 49ms/step - loss: 28.1720 - acc: 0.7773 - val_loss: 28.3028 - val_acc: 0.4464\n",
            "INFO:tensorflow:Assets written to: ./checkpoint/assets\n",
            "Epoch 91/500\n",
            "1/1 [==============================] - 0s 50ms/step - loss: 27.7189 - acc: 0.7955 - val_loss: 27.8808 - val_acc: 0.4286\n",
            "Epoch 92/500\n",
            "1/1 [==============================] - 0s 56ms/step - loss: 27.3329 - acc: 0.7818 - val_loss: 27.4833 - val_acc: 0.4464\n",
            "Epoch 93/500\n",
            "1/1 [==============================] - 0s 57ms/step - loss: 26.8951 - acc: 0.8091 - val_loss: 27.1100 - val_acc: 0.4464\n",
            "Epoch 94/500\n",
            "1/1 [==============================] - 0s 49ms/step - loss: 26.5313 - acc: 0.7864 - val_loss: 26.6890 - val_acc: 0.4464\n",
            "Epoch 95/500\n",
            "1/1 [==============================] - 0s 47ms/step - loss: 26.1351 - acc: 0.7909 - val_loss: 26.2767 - val_acc: 0.4821\n",
            "INFO:tensorflow:Assets written to: ./checkpoint/assets\n",
            "Epoch 96/500\n",
            "1/1 [==============================] - 0s 46ms/step - loss: 25.7097 - acc: 0.8045 - val_loss: 25.9116 - val_acc: 0.4643\n",
            "Epoch 97/500\n",
            "1/1 [==============================] - 0s 50ms/step - loss: 25.3294 - acc: 0.7955 - val_loss: 25.5421 - val_acc: 0.4643\n",
            "Epoch 98/500\n",
            "1/1 [==============================] - 0s 51ms/step - loss: 24.9427 - acc: 0.7864 - val_loss: 25.1324 - val_acc: 0.4821\n",
            "Epoch 99/500\n",
            "1/1 [==============================] - 0s 65ms/step - loss: 24.5739 - acc: 0.7909 - val_loss: 24.7565 - val_acc: 0.4821\n",
            "Epoch 100/500\n",
            "1/1 [==============================] - 0s 49ms/step - loss: 24.2071 - acc: 0.7727 - val_loss: 24.3937 - val_acc: 0.4821\n",
            "Epoch 101/500\n",
            "1/1 [==============================] - 0s 56ms/step - loss: 23.8250 - acc: 0.7864 - val_loss: 24.0200 - val_acc: 0.4821\n",
            "Epoch 102/500\n",
            "1/1 [==============================] - 0s 46ms/step - loss: 23.4525 - acc: 0.7864 - val_loss: 23.6496 - val_acc: 0.4821\n",
            "Epoch 103/500\n",
            "1/1 [==============================] - 0s 50ms/step - loss: 23.0810 - acc: 0.8000 - val_loss: 23.2879 - val_acc: 0.4821\n",
            "Epoch 104/500\n",
            "1/1 [==============================] - 0s 47ms/step - loss: 22.7299 - acc: 0.8000 - val_loss: 22.9383 - val_acc: 0.4821\n",
            "Epoch 105/500\n",
            "1/1 [==============================] - 0s 47ms/step - loss: 22.3772 - acc: 0.8000 - val_loss: 22.5759 - val_acc: 0.5000\n",
            "INFO:tensorflow:Assets written to: ./checkpoint/assets\n",
            "Epoch 106/500\n",
            "1/1 [==============================] - 0s 49ms/step - loss: 22.0113 - acc: 0.8000 - val_loss: 22.2417 - val_acc: 0.4821\n",
            "Epoch 107/500\n",
            "1/1 [==============================] - 0s 60ms/step - loss: 21.6589 - acc: 0.8091 - val_loss: 21.8952 - val_acc: 0.5000\n",
            "Epoch 108/500\n",
            "1/1 [==============================] - 0s 48ms/step - loss: 21.3268 - acc: 0.8000 - val_loss: 21.5545 - val_acc: 0.4821\n",
            "Epoch 109/500\n",
            "1/1 [==============================] - 0s 48ms/step - loss: 20.9985 - acc: 0.7955 - val_loss: 21.2098 - val_acc: 0.5000\n",
            "Epoch 110/500\n",
            "1/1 [==============================] - 0s 50ms/step - loss: 20.6383 - acc: 0.8136 - val_loss: 20.8964 - val_acc: 0.4821\n",
            "Epoch 111/500\n",
            "1/1 [==============================] - 0s 46ms/step - loss: 20.3012 - acc: 0.8000 - val_loss: 20.5279 - val_acc: 0.5179\n",
            "INFO:tensorflow:Assets written to: ./checkpoint/assets\n",
            "Epoch 112/500\n",
            "1/1 [==============================] - 0s 47ms/step - loss: 19.9883 - acc: 0.8045 - val_loss: 20.2032 - val_acc: 0.5357\n",
            "INFO:tensorflow:Assets written to: ./checkpoint/assets\n",
            "Epoch 113/500\n",
            "1/1 [==============================] - 0s 48ms/step - loss: 19.6830 - acc: 0.8000 - val_loss: 19.9212 - val_acc: 0.5000\n",
            "Epoch 114/500\n",
            "1/1 [==============================] - 0s 47ms/step - loss: 19.3344 - acc: 0.8045 - val_loss: 19.6041 - val_acc: 0.5000\n",
            "Epoch 115/500\n",
            "1/1 [==============================] - 0s 48ms/step - loss: 19.0339 - acc: 0.8045 - val_loss: 19.2778 - val_acc: 0.5179\n",
            "Epoch 116/500\n",
            "1/1 [==============================] - 0s 47ms/step - loss: 18.7331 - acc: 0.7818 - val_loss: 18.9681 - val_acc: 0.5179\n",
            "Epoch 117/500\n",
            "1/1 [==============================] - 0s 51ms/step - loss: 18.4035 - acc: 0.8091 - val_loss: 18.6301 - val_acc: 0.5714\n",
            "INFO:tensorflow:Assets written to: ./checkpoint/assets\n",
            "Epoch 118/500\n",
            "1/1 [==============================] - 0s 48ms/step - loss: 18.1198 - acc: 0.7955 - val_loss: 18.3545 - val_acc: 0.5179\n",
            "Epoch 119/500\n",
            "1/1 [==============================] - 0s 54ms/step - loss: 17.8008 - acc: 0.8091 - val_loss: 18.0879 - val_acc: 0.4821\n",
            "Epoch 120/500\n",
            "1/1 [==============================] - 0s 49ms/step - loss: 17.5247 - acc: 0.8000 - val_loss: 17.7525 - val_acc: 0.5714\n",
            "Epoch 121/500\n",
            "1/1 [==============================] - 0s 48ms/step - loss: 17.2512 - acc: 0.8000 - val_loss: 17.4875 - val_acc: 0.5357\n",
            "Epoch 122/500\n",
            "1/1 [==============================] - 0s 46ms/step - loss: 16.9461 - acc: 0.8000 - val_loss: 17.2052 - val_acc: 0.5536\n",
            "Epoch 123/500\n",
            "1/1 [==============================] - 0s 46ms/step - loss: 16.6575 - acc: 0.8045 - val_loss: 16.9356 - val_acc: 0.5179\n",
            "Epoch 124/500\n",
            "1/1 [==============================] - 0s 49ms/step - loss: 16.3839 - acc: 0.8091 - val_loss: 16.6620 - val_acc: 0.5179\n",
            "Epoch 125/500\n",
            "1/1 [==============================] - 0s 46ms/step - loss: 16.1161 - acc: 0.7955 - val_loss: 16.3462 - val_acc: 0.5893\n",
            "INFO:tensorflow:Assets written to: ./checkpoint/assets\n",
            "Epoch 126/500\n",
            "1/1 [==============================] - 0s 47ms/step - loss: 15.8340 - acc: 0.8000 - val_loss: 16.0968 - val_acc: 0.5893\n",
            "Epoch 127/500\n",
            "1/1 [==============================] - 0s 46ms/step - loss: 15.5782 - acc: 0.8000 - val_loss: 15.8433 - val_acc: 0.5893\n",
            "Epoch 128/500\n",
            "1/1 [==============================] - 0s 52ms/step - loss: 15.3094 - acc: 0.8091 - val_loss: 15.6100 - val_acc: 0.5000\n",
            "Epoch 129/500\n",
            "1/1 [==============================] - 0s 48ms/step - loss: 15.0603 - acc: 0.8000 - val_loss: 15.2893 - val_acc: 0.6429\n",
            "INFO:tensorflow:Assets written to: ./checkpoint/assets\n",
            "Epoch 130/500\n",
            "1/1 [==============================] - 0s 51ms/step - loss: 14.7986 - acc: 0.8045 - val_loss: 15.1187 - val_acc: 0.5357\n",
            "Epoch 131/500\n",
            "1/1 [==============================] - 0s 53ms/step - loss: 14.5592 - acc: 0.8045 - val_loss: 14.8770 - val_acc: 0.5357\n",
            "Epoch 132/500\n",
            "1/1 [==============================] - 0s 48ms/step - loss: 14.2880 - acc: 0.8136 - val_loss: 14.5879 - val_acc: 0.6071\n",
            "Epoch 133/500\n",
            "1/1 [==============================] - 0s 47ms/step - loss: 14.0434 - acc: 0.8136 - val_loss: 14.3879 - val_acc: 0.5536\n",
            "Epoch 134/500\n",
            "1/1 [==============================] - 0s 46ms/step - loss: 13.8179 - acc: 0.8091 - val_loss: 14.1554 - val_acc: 0.5357\n",
            "Epoch 135/500\n",
            "1/1 [==============================] - 0s 47ms/step - loss: 13.6165 - acc: 0.7909 - val_loss: 13.8866 - val_acc: 0.6071\n",
            "Epoch 136/500\n",
            "1/1 [==============================] - 0s 52ms/step - loss: 13.3821 - acc: 0.8045 - val_loss: 13.7039 - val_acc: 0.5536\n",
            "Epoch 137/500\n",
            "1/1 [==============================] - 0s 51ms/step - loss: 13.1376 - acc: 0.8136 - val_loss: 13.4942 - val_acc: 0.5536\n",
            "Epoch 138/500\n",
            "1/1 [==============================] - 0s 50ms/step - loss: 12.9335 - acc: 0.8000 - val_loss: 13.2457 - val_acc: 0.5893\n",
            "Epoch 139/500\n",
            "1/1 [==============================] - 0s 49ms/step - loss: 12.7296 - acc: 0.8045 - val_loss: 13.0749 - val_acc: 0.5536\n",
            "Epoch 140/500\n",
            "1/1 [==============================] - 0s 48ms/step - loss: 12.5117 - acc: 0.8000 - val_loss: 12.8233 - val_acc: 0.6071\n",
            "Epoch 141/500\n",
            "1/1 [==============================] - 0s 50ms/step - loss: 12.2910 - acc: 0.8136 - val_loss: 12.6423 - val_acc: 0.5536\n",
            "Epoch 142/500\n",
            "1/1 [==============================] - 0s 51ms/step - loss: 12.0966 - acc: 0.7955 - val_loss: 12.4156 - val_acc: 0.5893\n",
            "Epoch 143/500\n",
            "1/1 [==============================] - 0s 51ms/step - loss: 11.9072 - acc: 0.8000 - val_loss: 12.2717 - val_acc: 0.5536\n",
            "Epoch 144/500\n",
            "1/1 [==============================] - 0s 58ms/step - loss: 11.7134 - acc: 0.8000 - val_loss: 11.9807 - val_acc: 0.6429\n",
            "Epoch 145/500\n",
            "1/1 [==============================] - 0s 61ms/step - loss: 11.5076 - acc: 0.8045 - val_loss: 11.8645 - val_acc: 0.5893\n",
            "Epoch 146/500\n",
            "1/1 [==============================] - 0s 51ms/step - loss: 11.3101 - acc: 0.8136 - val_loss: 11.6925 - val_acc: 0.5893\n",
            "Epoch 147/500\n",
            "1/1 [==============================] - 0s 47ms/step - loss: 11.1439 - acc: 0.7955 - val_loss: 11.5226 - val_acc: 0.5893\n",
            "Epoch 148/500\n",
            "1/1 [==============================] - 0s 50ms/step - loss: 10.9765 - acc: 0.7909 - val_loss: 11.2837 - val_acc: 0.6250\n",
            "Epoch 149/500\n",
            "1/1 [==============================] - 0s 46ms/step - loss: 10.7928 - acc: 0.8091 - val_loss: 11.2160 - val_acc: 0.5536\n",
            "Epoch 150/500\n",
            "1/1 [==============================] - 0s 48ms/step - loss: 10.6381 - acc: 0.8091 - val_loss: 10.9338 - val_acc: 0.6250\n",
            "Epoch 151/500\n",
            "1/1 [==============================] - 0s 55ms/step - loss: 10.4681 - acc: 0.8091 - val_loss: 10.8397 - val_acc: 0.5893\n",
            "Epoch 152/500\n",
            "1/1 [==============================] - 0s 48ms/step - loss: 10.3195 - acc: 0.8045 - val_loss: 10.7236 - val_acc: 0.5536\n",
            "Epoch 153/500\n",
            "1/1 [==============================] - 0s 48ms/step - loss: 10.1621 - acc: 0.8045 - val_loss: 10.4838 - val_acc: 0.6429\n",
            "Epoch 154/500\n",
            "1/1 [==============================] - 0s 49ms/step - loss: 10.0283 - acc: 0.7955 - val_loss: 10.4531 - val_acc: 0.5357\n",
            "Epoch 155/500\n",
            "1/1 [==============================] - 0s 48ms/step - loss: 9.8782 - acc: 0.8000 - val_loss: 10.1982 - val_acc: 0.6250\n",
            "Epoch 156/500\n",
            "1/1 [==============================] - 0s 49ms/step - loss: 9.7463 - acc: 0.8091 - val_loss: 10.1886 - val_acc: 0.5357\n",
            "Epoch 157/500\n",
            "1/1 [==============================] - 0s 49ms/step - loss: 9.5937 - acc: 0.8045 - val_loss: 9.9352 - val_acc: 0.6429\n",
            "Epoch 158/500\n",
            "1/1 [==============================] - 0s 48ms/step - loss: 9.4637 - acc: 0.8136 - val_loss: 9.9795 - val_acc: 0.5179\n",
            "Epoch 159/500\n",
            "1/1 [==============================] - 0s 47ms/step - loss: 9.3462 - acc: 0.8091 - val_loss: 9.6851 - val_acc: 0.5893\n",
            "Epoch 160/500\n",
            "1/1 [==============================] - 0s 60ms/step - loss: 9.2303 - acc: 0.8091 - val_loss: 9.6708 - val_acc: 0.5536\n",
            "Epoch 161/500\n",
            "1/1 [==============================] - 0s 50ms/step - loss: 9.1081 - acc: 0.8000 - val_loss: 9.4934 - val_acc: 0.6071\n",
            "Epoch 162/500\n",
            "1/1 [==============================] - 0s 47ms/step - loss: 8.9910 - acc: 0.7955 - val_loss: 9.5352 - val_acc: 0.4821\n",
            "Epoch 163/500\n",
            "1/1 [==============================] - 0s 55ms/step - loss: 8.8809 - acc: 0.8000 - val_loss: 9.2586 - val_acc: 0.6071\n",
            "Epoch 164/500\n",
            "1/1 [==============================] - 0s 49ms/step - loss: 8.7833 - acc: 0.8045 - val_loss: 9.2236 - val_acc: 0.5893\n",
            "Epoch 165/500\n",
            "1/1 [==============================] - 0s 49ms/step - loss: 8.6633 - acc: 0.8091 - val_loss: 9.0354 - val_acc: 0.6071\n",
            "Epoch 166/500\n",
            "1/1 [==============================] - 0s 50ms/step - loss: 8.5625 - acc: 0.8091 - val_loss: 9.1820 - val_acc: 0.4643\n",
            "Epoch 167/500\n",
            "1/1 [==============================] - 0s 51ms/step - loss: 8.4836 - acc: 0.8045 - val_loss: 9.0132 - val_acc: 0.4821\n",
            "Epoch 168/500\n",
            "1/1 [==============================] - 0s 52ms/step - loss: 8.4450 - acc: 0.8091 - val_loss: 8.7925 - val_acc: 0.5893\n",
            "Epoch 169/500\n",
            "1/1 [==============================] - 0s 50ms/step - loss: 8.3119 - acc: 0.7909 - val_loss: 8.7957 - val_acc: 0.5000\n",
            "Epoch 170/500\n",
            "1/1 [==============================] - 0s 47ms/step - loss: 8.2079 - acc: 0.8000 - val_loss: 8.6079 - val_acc: 0.5893\n",
            "Epoch 171/500\n",
            "1/1 [==============================] - 0s 49ms/step - loss: 8.1349 - acc: 0.8045 - val_loss: 8.8182 - val_acc: 0.4643\n",
            "Epoch 172/500\n",
            "1/1 [==============================] - 0s 54ms/step - loss: 8.0752 - acc: 0.7955 - val_loss: 8.7019 - val_acc: 0.4464\n",
            "Epoch 173/500\n",
            "1/1 [==============================] - 0s 54ms/step - loss: 8.0339 - acc: 0.7955 - val_loss: 8.3847 - val_acc: 0.6071\n",
            "Epoch 174/500\n",
            "1/1 [==============================] - 0s 52ms/step - loss: 7.9060 - acc: 0.8136 - val_loss: 8.5816 - val_acc: 0.4643\n",
            "Epoch 175/500\n",
            "1/1 [==============================] - 0s 54ms/step - loss: 7.8776 - acc: 0.8000 - val_loss: 8.3824 - val_acc: 0.4821\n",
            "Epoch 176/500\n",
            "1/1 [==============================] - 0s 53ms/step - loss: 7.8104 - acc: 0.8091 - val_loss: 8.2415 - val_acc: 0.5536\n",
            "Epoch 177/500\n",
            "1/1 [==============================] - 0s 51ms/step - loss: 7.7146 - acc: 0.8091 - val_loss: 8.1885 - val_acc: 0.5357\n",
            "Epoch 178/500\n",
            "1/1 [==============================] - 0s 47ms/step - loss: 7.6662 - acc: 0.8045 - val_loss: 8.1978 - val_acc: 0.5536\n",
            "Epoch 179/500\n",
            "1/1 [==============================] - 0s 68ms/step - loss: 7.5999 - acc: 0.8091 - val_loss: 8.0381 - val_acc: 0.5357\n",
            "Epoch 180/500\n",
            "1/1 [==============================] - 0s 52ms/step - loss: 7.5727 - acc: 0.7955 - val_loss: 8.1386 - val_acc: 0.5179\n",
            "Epoch 181/500\n",
            "1/1 [==============================] - 0s 49ms/step - loss: 7.5013 - acc: 0.8045 - val_loss: 7.9955 - val_acc: 0.4821\n",
            "Epoch 182/500\n",
            "1/1 [==============================] - 0s 64ms/step - loss: 7.5100 - acc: 0.7864 - val_loss: 7.9940 - val_acc: 0.5357\n",
            "Epoch 183/500\n",
            "1/1 [==============================] - 0s 50ms/step - loss: 7.3825 - acc: 0.8091 - val_loss: 7.7974 - val_acc: 0.5893\n",
            "Epoch 184/500\n",
            "1/1 [==============================] - 0s 58ms/step - loss: 7.3645 - acc: 0.7955 - val_loss: 8.1381 - val_acc: 0.4464\n",
            "Epoch 185/500\n",
            "1/1 [==============================] - 0s 58ms/step - loss: 7.3230 - acc: 0.8136 - val_loss: 7.9087 - val_acc: 0.4821\n",
            "Epoch 186/500\n",
            "1/1 [==============================] - 0s 51ms/step - loss: 7.3011 - acc: 0.8091 - val_loss: 7.7255 - val_acc: 0.5714\n",
            "Epoch 187/500\n",
            "1/1 [==============================] - 0s 49ms/step - loss: 7.1882 - acc: 0.8045 - val_loss: 7.8745 - val_acc: 0.5000\n",
            "Epoch 188/500\n",
            "1/1 [==============================] - 0s 46ms/step - loss: 7.1972 - acc: 0.8045 - val_loss: 7.7394 - val_acc: 0.4464\n",
            "Epoch 189/500\n",
            "1/1 [==============================] - 0s 51ms/step - loss: 7.1726 - acc: 0.7909 - val_loss: 7.6506 - val_acc: 0.5536\n",
            "Epoch 190/500\n",
            "1/1 [==============================] - 0s 49ms/step - loss: 7.0978 - acc: 0.7909 - val_loss: 7.4858 - val_acc: 0.6071\n",
            "Epoch 191/500\n",
            "1/1 [==============================] - 0s 50ms/step - loss: 7.0716 - acc: 0.7909 - val_loss: 7.9419 - val_acc: 0.4464\n",
            "Epoch 192/500\n",
            "1/1 [==============================] - 0s 49ms/step - loss: 7.0741 - acc: 0.7864 - val_loss: 7.6756 - val_acc: 0.4821\n",
            "Epoch 193/500\n",
            "1/1 [==============================] - 0s 52ms/step - loss: 7.0420 - acc: 0.7864 - val_loss: 7.4243 - val_acc: 0.5893\n",
            "Epoch 194/500\n",
            "1/1 [==============================] - 0s 49ms/step - loss: 6.9654 - acc: 0.7955 - val_loss: 7.7902 - val_acc: 0.4643\n",
            "Epoch 195/500\n",
            "1/1 [==============================] - 0s 50ms/step - loss: 7.0006 - acc: 0.7773 - val_loss: 7.5559 - val_acc: 0.4286\n",
            "Epoch 196/500\n",
            "1/1 [==============================] - 0s 50ms/step - loss: 6.9831 - acc: 0.7682 - val_loss: 7.3555 - val_acc: 0.6071\n",
            "Epoch 197/500\n",
            "1/1 [==============================] - 0s 54ms/step - loss: 6.8741 - acc: 0.8045 - val_loss: 7.5423 - val_acc: 0.4643\n",
            "Epoch 198/500\n",
            "1/1 [==============================] - 0s 51ms/step - loss: 6.8966 - acc: 0.7727 - val_loss: 7.4133 - val_acc: 0.5000\n",
            "Epoch 199/500\n",
            "1/1 [==============================] - 0s 50ms/step - loss: 6.8627 - acc: 0.7909 - val_loss: 7.3022 - val_acc: 0.5714\n",
            "Epoch 200/500\n",
            "1/1 [==============================] - 0s 47ms/step - loss: 6.7989 - acc: 0.7909 - val_loss: 7.3236 - val_acc: 0.5536\n",
            "Epoch 201/500\n",
            "1/1 [==============================] - 0s 56ms/step - loss: 6.7371 - acc: 0.8091 - val_loss: 7.1954 - val_acc: 0.5714\n",
            "Epoch 202/500\n",
            "1/1 [==============================] - 0s 58ms/step - loss: 6.7175 - acc: 0.8136 - val_loss: 7.6386 - val_acc: 0.4643\n",
            "Epoch 203/500\n",
            "1/1 [==============================] - 0s 53ms/step - loss: 6.7917 - acc: 0.7909 - val_loss: 7.3655 - val_acc: 0.4643\n",
            "Epoch 204/500\n",
            "1/1 [==============================] - 0s 67ms/step - loss: 6.7398 - acc: 0.7909 - val_loss: 7.1185 - val_acc: 0.6071\n",
            "Epoch 205/500\n",
            "1/1 [==============================] - 0s 54ms/step - loss: 6.6409 - acc: 0.8091 - val_loss: 7.2794 - val_acc: 0.5000\n",
            "Epoch 206/500\n",
            "1/1 [==============================] - 0s 53ms/step - loss: 6.6370 - acc: 0.7955 - val_loss: 7.1296 - val_acc: 0.5536\n",
            "Epoch 207/500\n",
            "1/1 [==============================] - 0s 53ms/step - loss: 6.6036 - acc: 0.8091 - val_loss: 7.1567 - val_acc: 0.5536\n",
            "Epoch 208/500\n",
            "1/1 [==============================] - 0s 49ms/step - loss: 6.5598 - acc: 0.8091 - val_loss: 7.0342 - val_acc: 0.5714\n",
            "Epoch 209/500\n",
            "1/1 [==============================] - 0s 52ms/step - loss: 6.5366 - acc: 0.8091 - val_loss: 7.1968 - val_acc: 0.5000\n",
            "Epoch 210/500\n",
            "1/1 [==============================] - 0s 50ms/step - loss: 6.5038 - acc: 0.8091 - val_loss: 7.1629 - val_acc: 0.5000\n",
            "Epoch 211/500\n",
            "1/1 [==============================] - 0s 51ms/step - loss: 6.5390 - acc: 0.7818 - val_loss: 6.8955 - val_acc: 0.6250\n",
            "Epoch 212/500\n",
            "1/1 [==============================] - 0s 48ms/step - loss: 6.4685 - acc: 0.7955 - val_loss: 7.2485 - val_acc: 0.5000\n",
            "Epoch 213/500\n",
            "1/1 [==============================] - 0s 48ms/step - loss: 6.4861 - acc: 0.7955 - val_loss: 7.0454 - val_acc: 0.5000\n",
            "Epoch 214/500\n",
            "1/1 [==============================] - 0s 58ms/step - loss: 6.4815 - acc: 0.7773 - val_loss: 6.8460 - val_acc: 0.6071\n",
            "Epoch 215/500\n",
            "1/1 [==============================] - 0s 51ms/step - loss: 6.4091 - acc: 0.7909 - val_loss: 6.9275 - val_acc: 0.5536\n",
            "Epoch 216/500\n",
            "1/1 [==============================] - 0s 47ms/step - loss: 6.3837 - acc: 0.8045 - val_loss: 6.7552 - val_acc: 0.6250\n",
            "Epoch 217/500\n",
            "1/1 [==============================] - 0s 50ms/step - loss: 6.3841 - acc: 0.8000 - val_loss: 6.9619 - val_acc: 0.5000\n",
            "Epoch 218/500\n",
            "1/1 [==============================] - 0s 51ms/step - loss: 6.3455 - acc: 0.7909 - val_loss: 6.7802 - val_acc: 0.5536\n",
            "Epoch 219/500\n",
            "1/1 [==============================] - 0s 50ms/step - loss: 6.3461 - acc: 0.7864 - val_loss: 7.0111 - val_acc: 0.4821\n",
            "Epoch 220/500\n",
            "1/1 [==============================] - 0s 55ms/step - loss: 6.3095 - acc: 0.8045 - val_loss: 6.9179 - val_acc: 0.5000\n",
            "Epoch 221/500\n",
            "1/1 [==============================] - 0s 60ms/step - loss: 6.2664 - acc: 0.8091 - val_loss: 6.6427 - val_acc: 0.6250\n",
            "Epoch 222/500\n",
            "1/1 [==============================] - 0s 54ms/step - loss: 6.2435 - acc: 0.8045 - val_loss: 6.8446 - val_acc: 0.5357\n",
            "Epoch 223/500\n",
            "1/1 [==============================] - 0s 52ms/step - loss: 6.2363 - acc: 0.7955 - val_loss: 6.6616 - val_acc: 0.5714\n",
            "Epoch 224/500\n",
            "1/1 [==============================] - 0s 48ms/step - loss: 6.2581 - acc: 0.7864 - val_loss: 7.0996 - val_acc: 0.4464\n",
            "Epoch 225/500\n",
            "1/1 [==============================] - 0s 49ms/step - loss: 6.2237 - acc: 0.8045 - val_loss: 6.7701 - val_acc: 0.5000\n",
            "Epoch 226/500\n",
            "1/1 [==============================] - 0s 53ms/step - loss: 6.2178 - acc: 0.7909 - val_loss: 6.6347 - val_acc: 0.5357\n",
            "Epoch 227/500\n",
            "1/1 [==============================] - 0s 50ms/step - loss: 6.1241 - acc: 0.8045 - val_loss: 6.6754 - val_acc: 0.5357\n",
            "Epoch 228/500\n",
            "1/1 [==============================] - 0s 48ms/step - loss: 6.1211 - acc: 0.8045 - val_loss: 6.5128 - val_acc: 0.5893\n",
            "Epoch 229/500\n",
            "1/1 [==============================] - 0s 55ms/step - loss: 6.0841 - acc: 0.8000 - val_loss: 6.6835 - val_acc: 0.5536\n",
            "Epoch 230/500\n",
            "1/1 [==============================] - 0s 51ms/step - loss: 6.0870 - acc: 0.7864 - val_loss: 6.5160 - val_acc: 0.6250\n",
            "Epoch 231/500\n",
            "1/1 [==============================] - 0s 48ms/step - loss: 6.0719 - acc: 0.7955 - val_loss: 6.5316 - val_acc: 0.5536\n",
            "Epoch 232/500\n",
            "1/1 [==============================] - 0s 48ms/step - loss: 6.0051 - acc: 0.8136 - val_loss: 6.6308 - val_acc: 0.5179\n",
            "Epoch 233/500\n",
            "1/1 [==============================] - 0s 48ms/step - loss: 5.9929 - acc: 0.8045 - val_loss: 6.4432 - val_acc: 0.6071\n",
            "Epoch 234/500\n",
            "1/1 [==============================] - 0s 54ms/step - loss: 6.0025 - acc: 0.8000 - val_loss: 6.4774 - val_acc: 0.5357\n",
            "Epoch 235/500\n",
            "1/1 [==============================] - 0s 54ms/step - loss: 5.9448 - acc: 0.8091 - val_loss: 6.4170 - val_acc: 0.5893\n",
            "Epoch 236/500\n",
            "1/1 [==============================] - 0s 51ms/step - loss: 5.9334 - acc: 0.8136 - val_loss: 6.4533 - val_acc: 0.5179\n",
            "Epoch 237/500\n",
            "1/1 [==============================] - 0s 48ms/step - loss: 5.9464 - acc: 0.7909 - val_loss: 6.5204 - val_acc: 0.5357\n",
            "Epoch 238/500\n",
            "1/1 [==============================] - 0s 51ms/step - loss: 5.8873 - acc: 0.8000 - val_loss: 6.2936 - val_acc: 0.6429\n",
            "Epoch 239/500\n",
            "1/1 [==============================] - 0s 49ms/step - loss: 5.8763 - acc: 0.8091 - val_loss: 6.5193 - val_acc: 0.5357\n",
            "Epoch 240/500\n",
            "1/1 [==============================] - 0s 49ms/step - loss: 5.8535 - acc: 0.8136 - val_loss: 6.4423 - val_acc: 0.4821\n",
            "Epoch 241/500\n",
            "1/1 [==============================] - 0s 49ms/step - loss: 5.8614 - acc: 0.8045 - val_loss: 6.2466 - val_acc: 0.5893\n",
            "Epoch 242/500\n",
            "1/1 [==============================] - 0s 48ms/step - loss: 5.7853 - acc: 0.8136 - val_loss: 6.5397 - val_acc: 0.4821\n",
            "Epoch 243/500\n",
            "1/1 [==============================] - 0s 54ms/step - loss: 5.8082 - acc: 0.8000 - val_loss: 6.3201 - val_acc: 0.5893\n",
            "Epoch 244/500\n",
            "1/1 [==============================] - 0s 70ms/step - loss: 5.8529 - acc: 0.7773 - val_loss: 6.2675 - val_acc: 0.5536\n",
            "Epoch 245/500\n",
            "1/1 [==============================] - 0s 53ms/step - loss: 5.7397 - acc: 0.8045 - val_loss: 6.4530 - val_acc: 0.5179\n",
            "Epoch 246/500\n",
            "1/1 [==============================] - 0s 50ms/step - loss: 5.7424 - acc: 0.8000 - val_loss: 6.2220 - val_acc: 0.5893\n",
            "Epoch 247/500\n",
            "1/1 [==============================] - 0s 49ms/step - loss: 5.7355 - acc: 0.8000 - val_loss: 6.2011 - val_acc: 0.5357\n",
            "Epoch 248/500\n",
            "1/1 [==============================] - 0s 49ms/step - loss: 5.6828 - acc: 0.8000 - val_loss: 6.6212 - val_acc: 0.4464\n",
            "Epoch 249/500\n",
            "1/1 [==============================] - 0s 60ms/step - loss: 5.7214 - acc: 0.7955 - val_loss: 6.2127 - val_acc: 0.5357\n",
            "Epoch 250/500\n",
            "1/1 [==============================] - 0s 56ms/step - loss: 5.7103 - acc: 0.8000 - val_loss: 6.1082 - val_acc: 0.5893\n",
            "Epoch 251/500\n",
            "1/1 [==============================] - 0s 53ms/step - loss: 5.6563 - acc: 0.8091 - val_loss: 6.0437 - val_acc: 0.6071\n",
            "Epoch 252/500\n",
            "1/1 [==============================] - 0s 53ms/step - loss: 5.6348 - acc: 0.8000 - val_loss: 6.3175 - val_acc: 0.5179\n",
            "Epoch 253/500\n",
            "1/1 [==============================] - 0s 50ms/step - loss: 5.6125 - acc: 0.8045 - val_loss: 6.1070 - val_acc: 0.5893\n",
            "Epoch 254/500\n",
            "1/1 [==============================] - 0s 54ms/step - loss: 5.6052 - acc: 0.8091 - val_loss: 6.0186 - val_acc: 0.5714\n",
            "Epoch 255/500\n",
            "1/1 [==============================] - 0s 53ms/step - loss: 5.5498 - acc: 0.8091 - val_loss: 6.2640 - val_acc: 0.5000\n",
            "Epoch 256/500\n",
            "1/1 [==============================] - 0s 49ms/step - loss: 5.5427 - acc: 0.8091 - val_loss: 6.0158 - val_acc: 0.5893\n",
            "Epoch 257/500\n",
            "1/1 [==============================] - 0s 57ms/step - loss: 5.5512 - acc: 0.8000 - val_loss: 5.9832 - val_acc: 0.5893\n",
            "Epoch 258/500\n",
            "1/1 [==============================] - 0s 47ms/step - loss: 5.5079 - acc: 0.8000 - val_loss: 6.3926 - val_acc: 0.4643\n",
            "Epoch 259/500\n",
            "1/1 [==============================] - 0s 50ms/step - loss: 5.5176 - acc: 0.8045 - val_loss: 6.0048 - val_acc: 0.5714\n",
            "Epoch 260/500\n",
            "1/1 [==============================] - 0s 50ms/step - loss: 5.5149 - acc: 0.7955 - val_loss: 5.9025 - val_acc: 0.6071\n",
            "Epoch 261/500\n",
            "1/1 [==============================] - 0s 48ms/step - loss: 5.4323 - acc: 0.8136 - val_loss: 6.0251 - val_acc: 0.5179\n",
            "Epoch 262/500\n",
            "1/1 [==============================] - 0s 60ms/step - loss: 5.4252 - acc: 0.8045 - val_loss: 5.9914 - val_acc: 0.5536\n",
            "Epoch 263/500\n",
            "1/1 [==============================] - 0s 49ms/step - loss: 5.4083 - acc: 0.8000 - val_loss: 5.8038 - val_acc: 0.6071\n",
            "Epoch 264/500\n",
            "1/1 [==============================] - 0s 50ms/step - loss: 5.3666 - acc: 0.8136 - val_loss: 6.2213 - val_acc: 0.5000\n",
            "Epoch 265/500\n",
            "1/1 [==============================] - 0s 53ms/step - loss: 5.4080 - acc: 0.8045 - val_loss: 5.9469 - val_acc: 0.5357\n",
            "Epoch 266/500\n",
            "1/1 [==============================] - 0s 59ms/step - loss: 5.4253 - acc: 0.7864 - val_loss: 5.7955 - val_acc: 0.5893\n",
            "Epoch 267/500\n",
            "1/1 [==============================] - 0s 51ms/step - loss: 5.3308 - acc: 0.8045 - val_loss: 5.9313 - val_acc: 0.4821\n",
            "Epoch 268/500\n",
            "1/1 [==============================] - 0s 55ms/step - loss: 5.3393 - acc: 0.7909 - val_loss: 5.7783 - val_acc: 0.5536\n",
            "Epoch 269/500\n",
            "1/1 [==============================] - 0s 54ms/step - loss: 5.3033 - acc: 0.8091 - val_loss: 5.7502 - val_acc: 0.5714\n",
            "Epoch 270/500\n",
            "1/1 [==============================] - 0s 50ms/step - loss: 5.2733 - acc: 0.8000 - val_loss: 5.9128 - val_acc: 0.5357\n",
            "Epoch 271/500\n",
            "1/1 [==============================] - 0s 52ms/step - loss: 5.2582 - acc: 0.8091 - val_loss: 5.7208 - val_acc: 0.6071\n",
            "Epoch 272/500\n",
            "1/1 [==============================] - 0s 50ms/step - loss: 5.2502 - acc: 0.7955 - val_loss: 5.7249 - val_acc: 0.5536\n",
            "Epoch 273/500\n",
            "1/1 [==============================] - 0s 54ms/step - loss: 5.2310 - acc: 0.8000 - val_loss: 5.8400 - val_acc: 0.5714\n",
            "Epoch 274/500\n",
            "1/1 [==============================] - 0s 52ms/step - loss: 5.2001 - acc: 0.8091 - val_loss: 5.6145 - val_acc: 0.6429\n",
            "Epoch 275/500\n",
            "1/1 [==============================] - 0s 57ms/step - loss: 5.1853 - acc: 0.8091 - val_loss: 5.6817 - val_acc: 0.5893\n",
            "Epoch 276/500\n",
            "1/1 [==============================] - 0s 66ms/step - loss: 5.1488 - acc: 0.8000 - val_loss: 5.5965 - val_acc: 0.6071\n",
            "Epoch 277/500\n",
            "1/1 [==============================] - 0s 58ms/step - loss: 5.1399 - acc: 0.7955 - val_loss: 5.8395 - val_acc: 0.5000\n",
            "Epoch 278/500\n",
            "1/1 [==============================] - 0s 61ms/step - loss: 5.1281 - acc: 0.8136 - val_loss: 5.6344 - val_acc: 0.5714\n",
            "Epoch 279/500\n",
            "1/1 [==============================] - 0s 52ms/step - loss: 5.1746 - acc: 0.7727 - val_loss: 5.6675 - val_acc: 0.5536\n",
            "Epoch 280/500\n",
            "1/1 [==============================] - 0s 53ms/step - loss: 5.1262 - acc: 0.7955 - val_loss: 5.5484 - val_acc: 0.5357\n",
            "Epoch 281/500\n",
            "1/1 [==============================] - 0s 52ms/step - loss: 5.0906 - acc: 0.7909 - val_loss: 5.5011 - val_acc: 0.5536\n",
            "Epoch 282/500\n",
            "1/1 [==============================] - 0s 54ms/step - loss: 5.0525 - acc: 0.8136 - val_loss: 5.8411 - val_acc: 0.5000\n",
            "Epoch 283/500\n",
            "1/1 [==============================] - 0s 51ms/step - loss: 5.0713 - acc: 0.8136 - val_loss: 5.6425 - val_acc: 0.5357\n",
            "Epoch 284/500\n",
            "1/1 [==============================] - 0s 57ms/step - loss: 5.0835 - acc: 0.7773 - val_loss: 5.4389 - val_acc: 0.6250\n",
            "Epoch 285/500\n",
            "1/1 [==============================] - 0s 51ms/step - loss: 4.9900 - acc: 0.8136 - val_loss: 5.6601 - val_acc: 0.5714\n",
            "Epoch 286/500\n",
            "1/1 [==============================] - 0s 56ms/step - loss: 5.0046 - acc: 0.8182 - val_loss: 5.4416 - val_acc: 0.6250\n",
            "Epoch 287/500\n",
            "1/1 [==============================] - 0s 54ms/step - loss: 4.9718 - acc: 0.8091 - val_loss: 5.4159 - val_acc: 0.6071\n",
            "Epoch 288/500\n",
            "1/1 [==============================] - 0s 49ms/step - loss: 4.9570 - acc: 0.7955 - val_loss: 5.5485 - val_acc: 0.5357\n",
            "Epoch 289/500\n",
            "1/1 [==============================] - 0s 70ms/step - loss: 4.9382 - acc: 0.8045 - val_loss: 5.3263 - val_acc: 0.6071\n",
            "Epoch 290/500\n",
            "1/1 [==============================] - 0s 50ms/step - loss: 4.9379 - acc: 0.7909 - val_loss: 5.6144 - val_acc: 0.4821\n",
            "Epoch 291/500\n",
            "1/1 [==============================] - 0s 53ms/step - loss: 4.8867 - acc: 0.8227 - val_loss: 5.4323 - val_acc: 0.5714\n",
            "Epoch 292/500\n",
            "1/1 [==============================] - 0s 48ms/step - loss: 4.9471 - acc: 0.7773 - val_loss: 5.3536 - val_acc: 0.5536\n",
            "Epoch 293/500\n",
            "1/1 [==============================] - 0s 53ms/step - loss: 4.8558 - acc: 0.8045 - val_loss: 5.4972 - val_acc: 0.5536\n",
            "Epoch 294/500\n",
            "1/1 [==============================] - 0s 53ms/step - loss: 4.8731 - acc: 0.8136 - val_loss: 5.3275 - val_acc: 0.5536\n",
            "Epoch 295/500\n",
            "1/1 [==============================] - 0s 50ms/step - loss: 4.8989 - acc: 0.7955 - val_loss: 5.3216 - val_acc: 0.5536\n",
            "Epoch 296/500\n",
            "1/1 [==============================] - 0s 55ms/step - loss: 4.8340 - acc: 0.8045 - val_loss: 5.2251 - val_acc: 0.6071\n",
            "Epoch 297/500\n",
            "1/1 [==============================] - 0s 49ms/step - loss: 4.8023 - acc: 0.8045 - val_loss: 5.7309 - val_acc: 0.4464\n",
            "Epoch 298/500\n",
            "1/1 [==============================] - 0s 51ms/step - loss: 4.8927 - acc: 0.8045 - val_loss: 5.2982 - val_acc: 0.5893\n",
            "Epoch 299/500\n",
            "1/1 [==============================] - 0s 54ms/step - loss: 4.8427 - acc: 0.7818 - val_loss: 5.1805 - val_acc: 0.6071\n",
            "Epoch 300/500\n",
            "1/1 [==============================] - 0s 49ms/step - loss: 4.7510 - acc: 0.8045 - val_loss: 5.4440 - val_acc: 0.5179\n",
            "Epoch 301/500\n",
            "1/1 [==============================] - 0s 48ms/step - loss: 4.7639 - acc: 0.8000 - val_loss: 5.1427 - val_acc: 0.6429\n",
            "Epoch 302/500\n",
            "1/1 [==============================] - 0s 60ms/step - loss: 4.7184 - acc: 0.8091 - val_loss: 5.1315 - val_acc: 0.5536\n",
            "Epoch 303/500\n",
            "1/1 [==============================] - 0s 52ms/step - loss: 4.7023 - acc: 0.7955 - val_loss: 5.6326 - val_acc: 0.4821\n",
            "Epoch 304/500\n",
            "1/1 [==============================] - 0s 50ms/step - loss: 4.7533 - acc: 0.8000 - val_loss: 5.1561 - val_acc: 0.5714\n",
            "Epoch 305/500\n",
            "1/1 [==============================] - 0s 66ms/step - loss: 4.7084 - acc: 0.7955 - val_loss: 5.0933 - val_acc: 0.6250\n",
            "Epoch 306/500\n",
            "1/1 [==============================] - 0s 51ms/step - loss: 4.6775 - acc: 0.7909 - val_loss: 5.3864 - val_acc: 0.4643\n",
            "Epoch 307/500\n",
            "1/1 [==============================] - 0s 55ms/step - loss: 4.6663 - acc: 0.8273 - val_loss: 5.1191 - val_acc: 0.5893\n",
            "Epoch 308/500\n",
            "1/1 [==============================] - 0s 57ms/step - loss: 4.6451 - acc: 0.7909 - val_loss: 5.0394 - val_acc: 0.6429\n",
            "Epoch 309/500\n",
            "1/1 [==============================] - 0s 50ms/step - loss: 4.6430 - acc: 0.7955 - val_loss: 5.0525 - val_acc: 0.5893\n",
            "Epoch 310/500\n",
            "1/1 [==============================] - 0s 53ms/step - loss: 4.5779 - acc: 0.8000 - val_loss: 5.4835 - val_acc: 0.4643\n",
            "Epoch 311/500\n",
            "1/1 [==============================] - 0s 63ms/step - loss: 4.5911 - acc: 0.8318 - val_loss: 5.0251 - val_acc: 0.5893\n",
            "Epoch 312/500\n",
            "1/1 [==============================] - 0s 53ms/step - loss: 4.5993 - acc: 0.7955 - val_loss: 4.9738 - val_acc: 0.6250\n",
            "Epoch 313/500\n",
            "1/1 [==============================] - 0s 51ms/step - loss: 4.5499 - acc: 0.8000 - val_loss: 5.4823 - val_acc: 0.4821\n",
            "Epoch 314/500\n",
            "1/1 [==============================] - 0s 59ms/step - loss: 4.6028 - acc: 0.8318 - val_loss: 4.9872 - val_acc: 0.5893\n",
            "Epoch 315/500\n",
            "1/1 [==============================] - 0s 55ms/step - loss: 4.5289 - acc: 0.8045 - val_loss: 4.9124 - val_acc: 0.6429\n",
            "Epoch 316/500\n",
            "1/1 [==============================] - 0s 57ms/step - loss: 4.4822 - acc: 0.8091 - val_loss: 5.1389 - val_acc: 0.5357\n",
            "Epoch 317/500\n",
            "1/1 [==============================] - 0s 53ms/step - loss: 4.4764 - acc: 0.8091 - val_loss: 4.8937 - val_acc: 0.6071\n",
            "Epoch 318/500\n",
            "1/1 [==============================] - 0s 50ms/step - loss: 4.4596 - acc: 0.7955 - val_loss: 4.9265 - val_acc: 0.6071\n",
            "Epoch 319/500\n",
            "1/1 [==============================] - 0s 49ms/step - loss: 4.4188 - acc: 0.8045 - val_loss: 4.9145 - val_acc: 0.5536\n",
            "Epoch 320/500\n",
            "1/1 [==============================] - 0s 52ms/step - loss: 4.4075 - acc: 0.8000 - val_loss: 5.0799 - val_acc: 0.5000\n",
            "Epoch 321/500\n",
            "1/1 [==============================] - 0s 54ms/step - loss: 4.4293 - acc: 0.8409 - val_loss: 4.8168 - val_acc: 0.6071\n",
            "Epoch 322/500\n",
            "1/1 [==============================] - 0s 51ms/step - loss: 4.3911 - acc: 0.8045 - val_loss: 4.8823 - val_acc: 0.5714\n",
            "Epoch 323/500\n",
            "1/1 [==============================] - 0s 56ms/step - loss: 4.3740 - acc: 0.8182 - val_loss: 4.7726 - val_acc: 0.6071\n",
            "Epoch 324/500\n",
            "1/1 [==============================] - 0s 48ms/step - loss: 4.3948 - acc: 0.7864 - val_loss: 5.0753 - val_acc: 0.5179\n",
            "Epoch 325/500\n",
            "1/1 [==============================] - 0s 60ms/step - loss: 4.3500 - acc: 0.8364 - val_loss: 4.7309 - val_acc: 0.6786\n",
            "INFO:tensorflow:Assets written to: ./checkpoint/assets\n",
            "Epoch 326/500\n",
            "1/1 [==============================] - 0s 51ms/step - loss: 4.3404 - acc: 0.8000 - val_loss: 4.8168 - val_acc: 0.5536\n",
            "Epoch 327/500\n",
            "1/1 [==============================] - 0s 51ms/step - loss: 4.3093 - acc: 0.8136 - val_loss: 4.8011 - val_acc: 0.5357\n",
            "Epoch 328/500\n",
            "1/1 [==============================] - 0s 51ms/step - loss: 4.2983 - acc: 0.8000 - val_loss: 4.8368 - val_acc: 0.5536\n",
            "Epoch 329/500\n",
            "1/1 [==============================] - 0s 49ms/step - loss: 4.2809 - acc: 0.8045 - val_loss: 4.6617 - val_acc: 0.6250\n",
            "Epoch 330/500\n",
            "1/1 [==============================] - 0s 52ms/step - loss: 4.2456 - acc: 0.8091 - val_loss: 4.9015 - val_acc: 0.5536\n",
            "Epoch 331/500\n",
            "1/1 [==============================] - 0s 58ms/step - loss: 4.2351 - acc: 0.8500 - val_loss: 4.7224 - val_acc: 0.6071\n",
            "Epoch 332/500\n",
            "1/1 [==============================] - 0s 50ms/step - loss: 4.2492 - acc: 0.7955 - val_loss: 4.6632 - val_acc: 0.5893\n",
            "Epoch 333/500\n",
            "1/1 [==============================] - 0s 65ms/step - loss: 4.1933 - acc: 0.8091 - val_loss: 4.9675 - val_acc: 0.4821\n",
            "Epoch 334/500\n",
            "1/1 [==============================] - 0s 52ms/step - loss: 4.2051 - acc: 0.8364 - val_loss: 4.6648 - val_acc: 0.6071\n",
            "Epoch 335/500\n",
            "1/1 [==============================] - 0s 54ms/step - loss: 4.1749 - acc: 0.8091 - val_loss: 4.5936 - val_acc: 0.6786\n",
            "Epoch 336/500\n",
            "1/1 [==============================] - 0s 58ms/step - loss: 4.1605 - acc: 0.8136 - val_loss: 4.7529 - val_acc: 0.5179\n",
            "Epoch 337/500\n",
            "1/1 [==============================] - 0s 54ms/step - loss: 4.1552 - acc: 0.8318 - val_loss: 4.5688 - val_acc: 0.6071\n",
            "Epoch 338/500\n",
            "1/1 [==============================] - 0s 50ms/step - loss: 4.1461 - acc: 0.7955 - val_loss: 4.6394 - val_acc: 0.5536\n",
            "Epoch 339/500\n",
            "1/1 [==============================] - 0s 57ms/step - loss: 4.1131 - acc: 0.8091 - val_loss: 4.7693 - val_acc: 0.5893\n",
            "Epoch 340/500\n",
            "1/1 [==============================] - 0s 59ms/step - loss: 4.1040 - acc: 0.8227 - val_loss: 4.5014 - val_acc: 0.6250\n",
            "Epoch 341/500\n",
            "1/1 [==============================] - 0s 51ms/step - loss: 4.0905 - acc: 0.7955 - val_loss: 4.7173 - val_acc: 0.4821\n",
            "Epoch 342/500\n",
            "1/1 [==============================] - 0s 56ms/step - loss: 4.1138 - acc: 0.8364 - val_loss: 4.5772 - val_acc: 0.6071\n",
            "Epoch 343/500\n",
            "1/1 [==============================] - 0s 54ms/step - loss: 4.0908 - acc: 0.7864 - val_loss: 4.4621 - val_acc: 0.6071\n",
            "Epoch 344/500\n",
            "1/1 [==============================] - 0s 65ms/step - loss: 4.0320 - acc: 0.8000 - val_loss: 4.7730 - val_acc: 0.4643\n",
            "Epoch 345/500\n",
            "1/1 [==============================] - 0s 60ms/step - loss: 4.0502 - acc: 0.8545 - val_loss: 4.4624 - val_acc: 0.6071\n",
            "Epoch 346/500\n",
            "1/1 [==============================] - 0s 55ms/step - loss: 4.0168 - acc: 0.7955 - val_loss: 4.5221 - val_acc: 0.5893\n",
            "Epoch 347/500\n",
            "1/1 [==============================] - 0s 50ms/step - loss: 3.9922 - acc: 0.8273 - val_loss: 4.4026 - val_acc: 0.6429\n",
            "Epoch 348/500\n",
            "1/1 [==============================] - 0s 55ms/step - loss: 3.9697 - acc: 0.8091 - val_loss: 4.5841 - val_acc: 0.5357\n",
            "Epoch 349/500\n",
            "1/1 [==============================] - 0s 51ms/step - loss: 3.9473 - acc: 0.8455 - val_loss: 4.3894 - val_acc: 0.6071\n",
            "Epoch 350/500\n",
            "1/1 [==============================] - 0s 61ms/step - loss: 3.9737 - acc: 0.7909 - val_loss: 4.4488 - val_acc: 0.5893\n",
            "Epoch 351/500\n",
            "1/1 [==============================] - 0s 62ms/step - loss: 3.9297 - acc: 0.8182 - val_loss: 4.5933 - val_acc: 0.5179\n",
            "Epoch 352/500\n",
            "1/1 [==============================] - 0s 58ms/step - loss: 3.9367 - acc: 0.8455 - val_loss: 4.3577 - val_acc: 0.5714\n",
            "Epoch 353/500\n",
            "1/1 [==============================] - 0s 51ms/step - loss: 3.9252 - acc: 0.8045 - val_loss: 4.5073 - val_acc: 0.5893\n",
            "Epoch 354/500\n",
            "1/1 [==============================] - 0s 51ms/step - loss: 3.9109 - acc: 0.8455 - val_loss: 4.3351 - val_acc: 0.5893\n",
            "Epoch 355/500\n",
            "1/1 [==============================] - 0s 51ms/step - loss: 3.9119 - acc: 0.7864 - val_loss: 4.3760 - val_acc: 0.5893\n",
            "Epoch 356/500\n",
            "1/1 [==============================] - 0s 51ms/step - loss: 3.8549 - acc: 0.8182 - val_loss: 4.4131 - val_acc: 0.5893\n",
            "Epoch 357/500\n",
            "1/1 [==============================] - 0s 64ms/step - loss: 3.8286 - acc: 0.8318 - val_loss: 4.3205 - val_acc: 0.6071\n",
            "Epoch 358/500\n",
            "1/1 [==============================] - 0s 51ms/step - loss: 3.8392 - acc: 0.8136 - val_loss: 4.3417 - val_acc: 0.5536\n",
            "Epoch 359/500\n",
            "1/1 [==============================] - 0s 54ms/step - loss: 3.7840 - acc: 0.8455 - val_loss: 4.3952 - val_acc: 0.5714\n",
            "Epoch 360/500\n",
            "1/1 [==============================] - 0s 52ms/step - loss: 3.8153 - acc: 0.8591 - val_loss: 4.2021 - val_acc: 0.6607\n",
            "Epoch 361/500\n",
            "1/1 [==============================] - 0s 56ms/step - loss: 3.8107 - acc: 0.7955 - val_loss: 4.4723 - val_acc: 0.5000\n",
            "Epoch 362/500\n",
            "1/1 [==============================] - 0s 51ms/step - loss: 3.7992 - acc: 0.8591 - val_loss: 4.3338 - val_acc: 0.6071\n",
            "Epoch 363/500\n",
            "1/1 [==============================] - 0s 55ms/step - loss: 3.8393 - acc: 0.7636 - val_loss: 4.1775 - val_acc: 0.6250\n",
            "Epoch 364/500\n",
            "1/1 [==============================] - 0s 67ms/step - loss: 3.7502 - acc: 0.8136 - val_loss: 4.6324 - val_acc: 0.4464\n",
            "Epoch 365/500\n",
            "1/1 [==============================] - 0s 52ms/step - loss: 3.8137 - acc: 0.8591 - val_loss: 4.1921 - val_acc: 0.6250\n",
            "Epoch 366/500\n",
            "1/1 [==============================] - 0s 58ms/step - loss: 3.7590 - acc: 0.7955 - val_loss: 4.2399 - val_acc: 0.6250\n",
            "Epoch 367/500\n",
            "1/1 [==============================] - 0s 65ms/step - loss: 3.7115 - acc: 0.8318 - val_loss: 4.1360 - val_acc: 0.6429\n",
            "Epoch 368/500\n",
            "1/1 [==============================] - 0s 51ms/step - loss: 3.6823 - acc: 0.8091 - val_loss: 4.2211 - val_acc: 0.5714\n",
            "Epoch 369/500\n",
            "1/1 [==============================] - 0s 50ms/step - loss: 3.6695 - acc: 0.8409 - val_loss: 4.1007 - val_acc: 0.6071\n",
            "Epoch 370/500\n",
            "1/1 [==============================] - 0s 54ms/step - loss: 3.6400 - acc: 0.8318 - val_loss: 4.3435 - val_acc: 0.5000\n",
            "Epoch 371/500\n",
            "1/1 [==============================] - 0s 50ms/step - loss: 3.6414 - acc: 0.8636 - val_loss: 4.0922 - val_acc: 0.6429\n",
            "Epoch 372/500\n",
            "1/1 [==============================] - 0s 53ms/step - loss: 3.6741 - acc: 0.7955 - val_loss: 4.1932 - val_acc: 0.5357\n",
            "Epoch 373/500\n",
            "1/1 [==============================] - 0s 58ms/step - loss: 3.6255 - acc: 0.8545 - val_loss: 4.1245 - val_acc: 0.5179\n",
            "Epoch 374/500\n",
            "1/1 [==============================] - 0s 54ms/step - loss: 3.6221 - acc: 0.8273 - val_loss: 4.0312 - val_acc: 0.6786\n",
            "Epoch 375/500\n",
            "1/1 [==============================] - 0s 55ms/step - loss: 3.5920 - acc: 0.8045 - val_loss: 4.2728 - val_acc: 0.5179\n",
            "Epoch 376/500\n",
            "1/1 [==============================] - 0s 59ms/step - loss: 3.5941 - acc: 0.8545 - val_loss: 4.0779 - val_acc: 0.5893\n",
            "Epoch 377/500\n",
            "1/1 [==============================] - 0s 53ms/step - loss: 3.5865 - acc: 0.8045 - val_loss: 4.0116 - val_acc: 0.5893\n",
            "Epoch 378/500\n",
            "1/1 [==============================] - 0s 57ms/step - loss: 3.5471 - acc: 0.8682 - val_loss: 4.0999 - val_acc: 0.5536\n",
            "Epoch 379/500\n",
            "1/1 [==============================] - 0s 56ms/step - loss: 3.5131 - acc: 0.8636 - val_loss: 4.0786 - val_acc: 0.5893\n",
            "Epoch 380/500\n",
            "1/1 [==============================] - 0s 57ms/step - loss: 3.5102 - acc: 0.8818 - val_loss: 4.0067 - val_acc: 0.5714\n",
            "Epoch 381/500\n",
            "1/1 [==============================] - 0s 55ms/step - loss: 3.5171 - acc: 0.8273 - val_loss: 4.2819 - val_acc: 0.4821\n",
            "Epoch 382/500\n",
            "1/1 [==============================] - 0s 59ms/step - loss: 3.5185 - acc: 0.8773 - val_loss: 4.0213 - val_acc: 0.5714\n",
            "Epoch 383/500\n",
            "1/1 [==============================] - 0s 61ms/step - loss: 3.5137 - acc: 0.7818 - val_loss: 3.9327 - val_acc: 0.6429\n",
            "Epoch 384/500\n",
            "1/1 [==============================] - 0s 51ms/step - loss: 3.4641 - acc: 0.8227 - val_loss: 4.0305 - val_acc: 0.5714\n",
            "Epoch 385/500\n",
            "1/1 [==============================] - 0s 56ms/step - loss: 3.4331 - acc: 0.8818 - val_loss: 3.9115 - val_acc: 0.6071\n",
            "Epoch 386/500\n",
            "1/1 [==============================] - 0s 50ms/step - loss: 3.4319 - acc: 0.8227 - val_loss: 4.3194 - val_acc: 0.4107\n",
            "Epoch 387/500\n",
            "1/1 [==============================] - 0s 51ms/step - loss: 3.4712 - acc: 0.8727 - val_loss: 3.9211 - val_acc: 0.5714\n",
            "Epoch 388/500\n",
            "1/1 [==============================] - 0s 55ms/step - loss: 3.4852 - acc: 0.7727 - val_loss: 3.9442 - val_acc: 0.6071\n",
            "Epoch 389/500\n",
            "1/1 [==============================] - 0s 57ms/step - loss: 3.3915 - acc: 0.8727 - val_loss: 3.8371 - val_acc: 0.6607\n",
            "Epoch 390/500\n",
            "1/1 [==============================] - 0s 58ms/step - loss: 3.3982 - acc: 0.8045 - val_loss: 4.1282 - val_acc: 0.5000\n",
            "Epoch 391/500\n",
            "1/1 [==============================] - 0s 56ms/step - loss: 3.3883 - acc: 0.8591 - val_loss: 3.8168 - val_acc: 0.6250\n",
            "Epoch 392/500\n",
            "1/1 [==============================] - 0s 51ms/step - loss: 3.3641 - acc: 0.8182 - val_loss: 3.8450 - val_acc: 0.6607\n",
            "Epoch 393/500\n",
            "1/1 [==============================] - 0s 50ms/step - loss: 3.3479 - acc: 0.8818 - val_loss: 3.9303 - val_acc: 0.5536\n",
            "Epoch 394/500\n",
            "1/1 [==============================] - 0s 56ms/step - loss: 3.3484 - acc: 0.8591 - val_loss: 3.7988 - val_acc: 0.5714\n",
            "Epoch 395/500\n",
            "1/1 [==============================] - 0s 52ms/step - loss: 3.3463 - acc: 0.8091 - val_loss: 4.1054 - val_acc: 0.5179\n",
            "Epoch 396/500\n",
            "1/1 [==============================] - 0s 55ms/step - loss: 3.3252 - acc: 0.8864 - val_loss: 3.7832 - val_acc: 0.6250\n",
            "Epoch 397/500\n",
            "1/1 [==============================] - 0s 51ms/step - loss: 3.3192 - acc: 0.8045 - val_loss: 3.7924 - val_acc: 0.6071\n",
            "Epoch 398/500\n",
            "1/1 [==============================] - 0s 61ms/step - loss: 3.2754 - acc: 0.8545 - val_loss: 3.8298 - val_acc: 0.5714\n",
            "Epoch 399/500\n",
            "1/1 [==============================] - 0s 54ms/step - loss: 3.2534 - acc: 0.8636 - val_loss: 3.8744 - val_acc: 0.5357\n",
            "Epoch 400/500\n",
            "1/1 [==============================] - 0s 56ms/step - loss: 3.2313 - acc: 0.8773 - val_loss: 3.7050 - val_acc: 0.6429\n",
            "Epoch 401/500\n",
            "1/1 [==============================] - 0s 53ms/step - loss: 3.2367 - acc: 0.8273 - val_loss: 3.8650 - val_acc: 0.5357\n",
            "Epoch 402/500\n",
            "1/1 [==============================] - 0s 52ms/step - loss: 3.2080 - acc: 0.9273 - val_loss: 3.6886 - val_acc: 0.6429\n",
            "Epoch 403/500\n",
            "1/1 [==============================] - 0s 50ms/step - loss: 3.2262 - acc: 0.8000 - val_loss: 3.7795 - val_acc: 0.5714\n",
            "Epoch 404/500\n",
            "1/1 [==============================] - 0s 50ms/step - loss: 3.1773 - acc: 0.8818 - val_loss: 3.6857 - val_acc: 0.5893\n",
            "Epoch 405/500\n",
            "1/1 [==============================] - 0s 59ms/step - loss: 3.2354 - acc: 0.7818 - val_loss: 3.6960 - val_acc: 0.6071\n",
            "Epoch 406/500\n",
            "1/1 [==============================] - 0s 52ms/step - loss: 3.1898 - acc: 0.8545 - val_loss: 3.6029 - val_acc: 0.6250\n",
            "Epoch 407/500\n",
            "1/1 [==============================] - 0s 59ms/step - loss: 3.1596 - acc: 0.8136 - val_loss: 3.8603 - val_acc: 0.5179\n",
            "Epoch 408/500\n",
            "1/1 [==============================] - 0s 56ms/step - loss: 3.1821 - acc: 0.9000 - val_loss: 3.6326 - val_acc: 0.6071\n",
            "Epoch 409/500\n",
            "1/1 [==============================] - 0s 58ms/step - loss: 3.1648 - acc: 0.7955 - val_loss: 3.7308 - val_acc: 0.5536\n",
            "Epoch 410/500\n",
            "1/1 [==============================] - 0s 53ms/step - loss: 3.1185 - acc: 0.8818 - val_loss: 3.5761 - val_acc: 0.6250\n",
            "Epoch 411/500\n",
            "1/1 [==============================] - 0s 52ms/step - loss: 3.1057 - acc: 0.8227 - val_loss: 3.8783 - val_acc: 0.5000\n",
            "Epoch 412/500\n",
            "1/1 [==============================] - 0s 63ms/step - loss: 3.1518 - acc: 0.8727 - val_loss: 3.5629 - val_acc: 0.6071\n",
            "Epoch 413/500\n",
            "1/1 [==============================] - 0s 55ms/step - loss: 3.1166 - acc: 0.8091 - val_loss: 3.6690 - val_acc: 0.5357\n",
            "Epoch 414/500\n",
            "1/1 [==============================] - 0s 50ms/step - loss: 3.0541 - acc: 0.8955 - val_loss: 3.5317 - val_acc: 0.6607\n",
            "Epoch 415/500\n",
            "1/1 [==============================] - 0s 52ms/step - loss: 3.0683 - acc: 0.8136 - val_loss: 3.6630 - val_acc: 0.5179\n",
            "Epoch 416/500\n",
            "1/1 [==============================] - 0s 57ms/step - loss: 3.0485 - acc: 0.9136 - val_loss: 3.5240 - val_acc: 0.6786\n",
            "Epoch 417/500\n",
            "1/1 [==============================] - 0s 49ms/step - loss: 3.0344 - acc: 0.8727 - val_loss: 3.9714 - val_acc: 0.4643\n",
            "Epoch 418/500\n",
            "1/1 [==============================] - 0s 63ms/step - loss: 3.0824 - acc: 0.9000 - val_loss: 3.5407 - val_acc: 0.6429\n",
            "Epoch 419/500\n",
            "1/1 [==============================] - 0s 52ms/step - loss: 3.0827 - acc: 0.7818 - val_loss: 3.5194 - val_acc: 0.6429\n",
            "Epoch 420/500\n",
            "1/1 [==============================] - 0s 57ms/step - loss: 3.0067 - acc: 0.9091 - val_loss: 3.5210 - val_acc: 0.6071\n",
            "Epoch 421/500\n",
            "1/1 [==============================] - 0s 54ms/step - loss: 3.0202 - acc: 0.8773 - val_loss: 3.5024 - val_acc: 0.6607\n",
            "Epoch 422/500\n",
            "1/1 [==============================] - 0s 51ms/step - loss: 2.9708 - acc: 0.8955 - val_loss: 3.5962 - val_acc: 0.5536\n",
            "Epoch 423/500\n",
            "1/1 [==============================] - 0s 52ms/step - loss: 2.9750 - acc: 0.9091 - val_loss: 3.4896 - val_acc: 0.6071\n",
            "Epoch 424/500\n",
            "1/1 [==============================] - 0s 51ms/step - loss: 2.9434 - acc: 0.8818 - val_loss: 3.6378 - val_acc: 0.5357\n",
            "Epoch 425/500\n",
            "1/1 [==============================] - 0s 56ms/step - loss: 2.9441 - acc: 0.9182 - val_loss: 3.4047 - val_acc: 0.6250\n",
            "Epoch 426/500\n",
            "1/1 [==============================] - 0s 56ms/step - loss: 2.9122 - acc: 0.8545 - val_loss: 3.5245 - val_acc: 0.5536\n",
            "Epoch 427/500\n",
            "1/1 [==============================] - 0s 57ms/step - loss: 2.9397 - acc: 0.9045 - val_loss: 3.3639 - val_acc: 0.6250\n",
            "Epoch 428/500\n",
            "1/1 [==============================] - 0s 56ms/step - loss: 2.9196 - acc: 0.8409 - val_loss: 3.6814 - val_acc: 0.5179\n",
            "Epoch 429/500\n",
            "1/1 [==============================] - 0s 52ms/step - loss: 2.9033 - acc: 0.9227 - val_loss: 3.4012 - val_acc: 0.6429\n",
            "Epoch 430/500\n",
            "1/1 [==============================] - 0s 49ms/step - loss: 2.9129 - acc: 0.8091 - val_loss: 3.3646 - val_acc: 0.6429\n",
            "Epoch 431/500\n",
            "1/1 [==============================] - 0s 52ms/step - loss: 2.9095 - acc: 0.8545 - val_loss: 3.4437 - val_acc: 0.5893\n",
            "Epoch 432/500\n",
            "1/1 [==============================] - 0s 56ms/step - loss: 2.8961 - acc: 0.8864 - val_loss: 3.4227 - val_acc: 0.5893\n",
            "Epoch 433/500\n",
            "1/1 [==============================] - 0s 52ms/step - loss: 2.8662 - acc: 0.8864 - val_loss: 3.5013 - val_acc: 0.5357\n",
            "Epoch 434/500\n",
            "1/1 [==============================] - 0s 51ms/step - loss: 2.8225 - acc: 0.9091 - val_loss: 3.3036 - val_acc: 0.6250\n",
            "Epoch 435/500\n",
            "1/1 [==============================] - 0s 60ms/step - loss: 2.8496 - acc: 0.8409 - val_loss: 3.7592 - val_acc: 0.4643\n",
            "Epoch 436/500\n",
            "1/1 [==============================] - 0s 51ms/step - loss: 2.8886 - acc: 0.8727 - val_loss: 3.3199 - val_acc: 0.6786\n",
            "Epoch 437/500\n",
            "1/1 [==============================] - 0s 57ms/step - loss: 2.8490 - acc: 0.8045 - val_loss: 3.3557 - val_acc: 0.5893\n",
            "Epoch 438/500\n",
            "1/1 [==============================] - 0s 58ms/step - loss: 2.7840 - acc: 0.8909 - val_loss: 3.2565 - val_acc: 0.6429\n",
            "Epoch 439/500\n",
            "1/1 [==============================] - 0s 53ms/step - loss: 2.8016 - acc: 0.8409 - val_loss: 3.5695 - val_acc: 0.4643\n",
            "Epoch 440/500\n",
            "1/1 [==============================] - 0s 53ms/step - loss: 2.8294 - acc: 0.8818 - val_loss: 3.2469 - val_acc: 0.6429\n",
            "Epoch 441/500\n",
            "1/1 [==============================] - 0s 51ms/step - loss: 2.7935 - acc: 0.8273 - val_loss: 3.3584 - val_acc: 0.5536\n",
            "Epoch 442/500\n",
            "1/1 [==============================] - 0s 61ms/step - loss: 2.7471 - acc: 0.9000 - val_loss: 3.2680 - val_acc: 0.6429\n",
            "Epoch 443/500\n",
            "1/1 [==============================] - 0s 54ms/step - loss: 2.7530 - acc: 0.9000 - val_loss: 3.4723 - val_acc: 0.5000\n",
            "Epoch 444/500\n",
            "1/1 [==============================] - 0s 55ms/step - loss: 2.7690 - acc: 0.8909 - val_loss: 3.2296 - val_acc: 0.6429\n",
            "Epoch 445/500\n",
            "1/1 [==============================] - 0s 51ms/step - loss: 2.7872 - acc: 0.7909 - val_loss: 3.3193 - val_acc: 0.5536\n",
            "Epoch 446/500\n",
            "1/1 [==============================] - 0s 57ms/step - loss: 2.7218 - acc: 0.8773 - val_loss: 3.1784 - val_acc: 0.6429\n",
            "Epoch 447/500\n",
            "1/1 [==============================] - 0s 51ms/step - loss: 2.7102 - acc: 0.8545 - val_loss: 3.2680 - val_acc: 0.6071\n",
            "Epoch 448/500\n",
            "1/1 [==============================] - 0s 57ms/step - loss: 2.7221 - acc: 0.8818 - val_loss: 3.1596 - val_acc: 0.6786\n",
            "Epoch 449/500\n",
            "1/1 [==============================] - 0s 53ms/step - loss: 2.7345 - acc: 0.8364 - val_loss: 3.3249 - val_acc: 0.5000\n",
            "Epoch 450/500\n",
            "1/1 [==============================] - 0s 51ms/step - loss: 2.6450 - acc: 0.9227 - val_loss: 3.1862 - val_acc: 0.6071\n",
            "Epoch 451/500\n",
            "1/1 [==============================] - 0s 57ms/step - loss: 2.6589 - acc: 0.8909 - val_loss: 3.5483 - val_acc: 0.5000\n",
            "Epoch 452/500\n",
            "1/1 [==============================] - 0s 59ms/step - loss: 2.6837 - acc: 0.8955 - val_loss: 3.1792 - val_acc: 0.6786\n",
            "Epoch 453/500\n",
            "1/1 [==============================] - 0s 61ms/step - loss: 2.7159 - acc: 0.8045 - val_loss: 3.1962 - val_acc: 0.5536\n",
            "Epoch 454/500\n",
            "1/1 [==============================] - 0s 51ms/step - loss: 2.6336 - acc: 0.9182 - val_loss: 3.1157 - val_acc: 0.6607\n",
            "Epoch 455/500\n",
            "1/1 [==============================] - 0s 61ms/step - loss: 2.6184 - acc: 0.8818 - val_loss: 3.3553 - val_acc: 0.5357\n",
            "Epoch 456/500\n",
            "1/1 [==============================] - 0s 75ms/step - loss: 2.6125 - acc: 0.9136 - val_loss: 3.1108 - val_acc: 0.6429\n",
            "Epoch 457/500\n",
            "1/1 [==============================] - 0s 51ms/step - loss: 2.6294 - acc: 0.8227 - val_loss: 3.1934 - val_acc: 0.6250\n",
            "Epoch 458/500\n",
            "1/1 [==============================] - 0s 50ms/step - loss: 2.6010 - acc: 0.9091 - val_loss: 3.5694 - val_acc: 0.4464\n",
            "Epoch 459/500\n",
            "1/1 [==============================] - 0s 51ms/step - loss: 2.6584 - acc: 0.8955 - val_loss: 3.0597 - val_acc: 0.7321\n",
            "INFO:tensorflow:Assets written to: ./checkpoint/assets\n",
            "Epoch 460/500\n",
            "1/1 [==============================] - 0s 57ms/step - loss: 2.5896 - acc: 0.8500 - val_loss: 3.1150 - val_acc: 0.5714\n",
            "Epoch 461/500\n",
            "1/1 [==============================] - 0s 53ms/step - loss: 2.5762 - acc: 0.9136 - val_loss: 3.0099 - val_acc: 0.6786\n",
            "Epoch 462/500\n",
            "1/1 [==============================] - 0s 52ms/step - loss: 2.5966 - acc: 0.8409 - val_loss: 3.3128 - val_acc: 0.5000\n",
            "Epoch 463/500\n",
            "1/1 [==============================] - 0s 50ms/step - loss: 2.5748 - acc: 0.9136 - val_loss: 3.0149 - val_acc: 0.6607\n",
            "Epoch 464/500\n",
            "1/1 [==============================] - 0s 58ms/step - loss: 2.5583 - acc: 0.8364 - val_loss: 3.1934 - val_acc: 0.5357\n",
            "Epoch 465/500\n",
            "1/1 [==============================] - 0s 51ms/step - loss: 2.5158 - acc: 0.9182 - val_loss: 2.9804 - val_acc: 0.6786\n",
            "Epoch 466/500\n",
            "1/1 [==============================] - 0s 49ms/step - loss: 2.5280 - acc: 0.8864 - val_loss: 3.2048 - val_acc: 0.5000\n",
            "Epoch 467/500\n",
            "1/1 [==============================] - 0s 64ms/step - loss: 2.5183 - acc: 0.8909 - val_loss: 3.0156 - val_acc: 0.6250\n",
            "Epoch 468/500\n",
            "1/1 [==============================] - 0s 58ms/step - loss: 2.4928 - acc: 0.9000 - val_loss: 3.2185 - val_acc: 0.5357\n",
            "Epoch 469/500\n",
            "1/1 [==============================] - 0s 54ms/step - loss: 2.5072 - acc: 0.9182 - val_loss: 2.9637 - val_acc: 0.6607\n",
            "Epoch 470/500\n",
            "1/1 [==============================] - 0s 75ms/step - loss: 2.4981 - acc: 0.8273 - val_loss: 3.0916 - val_acc: 0.5714\n",
            "Epoch 471/500\n",
            "1/1 [==============================] - 0s 62ms/step - loss: 2.4772 - acc: 0.8864 - val_loss: 3.0110 - val_acc: 0.5893\n",
            "Epoch 472/500\n",
            "1/1 [==============================] - 0s 58ms/step - loss: 2.4925 - acc: 0.8727 - val_loss: 3.2764 - val_acc: 0.4821\n",
            "Epoch 473/500\n",
            "1/1 [==============================] - 0s 63ms/step - loss: 2.4863 - acc: 0.8727 - val_loss: 2.9456 - val_acc: 0.6071\n",
            "Epoch 474/500\n",
            "1/1 [==============================] - 0s 50ms/step - loss: 2.4529 - acc: 0.8364 - val_loss: 3.0549 - val_acc: 0.5714\n",
            "Epoch 475/500\n",
            "1/1 [==============================] - 0s 60ms/step - loss: 2.4200 - acc: 0.9318 - val_loss: 2.9000 - val_acc: 0.6607\n",
            "Epoch 476/500\n",
            "1/1 [==============================] - 0s 52ms/step - loss: 2.3933 - acc: 0.8727 - val_loss: 3.0109 - val_acc: 0.5893\n",
            "Epoch 477/500\n",
            "1/1 [==============================] - 0s 57ms/step - loss: 2.4167 - acc: 0.9227 - val_loss: 3.0046 - val_acc: 0.5714\n",
            "Epoch 478/500\n",
            "1/1 [==============================] - 0s 64ms/step - loss: 2.3854 - acc: 0.9182 - val_loss: 2.9407 - val_acc: 0.6429\n",
            "Epoch 479/500\n",
            "1/1 [==============================] - 0s 56ms/step - loss: 2.3971 - acc: 0.8909 - val_loss: 3.3667 - val_acc: 0.4821\n",
            "Epoch 480/500\n",
            "1/1 [==============================] - 0s 76ms/step - loss: 2.4601 - acc: 0.8591 - val_loss: 2.8606 - val_acc: 0.6786\n",
            "Epoch 481/500\n",
            "1/1 [==============================] - 0s 55ms/step - loss: 2.4096 - acc: 0.8318 - val_loss: 2.9460 - val_acc: 0.5714\n",
            "Epoch 482/500\n",
            "1/1 [==============================] - 0s 50ms/step - loss: 2.3711 - acc: 0.9227 - val_loss: 2.8393 - val_acc: 0.6607\n",
            "Epoch 483/500\n",
            "1/1 [==============================] - 0s 52ms/step - loss: 2.3210 - acc: 0.9000 - val_loss: 3.0124 - val_acc: 0.5357\n",
            "Epoch 484/500\n",
            "1/1 [==============================] - 0s 52ms/step - loss: 2.3495 - acc: 0.9182 - val_loss: 2.8471 - val_acc: 0.6607\n",
            "Epoch 485/500\n",
            "1/1 [==============================] - 0s 67ms/step - loss: 2.3385 - acc: 0.8636 - val_loss: 3.1340 - val_acc: 0.5357\n",
            "Epoch 486/500\n",
            "1/1 [==============================] - 0s 50ms/step - loss: 2.3614 - acc: 0.8909 - val_loss: 2.8215 - val_acc: 0.6250\n",
            "Epoch 487/500\n",
            "1/1 [==============================] - 0s 50ms/step - loss: 2.3898 - acc: 0.8273 - val_loss: 2.9722 - val_acc: 0.5357\n",
            "Epoch 488/500\n",
            "1/1 [==============================] - 0s 53ms/step - loss: 2.2877 - acc: 0.9364 - val_loss: 2.7787 - val_acc: 0.6250\n",
            "Epoch 489/500\n",
            "1/1 [==============================] - 0s 57ms/step - loss: 2.3066 - acc: 0.8591 - val_loss: 3.0594 - val_acc: 0.5179\n",
            "Epoch 490/500\n",
            "1/1 [==============================] - 0s 58ms/step - loss: 2.2841 - acc: 0.9455 - val_loss: 2.7520 - val_acc: 0.6786\n",
            "Epoch 491/500\n",
            "1/1 [==============================] - 0s 52ms/step - loss: 2.2736 - acc: 0.9000 - val_loss: 2.8956 - val_acc: 0.5357\n",
            "Epoch 492/500\n",
            "1/1 [==============================] - 0s 62ms/step - loss: 2.2608 - acc: 0.9318 - val_loss: 2.7394 - val_acc: 0.6964\n",
            "Epoch 493/500\n",
            "1/1 [==============================] - 0s 56ms/step - loss: 2.2619 - acc: 0.9273 - val_loss: 2.8768 - val_acc: 0.5536\n",
            "Epoch 494/500\n",
            "1/1 [==============================] - 0s 55ms/step - loss: 2.2823 - acc: 0.9045 - val_loss: 2.7247 - val_acc: 0.6786\n",
            "Epoch 495/500\n",
            "1/1 [==============================] - 0s 53ms/step - loss: 2.2669 - acc: 0.8818 - val_loss: 3.1584 - val_acc: 0.5000\n",
            "Epoch 496/500\n",
            "1/1 [==============================] - 0s 72ms/step - loss: 2.2715 - acc: 0.9136 - val_loss: 2.7370 - val_acc: 0.6429\n",
            "Epoch 497/500\n",
            "1/1 [==============================] - 0s 56ms/step - loss: 2.2236 - acc: 0.8727 - val_loss: 2.8154 - val_acc: 0.6071\n",
            "Epoch 498/500\n",
            "1/1 [==============================] - 0s 55ms/step - loss: 2.1979 - acc: 0.9091 - val_loss: 2.8495 - val_acc: 0.6071\n",
            "Epoch 499/500\n",
            "1/1 [==============================] - 0s 54ms/step - loss: 2.2195 - acc: 0.9227 - val_loss: 2.9513 - val_acc: 0.5179\n",
            "Epoch 500/500\n",
            "1/1 [==============================] - 0s 50ms/step - loss: 2.2447 - acc: 0.9136 - val_loss: 2.8065 - val_acc: 0.6071\n",
            "Training Accuracy: 0.9094\n",
            "Testing Accuracy:  0.4565\n"
          ],
          "name": "stdout"
        },
        {
          "output_type": "display_data",
          "data": {
            "image/png": "[encoded data removed]",
            "text/plain": [
              "<Figure size 864x360 with 2 Axes>"
            ]
          },
          "metadata": {
            "tags": []
          }
        }
      ]
    },
    {
      "cell_type": "code",
      "metadata": {
        "colab": {
          "base_uri": "https://localhost:8080/"
        },
        "id": "7ADPOMK1Nmdi",
        "outputId": "b6fec846-47ca-4b31-c87a-cf152002dbf1"
      },
      "source": [
        "mod.load_weights('./checkpoint')\n"
      ],
      "execution_count": 36,
      "outputs": [
        {
          "output_type": "execute_result",
          "data": {
            "text/plain": [
              "<tensorflow.python.training.tracking.util.CheckpointLoadStatus at 0x7f81976b8650>"
            ]
          },
          "metadata": {
            "tags": []
          },
          "execution_count": 36
        }
      ]
    },
    {
      "cell_type": "code",
      "metadata": {
        "colab": {
          "base_uri": "https://localhost:8080/"
        },
        "id": "GYqGCAE4OhJV",
        "outputId": "6f91bcb4-39e3-43d4-9a94-aeae2dd35234"
      },
      "source": [
        "loss, accuracy = mod.evaluate(X_train, y_train, verbose=False)\n",
        "print(\"Training Accuracy: {:.4f}\".format(accuracy))\n",
        "loss, accuracy = mod.evaluate(X_test, y_test, verbose=False)\n",
        "print(\"Testing Accuracy:  {:.4f}\".format(accuracy))"
      ],
      "execution_count": 37,
      "outputs": [
        {
          "output_type": "stream",
          "text": [
            "Training Accuracy: 0.8478\n",
            "Testing Accuracy:  0.2609\n"
          ],
          "name": "stdout"
        }
      ]
    },
    {
      "cell_type": "markdown",
      "metadata": {
        "id": "JxAczVJSTxo1"
      },
      "source": [
        "### Validation_data"
      ]
    },
    {
      "cell_type": "code",
      "metadata": {
        "colab": {
          "base_uri": "https://localhost:8080/",
          "height": 1000
        },
        "id": "BDIC9tG3T2Nu",
        "outputId": "0609f9e5-4033-4512-fae6-06c237b151a5"
      },
      "source": [
        "keras.backend.clear_session()\n",
        "es=EarlyStopping(monitor='val_loss',patience=30, restore_best_weights=True)\n",
        "mcp_save = ModelCheckpoint('./checkpoint',save_best_only=True, monitor='val_acc', mode='max')\n",
        "\n",
        "history = mod.fit(X_train, y_train,\n",
        "                            batch_size=256,\n",
        "                            epochs=500,\n",
        "                            validation_data=(X_test, y_test),\n",
        "                            callbacks=[es,mcp_save])\n",
        "loss, accuracy = mod.evaluate(X_train, y_train, verbose=False)\n",
        "print(\"Training Accuracy: {:.4f}\".format(accuracy))\n",
        "loss, accuracy = mod.evaluate(X_test, y_test, verbose=False)\n",
        "print(\"Testing Accuracy:  {:.4f}\".format(accuracy))\n",
        "plot_history(history)"
      ],
      "execution_count": 40,
      "outputs": [
        {
          "output_type": "stream",
          "text": [
            "Epoch 1/500\n",
            "2/2 [==============================] - 0s 54ms/step - loss: 1.5458 - acc: 0.8986 - val_loss: 3.2454 - val_acc: 0.3696\n",
            "INFO:tensorflow:Assets written to: ./checkpoint/assets\n",
            "Epoch 2/500\n",
            "2/2 [==============================] - 0s 30ms/step - loss: 1.5878 - acc: 0.8949 - val_loss: 3.2675 - val_acc: 0.3913\n",
            "INFO:tensorflow:Assets written to: ./checkpoint/assets\n",
            "Epoch 3/500\n",
            "2/2 [==============================] - 0s 29ms/step - loss: 1.5147 - acc: 0.9094 - val_loss: 3.4190 - val_acc: 0.4565\n",
            "INFO:tensorflow:Assets written to: ./checkpoint/assets\n",
            "Epoch 4/500\n",
            "2/2 [==============================] - 0s 30ms/step - loss: 1.5396 - acc: 0.8986 - val_loss: 3.4836 - val_acc: 0.3696\n",
            "Epoch 5/500\n",
            "2/2 [==============================] - 0s 32ms/step - loss: 1.5680 - acc: 0.8732 - val_loss: 3.1734 - val_acc: 0.3913\n",
            "Epoch 6/500\n",
            "2/2 [==============================] - 0s 28ms/step - loss: 1.5714 - acc: 0.8986 - val_loss: 3.4772 - val_acc: 0.4565\n",
            "Epoch 7/500\n",
            "2/2 [==============================] - 0s 28ms/step - loss: 1.5420 - acc: 0.9058 - val_loss: 3.1042 - val_acc: 0.4130\n",
            "Epoch 8/500\n",
            "2/2 [==============================] - 0s 29ms/step - loss: 1.5527 - acc: 0.9022 - val_loss: 3.3237 - val_acc: 0.4565\n",
            "Epoch 9/500\n",
            "2/2 [==============================] - 0s 29ms/step - loss: 1.5237 - acc: 0.9094 - val_loss: 3.3189 - val_acc: 0.3913\n",
            "Epoch 10/500\n",
            "2/2 [==============================] - 0s 30ms/step - loss: 1.5631 - acc: 0.8913 - val_loss: 3.9611 - val_acc: 0.4130\n",
            "Epoch 11/500\n",
            "2/2 [==============================] - 0s 29ms/step - loss: 1.5169 - acc: 0.9167 - val_loss: 3.2467 - val_acc: 0.3696\n",
            "Epoch 12/500\n",
            "2/2 [==============================] - 0s 30ms/step - loss: 1.4940 - acc: 0.9275 - val_loss: 3.6306 - val_acc: 0.4348\n",
            "Epoch 13/500\n",
            "2/2 [==============================] - 0s 29ms/step - loss: 1.5661 - acc: 0.8514 - val_loss: 3.3520 - val_acc: 0.4348\n",
            "Epoch 14/500\n",
            "2/2 [==============================] - 0s 29ms/step - loss: 1.5058 - acc: 0.9167 - val_loss: 3.3752 - val_acc: 0.4130\n",
            "Epoch 15/500\n",
            "2/2 [==============================] - 0s 29ms/step - loss: 1.5040 - acc: 0.8986 - val_loss: 3.1337 - val_acc: 0.3913\n",
            "Epoch 16/500\n",
            "2/2 [==============================] - 0s 28ms/step - loss: 1.5304 - acc: 0.8841 - val_loss: 3.5256 - val_acc: 0.4348\n",
            "Epoch 17/500\n",
            "2/2 [==============================] - 0s 29ms/step - loss: 1.4926 - acc: 0.9022 - val_loss: 3.4467 - val_acc: 0.4130\n",
            "Epoch 18/500\n",
            "2/2 [==============================] - 0s 27ms/step - loss: 1.4783 - acc: 0.8913 - val_loss: 3.3898 - val_acc: 0.4348\n",
            "Epoch 19/500\n",
            "2/2 [==============================] - 0s 29ms/step - loss: 1.4921 - acc: 0.8949 - val_loss: 3.6039 - val_acc: 0.3913\n",
            "Epoch 20/500\n",
            "2/2 [==============================] - 0s 29ms/step - loss: 1.5250 - acc: 0.8587 - val_loss: 3.2122 - val_acc: 0.3913\n",
            "Epoch 21/500\n",
            "2/2 [==============================] - 0s 27ms/step - loss: 1.4624 - acc: 0.9239 - val_loss: 3.6012 - val_acc: 0.4565\n",
            "Epoch 22/500\n",
            "2/2 [==============================] - 0s 28ms/step - loss: 1.4322 - acc: 0.9239 - val_loss: 3.0862 - val_acc: 0.3696\n",
            "Epoch 23/500\n",
            "2/2 [==============================] - 0s 32ms/step - loss: 1.4488 - acc: 0.9022 - val_loss: 3.6098 - val_acc: 0.4783\n",
            "INFO:tensorflow:Assets written to: ./checkpoint/assets\n",
            "Epoch 24/500\n",
            "2/2 [==============================] - 0s 29ms/step - loss: 1.4624 - acc: 0.8986 - val_loss: 3.3651 - val_acc: 0.4348\n",
            "Epoch 25/500\n",
            "2/2 [==============================] - 0s 28ms/step - loss: 1.4121 - acc: 0.9239 - val_loss: 3.7946 - val_acc: 0.4348\n",
            "Epoch 26/500\n",
            "2/2 [==============================] - 0s 33ms/step - loss: 1.4201 - acc: 0.9130 - val_loss: 3.3643 - val_acc: 0.4348\n",
            "Epoch 27/500\n",
            "2/2 [==============================] - 0s 29ms/step - loss: 1.4062 - acc: 0.9167 - val_loss: 3.2152 - val_acc: 0.4130\n",
            "Epoch 28/500\n",
            "2/2 [==============================] - 0s 28ms/step - loss: 1.5051 - acc: 0.8804 - val_loss: 4.0022 - val_acc: 0.4565\n",
            "Epoch 29/500\n",
            "2/2 [==============================] - 0s 45ms/step - loss: 1.4465 - acc: 0.8949 - val_loss: 3.2719 - val_acc: 0.4783\n",
            "Epoch 30/500\n",
            "2/2 [==============================] - 0s 30ms/step - loss: 1.4867 - acc: 0.8804 - val_loss: 3.2054 - val_acc: 0.4130\n",
            "Epoch 31/500\n",
            "2/2 [==============================] - 0s 28ms/step - loss: 1.3925 - acc: 0.9094 - val_loss: 3.3573 - val_acc: 0.4348\n",
            "Epoch 32/500\n",
            "2/2 [==============================] - 0s 27ms/step - loss: 1.3872 - acc: 0.9203 - val_loss: 3.2982 - val_acc: 0.3913\n",
            "Epoch 33/500\n",
            "2/2 [==============================] - 0s 28ms/step - loss: 1.5011 - acc: 0.8913 - val_loss: 3.5598 - val_acc: 0.4348\n",
            "Epoch 34/500\n",
            "2/2 [==============================] - 0s 29ms/step - loss: 1.3956 - acc: 0.8949 - val_loss: 3.1040 - val_acc: 0.3696\n",
            "Epoch 35/500\n",
            "2/2 [==============================] - 0s 30ms/step - loss: 1.4226 - acc: 0.8877 - val_loss: 3.4806 - val_acc: 0.4130\n",
            "Epoch 36/500\n",
            "2/2 [==============================] - 0s 28ms/step - loss: 1.3920 - acc: 0.9058 - val_loss: 3.9533 - val_acc: 0.4348\n",
            "Epoch 37/500\n",
            "2/2 [==============================] - 0s 30ms/step - loss: 1.5086 - acc: 0.8514 - val_loss: 3.4881 - val_acc: 0.4348\n",
            "Epoch 38/500\n",
            "2/2 [==============================] - 0s 28ms/step - loss: 1.3907 - acc: 0.9130 - val_loss: 3.1935 - val_acc: 0.3696\n",
            "Epoch 39/500\n",
            "2/2 [==============================] - 0s 28ms/step - loss: 1.4507 - acc: 0.8804 - val_loss: 3.2338 - val_acc: 0.4130\n",
            "Epoch 40/500\n",
            "2/2 [==============================] - 0s 27ms/step - loss: 1.4144 - acc: 0.9130 - val_loss: 3.4178 - val_acc: 0.3913\n",
            "Epoch 41/500\n",
            "2/2 [==============================] - 0s 29ms/step - loss: 1.4567 - acc: 0.9022 - val_loss: 3.5014 - val_acc: 0.4130\n",
            "Epoch 42/500\n",
            "2/2 [==============================] - 0s 29ms/step - loss: 1.3750 - acc: 0.9457 - val_loss: 3.4526 - val_acc: 0.3913\n",
            "Epoch 43/500\n",
            "2/2 [==============================] - 0s 43ms/step - loss: 1.3786 - acc: 0.9239 - val_loss: 3.8852 - val_acc: 0.4130\n",
            "Epoch 44/500\n",
            "2/2 [==============================] - 0s 33ms/step - loss: 1.3406 - acc: 0.9130 - val_loss: 3.5870 - val_acc: 0.3696\n",
            "Epoch 45/500\n",
            "2/2 [==============================] - 0s 29ms/step - loss: 1.3877 - acc: 0.9130 - val_loss: 3.4884 - val_acc: 0.3696\n",
            "Epoch 46/500\n",
            "2/2 [==============================] - 0s 29ms/step - loss: 1.3139 - acc: 0.9529 - val_loss: 4.1737 - val_acc: 0.4348\n",
            "Epoch 47/500\n",
            "2/2 [==============================] - 0s 30ms/step - loss: 1.4745 - acc: 0.8877 - val_loss: 3.6511 - val_acc: 0.3913\n",
            "Epoch 48/500\n",
            "2/2 [==============================] - 0s 30ms/step - loss: 1.3880 - acc: 0.8949 - val_loss: 3.7242 - val_acc: 0.3696\n",
            "Epoch 49/500\n",
            "2/2 [==============================] - 0s 35ms/step - loss: 1.4388 - acc: 0.9239 - val_loss: 3.1673 - val_acc: 0.3696\n",
            "Epoch 50/500\n",
            "2/2 [==============================] - 0s 32ms/step - loss: 1.4002 - acc: 0.9167 - val_loss: 3.3398 - val_acc: 0.3261\n",
            "Epoch 51/500\n",
            "2/2 [==============================] - 0s 30ms/step - loss: 1.3514 - acc: 0.9058 - val_loss: 3.1957 - val_acc: 0.3913\n",
            "Epoch 52/500\n",
            "2/2 [==============================] - 0s 33ms/step - loss: 1.4261 - acc: 0.9022 - val_loss: 4.2507 - val_acc: 0.4565\n",
            "Training Accuracy: 0.9891\n",
            "Testing Accuracy:  0.3696\n"
          ],
          "name": "stdout"
        },
        {
          "output_type": "display_data",
          "data": {
            "image/png": "[encoded data removed]",
            "text/plain": [
              "<Figure size 864x360 with 2 Axes>"
            ]
          },
          "metadata": {
            "tags": []
          }
        }
      ]
    },
    {
      "cell_type": "code",
      "metadata": {
        "colab": {
          "base_uri": "https://localhost:8080/"
        },
        "id": "Ows3s4uRUScA",
        "outputId": "bcc11ff3-03aa-466d-f411-fc4649c6a02e"
      },
      "source": [
        "mod.load_weights('./checkpoint')\n"
      ],
      "execution_count": 41,
      "outputs": [
        {
          "output_type": "execute_result",
          "data": {
            "text/plain": [
              "<tensorflow.python.training.tracking.util.CheckpointLoadStatus at 0x7f81b830fa90>"
            ]
          },
          "metadata": {
            "tags": []
          },
          "execution_count": 41
        }
      ]
    },
    {
      "cell_type": "code",
      "metadata": {
        "colab": {
          "base_uri": "https://localhost:8080/"
        },
        "id": "-_9WiNMiUVCX",
        "outputId": "95fa1608-c081-431d-f053-f1e0a7e7646e"
      },
      "source": [
        "loss, accuracy = mod.evaluate(X_train, y_train, verbose=False)\n",
        "print(\"Training Accuracy: {:.4f}\".format(accuracy))\n",
        "loss, accuracy = mod.evaluate(X_test, y_test, verbose=False)\n",
        "print(\"Testing Accuracy:  {:.4f}\".format(accuracy))"
      ],
      "execution_count": 42,
      "outputs": [
        {
          "output_type": "stream",
          "text": [
            "Training Accuracy: 0.9891\n",
            "Testing Accuracy:  0.4783\n"
          ],
          "name": "stdout"
        }
      ]
    },
    {
      "cell_type": "code",
      "metadata": {
        "id": "U9OweRIQaj76"
      },
      "source": [
        "comentario = ['El presidente en alocución oficial pronunció un discurso de odio y terror para toda la población, incitando al asesinato de todo aquel de la oposición y declarando que la única postura válida en el país era la ultraderecha.']"
      ],
      "execution_count": 43,
      "outputs": []
    },
    {
      "cell_type": "code",
      "metadata": {
        "id": "CUCfEpNWarad"
      },
      "source": [
        "comentario = t.texts_to_sequences(comentario)\n"
      ],
      "execution_count": 44,
      "outputs": []
    },
    {
      "cell_type": "code",
      "metadata": {
        "id": "6yoQAG3matA4"
      },
      "source": [
        "comentario = pad_sequences(comentario, padding = 'pre',maxlen=max(news_num1, news_num2))\n"
      ],
      "execution_count": 45,
      "outputs": []
    },
    {
      "cell_type": "code",
      "metadata": {
        "colab": {
          "base_uri": "https://localhost:8080/"
        },
        "id": "EUT4ni1gawFb",
        "outputId": "8709f9e2-25cd-4d28-8969-4fdc2f5c0b6f"
      },
      "source": [
        "np.argmax(mod.predict(comentario), axis=-1)"
      ],
      "execution_count": 46,
      "outputs": [
        {
          "output_type": "execute_result",
          "data": {
            "text/plain": [
              "array([1])"
            ]
          },
          "metadata": {
            "tags": []
          },
          "execution_count": 46
        }
      ]
    }
  ]
}
