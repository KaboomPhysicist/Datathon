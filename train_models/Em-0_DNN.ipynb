{
  "nbformat": 4,
  "nbformat_minor": 0,
  "metadata": {
    "colab": {
      "name": "Em-0_DNN.ipynb",
      "provenance": [],
      "collapsed_sections": []
    },
    "kernelspec": {
      "name": "python3",
      "display_name": "Python 3"
    },
    "language_info": {
      "name": "python"
    },
    "accelerator": "GPU"
  },
  "cells": [
    {
      "cell_type": "code",
      "metadata": {
        "colab": {
          "base_uri": "https://localhost:8080/"
        },
        "id": "DzPbmPqCHEEv",
        "outputId": "a7a0a25f-78a1-4b14-c97f-9ef56f76db44"
      },
      "source": [
        "from google.colab import drive\n",
        "drive.mount('/content/drive/')"
      ],
      "execution_count": 1,
      "outputs": [
        {
          "output_type": "stream",
          "text": [
            "Drive already mounted at /content/drive/; to attempt to forcibly remount, call drive.mount(\"/content/drive/\", force_remount=True).\n"
          ],
          "name": "stdout"
        }
      ]
    },
    {
      "cell_type": "code",
      "metadata": {
        "id": "MkKUN5C2KtaY"
      },
      "source": [
        ""
      ],
      "execution_count": null,
      "outputs": []
    },
    {
      "cell_type": "code",
      "metadata": {
        "id": "IDYykDIdIAmF"
      },
      "source": [
        "import pandas as pd\n",
        "\n",
        "File = '/content/drive/MyDrive/Algoritmos/Datathon/Datos/IdentificacionSesgo - DataSet29.06.csv'\n",
        "df = pd.read_csv(File, header = 0)"
      ],
      "execution_count": 2,
      "outputs": []
    },
    {
      "cell_type": "code",
      "metadata": {
        "id": "2RaQTkKBIK1M"
      },
      "source": [
        "df['GravedadMode'] = df['Gravedad'].str.split(',',expand=True).mode(axis=1, numeric_only=False, dropna=True)[0]\n"
      ],
      "execution_count": 3,
      "outputs": []
    },
    {
      "cell_type": "code",
      "metadata": {
        "id": "i2Gk8nFTIWvf"
      },
      "source": [
        "df = df[['Item (Texto)', 'GravedadMode']]\n"
      ],
      "execution_count": 4,
      "outputs": []
    },
    {
      "cell_type": "code",
      "metadata": {
        "colab": {
          "base_uri": "https://localhost:8080/"
        },
        "id": "pX2wBnHlIZdf",
        "outputId": "67b84c50-ae20-4363-82e9-7c8405bef2d0"
      },
      "source": [
        "df.iloc[0]"
      ],
      "execution_count": 5,
      "outputs": [
        {
          "output_type": "execute_result",
          "data": {
            "text/plain": [
              "Item (Texto)    Las protestas, sin precedentes, ya completan c...\n",
              "GravedadMode                                                    2\n",
              "Name: 0, dtype: object"
            ]
          },
          "metadata": {
            "tags": []
          },
          "execution_count": 5
        }
      ]
    },
    {
      "cell_type": "code",
      "metadata": {
        "id": "-CwlbvXoK4MJ"
      },
      "source": [
        "X = df['Item (Texto)'].values\n",
        "y = df['GravedadMode'].values"
      ],
      "execution_count": 6,
      "outputs": []
    },
    {
      "cell_type": "code",
      "metadata": {
        "id": "TDWAHcXLKGRc"
      },
      "source": [
        "from tensorflow import keras\n",
        "%tensorflow_version 2.x"
      ],
      "execution_count": 7,
      "outputs": []
    },
    {
      "cell_type": "code",
      "metadata": {
        "id": "7O-L20GrKqpC"
      },
      "source": [
        "from tensorflow.keras.preprocessing.text import Tokenizer\n",
        "from tensorflow.keras.preprocessing.text import text_to_word_sequence"
      ],
      "execution_count": 8,
      "outputs": []
    },
    {
      "cell_type": "code",
      "metadata": {
        "id": "V1XOfgu4KvGy"
      },
      "source": [
        "t = Tokenizer()\n",
        "t.fit_on_texts(X)"
      ],
      "execution_count": 9,
      "outputs": []
    },
    {
      "cell_type": "code",
      "metadata": {
        "colab": {
          "base_uri": "https://localhost:8080/"
        },
        "id": "Jqu2d33TLWTu",
        "outputId": "84290be9-00aa-4169-aa78-923d6f3b53e5"
      },
      "source": [
        "vocab_size = len(t.word_index) + 1\n",
        "print(vocab_size) #número de palabras únicas"
      ],
      "execution_count": 10,
      "outputs": [
        {
          "output_type": "stream",
          "text": [
            "3209\n"
          ],
          "name": "stdout"
        }
      ]
    },
    {
      "cell_type": "code",
      "metadata": {
        "id": "CaEWVByfLXaf"
      },
      "source": [
        "sequences = t.texts_to_sequences(X)"
      ],
      "execution_count": 11,
      "outputs": []
    },
    {
      "cell_type": "code",
      "metadata": {
        "colab": {
          "base_uri": "https://localhost:8080/"
        },
        "id": "14VkOkRcLmpS",
        "outputId": "02c63e3d-c44a-476d-ac60-36b8ec824600"
      },
      "source": [
        "print(X[2])\n",
        "print(sequences[2])"
      ],
      "execution_count": 12,
      "outputs": [
        {
          "output_type": "stream",
          "text": [
            "Una patrullera de la Policía Nacional denunció este jueves que fue violada por vándalos en Cali, Valle del Cauca. La oficial se encontraba en labores de seguridad durante las manifestaciones del pasado 29 de abril cuando ocurrieron los hechos. Había sido asignada para brindar seguridad en un sector al oriente de Cali. En medio de los actos vandálicos, ella ingresó al CAI para protegerse. Pero los vándalos la emprendieron contra las instalaciones y lo prendieron fuego. Allí, esta mujer empezó a vivir los momentos más duros de su vida.\n",
            "[14, 1137, 1, 2, 34, 20, 433, 30, 255, 3, 42, 1138, 12, 434, 5, 32, 110, 11, 101, 2, 435, 10, 654, 5, 1139, 1, 82, 53, 9, 111, 11, 74, 1140, 1, 102, 50, 436, 7, 51, 202, 54, 1141, 16, 1142, 82, 5, 13, 103, 18, 1143, 1, 32, 5, 104, 1, 7, 256, 437, 655, 1144, 18, 438, 16, 1145, 44, 7, 434, 2, 1146, 35, 9, 439, 6, 29, 1147, 143, 203, 83, 656, 1148, 8, 1149, 7, 315, 23, 1150, 1, 21, 84]\n"
          ],
          "name": "stdout"
        }
      ]
    },
    {
      "cell_type": "code",
      "metadata": {
        "id": "AQIzvmTXMBl1"
      },
      "source": [
        "def max_sequence():\n",
        "    for i in range(1, len(sequences)):\n",
        "        max_length = len(sequences[0])\n",
        "        if len(sequences[i]) > max_length:\n",
        "            max_length = len(sequences[i])\n",
        "    return max_length"
      ],
      "execution_count": 13,
      "outputs": []
    },
    {
      "cell_type": "code",
      "metadata": {
        "colab": {
          "base_uri": "https://localhost:8080/"
        },
        "id": "tDU881cuMJ4S",
        "outputId": "2c026cf5-5a18-404f-de5f-776fcbb36f94"
      },
      "source": [
        "maxlen = max_sequence()\n",
        "\n",
        "maxlen"
      ],
      "execution_count": 14,
      "outputs": [
        {
          "output_type": "execute_result",
          "data": {
            "text/plain": [
              "76"
            ]
          },
          "metadata": {
            "tags": []
          },
          "execution_count": 14
        }
      ]
    },
    {
      "cell_type": "code",
      "metadata": {
        "id": "8ugH_8W4MNhT"
      },
      "source": [
        "from tensorflow.keras.preprocessing.sequence import pad_sequences\n",
        "\n",
        "padded_X = pad_sequences(sequences, padding='post', maxlen=maxlen)"
      ],
      "execution_count": 15,
      "outputs": []
    },
    {
      "cell_type": "code",
      "metadata": {
        "colab": {
          "base_uri": "https://localhost:8080/"
        },
        "id": "QByMZqgsMd8y",
        "outputId": "5c5a013f-5b08-4c8e-828c-0da77c255d8c"
      },
      "source": [
        "padded_X[0,:]"
      ],
      "execution_count": 16,
      "outputs": [
        {
          "output_type": "execute_result",
          "data": {
            "text/plain": [
              "array([   9,   39,   33,  429,   67, 1100, 1101,   13,   81,   10,   25,\n",
              "       1102,    1,  313,   12,  142,    1,    2,   88,    6,  126,   18,\n",
              "       1103,    1,    2, 1104,    8,   73,    1,   57,    6,  251,    5,\n",
              "          4,   26,   98,  430,    1,    9,  643,    1,    7,   37,   64,\n",
              "        644,    0,    0,    0,    0,    0,    0,    0,    0,    0,    0,\n",
              "          0,    0,    0,    0,    0,    0,    0,    0,    0,    0,    0,\n",
              "          0,    0,    0,    0,    0,    0,    0,    0,    0,    0],\n",
              "      dtype=int32)"
            ]
          },
          "metadata": {
            "tags": []
          },
          "execution_count": 16
        }
      ]
    },
    {
      "cell_type": "code",
      "metadata": {
        "id": "0ryRQgXlMnp6"
      },
      "source": [
        "from tensorflow.keras.utils import to_categorical\n",
        "import numpy as np\n",
        "\n",
        "labels = to_categorical(np.asarray(y))"
      ],
      "execution_count": 17,
      "outputs": []
    },
    {
      "cell_type": "code",
      "metadata": {
        "colab": {
          "base_uri": "https://localhost:8080/"
        },
        "id": "6sIUpNTLMyoU",
        "outputId": "093dea5d-dd9e-4b38-f06c-ca85133acb1a"
      },
      "source": [
        "labels[:3]"
      ],
      "execution_count": 18,
      "outputs": [
        {
          "output_type": "execute_result",
          "data": {
            "text/plain": [
              "array([[0., 0., 1., 0.],\n",
              "       [0., 1., 0., 0.],\n",
              "       [0., 0., 0., 1.]], dtype=float32)"
            ]
          },
          "metadata": {
            "tags": []
          },
          "execution_count": 18
        }
      ]
    },
    {
      "cell_type": "code",
      "metadata": {
        "id": "nSl-4MpaMyDj"
      },
      "source": [
        "from sklearn.model_selection import train_test_split\n",
        "\n",
        "X_train, X_test, y_train, y_test = train_test_split(padded_X, labels, test_size = 0.25, random_state = 0)"
      ],
      "execution_count": 19,
      "outputs": []
    },
    {
      "cell_type": "code",
      "metadata": {
        "colab": {
          "base_uri": "https://localhost:8080/"
        },
        "id": "3NRkLIYoNQCl",
        "outputId": "2d96bd27-b3e9-42cf-987d-c01dd05fdf4f"
      },
      "source": [
        "print('X_train size:', X_train.shape)\n",
        "print('y_train size:', y_train.shape)\n",
        "print('X_test size:', X_test.shape)\n",
        "print('y_test size:', y_test.shape)"
      ],
      "execution_count": 20,
      "outputs": [
        {
          "output_type": "stream",
          "text": [
            "X_train size: (109, 76)\n",
            "y_train size: (109, 4)\n",
            "X_test size: (37, 76)\n",
            "y_test size: (37, 4)\n"
          ],
          "name": "stdout"
        }
      ]
    },
    {
      "cell_type": "code",
      "metadata": {
        "id": "qccAMQ-nQFEg"
      },
      "source": [
        "keras.backend.clear_session()"
      ],
      "execution_count": 21,
      "outputs": []
    },
    {
      "cell_type": "code",
      "metadata": {
        "id": "C_PtccXxOBPj"
      },
      "source": [
        "# aver\n",
        "\n",
        "from keras.models import Sequential\n",
        "from keras import layers\n",
        "from keras.wrappers.scikit_learn import KerasClassifier\n",
        "\n",
        "#This is to create a GridSearch, the variation is in the embedding_dim\n",
        "def create_model(embedding_dim = 50):\n",
        "\t# create model\n",
        "  model = Sequential()\n",
        "  model.add(layers.Embedding(input_dim=vocab_size, \n",
        "                            output_dim=embedding_dim, \n",
        "                            input_length=maxlen))\n",
        "  model.add(layers.GlobalMaxPool1D())\n",
        "  model.add(layers.Dense(10, activation='relu', kernel_initializer='he_uniform', kernel_regularizer=keras.regularizers.l2(0.01),bias_regularizer='l2'))\n",
        "  model.add(layers.Dropout(0.2))\n",
        "  model.add(layers.Dense(10, activation='relu', kernel_initializer='he_uniform', kernel_regularizer=keras.regularizers.l2(0.01),bias_regularizer='l2'))\n",
        "  model.add(layers.Dense(4, activation='softmax'))\n",
        "  model.compile(optimizer='adam',\n",
        "                loss='categorical_crossentropy',\n",
        "                metrics=['acc'])\n",
        "  return model\n",
        "\n",
        "model = KerasClassifier(build_fn=create_model,epochs=500,batch_size=256, callbacks=[early_stopping])\n",
        "#model.summary()"
      ],
      "execution_count": 24,
      "outputs": []
    },
    {
      "cell_type": "code",
      "metadata": {
        "id": "STeaoG-OdwJt"
      },
      "source": [
        "early_stopping = keras.callbacks.EarlyStopping(monitor='val_loss', patience=10, restore_best_weights=True)\n"
      ],
      "execution_count": 23,
      "outputs": []
    },
    {
      "cell_type": "code",
      "metadata": {
        "id": "ZWzud6j4eMao"
      },
      "source": [
        "embedding_dim = [30, 50, 100, 150, 300, 350]"
      ],
      "execution_count": 25,
      "outputs": []
    },
    {
      "cell_type": "code",
      "metadata": {
        "id": "hJbFvdaZeZdY"
      },
      "source": [
        "param_grid = dict(embedding_dim=embedding_dim)\n"
      ],
      "execution_count": 26,
      "outputs": []
    },
    {
      "cell_type": "code",
      "metadata": {
        "id": "vmWP265JeeP_"
      },
      "source": [
        "from sklearn.model_selection import GridSearchCV\n",
        "grid = GridSearchCV(estimator=model, param_grid=param_grid, n_jobs=-1, cv=3)\n"
      ],
      "execution_count": 27,
      "outputs": []
    },
    {
      "cell_type": "code",
      "metadata": {
        "colab": {
          "base_uri": "https://localhost:8080/"
        },
        "id": "Jz9qNTYfeo24",
        "outputId": "9b413736-499e-496e-e7a9-f59aa20a17ea"
      },
      "source": [
        "grid_result = grid.fit(X_train, y_train,validation_data=(X_test, y_test),)\n"
      ],
      "execution_count": 28,
      "outputs": [
        {
          "output_type": "stream",
          "text": [
            "Epoch 1/500\n",
            "1/1 [==============================] - 12s 12s/step - loss: 1.8115 - acc: 0.2202 - val_loss: 1.7696 - val_acc: 0.4865\n",
            "Epoch 2/500\n",
            "1/1 [==============================] - 0s 47ms/step - loss: 1.7900 - acc: 0.2477 - val_loss: 1.7699 - val_acc: 0.4865\n",
            "Epoch 3/500\n",
            "1/1 [==============================] - 0s 53ms/step - loss: 1.7774 - acc: 0.2569 - val_loss: 1.7715 - val_acc: 0.4865\n",
            "Epoch 4/500\n",
            "1/1 [==============================] - 0s 40ms/step - loss: 1.7656 - acc: 0.3945 - val_loss: 1.7742 - val_acc: 0.3243\n",
            "Epoch 5/500\n",
            "1/1 [==============================] - 0s 42ms/step - loss: 1.7511 - acc: 0.6697 - val_loss: 1.7710 - val_acc: 0.2973\n",
            "Epoch 6/500\n",
            "1/1 [==============================] - 0s 42ms/step - loss: 1.7447 - acc: 0.5596 - val_loss: 1.7652 - val_acc: 0.3784\n",
            "Epoch 7/500\n",
            "1/1 [==============================] - 0s 43ms/step - loss: 1.7322 - acc: 0.5872 - val_loss: 1.7578 - val_acc: 0.5135\n",
            "Epoch 8/500\n",
            "1/1 [==============================] - 0s 41ms/step - loss: 1.7249 - acc: 0.5596 - val_loss: 1.7502 - val_acc: 0.5676\n",
            "Epoch 9/500\n",
            "1/1 [==============================] - 0s 37ms/step - loss: 1.7098 - acc: 0.6055 - val_loss: 1.7431 - val_acc: 0.5405\n",
            "Epoch 10/500\n",
            "1/1 [==============================] - 0s 40ms/step - loss: 1.7015 - acc: 0.5872 - val_loss: 1.7371 - val_acc: 0.5405\n",
            "Epoch 11/500\n",
            "1/1 [==============================] - 0s 38ms/step - loss: 1.6893 - acc: 0.6881 - val_loss: 1.7318 - val_acc: 0.5135\n",
            "Epoch 12/500\n",
            "1/1 [==============================] - 0s 43ms/step - loss: 1.6873 - acc: 0.6422 - val_loss: 1.7264 - val_acc: 0.5405\n",
            "Epoch 13/500\n",
            "1/1 [==============================] - 0s 39ms/step - loss: 1.6716 - acc: 0.6789 - val_loss: 1.7211 - val_acc: 0.5405\n",
            "Epoch 14/500\n",
            "1/1 [==============================] - 0s 42ms/step - loss: 1.6643 - acc: 0.6789 - val_loss: 1.7167 - val_acc: 0.5405\n",
            "Epoch 15/500\n",
            "1/1 [==============================] - 0s 43ms/step - loss: 1.6457 - acc: 0.7064 - val_loss: 1.7120 - val_acc: 0.5676\n",
            "Epoch 16/500\n",
            "1/1 [==============================] - 0s 40ms/step - loss: 1.6460 - acc: 0.6330 - val_loss: 1.7067 - val_acc: 0.5676\n",
            "Epoch 17/500\n",
            "1/1 [==============================] - 0s 37ms/step - loss: 1.6332 - acc: 0.7339 - val_loss: 1.7011 - val_acc: 0.5676\n",
            "Epoch 18/500\n",
            "1/1 [==============================] - 0s 40ms/step - loss: 1.6106 - acc: 0.7798 - val_loss: 1.6960 - val_acc: 0.5405\n",
            "Epoch 19/500\n",
            "1/1 [==============================] - 0s 41ms/step - loss: 1.6109 - acc: 0.6697 - val_loss: 1.6916 - val_acc: 0.5676\n",
            "Epoch 20/500\n",
            "1/1 [==============================] - 0s 37ms/step - loss: 1.5941 - acc: 0.7523 - val_loss: 1.6880 - val_acc: 0.5676\n",
            "Epoch 21/500\n",
            "1/1 [==============================] - 0s 38ms/step - loss: 1.5956 - acc: 0.6514 - val_loss: 1.6845 - val_acc: 0.5405\n",
            "Epoch 22/500\n",
            "1/1 [==============================] - 0s 43ms/step - loss: 1.5587 - acc: 0.7156 - val_loss: 1.6803 - val_acc: 0.5405\n",
            "Epoch 23/500\n",
            "1/1 [==============================] - 0s 36ms/step - loss: 1.5713 - acc: 0.6972 - val_loss: 1.6756 - val_acc: 0.5405\n",
            "Epoch 24/500\n",
            "1/1 [==============================] - 0s 42ms/step - loss: 1.5505 - acc: 0.7890 - val_loss: 1.6702 - val_acc: 0.5676\n",
            "Epoch 25/500\n",
            "1/1 [==============================] - 0s 41ms/step - loss: 1.5627 - acc: 0.6330 - val_loss: 1.6660 - val_acc: 0.5405\n",
            "Epoch 26/500\n",
            "1/1 [==============================] - 0s 44ms/step - loss: 1.5451 - acc: 0.6330 - val_loss: 1.6629 - val_acc: 0.5405\n",
            "Epoch 27/500\n",
            "1/1 [==============================] - 0s 44ms/step - loss: 1.5044 - acc: 0.7431 - val_loss: 1.6603 - val_acc: 0.5405\n",
            "Epoch 28/500\n",
            "1/1 [==============================] - 0s 41ms/step - loss: 1.5256 - acc: 0.7156 - val_loss: 1.6573 - val_acc: 0.5405\n",
            "Epoch 29/500\n",
            "1/1 [==============================] - 0s 41ms/step - loss: 1.5081 - acc: 0.7064 - val_loss: 1.6530 - val_acc: 0.5676\n",
            "Epoch 30/500\n",
            "1/1 [==============================] - 0s 47ms/step - loss: 1.4768 - acc: 0.7431 - val_loss: 1.6485 - val_acc: 0.5676\n",
            "Epoch 31/500\n",
            "1/1 [==============================] - 0s 39ms/step - loss: 1.4795 - acc: 0.6697 - val_loss: 1.6445 - val_acc: 0.5676\n",
            "Epoch 32/500\n",
            "1/1 [==============================] - 0s 40ms/step - loss: 1.4620 - acc: 0.6789 - val_loss: 1.6408 - val_acc: 0.5676\n",
            "Epoch 33/500\n",
            "1/1 [==============================] - 0s 39ms/step - loss: 1.4542 - acc: 0.6422 - val_loss: 1.6377 - val_acc: 0.5946\n",
            "Epoch 34/500\n",
            "1/1 [==============================] - 0s 41ms/step - loss: 1.4413 - acc: 0.6972 - val_loss: 1.6347 - val_acc: 0.5676\n",
            "Epoch 35/500\n",
            "1/1 [==============================] - 0s 42ms/step - loss: 1.4357 - acc: 0.7248 - val_loss: 1.6313 - val_acc: 0.5676\n",
            "Epoch 36/500\n",
            "1/1 [==============================] - 0s 40ms/step - loss: 1.4329 - acc: 0.7156 - val_loss: 1.6276 - val_acc: 0.5946\n",
            "Epoch 37/500\n",
            "1/1 [==============================] - 0s 41ms/step - loss: 1.4296 - acc: 0.6147 - val_loss: 1.6239 - val_acc: 0.5676\n",
            "Epoch 38/500\n",
            "1/1 [==============================] - 0s 43ms/step - loss: 1.3887 - acc: 0.6697 - val_loss: 1.6204 - val_acc: 0.5946\n",
            "Epoch 39/500\n",
            "1/1 [==============================] - 0s 40ms/step - loss: 1.3867 - acc: 0.6606 - val_loss: 1.6175 - val_acc: 0.5946\n",
            "Epoch 40/500\n",
            "1/1 [==============================] - 0s 42ms/step - loss: 1.3733 - acc: 0.6972 - val_loss: 1.6152 - val_acc: 0.5676\n",
            "Epoch 41/500\n",
            "1/1 [==============================] - 0s 39ms/step - loss: 1.3527 - acc: 0.6881 - val_loss: 1.6126 - val_acc: 0.5946\n",
            "Epoch 42/500\n",
            "1/1 [==============================] - 0s 44ms/step - loss: 1.3688 - acc: 0.6697 - val_loss: 1.6091 - val_acc: 0.5946\n",
            "Epoch 43/500\n",
            "1/1 [==============================] - 0s 41ms/step - loss: 1.3493 - acc: 0.6606 - val_loss: 1.6060 - val_acc: 0.5946\n",
            "Epoch 44/500\n",
            "1/1 [==============================] - 0s 41ms/step - loss: 1.3346 - acc: 0.6789 - val_loss: 1.6035 - val_acc: 0.6216\n",
            "Epoch 45/500\n",
            "1/1 [==============================] - 0s 38ms/step - loss: 1.3291 - acc: 0.6697 - val_loss: 1.6009 - val_acc: 0.6216\n",
            "Epoch 46/500\n",
            "1/1 [==============================] - 0s 44ms/step - loss: 1.2829 - acc: 0.7431 - val_loss: 1.5979 - val_acc: 0.5946\n",
            "Epoch 47/500\n",
            "1/1 [==============================] - 0s 50ms/step - loss: 1.2729 - acc: 0.6881 - val_loss: 1.5954 - val_acc: 0.5946\n",
            "Epoch 48/500\n",
            "1/1 [==============================] - 0s 40ms/step - loss: 1.2589 - acc: 0.7431 - val_loss: 1.5927 - val_acc: 0.5946\n",
            "Epoch 49/500\n",
            "1/1 [==============================] - 0s 37ms/step - loss: 1.2572 - acc: 0.7156 - val_loss: 1.5898 - val_acc: 0.5946\n",
            "Epoch 50/500\n",
            "1/1 [==============================] - 0s 41ms/step - loss: 1.2357 - acc: 0.7064 - val_loss: 1.5874 - val_acc: 0.5946\n",
            "Epoch 51/500\n",
            "1/1 [==============================] - 0s 42ms/step - loss: 1.2685 - acc: 0.6514 - val_loss: 1.5858 - val_acc: 0.5946\n",
            "Epoch 52/500\n",
            "1/1 [==============================] - 0s 47ms/step - loss: 1.2252 - acc: 0.6972 - val_loss: 1.5836 - val_acc: 0.5946\n",
            "Epoch 53/500\n",
            "1/1 [==============================] - 0s 39ms/step - loss: 1.2216 - acc: 0.6697 - val_loss: 1.5812 - val_acc: 0.5946\n",
            "Epoch 54/500\n",
            "1/1 [==============================] - 0s 39ms/step - loss: 1.1956 - acc: 0.7064 - val_loss: 1.5793 - val_acc: 0.5946\n",
            "Epoch 55/500\n",
            "1/1 [==============================] - 0s 41ms/step - loss: 1.2136 - acc: 0.7248 - val_loss: 1.5774 - val_acc: 0.5946\n",
            "Epoch 56/500\n",
            "1/1 [==============================] - 0s 45ms/step - loss: 1.1895 - acc: 0.7248 - val_loss: 1.5754 - val_acc: 0.5946\n",
            "Epoch 57/500\n",
            "1/1 [==============================] - 0s 41ms/step - loss: 1.2042 - acc: 0.7615 - val_loss: 1.5737 - val_acc: 0.5946\n",
            "Epoch 58/500\n",
            "1/1 [==============================] - 0s 42ms/step - loss: 1.1392 - acc: 0.7339 - val_loss: 1.5728 - val_acc: 0.5946\n",
            "Epoch 59/500\n",
            "1/1 [==============================] - 0s 42ms/step - loss: 1.1636 - acc: 0.6972 - val_loss: 1.5721 - val_acc: 0.5676\n",
            "Epoch 60/500\n",
            "1/1 [==============================] - 0s 43ms/step - loss: 1.1813 - acc: 0.7156 - val_loss: 1.5708 - val_acc: 0.5676\n",
            "Epoch 61/500\n",
            "1/1 [==============================] - 0s 41ms/step - loss: 1.1547 - acc: 0.7431 - val_loss: 1.5701 - val_acc: 0.5676\n",
            "Epoch 62/500\n",
            "1/1 [==============================] - 0s 46ms/step - loss: 1.1178 - acc: 0.7339 - val_loss: 1.5687 - val_acc: 0.5676\n",
            "Epoch 63/500\n",
            "1/1 [==============================] - 0s 45ms/step - loss: 1.1028 - acc: 0.7798 - val_loss: 1.5678 - val_acc: 0.5676\n",
            "Epoch 64/500\n",
            "1/1 [==============================] - 0s 47ms/step - loss: 1.1268 - acc: 0.7156 - val_loss: 1.5672 - val_acc: 0.5405\n",
            "Epoch 65/500\n",
            "1/1 [==============================] - 0s 46ms/step - loss: 1.1669 - acc: 0.6606 - val_loss: 1.5653 - val_acc: 0.5676\n",
            "Epoch 66/500\n",
            "1/1 [==============================] - 0s 41ms/step - loss: 1.0920 - acc: 0.7523 - val_loss: 1.5632 - val_acc: 0.5676\n",
            "Epoch 67/500\n",
            "1/1 [==============================] - 0s 40ms/step - loss: 1.0900 - acc: 0.7064 - val_loss: 1.5602 - val_acc: 0.5676\n",
            "Epoch 68/500\n",
            "1/1 [==============================] - 0s 42ms/step - loss: 1.0758 - acc: 0.7706 - val_loss: 1.5575 - val_acc: 0.5676\n",
            "Epoch 69/500\n",
            "1/1 [==============================] - 0s 40ms/step - loss: 1.0248 - acc: 0.8349 - val_loss: 1.5553 - val_acc: 0.5676\n",
            "Epoch 70/500\n",
            "1/1 [==============================] - 0s 41ms/step - loss: 1.0248 - acc: 0.8165 - val_loss: 1.5525 - val_acc: 0.5676\n",
            "Epoch 71/500\n",
            "1/1 [==============================] - 0s 44ms/step - loss: 1.0703 - acc: 0.7156 - val_loss: 1.5488 - val_acc: 0.5946\n",
            "Epoch 72/500\n",
            "1/1 [==============================] - 0s 46ms/step - loss: 1.0121 - acc: 0.8257 - val_loss: 1.5454 - val_acc: 0.5946\n",
            "Epoch 73/500\n",
            "1/1 [==============================] - 0s 44ms/step - loss: 0.9911 - acc: 0.8532 - val_loss: 1.5419 - val_acc: 0.5946\n",
            "Epoch 74/500\n",
            "1/1 [==============================] - 0s 41ms/step - loss: 1.0090 - acc: 0.8440 - val_loss: 1.5379 - val_acc: 0.5946\n",
            "Epoch 75/500\n",
            "1/1 [==============================] - 0s 58ms/step - loss: 1.0368 - acc: 0.7615 - val_loss: 1.5324 - val_acc: 0.5676\n",
            "Epoch 76/500\n",
            "1/1 [==============================] - 0s 41ms/step - loss: 0.9554 - acc: 0.8073 - val_loss: 1.5272 - val_acc: 0.5676\n",
            "Epoch 77/500\n",
            "1/1 [==============================] - 0s 41ms/step - loss: 0.9750 - acc: 0.8899 - val_loss: 1.5211 - val_acc: 0.5676\n",
            "Epoch 78/500\n",
            "1/1 [==============================] - 0s 41ms/step - loss: 1.0201 - acc: 0.8349 - val_loss: 1.5159 - val_acc: 0.5405\n",
            "Epoch 79/500\n",
            "1/1 [==============================] - 0s 40ms/step - loss: 0.9774 - acc: 0.8257 - val_loss: 1.5127 - val_acc: 0.5405\n",
            "Epoch 80/500\n",
            "1/1 [==============================] - 0s 44ms/step - loss: 0.9666 - acc: 0.8532 - val_loss: 1.5097 - val_acc: 0.5676\n",
            "Epoch 81/500\n",
            "1/1 [==============================] - 0s 43ms/step - loss: 0.9773 - acc: 0.7798 - val_loss: 1.5075 - val_acc: 0.5676\n",
            "Epoch 82/500\n",
            "1/1 [==============================] - 0s 45ms/step - loss: 0.9198 - acc: 0.8349 - val_loss: 1.5054 - val_acc: 0.5676\n",
            "Epoch 83/500\n",
            "1/1 [==============================] - 0s 40ms/step - loss: 0.9274 - acc: 0.8716 - val_loss: 1.5021 - val_acc: 0.5405\n",
            "Epoch 84/500\n",
            "1/1 [==============================] - 0s 45ms/step - loss: 0.9810 - acc: 0.8073 - val_loss: 1.4967 - val_acc: 0.5405\n",
            "Epoch 85/500\n",
            "1/1 [==============================] - 0s 43ms/step - loss: 0.9248 - acc: 0.8440 - val_loss: 1.4927 - val_acc: 0.5405\n",
            "Epoch 86/500\n",
            "1/1 [==============================] - 0s 44ms/step - loss: 0.8944 - acc: 0.8991 - val_loss: 1.4899 - val_acc: 0.5405\n",
            "Epoch 87/500\n",
            "1/1 [==============================] - 0s 44ms/step - loss: 0.9158 - acc: 0.8624 - val_loss: 1.4864 - val_acc: 0.5405\n",
            "Epoch 88/500\n",
            "1/1 [==============================] - 0s 39ms/step - loss: 0.8205 - acc: 0.9083 - val_loss: 1.4835 - val_acc: 0.5405\n",
            "Epoch 89/500\n",
            "1/1 [==============================] - 0s 40ms/step - loss: 0.8601 - acc: 0.8257 - val_loss: 1.4807 - val_acc: 0.5405\n",
            "Epoch 90/500\n",
            "1/1 [==============================] - 0s 38ms/step - loss: 0.8925 - acc: 0.8532 - val_loss: 1.4798 - val_acc: 0.5405\n",
            "Epoch 91/500\n",
            "1/1 [==============================] - 0s 46ms/step - loss: 0.8558 - acc: 0.8165 - val_loss: 1.4790 - val_acc: 0.5405\n",
            "Epoch 92/500\n",
            "1/1 [==============================] - 0s 39ms/step - loss: 0.8548 - acc: 0.8165 - val_loss: 1.4808 - val_acc: 0.5405\n",
            "Epoch 93/500\n",
            "1/1 [==============================] - 0s 42ms/step - loss: 0.8396 - acc: 0.8165 - val_loss: 1.4820 - val_acc: 0.5405\n",
            "Epoch 94/500\n",
            "1/1 [==============================] - 0s 44ms/step - loss: 0.8365 - acc: 0.8716 - val_loss: 1.4831 - val_acc: 0.5135\n",
            "Epoch 95/500\n",
            "1/1 [==============================] - 0s 49ms/step - loss: 0.8609 - acc: 0.8807 - val_loss: 1.4829 - val_acc: 0.5135\n",
            "Epoch 96/500\n",
            "1/1 [==============================] - 0s 43ms/step - loss: 0.8229 - acc: 0.8257 - val_loss: 1.4827 - val_acc: 0.5676\n",
            "Epoch 97/500\n",
            "1/1 [==============================] - 0s 43ms/step - loss: 0.8146 - acc: 0.8440 - val_loss: 1.4825 - val_acc: 0.5676\n",
            "Epoch 98/500\n",
            "1/1 [==============================] - 0s 42ms/step - loss: 0.8232 - acc: 0.8716 - val_loss: 1.4826 - val_acc: 0.5676\n",
            "Epoch 99/500\n",
            "1/1 [==============================] - 0s 40ms/step - loss: 0.7601 - acc: 0.9083 - val_loss: 1.4837 - val_acc: 0.5946\n",
            "Epoch 100/500\n",
            "1/1 [==============================] - 0s 43ms/step - loss: 0.7888 - acc: 0.8532 - val_loss: 1.4853 - val_acc: 0.5946\n",
            "Epoch 101/500\n",
            "1/1 [==============================] - 0s 39ms/step - loss: 0.7604 - acc: 0.8807 - val_loss: 1.4879 - val_acc: 0.5676\n"
          ],
          "name": "stdout"
        }
      ]
    },
    {
      "cell_type": "code",
      "metadata": {
        "colab": {
          "base_uri": "https://localhost:8080/"
        },
        "id": "UgRIIKCQe2qp",
        "outputId": "4965d4c2-013d-4c8c-8402-a89da20eccd2"
      },
      "source": [
        "print(\"Best: %f using %s\" % (grid_result.best_score_, grid_result.best_params_))\n",
        "means = grid_result.cv_results_['mean_test_score']\n",
        "stds = grid_result.cv_results_['std_test_score']\n",
        "params = grid_result.cv_results_['params']\n",
        "for mean, stdev, param in zip(means, stds, params):\n",
        "    print(\"%f (%f) with: %r\" % (mean, stdev, param))"
      ],
      "execution_count": 29,
      "outputs": [
        {
          "output_type": "stream",
          "text": [
            "Best: 0.358609 using {'embedding_dim': 350}\n",
            "0.276026 (0.083578) with: {'embedding_dim': 30}\n",
            "0.304054 (0.100972) with: {'embedding_dim': 50}\n",
            "0.331582 (0.106279) with: {'embedding_dim': 100}\n",
            "0.257508 (0.092925) with: {'embedding_dim': 150}\n",
            "0.303554 (0.083839) with: {'embedding_dim': 300}\n",
            "0.358609 (0.071128) with: {'embedding_dim': 350}\n"
          ],
          "name": "stdout"
        }
      ]
    },
    {
      "cell_type": "code",
      "metadata": {
        "id": "LvA_9tcgOe_b"
      },
      "source": [
        "import matplotlib.pyplot as plt\n",
        "plt.style.use('ggplot')\n",
        "\n",
        "def plot_history(history):\n",
        "    acc = history.history['acc']\n",
        "    val_acc = history.history['val_acc']\n",
        "    loss = history.history['loss']\n",
        "    val_loss = history.history['val_loss']\n",
        "    x = range(1, len(acc) + 1)\n",
        "\n",
        "    plt.figure(figsize=(12, 5))\n",
        "    plt.subplot(1, 2, 1)\n",
        "    plt.plot(x, acc, 'b', label='Training acc')\n",
        "    plt.plot(x, val_acc, 'r', label='Validation acc')\n",
        "    plt.title('Training and validation accuracy')\n",
        "    plt.legend()\n",
        "    plt.subplot(1, 2, 2)\n",
        "    plt.plot(x, loss, 'b', label='Training loss')\n",
        "    plt.plot(x, val_loss, 'r', label='Validation loss')\n",
        "    plt.title('Training and validation loss')\n",
        "    plt.legend()"
      ],
      "execution_count": 30,
      "outputs": []
    },
    {
      "cell_type": "code",
      "metadata": {
        "colab": {
          "base_uri": "https://localhost:8080/",
          "height": 1000
        },
        "id": "rwU4nx5aOaxq",
        "outputId": "8dc352a3-9cb7-4a18-fa8b-df59791e1a62"
      },
      "source": [
        "keras.backend.clear_session()\n",
        "model2 = create_model(embedding_dim=350)\n",
        "\n",
        "history = model2.fit(X_train, y_train,\n",
        "                    epochs=500,\n",
        "                    validation_data=(X_test, y_test),\n",
        "                    batch_size=256, callbacks=[early_stopping])\n",
        "loss, accuracy = model2.evaluate(X_train, y_train, verbose=False)\n",
        "print(\"Training Accuracy: {:.4f}\".format(accuracy))\n",
        "loss, accuracy = model2.evaluate(X_test, y_test, verbose=False)\n",
        "print(\"Testing Accuracy:  {:.4f}\".format(accuracy))\n",
        "plot_history(history)"
      ],
      "execution_count": 32,
      "outputs": [
        {
          "output_type": "stream",
          "text": [
            "Epoch 1/500\n",
            "1/1 [==============================] - 1s 1s/step - loss: 1.8293 - acc: 0.2844 - val_loss: 1.8085 - val_acc: 0.4865\n",
            "Epoch 2/500\n",
            "1/1 [==============================] - 0s 38ms/step - loss: 1.8162 - acc: 0.2936 - val_loss: 1.8065 - val_acc: 0.4054\n",
            "Epoch 3/500\n",
            "1/1 [==============================] - 0s 39ms/step - loss: 1.8049 - acc: 0.5138 - val_loss: 1.7970 - val_acc: 0.4595\n",
            "Epoch 4/500\n",
            "1/1 [==============================] - 0s 66ms/step - loss: 1.7915 - acc: 0.5229 - val_loss: 1.7875 - val_acc: 0.4595\n",
            "Epoch 5/500\n",
            "1/1 [==============================] - 0s 43ms/step - loss: 1.7786 - acc: 0.5229 - val_loss: 1.7793 - val_acc: 0.4865\n",
            "Epoch 6/500\n",
            "1/1 [==============================] - 0s 42ms/step - loss: 1.7649 - acc: 0.5596 - val_loss: 1.7721 - val_acc: 0.5135\n",
            "Epoch 7/500\n",
            "1/1 [==============================] - 0s 44ms/step - loss: 1.7511 - acc: 0.5505 - val_loss: 1.7652 - val_acc: 0.5135\n",
            "Epoch 8/500\n",
            "1/1 [==============================] - 0s 38ms/step - loss: 1.7488 - acc: 0.5505 - val_loss: 1.7591 - val_acc: 0.4865\n",
            "Epoch 9/500\n",
            "1/1 [==============================] - 0s 41ms/step - loss: 1.7347 - acc: 0.5229 - val_loss: 1.7513 - val_acc: 0.5135\n",
            "Epoch 10/500\n",
            "1/1 [==============================] - 0s 43ms/step - loss: 1.7296 - acc: 0.5229 - val_loss: 1.7429 - val_acc: 0.5135\n",
            "Epoch 11/500\n",
            "1/1 [==============================] - 0s 45ms/step - loss: 1.7112 - acc: 0.5780 - val_loss: 1.7351 - val_acc: 0.5135\n",
            "Epoch 12/500\n",
            "1/1 [==============================] - 0s 44ms/step - loss: 1.7016 - acc: 0.5505 - val_loss: 1.7290 - val_acc: 0.5135\n",
            "Epoch 13/500\n",
            "1/1 [==============================] - 0s 40ms/step - loss: 1.6886 - acc: 0.5780 - val_loss: 1.7226 - val_acc: 0.5135\n",
            "Epoch 14/500\n",
            "1/1 [==============================] - 0s 46ms/step - loss: 1.6745 - acc: 0.5413 - val_loss: 1.7141 - val_acc: 0.5135\n",
            "Epoch 15/500\n",
            "1/1 [==============================] - 0s 40ms/step - loss: 1.6653 - acc: 0.5413 - val_loss: 1.7064 - val_acc: 0.5135\n",
            "Epoch 16/500\n",
            "1/1 [==============================] - 0s 42ms/step - loss: 1.6628 - acc: 0.5505 - val_loss: 1.7002 - val_acc: 0.5135\n",
            "Epoch 17/500\n",
            "1/1 [==============================] - 0s 41ms/step - loss: 1.6527 - acc: 0.5505 - val_loss: 1.6945 - val_acc: 0.5135\n",
            "Epoch 18/500\n",
            "1/1 [==============================] - 0s 46ms/step - loss: 1.6486 - acc: 0.5413 - val_loss: 1.6879 - val_acc: 0.5135\n",
            "Epoch 19/500\n",
            "1/1 [==============================] - 0s 42ms/step - loss: 1.6277 - acc: 0.5780 - val_loss: 1.6803 - val_acc: 0.5135\n",
            "Epoch 20/500\n",
            "1/1 [==============================] - 0s 40ms/step - loss: 1.6076 - acc: 0.5780 - val_loss: 1.6716 - val_acc: 0.4865\n",
            "Epoch 21/500\n",
            "1/1 [==============================] - 0s 39ms/step - loss: 1.5940 - acc: 0.5780 - val_loss: 1.6644 - val_acc: 0.4865\n",
            "Epoch 22/500\n",
            "1/1 [==============================] - 0s 43ms/step - loss: 1.5854 - acc: 0.6147 - val_loss: 1.6593 - val_acc: 0.4865\n",
            "Epoch 23/500\n",
            "1/1 [==============================] - 0s 42ms/step - loss: 1.5818 - acc: 0.5596 - val_loss: 1.6549 - val_acc: 0.5135\n",
            "Epoch 24/500\n",
            "1/1 [==============================] - 0s 41ms/step - loss: 1.5757 - acc: 0.5596 - val_loss: 1.6486 - val_acc: 0.5135\n",
            "Epoch 25/500\n",
            "1/1 [==============================] - 0s 41ms/step - loss: 1.5503 - acc: 0.5688 - val_loss: 1.6407 - val_acc: 0.4865\n",
            "Epoch 26/500\n",
            "1/1 [==============================] - 0s 43ms/step - loss: 1.5354 - acc: 0.5872 - val_loss: 1.6324 - val_acc: 0.4865\n",
            "Epoch 27/500\n",
            "1/1 [==============================] - 0s 41ms/step - loss: 1.5533 - acc: 0.5872 - val_loss: 1.6265 - val_acc: 0.4865\n",
            "Epoch 28/500\n",
            "1/1 [==============================] - 0s 41ms/step - loss: 1.5103 - acc: 0.5963 - val_loss: 1.6211 - val_acc: 0.4865\n",
            "Epoch 29/500\n",
            "1/1 [==============================] - 0s 42ms/step - loss: 1.5101 - acc: 0.5872 - val_loss: 1.6154 - val_acc: 0.4865\n",
            "Epoch 30/500\n",
            "1/1 [==============================] - 0s 50ms/step - loss: 1.5050 - acc: 0.5688 - val_loss: 1.6089 - val_acc: 0.4865\n",
            "Epoch 31/500\n",
            "1/1 [==============================] - 0s 48ms/step - loss: 1.4782 - acc: 0.5872 - val_loss: 1.6017 - val_acc: 0.4865\n",
            "Epoch 32/500\n",
            "1/1 [==============================] - 0s 39ms/step - loss: 1.4833 - acc: 0.5505 - val_loss: 1.5944 - val_acc: 0.4865\n",
            "Epoch 33/500\n",
            "1/1 [==============================] - 0s 48ms/step - loss: 1.4765 - acc: 0.5688 - val_loss: 1.5889 - val_acc: 0.4865\n",
            "Epoch 34/500\n",
            "1/1 [==============================] - 0s 43ms/step - loss: 1.4517 - acc: 0.5963 - val_loss: 1.5841 - val_acc: 0.4865\n",
            "Epoch 35/500\n",
            "1/1 [==============================] - 0s 46ms/step - loss: 1.4402 - acc: 0.5688 - val_loss: 1.5789 - val_acc: 0.5135\n",
            "Epoch 36/500\n",
            "1/1 [==============================] - 0s 43ms/step - loss: 1.4181 - acc: 0.6055 - val_loss: 1.5737 - val_acc: 0.5135\n",
            "Epoch 37/500\n",
            "1/1 [==============================] - 0s 39ms/step - loss: 1.4116 - acc: 0.5963 - val_loss: 1.5681 - val_acc: 0.5135\n",
            "Epoch 38/500\n",
            "1/1 [==============================] - 0s 41ms/step - loss: 1.4197 - acc: 0.6330 - val_loss: 1.5630 - val_acc: 0.5135\n",
            "Epoch 39/500\n",
            "1/1 [==============================] - 0s 45ms/step - loss: 1.3867 - acc: 0.6147 - val_loss: 1.5581 - val_acc: 0.5135\n",
            "Epoch 40/500\n",
            "1/1 [==============================] - 0s 43ms/step - loss: 1.3552 - acc: 0.6055 - val_loss: 1.5531 - val_acc: 0.5135\n",
            "Epoch 41/500\n",
            "1/1 [==============================] - 0s 40ms/step - loss: 1.3706 - acc: 0.5872 - val_loss: 1.5479 - val_acc: 0.5135\n",
            "Epoch 42/500\n",
            "1/1 [==============================] - 0s 42ms/step - loss: 1.3465 - acc: 0.6239 - val_loss: 1.5427 - val_acc: 0.5135\n",
            "Epoch 43/500\n",
            "1/1 [==============================] - 0s 43ms/step - loss: 1.3421 - acc: 0.5872 - val_loss: 1.5394 - val_acc: 0.5135\n",
            "Epoch 44/500\n",
            "1/1 [==============================] - 0s 39ms/step - loss: 1.3351 - acc: 0.5780 - val_loss: 1.5351 - val_acc: 0.5135\n",
            "Epoch 45/500\n",
            "1/1 [==============================] - 0s 38ms/step - loss: 1.3432 - acc: 0.6147 - val_loss: 1.5307 - val_acc: 0.5135\n",
            "Epoch 46/500\n",
            "1/1 [==============================] - 0s 41ms/step - loss: 1.3311 - acc: 0.5688 - val_loss: 1.5255 - val_acc: 0.5135\n",
            "Epoch 47/500\n",
            "1/1 [==============================] - 0s 42ms/step - loss: 1.2897 - acc: 0.5872 - val_loss: 1.5220 - val_acc: 0.5135\n",
            "Epoch 48/500\n",
            "1/1 [==============================] - 0s 47ms/step - loss: 1.2774 - acc: 0.5963 - val_loss: 1.5189 - val_acc: 0.5135\n",
            "Epoch 49/500\n",
            "1/1 [==============================] - 0s 56ms/step - loss: 1.2904 - acc: 0.6055 - val_loss: 1.5154 - val_acc: 0.5135\n",
            "Epoch 50/500\n",
            "1/1 [==============================] - 0s 40ms/step - loss: 1.2834 - acc: 0.6055 - val_loss: 1.5128 - val_acc: 0.5135\n",
            "Epoch 51/500\n",
            "1/1 [==============================] - 0s 43ms/step - loss: 1.2642 - acc: 0.6147 - val_loss: 1.5102 - val_acc: 0.5135\n",
            "Epoch 52/500\n",
            "1/1 [==============================] - 0s 47ms/step - loss: 1.2717 - acc: 0.5963 - val_loss: 1.5070 - val_acc: 0.5135\n",
            "Epoch 53/500\n",
            "1/1 [==============================] - 0s 39ms/step - loss: 1.2241 - acc: 0.5872 - val_loss: 1.5046 - val_acc: 0.5135\n",
            "Epoch 54/500\n",
            "1/1 [==============================] - 0s 42ms/step - loss: 1.2132 - acc: 0.5963 - val_loss: 1.5019 - val_acc: 0.5135\n",
            "Epoch 55/500\n",
            "1/1 [==============================] - 0s 43ms/step - loss: 1.2085 - acc: 0.6147 - val_loss: 1.5000 - val_acc: 0.4865\n",
            "Epoch 56/500\n",
            "1/1 [==============================] - 0s 41ms/step - loss: 1.2268 - acc: 0.5963 - val_loss: 1.5008 - val_acc: 0.4865\n",
            "Epoch 57/500\n",
            "1/1 [==============================] - 0s 39ms/step - loss: 1.2109 - acc: 0.6330 - val_loss: 1.5008 - val_acc: 0.4865\n",
            "Epoch 58/500\n",
            "1/1 [==============================] - 0s 46ms/step - loss: 1.2115 - acc: 0.6514 - val_loss: 1.4997 - val_acc: 0.4865\n",
            "Epoch 59/500\n",
            "1/1 [==============================] - 0s 44ms/step - loss: 1.1636 - acc: 0.6330 - val_loss: 1.4977 - val_acc: 0.4865\n",
            "Epoch 60/500\n",
            "1/1 [==============================] - 0s 45ms/step - loss: 1.1655 - acc: 0.6606 - val_loss: 1.4954 - val_acc: 0.4865\n",
            "Epoch 61/500\n",
            "1/1 [==============================] - 0s 38ms/step - loss: 1.1710 - acc: 0.6697 - val_loss: 1.4920 - val_acc: 0.4865\n",
            "Epoch 62/500\n",
            "1/1 [==============================] - 0s 46ms/step - loss: 1.1509 - acc: 0.6422 - val_loss: 1.4908 - val_acc: 0.4865\n",
            "Epoch 63/500\n",
            "1/1 [==============================] - 0s 43ms/step - loss: 1.1012 - acc: 0.6972 - val_loss: 1.4902 - val_acc: 0.4865\n",
            "Epoch 64/500\n",
            "1/1 [==============================] - 0s 38ms/step - loss: 1.1266 - acc: 0.7156 - val_loss: 1.4892 - val_acc: 0.4865\n",
            "Epoch 65/500\n",
            "1/1 [==============================] - 0s 40ms/step - loss: 1.0673 - acc: 0.7615 - val_loss: 1.4877 - val_acc: 0.4865\n",
            "Epoch 66/500\n",
            "1/1 [==============================] - 0s 43ms/step - loss: 1.0838 - acc: 0.7890 - val_loss: 1.4864 - val_acc: 0.4865\n",
            "Epoch 67/500\n",
            "1/1 [==============================] - 0s 41ms/step - loss: 1.0661 - acc: 0.7339 - val_loss: 1.4867 - val_acc: 0.4865\n",
            "Epoch 68/500\n",
            "1/1 [==============================] - 0s 43ms/step - loss: 1.0744 - acc: 0.7798 - val_loss: 1.4870 - val_acc: 0.4865\n",
            "Epoch 69/500\n",
            "1/1 [==============================] - 0s 39ms/step - loss: 1.0801 - acc: 0.8073 - val_loss: 1.4865 - val_acc: 0.4865\n",
            "Epoch 70/500\n",
            "1/1 [==============================] - 0s 53ms/step - loss: 1.0506 - acc: 0.7982 - val_loss: 1.4865 - val_acc: 0.4865\n",
            "Epoch 71/500\n",
            "1/1 [==============================] - 0s 49ms/step - loss: 1.0116 - acc: 0.8807 - val_loss: 1.4865 - val_acc: 0.4865\n",
            "Epoch 72/500\n",
            "1/1 [==============================] - 0s 46ms/step - loss: 0.9863 - acc: 0.8257 - val_loss: 1.4884 - val_acc: 0.4865\n",
            "Epoch 73/500\n",
            "1/1 [==============================] - 0s 42ms/step - loss: 1.0434 - acc: 0.8257 - val_loss: 1.4890 - val_acc: 0.4865\n",
            "Epoch 74/500\n",
            "1/1 [==============================] - 0s 46ms/step - loss: 0.9717 - acc: 0.8440 - val_loss: 1.4898 - val_acc: 0.4865\n",
            "Epoch 75/500\n",
            "1/1 [==============================] - 0s 42ms/step - loss: 0.9738 - acc: 0.8532 - val_loss: 1.4918 - val_acc: 0.4865\n",
            "Epoch 76/500\n",
            "1/1 [==============================] - 0s 42ms/step - loss: 1.0123 - acc: 0.8440 - val_loss: 1.4916 - val_acc: 0.4865\n",
            "Training Accuracy: 0.9174\n",
            "Testing Accuracy:  0.4865\n"
          ],
          "name": "stdout"
        },
        {
          "output_type": "display_data",
          "data": {
            "image/png": "[encoded data removed]",
            "text/plain": [
              "<Figure size 864x360 with 2 Axes>"
            ]
          },
          "metadata": {
            "tags": []
          }
        }
      ]
    },
    {
      "cell_type": "code",
      "metadata": {
        "colab": {
          "base_uri": "https://localhost:8080/"
        },
        "id": "Ir-WeRLeKul7",
        "outputId": "ff27dbe4-3684-44bd-d24b-618c8d4146f2"
      },
      "source": [
        "y_test[0]"
      ],
      "execution_count": null,
      "outputs": [
        {
          "output_type": "execute_result",
          "data": {
            "text/plain": [
              "array([0., 1., 0., 0.], dtype=float32)"
            ]
          },
          "metadata": {
            "tags": []
          },
          "execution_count": 25
        }
      ]
    },
    {
      "cell_type": "code",
      "metadata": {
        "id": "nSeGVYTlK1wk"
      },
      "source": [
        "comentario = ['El presidente en alocución oficial pronunció un discurso de amor para toda la población, incitando a abrazar a todo aquel de la oposición y declarando que todas las posturas son válidas en el país.']"
      ],
      "execution_count": null,
      "outputs": []
    },
    {
      "cell_type": "code",
      "metadata": {
        "id": "ZgtngVXuMayE"
      },
      "source": [
        "comentario = t.texts_to_sequences(comentario)\n"
      ],
      "execution_count": null,
      "outputs": []
    },
    {
      "cell_type": "code",
      "metadata": {
        "id": "NKB6P4OdMekM"
      },
      "source": [
        "comentario = pad_sequences(comentario, padding = 'post',maxlen=maxlen)\n"
      ],
      "execution_count": null,
      "outputs": []
    },
    {
      "cell_type": "code",
      "metadata": {
        "colab": {
          "base_uri": "https://localhost:8080/"
        },
        "id": "TIW2RY8lMhXM",
        "outputId": "5038f71c-6050-45be-fcaa-f64502084db8"
      },
      "source": [
        "np.argmax(model.predict(comentario), axis=-1)"
      ],
      "execution_count": null,
      "outputs": [
        {
          "output_type": "execute_result",
          "data": {
            "text/plain": [
              "array([2])"
            ]
          },
          "metadata": {
            "tags": []
          },
          "execution_count": 29
        }
      ]
    },
    {
      "cell_type": "code",
      "metadata": {
        "id": "TynHNIptMoJ9",
        "colab": {
          "base_uri": "https://localhost:8080/"
        },
        "outputId": "6d793754-eb41-4695-cb0c-99417c2c8e41"
      },
      "source": [
        "X_train.shape[1]"
      ],
      "execution_count": null,
      "outputs": [
        {
          "output_type": "execute_result",
          "data": {
            "text/plain": [
              "76"
            ]
          },
          "metadata": {
            "tags": []
          },
          "execution_count": 30
        }
      ]
    }
  ]
}