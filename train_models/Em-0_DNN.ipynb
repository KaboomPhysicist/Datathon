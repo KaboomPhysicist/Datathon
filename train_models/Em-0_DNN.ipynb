{
  "nbformat": 4,
  "nbformat_minor": 0,
  "metadata": {
    "colab": {
      "name": "Em-0_DNN.ipynb",
      "provenance": [],
      "collapsed_sections": []
    },
    "kernelspec": {
      "name": "python3",
      "display_name": "Python 3"
    },
    "language_info": {
      "name": "python"
    },
    "accelerator": "GPU"
  },
  "cells": [
    {
      "cell_type": "code",
      "metadata": {
        "colab": {
          "base_uri": "https://localhost:8080/"
        },
        "id": "DzPbmPqCHEEv",
        "outputId": "f5e4e7b4-dc6d-44e5-b1e1-a3e268a2b222"
      },
      "source": [
        "from google.colab import drive\n",
        "drive.mount('/content/drive/')"
      ],
      "execution_count": 1,
      "outputs": [
        {
          "output_type": "stream",
          "text": [
            "Drive already mounted at /content/drive/; to attempt to forcibly remount, call drive.mount(\"/content/drive/\", force_remount=True).\n"
          ],
          "name": "stdout"
        }
      ]
    },
    {
      "cell_type": "code",
      "metadata": {
        "id": "MkKUN5C2KtaY"
      },
      "source": [
        ""
      ],
      "execution_count": 1,
      "outputs": []
    },
    {
      "cell_type": "code",
      "metadata": {
        "id": "IDYykDIdIAmF"
      },
      "source": [
        "import pandas as pd\n",
        "\n",
        "File = '/content/drive/MyDrive/Algoritmos/Datathon/Datos/IdentificacionSesgo - DataSet29.06.csv'\n",
        "df = pd.read_csv(File, header = 0)"
      ],
      "execution_count": 2,
      "outputs": []
    },
    {
      "cell_type": "code",
      "metadata": {
        "id": "2RaQTkKBIK1M"
      },
      "source": [
        "df['GravedadMode'] = df['Gravedad'].str.split(',',expand=True).mode(axis=1, numeric_only=False, dropna=True)[0]\n"
      ],
      "execution_count": 3,
      "outputs": []
    },
    {
      "cell_type": "code",
      "metadata": {
        "id": "i2Gk8nFTIWvf"
      },
      "source": [
        "df = df[['Item (Texto)', 'GravedadMode']]\n"
      ],
      "execution_count": 4,
      "outputs": []
    },
    {
      "cell_type": "code",
      "metadata": {
        "colab": {
          "base_uri": "https://localhost:8080/"
        },
        "id": "pX2wBnHlIZdf",
        "outputId": "4fd90121-7c38-434d-ccda-6c30449c9e98"
      },
      "source": [
        "df.iloc[0]"
      ],
      "execution_count": 5,
      "outputs": [
        {
          "output_type": "execute_result",
          "data": {
            "text/plain": [
              "Item (Texto)    Las protestas, sin precedentes, ya completan c...\n",
              "GravedadMode                                                    2\n",
              "Name: 0, dtype: object"
            ]
          },
          "metadata": {
            "tags": []
          },
          "execution_count": 5
        }
      ]
    },
    {
      "cell_type": "code",
      "metadata": {
        "id": "-CwlbvXoK4MJ"
      },
      "source": [
        "X = df['Item (Texto)'].values\n",
        "y = df['GravedadMode'].values"
      ],
      "execution_count": 6,
      "outputs": []
    },
    {
      "cell_type": "code",
      "metadata": {
        "id": "TDWAHcXLKGRc"
      },
      "source": [
        "from tensorflow import keras\n",
        "%tensorflow_version 2.x"
      ],
      "execution_count": 7,
      "outputs": []
    },
    {
      "cell_type": "code",
      "metadata": {
        "id": "7O-L20GrKqpC"
      },
      "source": [
        "from tensorflow.keras.preprocessing.text import Tokenizer\n",
        "from tensorflow.keras.preprocessing.text import text_to_word_sequence"
      ],
      "execution_count": 8,
      "outputs": []
    },
    {
      "cell_type": "code",
      "metadata": {
        "id": "V1XOfgu4KvGy"
      },
      "source": [
        "t = Tokenizer()\n",
        "t.fit_on_texts(X)"
      ],
      "execution_count": 9,
      "outputs": []
    },
    {
      "cell_type": "code",
      "metadata": {
        "colab": {
          "base_uri": "https://localhost:8080/"
        },
        "id": "Jqu2d33TLWTu",
        "outputId": "00f27489-7656-4ee8-fe9a-2116489cd760"
      },
      "source": [
        "vocab_size = len(t.word_index) + 1\n",
        "print(vocab_size) #número de palabras únicas"
      ],
      "execution_count": 10,
      "outputs": [
        {
          "output_type": "stream",
          "text": [
            "3209\n"
          ],
          "name": "stdout"
        }
      ]
    },
    {
      "cell_type": "code",
      "metadata": {
        "id": "CaEWVByfLXaf"
      },
      "source": [
        "sequences = t.texts_to_sequences(X)"
      ],
      "execution_count": 11,
      "outputs": []
    },
    {
      "cell_type": "code",
      "metadata": {
        "colab": {
          "base_uri": "https://localhost:8080/"
        },
        "id": "14VkOkRcLmpS",
        "outputId": "0918cbb9-e61f-4ca3-de9c-4d6491265ea3"
      },
      "source": [
        "print(X[2])\n",
        "print(sequences[2])"
      ],
      "execution_count": 12,
      "outputs": [
        {
          "output_type": "stream",
          "text": [
            "Una patrullera de la Policía Nacional denunció este jueves que fue violada por vándalos en Cali, Valle del Cauca. La oficial se encontraba en labores de seguridad durante las manifestaciones del pasado 29 de abril cuando ocurrieron los hechos. Había sido asignada para brindar seguridad en un sector al oriente de Cali. En medio de los actos vandálicos, ella ingresó al CAI para protegerse. Pero los vándalos la emprendieron contra las instalaciones y lo prendieron fuego. Allí, esta mujer empezó a vivir los momentos más duros de su vida.\n",
            "[14, 1137, 1, 2, 34, 20, 433, 30, 255, 3, 42, 1138, 12, 434, 5, 32, 110, 11, 101, 2, 435, 10, 654, 5, 1139, 1, 82, 53, 9, 111, 11, 74, 1140, 1, 102, 50, 436, 7, 51, 202, 54, 1141, 16, 1142, 82, 5, 13, 103, 18, 1143, 1, 32, 5, 104, 1, 7, 256, 437, 655, 1144, 18, 438, 16, 1145, 44, 7, 434, 2, 1146, 35, 9, 439, 6, 29, 1147, 143, 203, 83, 656, 1148, 8, 1149, 7, 315, 23, 1150, 1, 21, 84]\n"
          ],
          "name": "stdout"
        }
      ]
    },
    {
      "cell_type": "code",
      "metadata": {
        "id": "AQIzvmTXMBl1"
      },
      "source": [
        "def max_sequence():\n",
        "    for i in range(1, len(sequences)):\n",
        "        max_length = len(sequences[0])\n",
        "        if len(sequences[i]) > max_length:\n",
        "            max_length = len(sequences[i])\n",
        "    return max_length"
      ],
      "execution_count": 13,
      "outputs": []
    },
    {
      "cell_type": "code",
      "metadata": {
        "colab": {
          "base_uri": "https://localhost:8080/"
        },
        "id": "tDU881cuMJ4S",
        "outputId": "8890d8c1-f3c2-46fe-887e-dbd5c6efbdc8"
      },
      "source": [
        "maxlen = max_sequence()\n",
        "\n",
        "maxlen"
      ],
      "execution_count": 14,
      "outputs": [
        {
          "output_type": "execute_result",
          "data": {
            "text/plain": [
              "76"
            ]
          },
          "metadata": {
            "tags": []
          },
          "execution_count": 14
        }
      ]
    },
    {
      "cell_type": "code",
      "metadata": {
        "id": "8ugH_8W4MNhT"
      },
      "source": [
        "from tensorflow.keras.preprocessing.sequence import pad_sequences\n",
        "\n",
        "padded_X = pad_sequences(sequences, padding='post', maxlen=maxlen)"
      ],
      "execution_count": 15,
      "outputs": []
    },
    {
      "cell_type": "code",
      "metadata": {
        "colab": {
          "base_uri": "https://localhost:8080/"
        },
        "id": "QByMZqgsMd8y",
        "outputId": "c1ffe060-a605-47cc-9313-dc6efe16338e"
      },
      "source": [
        "padded_X[0,:]"
      ],
      "execution_count": 16,
      "outputs": [
        {
          "output_type": "execute_result",
          "data": {
            "text/plain": [
              "array([   9,   39,   33,  429,   67, 1100, 1101,   13,   81,   10,   25,\n",
              "       1102,    1,  313,   12,  142,    1,    2,   88,    6,  126,   18,\n",
              "       1103,    1,    2, 1104,    8,   73,    1,   57,    6,  251,    5,\n",
              "          4,   26,   98,  430,    1,    9,  643,    1,    7,   37,   64,\n",
              "        644,    0,    0,    0,    0,    0,    0,    0,    0,    0,    0,\n",
              "          0,    0,    0,    0,    0,    0,    0,    0,    0,    0,    0,\n",
              "          0,    0,    0,    0,    0,    0,    0,    0,    0,    0],\n",
              "      dtype=int32)"
            ]
          },
          "metadata": {
            "tags": []
          },
          "execution_count": 16
        }
      ]
    },
    {
      "cell_type": "code",
      "metadata": {
        "id": "0ryRQgXlMnp6"
      },
      "source": [
        "from tensorflow.keras.utils import to_categorical\n",
        "import numpy as np\n",
        "\n",
        "labels = to_categorical(np.asarray(y))"
      ],
      "execution_count": 17,
      "outputs": []
    },
    {
      "cell_type": "code",
      "metadata": {
        "colab": {
          "base_uri": "https://localhost:8080/"
        },
        "id": "6sIUpNTLMyoU",
        "outputId": "f6068f12-550e-4276-8c32-1cf532c4a69e"
      },
      "source": [
        "labels[:3]"
      ],
      "execution_count": 18,
      "outputs": [
        {
          "output_type": "execute_result",
          "data": {
            "text/plain": [
              "array([[0., 0., 1., 0.],\n",
              "       [0., 1., 0., 0.],\n",
              "       [0., 0., 0., 1.]], dtype=float32)"
            ]
          },
          "metadata": {
            "tags": []
          },
          "execution_count": 18
        }
      ]
    },
    {
      "cell_type": "code",
      "metadata": {
        "id": "nSl-4MpaMyDj"
      },
      "source": [
        "from sklearn.model_selection import train_test_split\n",
        "\n",
        "X_train, X_test, y_train, y_test = train_test_split(padded_X, labels, test_size = 0.25, random_state = 0)"
      ],
      "execution_count": 19,
      "outputs": []
    },
    {
      "cell_type": "code",
      "metadata": {
        "colab": {
          "base_uri": "https://localhost:8080/"
        },
        "id": "3NRkLIYoNQCl",
        "outputId": "660d9256-32ae-4b0d-c9f1-64f44dbbd480"
      },
      "source": [
        "print('X_train size:', X_train.shape)\n",
        "print('y_train size:', y_train.shape)\n",
        "print('X_test size:', X_test.shape)\n",
        "print('y_test size:', y_test.shape)"
      ],
      "execution_count": 20,
      "outputs": [
        {
          "output_type": "stream",
          "text": [
            "X_train size: (109, 76)\n",
            "y_train size: (109, 4)\n",
            "X_test size: (37, 76)\n",
            "y_test size: (37, 4)\n"
          ],
          "name": "stdout"
        }
      ]
    },
    {
      "cell_type": "code",
      "metadata": {
        "id": "qccAMQ-nQFEg"
      },
      "source": [
        "keras.backend.clear_session()"
      ],
      "execution_count": 21,
      "outputs": []
    },
    {
      "cell_type": "code",
      "metadata": {
        "colab": {
          "base_uri": "https://localhost:8080/"
        },
        "id": "C_PtccXxOBPj",
        "outputId": "ecf75826-364f-4796-b289-fc1ef6b0d15d"
      },
      "source": [
        "# aver\n",
        "\n",
        "from keras.models import Sequential\n",
        "from keras import layers\n",
        "\n",
        "embedding_dim = 50\n",
        "\n",
        "model = Sequential()\n",
        "model.add(layers.Embedding(input_dim=vocab_size, \n",
        "                           output_dim=embedding_dim, \n",
        "                           input_length=maxlen))\n",
        "model.add(layers.GlobalMaxPool1D())\n",
        "model.add(layers.Dense(10, activation='relu', kernel_initializer='he_uniform', kernel_regularizer=keras.regularizers.l2(0.01),bias_regularizer='l2'))\n",
        "model.add(layers.Dropout(0.2))\n",
        "model.add(layers.Dense(10, activation='relu', kernel_initializer='he_uniform', kernel_regularizer=keras.regularizers.l2(0.01),bias_regularizer='l2'))\n",
        "model.add(layers.Dense(4, activation='softmax'))\n",
        "model.compile(optimizer='adam',\n",
        "              loss='categorical_crossentropy',\n",
        "              metrics=['acc'])\n",
        "model.summary()"
      ],
      "execution_count": 22,
      "outputs": [
        {
          "output_type": "stream",
          "text": [
            "Model: \"sequential\"\n",
            "_________________________________________________________________\n",
            "Layer (type)                 Output Shape              Param #   \n",
            "=================================================================\n",
            "embedding (Embedding)        (None, 76, 50)            160450    \n",
            "_________________________________________________________________\n",
            "global_max_pooling1d (Global (None, 50)                0         \n",
            "_________________________________________________________________\n",
            "dense (Dense)                (None, 10)                510       \n",
            "_________________________________________________________________\n",
            "dropout (Dropout)            (None, 10)                0         \n",
            "_________________________________________________________________\n",
            "dense_1 (Dense)              (None, 10)                110       \n",
            "_________________________________________________________________\n",
            "batch_normalization (BatchNo (None, 10)                40        \n",
            "_________________________________________________________________\n",
            "dense_2 (Dense)              (None, 4)                 44        \n",
            "=================================================================\n",
            "Total params: 161,154\n",
            "Trainable params: 161,134\n",
            "Non-trainable params: 20\n",
            "_________________________________________________________________\n"
          ],
          "name": "stdout"
        }
      ]
    },
    {
      "cell_type": "code",
      "metadata": {
        "id": "LvA_9tcgOe_b"
      },
      "source": [
        "import matplotlib.pyplot as plt\n",
        "plt.style.use('ggplot')\n",
        "\n",
        "def plot_history(history):\n",
        "    acc = history.history['acc']\n",
        "    val_acc = history.history['val_acc']\n",
        "    loss = history.history['loss']\n",
        "    val_loss = history.history['val_loss']\n",
        "    x = range(1, len(acc) + 1)\n",
        "\n",
        "    plt.figure(figsize=(12, 5))\n",
        "    plt.subplot(1, 2, 1)\n",
        "    plt.plot(x, acc, 'b', label='Training acc')\n",
        "    plt.plot(x, val_acc, 'r', label='Validation acc')\n",
        "    plt.title('Training and validation accuracy')\n",
        "    plt.legend()\n",
        "    plt.subplot(1, 2, 2)\n",
        "    plt.plot(x, loss, 'b', label='Training loss')\n",
        "    plt.plot(x, val_loss, 'r', label='Validation loss')\n",
        "    plt.title('Training and validation loss')\n",
        "    plt.legend()"
      ],
      "execution_count": 23,
      "outputs": []
    },
    {
      "cell_type": "code",
      "metadata": {
        "colab": {
          "base_uri": "https://localhost:8080/",
          "height": 1000
        },
        "id": "rwU4nx5aOaxq",
        "outputId": "e413f354-f159-4fd5-9bf8-50fcf2474d35"
      },
      "source": [
        "early_stopping = keras.callbacks.EarlyStopping(monitor='val_loss', patience=10, restore_best_weights=True)\n",
        "\n",
        "history = model.fit(X_train, y_train,\n",
        "                    epochs=500,\n",
        "                    validation_data=(X_test, y_test),\n",
        "                    batch_size=256, callbacks=[early_stopping])\n",
        "loss, accuracy = model.evaluate(X_train, y_train, verbose=False)\n",
        "print(\"Training Accuracy: {:.4f}\".format(accuracy))\n",
        "loss, accuracy = model.evaluate(X_test, y_test, verbose=False)\n",
        "print(\"Testing Accuracy:  {:.4f}\".format(accuracy))\n",
        "plot_history(history)"
      ],
      "execution_count": 24,
      "outputs": [
        {
          "output_type": "stream",
          "text": [
            "Epoch 1/500\n",
            "1/1 [==============================] - 14s 14s/step - loss: 1.9174 - acc: 0.2569 - val_loss: 1.8104 - val_acc: 0.4865\n",
            "Epoch 2/500\n",
            "1/1 [==============================] - 0s 24ms/step - loss: 1.9334 - acc: 0.2477 - val_loss: 1.8088 - val_acc: 0.1351\n",
            "Epoch 3/500\n",
            "1/1 [==============================] - 0s 23ms/step - loss: 1.9155 - acc: 0.2569 - val_loss: 1.8075 - val_acc: 0.1351\n",
            "Epoch 4/500\n",
            "1/1 [==============================] - 0s 46ms/step - loss: 1.7469 - acc: 0.3578 - val_loss: 1.8060 - val_acc: 0.1351\n",
            "Epoch 5/500\n",
            "1/1 [==============================] - 0s 23ms/step - loss: 1.7069 - acc: 0.4771 - val_loss: 1.8045 - val_acc: 0.1351\n",
            "Epoch 6/500\n",
            "1/1 [==============================] - 0s 42ms/step - loss: 1.6859 - acc: 0.4679 - val_loss: 1.8032 - val_acc: 0.1351\n",
            "Epoch 7/500\n",
            "1/1 [==============================] - 0s 25ms/step - loss: 1.6003 - acc: 0.5688 - val_loss: 1.8017 - val_acc: 0.1351\n",
            "Epoch 8/500\n",
            "1/1 [==============================] - 0s 26ms/step - loss: 1.5556 - acc: 0.6330 - val_loss: 1.8004 - val_acc: 0.1351\n",
            "Epoch 9/500\n",
            "1/1 [==============================] - 0s 22ms/step - loss: 1.5997 - acc: 0.5413 - val_loss: 1.7991 - val_acc: 0.1351\n",
            "Epoch 10/500\n",
            "1/1 [==============================] - 0s 22ms/step - loss: 1.5049 - acc: 0.6514 - val_loss: 1.7978 - val_acc: 0.1351\n",
            "Epoch 11/500\n",
            "1/1 [==============================] - 0s 51ms/step - loss: 1.4512 - acc: 0.6697 - val_loss: 1.7962 - val_acc: 0.1351\n",
            "Epoch 12/500\n",
            "1/1 [==============================] - 0s 23ms/step - loss: 1.4241 - acc: 0.7248 - val_loss: 1.7948 - val_acc: 0.1351\n",
            "Epoch 13/500\n",
            "1/1 [==============================] - 0s 23ms/step - loss: 1.4384 - acc: 0.7248 - val_loss: 1.7934 - val_acc: 0.1351\n",
            "Epoch 14/500\n",
            "1/1 [==============================] - 0s 22ms/step - loss: 1.3623 - acc: 0.7798 - val_loss: 1.7920 - val_acc: 0.1351\n",
            "Epoch 15/500\n",
            "1/1 [==============================] - 0s 23ms/step - loss: 1.4083 - acc: 0.6147 - val_loss: 1.7907 - val_acc: 0.1351\n",
            "Epoch 16/500\n",
            "1/1 [==============================] - 0s 22ms/step - loss: 1.3469 - acc: 0.7339 - val_loss: 1.7896 - val_acc: 0.1351\n",
            "Epoch 17/500\n",
            "1/1 [==============================] - 0s 24ms/step - loss: 1.2749 - acc: 0.8532 - val_loss: 1.7884 - val_acc: 0.1351\n",
            "Epoch 18/500\n",
            "1/1 [==============================] - 0s 25ms/step - loss: 1.2895 - acc: 0.8257 - val_loss: 1.7872 - val_acc: 0.1351\n",
            "Epoch 19/500\n",
            "1/1 [==============================] - 0s 29ms/step - loss: 1.2672 - acc: 0.7982 - val_loss: 1.7861 - val_acc: 0.1351\n",
            "Epoch 20/500\n",
            "1/1 [==============================] - 0s 31ms/step - loss: 1.2138 - acc: 0.7982 - val_loss: 1.7849 - val_acc: 0.1351\n",
            "Epoch 21/500\n",
            "1/1 [==============================] - 0s 30ms/step - loss: 1.2233 - acc: 0.8073 - val_loss: 1.7836 - val_acc: 0.1351\n",
            "Epoch 22/500\n",
            "1/1 [==============================] - 0s 32ms/step - loss: 1.1702 - acc: 0.8440 - val_loss: 1.7822 - val_acc: 0.1351\n",
            "Epoch 23/500\n",
            "1/1 [==============================] - 0s 28ms/step - loss: 1.1926 - acc: 0.7615 - val_loss: 1.7805 - val_acc: 0.1351\n",
            "Epoch 24/500\n",
            "1/1 [==============================] - 0s 26ms/step - loss: 1.1528 - acc: 0.8165 - val_loss: 1.7788 - val_acc: 0.1351\n",
            "Epoch 25/500\n",
            "1/1 [==============================] - 0s 28ms/step - loss: 1.1307 - acc: 0.8257 - val_loss: 1.7771 - val_acc: 0.1351\n",
            "Epoch 26/500\n",
            "1/1 [==============================] - 0s 28ms/step - loss: 1.1571 - acc: 0.8073 - val_loss: 1.7754 - val_acc: 0.1351\n",
            "Epoch 27/500\n",
            "1/1 [==============================] - 0s 25ms/step - loss: 1.1059 - acc: 0.8624 - val_loss: 1.7737 - val_acc: 0.1351\n",
            "Epoch 28/500\n",
            "1/1 [==============================] - 0s 27ms/step - loss: 1.0685 - acc: 0.8440 - val_loss: 1.7721 - val_acc: 0.1351\n",
            "Epoch 29/500\n",
            "1/1 [==============================] - 0s 26ms/step - loss: 1.1023 - acc: 0.8532 - val_loss: 1.7707 - val_acc: 0.1351\n",
            "Epoch 30/500\n",
            "1/1 [==============================] - 0s 25ms/step - loss: 1.1261 - acc: 0.8257 - val_loss: 1.7693 - val_acc: 0.1351\n",
            "Epoch 31/500\n",
            "1/1 [==============================] - 0s 25ms/step - loss: 1.1005 - acc: 0.8899 - val_loss: 1.7680 - val_acc: 0.1351\n",
            "Epoch 32/500\n",
            "1/1 [==============================] - 0s 24ms/step - loss: 1.1161 - acc: 0.8532 - val_loss: 1.7666 - val_acc: 0.1351\n",
            "Epoch 33/500\n",
            "1/1 [==============================] - 0s 25ms/step - loss: 1.1220 - acc: 0.8073 - val_loss: 1.7653 - val_acc: 0.1351\n",
            "Epoch 34/500\n",
            "1/1 [==============================] - 0s 24ms/step - loss: 1.0454 - acc: 0.8532 - val_loss: 1.7641 - val_acc: 0.1351\n",
            "Epoch 35/500\n",
            "1/1 [==============================] - 0s 24ms/step - loss: 1.0124 - acc: 0.8899 - val_loss: 1.7630 - val_acc: 0.1351\n",
            "Epoch 36/500\n",
            "1/1 [==============================] - 0s 31ms/step - loss: 1.0159 - acc: 0.8716 - val_loss: 1.7619 - val_acc: 0.1351\n",
            "Epoch 37/500\n",
            "1/1 [==============================] - 0s 28ms/step - loss: 1.0359 - acc: 0.8991 - val_loss: 1.7609 - val_acc: 0.1351\n",
            "Epoch 38/500\n",
            "1/1 [==============================] - 0s 24ms/step - loss: 1.0350 - acc: 0.8349 - val_loss: 1.7599 - val_acc: 0.1351\n",
            "Epoch 39/500\n",
            "1/1 [==============================] - 0s 28ms/step - loss: 1.0380 - acc: 0.8532 - val_loss: 1.7588 - val_acc: 0.1351\n",
            "Epoch 40/500\n",
            "1/1 [==============================] - 0s 25ms/step - loss: 0.9954 - acc: 0.8899 - val_loss: 1.7576 - val_acc: 0.1351\n",
            "Epoch 41/500\n",
            "1/1 [==============================] - 0s 25ms/step - loss: 1.0151 - acc: 0.8716 - val_loss: 1.7563 - val_acc: 0.1351\n",
            "Epoch 42/500\n",
            "1/1 [==============================] - 0s 30ms/step - loss: 0.9888 - acc: 0.9083 - val_loss: 1.7550 - val_acc: 0.1351\n",
            "Epoch 43/500\n",
            "1/1 [==============================] - 0s 26ms/step - loss: 0.9430 - acc: 0.9266 - val_loss: 1.7538 - val_acc: 0.1351\n",
            "Epoch 44/500\n",
            "1/1 [==============================] - 0s 22ms/step - loss: 0.9658 - acc: 0.8624 - val_loss: 1.7526 - val_acc: 0.1351\n",
            "Epoch 45/500\n",
            "1/1 [==============================] - 0s 23ms/step - loss: 0.9779 - acc: 0.8624 - val_loss: 1.7515 - val_acc: 0.1351\n",
            "Epoch 46/500\n",
            "1/1 [==============================] - 0s 41ms/step - loss: 0.9188 - acc: 0.9174 - val_loss: 1.7506 - val_acc: 0.1351\n",
            "Epoch 47/500\n",
            "1/1 [==============================] - 0s 28ms/step - loss: 0.9662 - acc: 0.9083 - val_loss: 1.7498 - val_acc: 0.1351\n",
            "Epoch 48/500\n",
            "1/1 [==============================] - 0s 24ms/step - loss: 0.9381 - acc: 0.8899 - val_loss: 1.7492 - val_acc: 0.1351\n",
            "Epoch 49/500\n",
            "1/1 [==============================] - 0s 26ms/step - loss: 0.8917 - acc: 0.9358 - val_loss: 1.7486 - val_acc: 0.1351\n",
            "Epoch 50/500\n",
            "1/1 [==============================] - 0s 27ms/step - loss: 0.9524 - acc: 0.8991 - val_loss: 1.7481 - val_acc: 0.1351\n",
            "Epoch 51/500\n",
            "1/1 [==============================] - 0s 25ms/step - loss: 0.8965 - acc: 0.9358 - val_loss: 1.7477 - val_acc: 0.1351\n",
            "Epoch 52/500\n",
            "1/1 [==============================] - 0s 24ms/step - loss: 0.8810 - acc: 0.9266 - val_loss: 1.7475 - val_acc: 0.1351\n",
            "Epoch 53/500\n",
            "1/1 [==============================] - 0s 25ms/step - loss: 0.8571 - acc: 0.9450 - val_loss: 1.7472 - val_acc: 0.1351\n",
            "Epoch 54/500\n",
            "1/1 [==============================] - 0s 23ms/step - loss: 0.8320 - acc: 0.9725 - val_loss: 1.7469 - val_acc: 0.1351\n",
            "Epoch 55/500\n",
            "1/1 [==============================] - 0s 25ms/step - loss: 0.8469 - acc: 0.9266 - val_loss: 1.7461 - val_acc: 0.1351\n",
            "Epoch 56/500\n",
            "1/1 [==============================] - 0s 22ms/step - loss: 0.8417 - acc: 0.9450 - val_loss: 1.7453 - val_acc: 0.1351\n",
            "Epoch 57/500\n",
            "1/1 [==============================] - 0s 26ms/step - loss: 0.8126 - acc: 0.9174 - val_loss: 1.7439 - val_acc: 0.1351\n",
            "Epoch 58/500\n",
            "1/1 [==============================] - 0s 24ms/step - loss: 0.8842 - acc: 0.8716 - val_loss: 1.7422 - val_acc: 0.1351\n",
            "Epoch 59/500\n",
            "1/1 [==============================] - 0s 25ms/step - loss: 0.8148 - acc: 0.9174 - val_loss: 1.7404 - val_acc: 0.1351\n",
            "Epoch 60/500\n",
            "1/1 [==============================] - 0s 22ms/step - loss: 0.7891 - acc: 0.9450 - val_loss: 1.7388 - val_acc: 0.1351\n",
            "Epoch 61/500\n",
            "1/1 [==============================] - 0s 38ms/step - loss: 0.7963 - acc: 0.9358 - val_loss: 1.7373 - val_acc: 0.1351\n",
            "Epoch 62/500\n",
            "1/1 [==============================] - 0s 27ms/step - loss: 0.8335 - acc: 0.8991 - val_loss: 1.7360 - val_acc: 0.1351\n",
            "Epoch 63/500\n",
            "1/1 [==============================] - 0s 23ms/step - loss: 0.8577 - acc: 0.8532 - val_loss: 1.7351 - val_acc: 0.1351\n",
            "Epoch 64/500\n",
            "1/1 [==============================] - 0s 25ms/step - loss: 0.7891 - acc: 0.9083 - val_loss: 1.7344 - val_acc: 0.1351\n",
            "Epoch 65/500\n",
            "1/1 [==============================] - 0s 25ms/step - loss: 0.7190 - acc: 0.9633 - val_loss: 1.7335 - val_acc: 0.1351\n",
            "Epoch 66/500\n",
            "1/1 [==============================] - 0s 22ms/step - loss: 0.7596 - acc: 0.8899 - val_loss: 1.7327 - val_acc: 0.1351\n",
            "Epoch 67/500\n",
            "1/1 [==============================] - 0s 26ms/step - loss: 0.7730 - acc: 0.9358 - val_loss: 1.7319 - val_acc: 0.1351\n",
            "Epoch 68/500\n",
            "1/1 [==============================] - 0s 25ms/step - loss: 0.6740 - acc: 0.9725 - val_loss: 1.7311 - val_acc: 0.1351\n",
            "Epoch 69/500\n",
            "1/1 [==============================] - 0s 36ms/step - loss: 0.7276 - acc: 0.9450 - val_loss: 1.7304 - val_acc: 0.1351\n",
            "Epoch 70/500\n",
            "1/1 [==============================] - 0s 29ms/step - loss: 0.7227 - acc: 0.9266 - val_loss: 1.7296 - val_acc: 0.1351\n",
            "Epoch 71/500\n",
            "1/1 [==============================] - 0s 24ms/step - loss: 0.7634 - acc: 0.8899 - val_loss: 1.7289 - val_acc: 0.1351\n",
            "Epoch 72/500\n",
            "1/1 [==============================] - 0s 30ms/step - loss: 0.7072 - acc: 0.8991 - val_loss: 1.7281 - val_acc: 0.1351\n",
            "Epoch 73/500\n",
            "1/1 [==============================] - 0s 44ms/step - loss: 0.7696 - acc: 0.8716 - val_loss: 1.7273 - val_acc: 0.1351\n",
            "Epoch 74/500\n",
            "1/1 [==============================] - 0s 28ms/step - loss: 0.6845 - acc: 0.9083 - val_loss: 1.7263 - val_acc: 0.1351\n",
            "Epoch 75/500\n",
            "1/1 [==============================] - 0s 28ms/step - loss: 0.6976 - acc: 0.9541 - val_loss: 1.7252 - val_acc: 0.1351\n",
            "Epoch 76/500\n",
            "1/1 [==============================] - 0s 27ms/step - loss: 0.7145 - acc: 0.9174 - val_loss: 1.7243 - val_acc: 0.1351\n",
            "Epoch 77/500\n",
            "1/1 [==============================] - 0s 32ms/step - loss: 0.6581 - acc: 0.9633 - val_loss: 1.7233 - val_acc: 0.1351\n",
            "Epoch 78/500\n",
            "1/1 [==============================] - 0s 26ms/step - loss: 0.7107 - acc: 0.8991 - val_loss: 1.7221 - val_acc: 0.1351\n",
            "Epoch 79/500\n",
            "1/1 [==============================] - 0s 27ms/step - loss: 0.6871 - acc: 0.9083 - val_loss: 1.7205 - val_acc: 0.1351\n",
            "Epoch 80/500\n",
            "1/1 [==============================] - 0s 36ms/step - loss: 0.6204 - acc: 0.9725 - val_loss: 1.7190 - val_acc: 0.1351\n",
            "Epoch 81/500\n",
            "1/1 [==============================] - 0s 39ms/step - loss: 0.6593 - acc: 0.9633 - val_loss: 1.7176 - val_acc: 0.1351\n",
            "Epoch 82/500\n",
            "1/1 [==============================] - 0s 32ms/step - loss: 0.6876 - acc: 0.9358 - val_loss: 1.7161 - val_acc: 0.1351\n",
            "Epoch 83/500\n",
            "1/1 [==============================] - 0s 29ms/step - loss: 0.6290 - acc: 0.9541 - val_loss: 1.7147 - val_acc: 0.1351\n",
            "Epoch 84/500\n",
            "1/1 [==============================] - 0s 27ms/step - loss: 0.6394 - acc: 0.9450 - val_loss: 1.7135 - val_acc: 0.1351\n",
            "Epoch 85/500\n",
            "1/1 [==============================] - 0s 28ms/step - loss: 0.5985 - acc: 0.9725 - val_loss: 1.7125 - val_acc: 0.1622\n",
            "Epoch 86/500\n",
            "1/1 [==============================] - 0s 24ms/step - loss: 0.6107 - acc: 0.9633 - val_loss: 1.7116 - val_acc: 0.1622\n",
            "Epoch 87/500\n",
            "1/1 [==============================] - 0s 26ms/step - loss: 0.6054 - acc: 0.9541 - val_loss: 1.7107 - val_acc: 0.1622\n",
            "Epoch 88/500\n",
            "1/1 [==============================] - 0s 24ms/step - loss: 0.6235 - acc: 0.9541 - val_loss: 1.7099 - val_acc: 0.1622\n",
            "Epoch 89/500\n",
            "1/1 [==============================] - 0s 23ms/step - loss: 0.6951 - acc: 0.9266 - val_loss: 1.7089 - val_acc: 0.1622\n",
            "Epoch 90/500\n",
            "1/1 [==============================] - 0s 26ms/step - loss: 0.6089 - acc: 0.9633 - val_loss: 1.7076 - val_acc: 0.1622\n",
            "Epoch 91/500\n",
            "1/1 [==============================] - 0s 24ms/step - loss: 0.6127 - acc: 0.9541 - val_loss: 1.7061 - val_acc: 0.1622\n",
            "Epoch 92/500\n",
            "1/1 [==============================] - 0s 23ms/step - loss: 0.6521 - acc: 0.9450 - val_loss: 1.7040 - val_acc: 0.1622\n",
            "Epoch 93/500\n",
            "1/1 [==============================] - 0s 23ms/step - loss: 0.6197 - acc: 0.9541 - val_loss: 1.7020 - val_acc: 0.1622\n",
            "Epoch 94/500\n",
            "1/1 [==============================] - 0s 22ms/step - loss: 0.6047 - acc: 0.9450 - val_loss: 1.7000 - val_acc: 0.1622\n",
            "Epoch 95/500\n",
            "1/1 [==============================] - 0s 25ms/step - loss: 0.6006 - acc: 0.9450 - val_loss: 1.6979 - val_acc: 0.1622\n",
            "Epoch 96/500\n",
            "1/1 [==============================] - 0s 32ms/step - loss: 0.6186 - acc: 0.9541 - val_loss: 1.6960 - val_acc: 0.1622\n",
            "Epoch 97/500\n",
            "1/1 [==============================] - 0s 26ms/step - loss: 0.5960 - acc: 0.9541 - val_loss: 1.6943 - val_acc: 0.1622\n",
            "Epoch 98/500\n",
            "1/1 [==============================] - 0s 26ms/step - loss: 0.5306 - acc: 0.9817 - val_loss: 1.6926 - val_acc: 0.1622\n",
            "Epoch 99/500\n",
            "1/1 [==============================] - 0s 25ms/step - loss: 0.6310 - acc: 0.9450 - val_loss: 1.6911 - val_acc: 0.1622\n",
            "Epoch 100/500\n",
            "1/1 [==============================] - 0s 24ms/step - loss: 0.5751 - acc: 0.9725 - val_loss: 1.6899 - val_acc: 0.1622\n",
            "Epoch 101/500\n",
            "1/1 [==============================] - 0s 29ms/step - loss: 0.5985 - acc: 0.9541 - val_loss: 1.6891 - val_acc: 0.1622\n",
            "Epoch 102/500\n",
            "1/1 [==============================] - 0s 30ms/step - loss: 0.5539 - acc: 0.9908 - val_loss: 1.6885 - val_acc: 0.1622\n",
            "Epoch 103/500\n",
            "1/1 [==============================] - 0s 25ms/step - loss: 0.5561 - acc: 0.9908 - val_loss: 1.6881 - val_acc: 0.1622\n",
            "Epoch 104/500\n",
            "1/1 [==============================] - 0s 25ms/step - loss: 0.5807 - acc: 0.9725 - val_loss: 1.6879 - val_acc: 0.1622\n",
            "Epoch 105/500\n",
            "1/1 [==============================] - 0s 23ms/step - loss: 0.6045 - acc: 0.9358 - val_loss: 1.6871 - val_acc: 0.1622\n",
            "Epoch 106/500\n",
            "1/1 [==============================] - 0s 24ms/step - loss: 0.6072 - acc: 0.9450 - val_loss: 1.6860 - val_acc: 0.1622\n",
            "Epoch 107/500\n",
            "1/1 [==============================] - 0s 28ms/step - loss: 0.5508 - acc: 0.9725 - val_loss: 1.6850 - val_acc: 0.1622\n",
            "Epoch 108/500\n",
            "1/1 [==============================] - 0s 24ms/step - loss: 0.5570 - acc: 0.9633 - val_loss: 1.6838 - val_acc: 0.1622\n",
            "Epoch 109/500\n",
            "1/1 [==============================] - 0s 25ms/step - loss: 0.6512 - acc: 0.9174 - val_loss: 1.6829 - val_acc: 0.1622\n",
            "Epoch 110/500\n",
            "1/1 [==============================] - 0s 24ms/step - loss: 0.6081 - acc: 0.9358 - val_loss: 1.6817 - val_acc: 0.1622\n",
            "Epoch 111/500\n",
            "1/1 [==============================] - 0s 24ms/step - loss: 0.5623 - acc: 0.9633 - val_loss: 1.6804 - val_acc: 0.1622\n",
            "Epoch 112/500\n",
            "1/1 [==============================] - 0s 23ms/step - loss: 0.5531 - acc: 0.9633 - val_loss: 1.6791 - val_acc: 0.1622\n",
            "Epoch 113/500\n",
            "1/1 [==============================] - 0s 31ms/step - loss: 0.5140 - acc: 0.9633 - val_loss: 1.6777 - val_acc: 0.1622\n",
            "Epoch 114/500\n",
            "1/1 [==============================] - 0s 27ms/step - loss: 0.5824 - acc: 0.9450 - val_loss: 1.6766 - val_acc: 0.1622\n",
            "Epoch 115/500\n",
            "1/1 [==============================] - 0s 25ms/step - loss: 0.5637 - acc: 0.9541 - val_loss: 1.6755 - val_acc: 0.1622\n",
            "Epoch 116/500\n",
            "1/1 [==============================] - 0s 25ms/step - loss: 0.5413 - acc: 0.9633 - val_loss: 1.6742 - val_acc: 0.1622\n",
            "Epoch 117/500\n",
            "1/1 [==============================] - 0s 24ms/step - loss: 0.5961 - acc: 0.9358 - val_loss: 1.6733 - val_acc: 0.1622\n",
            "Epoch 118/500\n",
            "1/1 [==============================] - 0s 24ms/step - loss: 0.5951 - acc: 0.9358 - val_loss: 1.6721 - val_acc: 0.1622\n",
            "Epoch 119/500\n",
            "1/1 [==============================] - 0s 24ms/step - loss: 0.5713 - acc: 0.9174 - val_loss: 1.6710 - val_acc: 0.1622\n",
            "Epoch 120/500\n",
            "1/1 [==============================] - 0s 28ms/step - loss: 0.5731 - acc: 0.9358 - val_loss: 1.6695 - val_acc: 0.1622\n",
            "Epoch 121/500\n",
            "1/1 [==============================] - 0s 23ms/step - loss: 0.5613 - acc: 0.9450 - val_loss: 1.6679 - val_acc: 0.1622\n",
            "Epoch 122/500\n",
            "1/1 [==============================] - 0s 26ms/step - loss: 0.5271 - acc: 0.9633 - val_loss: 1.6661 - val_acc: 0.1622\n",
            "Epoch 123/500\n",
            "1/1 [==============================] - 0s 22ms/step - loss: 0.6161 - acc: 0.9083 - val_loss: 1.6643 - val_acc: 0.1622\n",
            "Epoch 124/500\n",
            "1/1 [==============================] - 0s 24ms/step - loss: 0.6104 - acc: 0.8991 - val_loss: 1.6627 - val_acc: 0.1622\n",
            "Epoch 125/500\n",
            "1/1 [==============================] - 0s 31ms/step - loss: 0.5273 - acc: 0.9450 - val_loss: 1.6614 - val_acc: 0.1892\n",
            "Epoch 126/500\n",
            "1/1 [==============================] - 0s 24ms/step - loss: 0.5559 - acc: 0.9541 - val_loss: 1.6602 - val_acc: 0.1892\n",
            "Epoch 127/500\n",
            "1/1 [==============================] - 0s 25ms/step - loss: 0.5282 - acc: 0.9450 - val_loss: 1.6591 - val_acc: 0.1892\n",
            "Epoch 128/500\n",
            "1/1 [==============================] - 0s 25ms/step - loss: 0.5502 - acc: 0.9358 - val_loss: 1.6578 - val_acc: 0.1892\n",
            "Epoch 129/500\n",
            "1/1 [==============================] - 0s 23ms/step - loss: 0.5599 - acc: 0.9450 - val_loss: 1.6564 - val_acc: 0.1892\n",
            "Epoch 130/500\n",
            "1/1 [==============================] - 0s 23ms/step - loss: 0.5368 - acc: 0.9541 - val_loss: 1.6553 - val_acc: 0.1892\n",
            "Epoch 131/500\n",
            "1/1 [==============================] - 0s 26ms/step - loss: 0.5501 - acc: 0.9633 - val_loss: 1.6546 - val_acc: 0.1892\n",
            "Epoch 132/500\n",
            "1/1 [==============================] - 0s 25ms/step - loss: 0.5141 - acc: 0.9725 - val_loss: 1.6541 - val_acc: 0.1892\n",
            "Epoch 133/500\n",
            "1/1 [==============================] - 0s 23ms/step - loss: 0.5341 - acc: 0.9633 - val_loss: 1.6530 - val_acc: 0.1892\n",
            "Epoch 134/500\n",
            "1/1 [==============================] - 0s 33ms/step - loss: 0.5196 - acc: 0.9633 - val_loss: 1.6518 - val_acc: 0.1892\n",
            "Epoch 135/500\n",
            "1/1 [==============================] - 0s 24ms/step - loss: 0.5113 - acc: 0.9450 - val_loss: 1.6504 - val_acc: 0.1892\n",
            "Epoch 136/500\n",
            "1/1 [==============================] - 0s 25ms/step - loss: 0.4912 - acc: 0.9633 - val_loss: 1.6491 - val_acc: 0.1892\n",
            "Epoch 137/500\n",
            "1/1 [==============================] - 0s 23ms/step - loss: 0.4621 - acc: 0.9908 - val_loss: 1.6481 - val_acc: 0.1892\n",
            "Epoch 138/500\n",
            "1/1 [==============================] - 0s 27ms/step - loss: 0.4752 - acc: 1.0000 - val_loss: 1.6474 - val_acc: 0.1892\n",
            "Epoch 139/500\n",
            "1/1 [==============================] - 0s 33ms/step - loss: 0.4896 - acc: 0.9541 - val_loss: 1.6465 - val_acc: 0.1892\n",
            "Epoch 140/500\n",
            "1/1 [==============================] - 0s 25ms/step - loss: 0.5008 - acc: 0.9450 - val_loss: 1.6452 - val_acc: 0.1892\n",
            "Epoch 141/500\n",
            "1/1 [==============================] - 0s 25ms/step - loss: 0.5079 - acc: 0.9633 - val_loss: 1.6439 - val_acc: 0.2162\n",
            "Epoch 142/500\n",
            "1/1 [==============================] - 0s 25ms/step - loss: 0.4663 - acc: 0.9817 - val_loss: 1.6430 - val_acc: 0.1892\n",
            "Epoch 143/500\n",
            "1/1 [==============================] - 0s 25ms/step - loss: 0.5002 - acc: 0.9633 - val_loss: 1.6420 - val_acc: 0.1892\n",
            "Epoch 144/500\n",
            "1/1 [==============================] - 0s 27ms/step - loss: 0.4974 - acc: 0.9817 - val_loss: 1.6411 - val_acc: 0.1892\n",
            "Epoch 145/500\n",
            "1/1 [==============================] - 0s 24ms/step - loss: 0.5141 - acc: 0.9358 - val_loss: 1.6402 - val_acc: 0.1892\n",
            "Epoch 146/500\n",
            "1/1 [==============================] - 0s 26ms/step - loss: 0.5334 - acc: 0.9450 - val_loss: 1.6396 - val_acc: 0.1892\n",
            "Epoch 147/500\n",
            "1/1 [==============================] - 0s 23ms/step - loss: 0.5131 - acc: 0.9725 - val_loss: 1.6388 - val_acc: 0.1892\n",
            "Epoch 148/500\n",
            "1/1 [==============================] - 0s 26ms/step - loss: 0.4603 - acc: 0.9541 - val_loss: 1.6379 - val_acc: 0.1892\n",
            "Epoch 149/500\n",
            "1/1 [==============================] - 0s 30ms/step - loss: 0.4754 - acc: 0.9817 - val_loss: 1.6367 - val_acc: 0.1892\n",
            "Epoch 150/500\n",
            "1/1 [==============================] - 0s 25ms/step - loss: 0.4886 - acc: 0.9633 - val_loss: 1.6359 - val_acc: 0.1892\n",
            "Epoch 151/500\n",
            "1/1 [==============================] - 0s 24ms/step - loss: 0.5400 - acc: 0.9174 - val_loss: 1.6347 - val_acc: 0.1892\n",
            "Epoch 152/500\n",
            "1/1 [==============================] - 0s 45ms/step - loss: 0.4816 - acc: 0.9725 - val_loss: 1.6339 - val_acc: 0.1892\n",
            "Epoch 153/500\n",
            "1/1 [==============================] - 0s 28ms/step - loss: 0.5152 - acc: 0.9725 - val_loss: 1.6335 - val_acc: 0.1892\n",
            "Epoch 154/500\n",
            "1/1 [==============================] - 0s 26ms/step - loss: 0.4944 - acc: 0.9266 - val_loss: 1.6331 - val_acc: 0.1892\n",
            "Epoch 155/500\n",
            "1/1 [==============================] - 0s 24ms/step - loss: 0.5024 - acc: 0.9725 - val_loss: 1.6332 - val_acc: 0.1892\n",
            "Epoch 156/500\n",
            "1/1 [==============================] - 0s 31ms/step - loss: 0.4515 - acc: 0.9541 - val_loss: 1.6335 - val_acc: 0.1892\n",
            "Epoch 157/500\n",
            "1/1 [==============================] - 0s 34ms/step - loss: 0.5138 - acc: 0.9358 - val_loss: 1.6336 - val_acc: 0.1892\n",
            "Epoch 158/500\n",
            "1/1 [==============================] - 0s 25ms/step - loss: 0.4337 - acc: 0.9817 - val_loss: 1.6329 - val_acc: 0.1892\n",
            "Epoch 159/500\n",
            "1/1 [==============================] - 0s 28ms/step - loss: 0.4446 - acc: 0.9817 - val_loss: 1.6321 - val_acc: 0.1892\n",
            "Epoch 160/500\n",
            "1/1 [==============================] - 0s 26ms/step - loss: 0.4996 - acc: 0.9541 - val_loss: 1.6305 - val_acc: 0.1892\n",
            "Epoch 161/500\n",
            "1/1 [==============================] - 0s 25ms/step - loss: 0.4979 - acc: 0.9725 - val_loss: 1.6292 - val_acc: 0.1892\n",
            "Epoch 162/500\n",
            "1/1 [==============================] - 0s 26ms/step - loss: 0.5989 - acc: 0.8716 - val_loss: 1.6272 - val_acc: 0.1892\n",
            "Epoch 163/500\n",
            "1/1 [==============================] - 0s 25ms/step - loss: 0.4893 - acc: 0.9450 - val_loss: 1.6253 - val_acc: 0.1892\n",
            "Epoch 164/500\n",
            "1/1 [==============================] - 0s 27ms/step - loss: 0.4977 - acc: 0.9541 - val_loss: 1.6233 - val_acc: 0.1892\n",
            "Epoch 165/500\n",
            "1/1 [==============================] - 0s 26ms/step - loss: 0.4534 - acc: 0.9725 - val_loss: 1.6215 - val_acc: 0.2432\n",
            "Epoch 166/500\n",
            "1/1 [==============================] - 0s 26ms/step - loss: 0.4138 - acc: 0.9908 - val_loss: 1.6202 - val_acc: 0.2432\n",
            "Epoch 167/500\n",
            "1/1 [==============================] - 0s 24ms/step - loss: 0.4775 - acc: 0.9266 - val_loss: 1.6186 - val_acc: 0.2432\n",
            "Epoch 168/500\n",
            "1/1 [==============================] - 0s 23ms/step - loss: 0.4458 - acc: 0.9817 - val_loss: 1.6171 - val_acc: 0.2432\n",
            "Epoch 169/500\n",
            "1/1 [==============================] - 0s 26ms/step - loss: 0.4512 - acc: 0.9633 - val_loss: 1.6154 - val_acc: 0.2432\n",
            "Epoch 170/500\n",
            "1/1 [==============================] - 0s 27ms/step - loss: 0.4698 - acc: 0.9358 - val_loss: 1.6140 - val_acc: 0.2432\n",
            "Epoch 171/500\n",
            "1/1 [==============================] - 0s 25ms/step - loss: 0.4466 - acc: 0.9817 - val_loss: 1.6131 - val_acc: 0.2432\n",
            "Epoch 172/500\n",
            "1/1 [==============================] - 0s 27ms/step - loss: 0.4558 - acc: 0.9450 - val_loss: 1.6116 - val_acc: 0.2432\n",
            "Epoch 173/500\n",
            "1/1 [==============================] - 0s 24ms/step - loss: 0.4668 - acc: 0.9541 - val_loss: 1.6098 - val_acc: 0.2432\n",
            "Epoch 174/500\n",
            "1/1 [==============================] - 0s 24ms/step - loss: 0.4156 - acc: 0.9725 - val_loss: 1.6089 - val_acc: 0.2432\n",
            "Epoch 175/500\n",
            "1/1 [==============================] - 0s 31ms/step - loss: 0.4569 - acc: 0.9633 - val_loss: 1.6090 - val_acc: 0.2432\n",
            "Epoch 176/500\n",
            "1/1 [==============================] - 0s 24ms/step - loss: 0.4631 - acc: 0.9633 - val_loss: 1.6088 - val_acc: 0.2432\n",
            "Epoch 177/500\n",
            "1/1 [==============================] - 0s 24ms/step - loss: 0.4452 - acc: 0.9633 - val_loss: 1.6085 - val_acc: 0.2432\n",
            "Epoch 178/500\n",
            "1/1 [==============================] - 0s 26ms/step - loss: 0.4458 - acc: 0.9450 - val_loss: 1.6075 - val_acc: 0.2432\n",
            "Epoch 179/500\n",
            "1/1 [==============================] - 0s 26ms/step - loss: 0.4369 - acc: 0.9817 - val_loss: 1.6066 - val_acc: 0.2432\n",
            "Epoch 180/500\n",
            "1/1 [==============================] - 0s 24ms/step - loss: 0.5177 - acc: 0.9266 - val_loss: 1.6059 - val_acc: 0.2432\n",
            "Epoch 181/500\n",
            "1/1 [==============================] - 0s 25ms/step - loss: 0.4766 - acc: 0.9450 - val_loss: 1.6047 - val_acc: 0.2432\n",
            "Epoch 182/500\n",
            "1/1 [==============================] - 0s 29ms/step - loss: 0.5286 - acc: 0.9450 - val_loss: 1.6033 - val_acc: 0.2432\n",
            "Epoch 183/500\n",
            "1/1 [==============================] - 0s 24ms/step - loss: 0.4495 - acc: 0.9725 - val_loss: 1.6022 - val_acc: 0.2432\n",
            "Epoch 184/500\n",
            "1/1 [==============================] - 0s 27ms/step - loss: 0.4971 - acc: 0.9450 - val_loss: 1.6010 - val_acc: 0.2432\n",
            "Epoch 185/500\n",
            "1/1 [==============================] - 0s 26ms/step - loss: 0.3983 - acc: 0.9908 - val_loss: 1.6002 - val_acc: 0.2432\n",
            "Epoch 186/500\n",
            "1/1 [==============================] - 0s 28ms/step - loss: 0.4916 - acc: 0.9358 - val_loss: 1.5995 - val_acc: 0.2432\n",
            "Epoch 187/500\n",
            "1/1 [==============================] - 0s 24ms/step - loss: 0.4832 - acc: 0.9266 - val_loss: 1.5978 - val_acc: 0.2432\n",
            "Epoch 188/500\n",
            "1/1 [==============================] - 0s 42ms/step - loss: 0.4124 - acc: 0.9725 - val_loss: 1.5963 - val_acc: 0.2432\n",
            "Epoch 189/500\n",
            "1/1 [==============================] - 0s 25ms/step - loss: 0.4003 - acc: 0.9817 - val_loss: 1.5948 - val_acc: 0.2432\n",
            "Epoch 190/500\n",
            "1/1 [==============================] - 0s 28ms/step - loss: 0.4549 - acc: 0.9358 - val_loss: 1.5927 - val_acc: 0.2432\n",
            "Epoch 191/500\n",
            "1/1 [==============================] - 0s 32ms/step - loss: 0.4605 - acc: 0.9450 - val_loss: 1.5904 - val_acc: 0.2432\n",
            "Epoch 192/500\n",
            "1/1 [==============================] - 0s 24ms/step - loss: 0.5070 - acc: 0.8991 - val_loss: 1.5880 - val_acc: 0.2432\n",
            "Epoch 193/500\n",
            "1/1 [==============================] - 0s 32ms/step - loss: 0.4275 - acc: 0.9633 - val_loss: 1.5858 - val_acc: 0.2432\n",
            "Epoch 194/500\n",
            "1/1 [==============================] - 0s 23ms/step - loss: 0.4391 - acc: 0.9541 - val_loss: 1.5838 - val_acc: 0.2432\n",
            "Epoch 195/500\n",
            "1/1 [==============================] - 0s 24ms/step - loss: 0.4473 - acc: 0.9541 - val_loss: 1.5821 - val_acc: 0.2432\n",
            "Epoch 196/500\n",
            "1/1 [==============================] - 0s 24ms/step - loss: 0.4027 - acc: 0.9817 - val_loss: 1.5808 - val_acc: 0.2432\n",
            "Epoch 197/500\n",
            "1/1 [==============================] - 0s 23ms/step - loss: 0.4529 - acc: 0.9358 - val_loss: 1.5792 - val_acc: 0.2432\n",
            "Epoch 198/500\n",
            "1/1 [==============================] - 0s 25ms/step - loss: 0.4771 - acc: 0.9358 - val_loss: 1.5784 - val_acc: 0.2432\n",
            "Epoch 199/500\n",
            "1/1 [==============================] - 0s 38ms/step - loss: 0.4752 - acc: 0.9266 - val_loss: 1.5776 - val_acc: 0.2432\n",
            "Epoch 200/500\n",
            "1/1 [==============================] - 0s 25ms/step - loss: 0.4010 - acc: 0.9817 - val_loss: 1.5773 - val_acc: 0.2432\n",
            "Epoch 201/500\n",
            "1/1 [==============================] - 0s 24ms/step - loss: 0.3647 - acc: 0.9725 - val_loss: 1.5767 - val_acc: 0.2432\n",
            "Epoch 202/500\n",
            "1/1 [==============================] - 0s 28ms/step - loss: 0.4754 - acc: 0.9358 - val_loss: 1.5757 - val_acc: 0.2432\n",
            "Epoch 203/500\n",
            "1/1 [==============================] - 0s 25ms/step - loss: 0.3761 - acc: 0.9817 - val_loss: 1.5751 - val_acc: 0.2432\n",
            "Epoch 204/500\n",
            "1/1 [==============================] - 0s 30ms/step - loss: 0.4230 - acc: 0.9725 - val_loss: 1.5752 - val_acc: 0.2432\n",
            "Epoch 205/500\n",
            "1/1 [==============================] - 0s 25ms/step - loss: 0.4535 - acc: 0.9541 - val_loss: 1.5752 - val_acc: 0.2432\n",
            "Epoch 206/500\n",
            "1/1 [==============================] - 0s 25ms/step - loss: 0.3682 - acc: 0.9817 - val_loss: 1.5756 - val_acc: 0.2432\n",
            "Epoch 207/500\n",
            "1/1 [==============================] - 0s 23ms/step - loss: 0.3889 - acc: 0.9358 - val_loss: 1.5758 - val_acc: 0.2432\n",
            "Epoch 208/500\n",
            "1/1 [==============================] - 0s 26ms/step - loss: 0.3855 - acc: 0.9725 - val_loss: 1.5760 - val_acc: 0.2432\n",
            "Epoch 209/500\n",
            "1/1 [==============================] - 0s 26ms/step - loss: 0.3909 - acc: 0.9817 - val_loss: 1.5764 - val_acc: 0.2432\n",
            "Epoch 210/500\n",
            "1/1 [==============================] - 0s 35ms/step - loss: 0.4134 - acc: 0.9541 - val_loss: 1.5760 - val_acc: 0.2432\n",
            "Epoch 211/500\n",
            "1/1 [==============================] - 0s 26ms/step - loss: 0.3876 - acc: 0.9725 - val_loss: 1.5741 - val_acc: 0.2432\n",
            "Epoch 212/500\n",
            "1/1 [==============================] - 0s 27ms/step - loss: 0.4212 - acc: 0.9450 - val_loss: 1.5727 - val_acc: 0.2432\n",
            "Epoch 213/500\n",
            "1/1 [==============================] - 0s 24ms/step - loss: 0.3970 - acc: 0.9817 - val_loss: 1.5719 - val_acc: 0.2432\n",
            "Epoch 214/500\n",
            "1/1 [==============================] - 0s 24ms/step - loss: 0.3889 - acc: 0.9633 - val_loss: 1.5710 - val_acc: 0.2432\n",
            "Epoch 215/500\n",
            "1/1 [==============================] - 0s 28ms/step - loss: 0.4297 - acc: 0.9450 - val_loss: 1.5701 - val_acc: 0.2432\n",
            "Epoch 216/500\n",
            "1/1 [==============================] - 0s 23ms/step - loss: 0.3779 - acc: 0.9633 - val_loss: 1.5693 - val_acc: 0.2432\n",
            "Epoch 217/500\n",
            "1/1 [==============================] - 0s 27ms/step - loss: 0.4214 - acc: 0.9541 - val_loss: 1.5688 - val_acc: 0.2432\n",
            "Epoch 218/500\n",
            "1/1 [==============================] - 0s 23ms/step - loss: 0.3627 - acc: 0.9817 - val_loss: 1.5686 - val_acc: 0.2432\n",
            "Epoch 219/500\n",
            "1/1 [==============================] - 0s 30ms/step - loss: 0.4059 - acc: 0.9541 - val_loss: 1.5685 - val_acc: 0.2432\n",
            "Epoch 220/500\n",
            "1/1 [==============================] - 0s 25ms/step - loss: 0.3785 - acc: 0.9633 - val_loss: 1.5677 - val_acc: 0.2432\n",
            "Epoch 221/500\n",
            "1/1 [==============================] - 0s 25ms/step - loss: 0.3347 - acc: 0.9725 - val_loss: 1.5671 - val_acc: 0.2432\n",
            "Epoch 222/500\n",
            "1/1 [==============================] - 0s 24ms/step - loss: 0.4006 - acc: 0.9633 - val_loss: 1.5662 - val_acc: 0.2432\n",
            "Epoch 223/500\n",
            "1/1 [==============================] - 0s 29ms/step - loss: 0.4105 - acc: 0.9358 - val_loss: 1.5655 - val_acc: 0.2432\n",
            "Epoch 224/500\n",
            "1/1 [==============================] - 0s 26ms/step - loss: 0.4312 - acc: 0.9266 - val_loss: 1.5646 - val_acc: 0.2432\n",
            "Epoch 225/500\n",
            "1/1 [==============================] - 0s 29ms/step - loss: 0.3827 - acc: 0.9541 - val_loss: 1.5631 - val_acc: 0.2432\n",
            "Epoch 226/500\n",
            "1/1 [==============================] - 0s 29ms/step - loss: 0.3599 - acc: 0.9633 - val_loss: 1.5620 - val_acc: 0.2432\n",
            "Epoch 227/500\n",
            "1/1 [==============================] - 0s 34ms/step - loss: 0.4099 - acc: 0.9358 - val_loss: 1.5605 - val_acc: 0.2432\n",
            "Epoch 228/500\n",
            "1/1 [==============================] - 0s 49ms/step - loss: 0.4198 - acc: 0.9266 - val_loss: 1.5582 - val_acc: 0.2432\n",
            "Epoch 229/500\n",
            "1/1 [==============================] - 0s 29ms/step - loss: 0.3722 - acc: 0.9450 - val_loss: 1.5552 - val_acc: 0.2432\n",
            "Epoch 230/500\n",
            "1/1 [==============================] - 0s 27ms/step - loss: 0.3699 - acc: 0.9633 - val_loss: 1.5520 - val_acc: 0.2703\n",
            "Epoch 231/500\n",
            "1/1 [==============================] - 0s 26ms/step - loss: 0.3553 - acc: 0.9725 - val_loss: 1.5494 - val_acc: 0.2703\n",
            "Epoch 232/500\n",
            "1/1 [==============================] - 0s 27ms/step - loss: 0.3231 - acc: 1.0000 - val_loss: 1.5475 - val_acc: 0.2703\n",
            "Epoch 233/500\n",
            "1/1 [==============================] - 0s 24ms/step - loss: 0.4324 - acc: 0.9358 - val_loss: 1.5458 - val_acc: 0.2703\n",
            "Epoch 234/500\n",
            "1/1 [==============================] - 0s 30ms/step - loss: 0.4096 - acc: 0.9541 - val_loss: 1.5449 - val_acc: 0.2703\n",
            "Epoch 235/500\n",
            "1/1 [==============================] - 0s 31ms/step - loss: 0.3378 - acc: 0.9817 - val_loss: 1.5446 - val_acc: 0.2703\n",
            "Epoch 236/500\n",
            "1/1 [==============================] - 0s 26ms/step - loss: 0.3957 - acc: 0.9541 - val_loss: 1.5444 - val_acc: 0.2703\n",
            "Epoch 237/500\n",
            "1/1 [==============================] - 0s 35ms/step - loss: 0.4308 - acc: 0.9541 - val_loss: 1.5452 - val_acc: 0.2703\n",
            "Epoch 238/500\n",
            "1/1 [==============================] - 0s 25ms/step - loss: 0.4078 - acc: 0.9541 - val_loss: 1.5448 - val_acc: 0.2703\n",
            "Epoch 239/500\n",
            "1/1 [==============================] - 0s 26ms/step - loss: 0.4074 - acc: 0.9541 - val_loss: 1.5435 - val_acc: 0.2703\n",
            "Epoch 240/500\n",
            "1/1 [==============================] - 0s 26ms/step - loss: 0.3822 - acc: 0.9541 - val_loss: 1.5419 - val_acc: 0.2703\n",
            "Epoch 241/500\n",
            "1/1 [==============================] - 0s 30ms/step - loss: 0.4205 - acc: 0.9174 - val_loss: 1.5393 - val_acc: 0.2703\n",
            "Epoch 242/500\n",
            "1/1 [==============================] - 0s 31ms/step - loss: 0.3896 - acc: 0.9541 - val_loss: 1.5376 - val_acc: 0.2703\n",
            "Epoch 243/500\n",
            "1/1 [==============================] - 0s 30ms/step - loss: 0.3481 - acc: 0.9633 - val_loss: 1.5366 - val_acc: 0.2703\n",
            "Epoch 244/500\n",
            "1/1 [==============================] - 0s 45ms/step - loss: 0.4017 - acc: 0.9358 - val_loss: 1.5357 - val_acc: 0.2703\n",
            "Epoch 245/500\n",
            "1/1 [==============================] - 0s 31ms/step - loss: 0.3973 - acc: 0.9541 - val_loss: 1.5350 - val_acc: 0.2703\n",
            "Epoch 246/500\n",
            "1/1 [==============================] - 0s 24ms/step - loss: 0.3474 - acc: 0.9908 - val_loss: 1.5351 - val_acc: 0.2703\n",
            "Epoch 247/500\n",
            "1/1 [==============================] - 0s 31ms/step - loss: 0.3577 - acc: 0.9541 - val_loss: 1.5351 - val_acc: 0.2703\n",
            "Epoch 248/500\n",
            "1/1 [==============================] - 0s 28ms/step - loss: 0.3147 - acc: 0.9817 - val_loss: 1.5348 - val_acc: 0.2703\n",
            "Epoch 249/500\n",
            "1/1 [==============================] - 0s 24ms/step - loss: 0.3684 - acc: 0.9633 - val_loss: 1.5341 - val_acc: 0.2703\n",
            "Epoch 250/500\n",
            "1/1 [==============================] - 0s 27ms/step - loss: 0.3562 - acc: 0.9633 - val_loss: 1.5335 - val_acc: 0.2703\n",
            "Epoch 251/500\n",
            "1/1 [==============================] - 0s 25ms/step - loss: 0.3315 - acc: 0.9908 - val_loss: 1.5335 - val_acc: 0.2703\n",
            "Epoch 252/500\n",
            "1/1 [==============================] - 0s 38ms/step - loss: 0.3451 - acc: 0.9725 - val_loss: 1.5335 - val_acc: 0.2703\n",
            "Epoch 253/500\n",
            "1/1 [==============================] - 0s 25ms/step - loss: 0.3376 - acc: 0.9541 - val_loss: 1.5329 - val_acc: 0.2703\n",
            "Epoch 254/500\n",
            "1/1 [==============================] - 0s 25ms/step - loss: 0.3672 - acc: 0.9725 - val_loss: 1.5325 - val_acc: 0.2703\n",
            "Epoch 255/500\n",
            "1/1 [==============================] - 0s 25ms/step - loss: 0.3998 - acc: 0.9541 - val_loss: 1.5318 - val_acc: 0.2703\n",
            "Epoch 256/500\n",
            "1/1 [==============================] - 0s 25ms/step - loss: 0.3230 - acc: 0.9817 - val_loss: 1.5319 - val_acc: 0.2703\n",
            "Epoch 257/500\n",
            "1/1 [==============================] - 0s 24ms/step - loss: 0.4510 - acc: 0.9266 - val_loss: 1.5291 - val_acc: 0.2703\n",
            "Epoch 258/500\n",
            "1/1 [==============================] - 0s 24ms/step - loss: 0.3413 - acc: 0.9817 - val_loss: 1.5245 - val_acc: 0.2703\n",
            "Epoch 259/500\n",
            "1/1 [==============================] - 0s 23ms/step - loss: 0.3478 - acc: 0.9817 - val_loss: 1.5200 - val_acc: 0.2432\n",
            "Epoch 260/500\n",
            "1/1 [==============================] - 0s 34ms/step - loss: 0.3626 - acc: 0.9541 - val_loss: 1.5153 - val_acc: 0.2432\n",
            "Epoch 261/500\n",
            "1/1 [==============================] - 0s 32ms/step - loss: 0.3429 - acc: 0.9541 - val_loss: 1.5108 - val_acc: 0.2432\n",
            "Epoch 262/500\n",
            "1/1 [==============================] - 0s 28ms/step - loss: 0.3548 - acc: 0.9633 - val_loss: 1.5070 - val_acc: 0.2703\n",
            "Epoch 263/500\n",
            "1/1 [==============================] - 0s 27ms/step - loss: 0.3682 - acc: 0.9541 - val_loss: 1.5038 - val_acc: 0.3243\n",
            "Epoch 264/500\n",
            "1/1 [==============================] - 0s 40ms/step - loss: 0.3336 - acc: 0.9725 - val_loss: 1.5016 - val_acc: 0.3243\n",
            "Epoch 265/500\n",
            "1/1 [==============================] - 0s 25ms/step - loss: 0.3357 - acc: 0.9725 - val_loss: 1.5008 - val_acc: 0.3243\n",
            "Epoch 266/500\n",
            "1/1 [==============================] - 0s 26ms/step - loss: 0.3753 - acc: 0.9266 - val_loss: 1.5010 - val_acc: 0.3243\n",
            "Epoch 267/500\n",
            "1/1 [==============================] - 0s 27ms/step - loss: 0.3251 - acc: 0.9817 - val_loss: 1.5017 - val_acc: 0.2973\n",
            "Epoch 268/500\n",
            "1/1 [==============================] - 0s 28ms/step - loss: 0.4577 - acc: 0.9083 - val_loss: 1.5006 - val_acc: 0.2973\n",
            "Epoch 269/500\n",
            "1/1 [==============================] - 0s 25ms/step - loss: 0.3346 - acc: 0.9725 - val_loss: 1.5000 - val_acc: 0.2973\n",
            "Epoch 270/500\n",
            "1/1 [==============================] - 0s 28ms/step - loss: 0.4152 - acc: 0.9358 - val_loss: 1.5002 - val_acc: 0.2973\n",
            "Epoch 271/500\n",
            "1/1 [==============================] - 0s 26ms/step - loss: 0.4167 - acc: 0.9174 - val_loss: 1.4988 - val_acc: 0.2973\n",
            "Epoch 272/500\n",
            "1/1 [==============================] - 0s 26ms/step - loss: 0.3523 - acc: 0.9541 - val_loss: 1.4959 - val_acc: 0.3243\n",
            "Epoch 273/500\n",
            "1/1 [==============================] - 0s 25ms/step - loss: 0.3655 - acc: 0.9358 - val_loss: 1.4926 - val_acc: 0.3514\n",
            "Epoch 274/500\n",
            "1/1 [==============================] - 0s 27ms/step - loss: 0.3343 - acc: 0.9908 - val_loss: 1.4909 - val_acc: 0.3514\n",
            "Epoch 275/500\n",
            "1/1 [==============================] - 0s 30ms/step - loss: 0.3398 - acc: 0.9725 - val_loss: 1.4904 - val_acc: 0.3514\n",
            "Epoch 276/500\n",
            "1/1 [==============================] - 0s 26ms/step - loss: 0.3552 - acc: 0.9633 - val_loss: 1.4903 - val_acc: 0.3514\n",
            "Epoch 277/500\n",
            "1/1 [==============================] - 0s 26ms/step - loss: 0.3321 - acc: 0.9725 - val_loss: 1.4891 - val_acc: 0.3514\n",
            "Epoch 278/500\n",
            "1/1 [==============================] - 0s 27ms/step - loss: 0.3340 - acc: 0.9725 - val_loss: 1.4883 - val_acc: 0.3514\n",
            "Epoch 279/500\n",
            "1/1 [==============================] - 0s 29ms/step - loss: 0.3375 - acc: 0.9725 - val_loss: 1.4876 - val_acc: 0.3514\n",
            "Epoch 280/500\n",
            "1/1 [==============================] - 0s 35ms/step - loss: 0.3758 - acc: 0.9541 - val_loss: 1.4864 - val_acc: 0.3514\n",
            "Epoch 281/500\n",
            "1/1 [==============================] - 0s 31ms/step - loss: 0.3541 - acc: 0.9633 - val_loss: 1.4846 - val_acc: 0.3243\n",
            "Epoch 282/500\n",
            "1/1 [==============================] - 0s 32ms/step - loss: 0.3709 - acc: 0.9541 - val_loss: 1.4828 - val_acc: 0.3243\n",
            "Epoch 283/500\n",
            "1/1 [==============================] - 0s 44ms/step - loss: 0.3226 - acc: 0.9817 - val_loss: 1.4816 - val_acc: 0.3243\n",
            "Epoch 284/500\n",
            "1/1 [==============================] - 0s 28ms/step - loss: 0.4056 - acc: 0.9174 - val_loss: 1.4829 - val_acc: 0.3514\n",
            "Epoch 285/500\n",
            "1/1 [==============================] - 0s 34ms/step - loss: 0.3905 - acc: 0.9358 - val_loss: 1.4834 - val_acc: 0.3514\n",
            "Epoch 286/500\n",
            "1/1 [==============================] - 0s 30ms/step - loss: 0.3351 - acc: 0.9633 - val_loss: 1.4843 - val_acc: 0.3514\n",
            "Epoch 287/500\n",
            "1/1 [==============================] - 0s 29ms/step - loss: 0.3025 - acc: 0.9908 - val_loss: 1.4865 - val_acc: 0.3514\n",
            "Epoch 288/500\n",
            "1/1 [==============================] - 0s 25ms/step - loss: 0.3276 - acc: 0.9633 - val_loss: 1.4872 - val_acc: 0.3514\n",
            "Epoch 289/500\n",
            "1/1 [==============================] - 0s 27ms/step - loss: 0.3389 - acc: 0.9450 - val_loss: 1.4882 - val_acc: 0.3514\n",
            "Epoch 290/500\n",
            "1/1 [==============================] - 0s 28ms/step - loss: 0.3266 - acc: 0.9541 - val_loss: 1.4891 - val_acc: 0.3514\n",
            "Epoch 291/500\n",
            "1/1 [==============================] - 0s 35ms/step - loss: 0.3468 - acc: 0.9541 - val_loss: 1.4881 - val_acc: 0.3514\n",
            "Epoch 292/500\n",
            "1/1 [==============================] - 0s 25ms/step - loss: 0.3245 - acc: 0.9541 - val_loss: 1.4860 - val_acc: 0.3514\n",
            "Epoch 293/500\n",
            "1/1 [==============================] - 0s 32ms/step - loss: 0.3160 - acc: 0.9725 - val_loss: 1.4831 - val_acc: 0.3514\n",
            "Training Accuracy: 1.0000\n",
            "Testing Accuracy:  0.3243\n"
          ],
          "name": "stdout"
        },
        {
          "output_type": "display_data",
          "data": {
            "image/png": "[encoded data removed]",
            "text/plain": [
              "<Figure size 864x360 with 2 Axes>"
            ]
          },
          "metadata": {
            "tags": []
          }
        }
      ]
    },
    {
      "cell_type": "code",
      "metadata": {
        "colab": {
          "base_uri": "https://localhost:8080/"
        },
        "id": "Ir-WeRLeKul7",
        "outputId": "ff27dbe4-3684-44bd-d24b-618c8d4146f2"
      },
      "source": [
        "y_test[0]"
      ],
      "execution_count": 25,
      "outputs": [
        {
          "output_type": "execute_result",
          "data": {
            "text/plain": [
              "array([0., 1., 0., 0.], dtype=float32)"
            ]
          },
          "metadata": {
            "tags": []
          },
          "execution_count": 25
        }
      ]
    },
    {
      "cell_type": "code",
      "metadata": {
        "id": "nSeGVYTlK1wk"
      },
      "source": [
        "comentario = ['El presidente en alocución oficial pronunció un discurso de amor para toda la población, incitando a abrazar a todo aquel de la oposición y declarando que todas las posturas son válidas en el país.']"
      ],
      "execution_count": 26,
      "outputs": []
    },
    {
      "cell_type": "code",
      "metadata": {
        "id": "ZgtngVXuMayE"
      },
      "source": [
        "comentario = t.texts_to_sequences(comentario)\n"
      ],
      "execution_count": 27,
      "outputs": []
    },
    {
      "cell_type": "code",
      "metadata": {
        "id": "NKB6P4OdMekM"
      },
      "source": [
        "comentario = pad_sequences(comentario, padding = 'post',maxlen=maxlen)\n"
      ],
      "execution_count": 28,
      "outputs": []
    },
    {
      "cell_type": "code",
      "metadata": {
        "colab": {
          "base_uri": "https://localhost:8080/"
        },
        "id": "TIW2RY8lMhXM",
        "outputId": "5038f71c-6050-45be-fcaa-f64502084db8"
      },
      "source": [
        "np.argmax(model.predict(comentario), axis=-1)"
      ],
      "execution_count": 29,
      "outputs": [
        {
          "output_type": "execute_result",
          "data": {
            "text/plain": [
              "array([2])"
            ]
          },
          "metadata": {
            "tags": []
          },
          "execution_count": 29
        }
      ]
    },
    {
      "cell_type": "code",
      "metadata": {
        "id": "TynHNIptMoJ9",
        "colab": {
          "base_uri": "https://localhost:8080/"
        },
        "outputId": "6d793754-eb41-4695-cb0c-99417c2c8e41"
      },
      "source": [
        "X_train.shape[1]"
      ],
      "execution_count": 30,
      "outputs": [
        {
          "output_type": "execute_result",
          "data": {
            "text/plain": [
              "76"
            ]
          },
          "metadata": {
            "tags": []
          },
          "execution_count": 30
        }
      ]
    }
  ]
}