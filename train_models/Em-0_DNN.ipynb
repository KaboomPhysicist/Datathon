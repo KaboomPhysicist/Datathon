{
  "nbformat": 4,
  "nbformat_minor": 0,
  "metadata": {
    "colab": {
      "name": "Em-0_DNN.ipynb",
      "provenance": [],
      "collapsed_sections": []
    },
    "kernelspec": {
      "name": "python3",
      "display_name": "Python 3"
    },
    "language_info": {
      "name": "python"
    },
    "accelerator": "GPU"
  },
  "cells": [
    {
      "cell_type": "code",
      "metadata": {
        "colab": {
          "base_uri": "https://localhost:8080/"
        },
        "id": "DzPbmPqCHEEv",
        "outputId": "a9685648-1276-40b0-d107-eb6591194fc7"
      },
      "source": [
        "from google.colab import drive\n",
        "drive.mount('/content/drive/')"
      ],
      "execution_count": null,
      "outputs": [
        {
          "output_type": "stream",
          "text": [
            "Mounted at /content/drive/\n"
          ],
          "name": "stdout"
        }
      ]
    },
    {
      "cell_type": "code",
      "metadata": {
        "id": "MkKUN5C2KtaY"
      },
      "source": [
        ""
      ],
      "execution_count": null,
      "outputs": []
    },
    {
      "cell_type": "code",
      "metadata": {
        "id": "IDYykDIdIAmF"
      },
      "source": [
        "import pandas as pd\n",
        "\n",
        "File = '/content/drive/MyDrive/Algoritmos/Datathon/Datos/IdentificacionSesgo - DataSet29.06.csv'\n",
        "df = pd.read_csv(File, header = 0)"
      ],
      "execution_count": null,
      "outputs": []
    },
    {
      "cell_type": "code",
      "metadata": {
        "id": "2RaQTkKBIK1M"
      },
      "source": [
        "df['GravedadMode'] = df['Gravedad'].str.split(',',expand=True).mode(axis=1, numeric_only=False, dropna=True)[0]\n"
      ],
      "execution_count": null,
      "outputs": []
    },
    {
      "cell_type": "code",
      "metadata": {
        "id": "i2Gk8nFTIWvf"
      },
      "source": [
        "df = df[['Item (Texto)', 'GravedadMode']]\n"
      ],
      "execution_count": null,
      "outputs": []
    },
    {
      "cell_type": "code",
      "metadata": {
        "colab": {
          "base_uri": "https://localhost:8080/"
        },
        "id": "pX2wBnHlIZdf",
        "outputId": "40b7718e-ee15-4388-9cd9-852a20b585b1"
      },
      "source": [
        "df.iloc[0]"
      ],
      "execution_count": null,
      "outputs": [
        {
          "output_type": "execute_result",
          "data": {
            "text/plain": [
              "Item (Texto)    Las protestas, sin precedentes, ya completan c...\n",
              "GravedadMode                                                    2\n",
              "Name: 0, dtype: object"
            ]
          },
          "metadata": {
            "tags": []
          },
          "execution_count": 5
        }
      ]
    },
    {
      "cell_type": "code",
      "metadata": {
        "id": "-CwlbvXoK4MJ"
      },
      "source": [
        "X = df['Item (Texto)'].values\n",
        "y = df['GravedadMode'].values"
      ],
      "execution_count": null,
      "outputs": []
    },
    {
      "cell_type": "code",
      "metadata": {
        "id": "TDWAHcXLKGRc"
      },
      "source": [
        "from tensorflow import keras\n",
        "%tensorflow_version 2.x"
      ],
      "execution_count": null,
      "outputs": []
    },
    {
      "cell_type": "code",
      "metadata": {
        "id": "7O-L20GrKqpC"
      },
      "source": [
        "from tensorflow.keras.preprocessing.text import Tokenizer\n",
        "from tensorflow.keras.preprocessing.text import text_to_word_sequence"
      ],
      "execution_count": null,
      "outputs": []
    },
    {
      "cell_type": "code",
      "metadata": {
        "id": "V1XOfgu4KvGy"
      },
      "source": [
        "t = Tokenizer()\n",
        "t.fit_on_texts(X)"
      ],
      "execution_count": null,
      "outputs": []
    },
    {
      "cell_type": "code",
      "metadata": {
        "colab": {
          "base_uri": "https://localhost:8080/"
        },
        "id": "Jqu2d33TLWTu",
        "outputId": "f8d21370-250f-42ad-c479-20debc40f7aa"
      },
      "source": [
        "vocab_size = len(t.word_index) + 1\n",
        "print(vocab_size) #número de palabras únicas"
      ],
      "execution_count": null,
      "outputs": [
        {
          "output_type": "stream",
          "text": [
            "3209\n"
          ],
          "name": "stdout"
        }
      ]
    },
    {
      "cell_type": "code",
      "metadata": {
        "id": "CaEWVByfLXaf"
      },
      "source": [
        "sequences = t.texts_to_sequences(X)"
      ],
      "execution_count": null,
      "outputs": []
    },
    {
      "cell_type": "code",
      "metadata": {
        "colab": {
          "base_uri": "https://localhost:8080/"
        },
        "id": "14VkOkRcLmpS",
        "outputId": "c178c10c-8b7b-4348-8dfd-d7836ed61f95"
      },
      "source": [
        "print(X[2])\n",
        "print(sequences[2])"
      ],
      "execution_count": null,
      "outputs": [
        {
          "output_type": "stream",
          "text": [
            "Una patrullera de la Policía Nacional denunció este jueves que fue violada por vándalos en Cali, Valle del Cauca. La oficial se encontraba en labores de seguridad durante las manifestaciones del pasado 29 de abril cuando ocurrieron los hechos. Había sido asignada para brindar seguridad en un sector al oriente de Cali. En medio de los actos vandálicos, ella ingresó al CAI para protegerse. Pero los vándalos la emprendieron contra las instalaciones y lo prendieron fuego. Allí, esta mujer empezó a vivir los momentos más duros de su vida.\n",
            "[14, 1137, 1, 2, 34, 20, 433, 30, 255, 3, 42, 1138, 12, 434, 5, 32, 110, 11, 101, 2, 435, 10, 654, 5, 1139, 1, 82, 53, 9, 111, 11, 74, 1140, 1, 102, 50, 436, 7, 51, 202, 54, 1141, 16, 1142, 82, 5, 13, 103, 18, 1143, 1, 32, 5, 104, 1, 7, 256, 437, 655, 1144, 18, 438, 16, 1145, 44, 7, 434, 2, 1146, 35, 9, 439, 6, 29, 1147, 143, 203, 83, 656, 1148, 8, 1149, 7, 315, 23, 1150, 1, 21, 84]\n"
          ],
          "name": "stdout"
        }
      ]
    },
    {
      "cell_type": "code",
      "metadata": {
        "id": "AQIzvmTXMBl1"
      },
      "source": [
        "def max_sequence():\n",
        "    for i in range(1, len(sequences)):\n",
        "        max_length = len(sequences[0])\n",
        "        if len(sequences[i]) > max_length:\n",
        "            max_length = len(sequences[i])\n",
        "    return max_length"
      ],
      "execution_count": null,
      "outputs": []
    },
    {
      "cell_type": "code",
      "metadata": {
        "colab": {
          "base_uri": "https://localhost:8080/"
        },
        "id": "tDU881cuMJ4S",
        "outputId": "51c79847-84bc-49b0-9ec3-a092b1156f55"
      },
      "source": [
        "maxlen = max_sequence()\n",
        "\n",
        "maxlen"
      ],
      "execution_count": null,
      "outputs": [
        {
          "output_type": "execute_result",
          "data": {
            "text/plain": [
              "76"
            ]
          },
          "metadata": {
            "tags": []
          },
          "execution_count": 14
        }
      ]
    },
    {
      "cell_type": "code",
      "metadata": {
        "id": "8ugH_8W4MNhT"
      },
      "source": [
        "from tensorflow.keras.preprocessing.sequence import pad_sequences\n",
        "\n",
        "padded_X = pad_sequences(sequences, padding='post', maxlen=maxlen)"
      ],
      "execution_count": null,
      "outputs": []
    },
    {
      "cell_type": "code",
      "metadata": {
        "colab": {
          "base_uri": "https://localhost:8080/"
        },
        "id": "QByMZqgsMd8y",
        "outputId": "39206f2a-22f9-4c50-8fae-bc61b306bf3e"
      },
      "source": [
        "padded_X[0,:]"
      ],
      "execution_count": null,
      "outputs": [
        {
          "output_type": "execute_result",
          "data": {
            "text/plain": [
              "array([   9,   39,   33,  429,   67, 1100, 1101,   13,   81,   10,   25,\n",
              "       1102,    1,  313,   12,  142,    1,    2,   88,    6,  126,   18,\n",
              "       1103,    1,    2, 1104,    8,   73,    1,   57,    6,  251,    5,\n",
              "          4,   26,   98,  430,    1,    9,  643,    1,    7,   37,   64,\n",
              "        644,    0,    0,    0,    0,    0,    0,    0,    0,    0,    0,\n",
              "          0,    0,    0,    0,    0,    0,    0,    0,    0,    0,    0,\n",
              "          0,    0,    0,    0,    0,    0,    0,    0,    0,    0],\n",
              "      dtype=int32)"
            ]
          },
          "metadata": {
            "tags": []
          },
          "execution_count": 16
        }
      ]
    },
    {
      "cell_type": "code",
      "metadata": {
        "id": "0ryRQgXlMnp6"
      },
      "source": [
        "from tensorflow.keras.utils import to_categorical\n",
        "import numpy as np\n",
        "\n",
        "labels = to_categorical(np.asarray(y))"
      ],
      "execution_count": null,
      "outputs": []
    },
    {
      "cell_type": "code",
      "metadata": {
        "colab": {
          "base_uri": "https://localhost:8080/"
        },
        "id": "6sIUpNTLMyoU",
        "outputId": "f243c5ff-1a30-448f-9cd6-aeafebc2bdcd"
      },
      "source": [
        "labels[:3]"
      ],
      "execution_count": null,
      "outputs": [
        {
          "output_type": "execute_result",
          "data": {
            "text/plain": [
              "array([[0., 0., 1., 0.],\n",
              "       [0., 1., 0., 0.],\n",
              "       [0., 0., 0., 1.]], dtype=float32)"
            ]
          },
          "metadata": {
            "tags": []
          },
          "execution_count": 18
        }
      ]
    },
    {
      "cell_type": "code",
      "metadata": {
        "id": "nSl-4MpaMyDj"
      },
      "source": [
        "from sklearn.model_selection import train_test_split\n",
        "\n",
        "X_train, X_test, y_train, y_test = train_test_split(padded_X, labels, test_size = 0.25, random_state = 0)"
      ],
      "execution_count": null,
      "outputs": []
    },
    {
      "cell_type": "code",
      "metadata": {
        "colab": {
          "base_uri": "https://localhost:8080/"
        },
        "id": "3NRkLIYoNQCl",
        "outputId": "c2dc13f2-053b-4e8d-a5d0-30c821525d46"
      },
      "source": [
        "print('X_train size:', X_train.shape)\n",
        "print('y_train size:', y_train.shape)\n",
        "print('X_test size:', X_test.shape)\n",
        "print('y_test size:', y_test.shape)"
      ],
      "execution_count": null,
      "outputs": [
        {
          "output_type": "stream",
          "text": [
            "X_train size: (109, 76)\n",
            "y_train size: (109, 4)\n",
            "X_test size: (37, 76)\n",
            "y_test size: (37, 4)\n"
          ],
          "name": "stdout"
        }
      ]
    },
    {
      "cell_type": "code",
      "metadata": {
        "id": "qccAMQ-nQFEg"
      },
      "source": [
        "keras.backend.clear_session()"
      ],
      "execution_count": null,
      "outputs": []
    },
    {
      "cell_type": "code",
      "metadata": {
        "colab": {
          "base_uri": "https://localhost:8080/"
        },
        "id": "C_PtccXxOBPj",
        "outputId": "c66c295d-60d8-4f51-f845-325ce6b8776d"
      },
      "source": [
        "# aver\n",
        "\n",
        "from keras.models import Sequential\n",
        "from keras import layers\n",
        "\n",
        "embedding_dim = 50\n",
        "\n",
        "model = Sequential()\n",
        "model.add(layers.Embedding(input_dim=vocab_size, \n",
        "                           output_dim=embedding_dim, \n",
        "                           input_length=maxlen))\n",
        "model.add(layers.GlobalMaxPool1D())\n",
        "model.add(layers.Dense(10, activation='relu', kernel_initializer='he_uniform', kernel_regularizer=keras.regularizers.l2(0.01),bias_regularizer='l2'))\n",
        "model.add(layers.Dropout(0.2))\n",
        "model.add(layers.Dense(10, activation='relu', kernel_initializer='he_uniform', kernel_regularizer=keras.regularizers.l2(0.01),bias_regularizer='l2'))\n",
        "model.add(layers.BatchNormalization())\n",
        "model.add(layers.Dense(4, activation='softmax'))\n",
        "model.compile(optimizer='adam',\n",
        "              loss='categorical_crossentropy',\n",
        "              metrics=['acc'])\n",
        "model.summary()"
      ],
      "execution_count": null,
      "outputs": [
        {
          "output_type": "stream",
          "text": [
            "Model: \"sequential\"\n",
            "_________________________________________________________________\n",
            "Layer (type)                 Output Shape              Param #   \n",
            "=================================================================\n",
            "embedding (Embedding)        (None, 76, 50)            160450    \n",
            "_________________________________________________________________\n",
            "global_max_pooling1d (Global (None, 50)                0         \n",
            "_________________________________________________________________\n",
            "dense (Dense)                (None, 10)                510       \n",
            "_________________________________________________________________\n",
            "dropout (Dropout)            (None, 10)                0         \n",
            "_________________________________________________________________\n",
            "dense_1 (Dense)              (None, 10)                110       \n",
            "_________________________________________________________________\n",
            "dense_2 (Dense)              (None, 4)                 44        \n",
            "=================================================================\n",
            "Total params: 161,114\n",
            "Trainable params: 161,114\n",
            "Non-trainable params: 0\n",
            "_________________________________________________________________\n"
          ],
          "name": "stdout"
        }
      ]
    },
    {
      "cell_type": "code",
      "metadata": {
        "id": "LvA_9tcgOe_b"
      },
      "source": [
        "import matplotlib.pyplot as plt\n",
        "plt.style.use('ggplot')\n",
        "\n",
        "def plot_history(history):\n",
        "    acc = history.history['acc']\n",
        "    val_acc = history.history['val_acc']\n",
        "    loss = history.history['loss']\n",
        "    val_loss = history.history['val_loss']\n",
        "    x = range(1, len(acc) + 1)\n",
        "\n",
        "    plt.figure(figsize=(12, 5))\n",
        "    plt.subplot(1, 2, 1)\n",
        "    plt.plot(x, acc, 'b', label='Training acc')\n",
        "    plt.plot(x, val_acc, 'r', label='Validation acc')\n",
        "    plt.title('Training and validation accuracy')\n",
        "    plt.legend()\n",
        "    plt.subplot(1, 2, 2)\n",
        "    plt.plot(x, loss, 'b', label='Training loss')\n",
        "    plt.plot(x, val_loss, 'r', label='Validation loss')\n",
        "    plt.title('Training and validation loss')\n",
        "    plt.legend()"
      ],
      "execution_count": null,
      "outputs": []
    },
    {
      "cell_type": "code",
      "metadata": {
        "colab": {
          "base_uri": "https://localhost:8080/",
          "height": 1000
        },
        "id": "rwU4nx5aOaxq",
        "outputId": "7c50e4af-9382-42b9-d297-e663365b1ff5"
      },
      "source": [
        "early_stopping = keras.callbacks.EarlyStopping(monitor='val_loss', patience=10, restore_best_weights=True)\n",
        "\n",
        "history = model.fit(X_train, y_train,\n",
        "                    epochs=500,\n",
        "                    validation_data=(X_test, y_test),\n",
        "                    batch_size=256, callbacks=[early_stopping])\n",
        "loss, accuracy = model.evaluate(X_train, y_train, verbose=False)\n",
        "print(\"Training Accuracy: {:.4f}\".format(accuracy))\n",
        "loss, accuracy = model.evaluate(X_test, y_test, verbose=False)\n",
        "print(\"Testing Accuracy:  {:.4f}\".format(accuracy))\n",
        "plot_history(history)"
      ],
      "execution_count": null,
      "outputs": [
        {
          "output_type": "stream",
          "text": [
            "Epoch 1/500\n",
            "1/1 [==============================] - 12s 12s/step - loss: 1.7906 - acc: 0.3119 - val_loss: 1.7994 - val_acc: 0.1351\n",
            "Epoch 2/500\n",
            "1/1 [==============================] - 0s 25ms/step - loss: 1.7814 - acc: 0.3119 - val_loss: 1.7973 - val_acc: 0.1351\n",
            "Epoch 3/500\n",
            "1/1 [==============================] - 0s 22ms/step - loss: 1.7770 - acc: 0.3119 - val_loss: 1.7952 - val_acc: 0.1351\n",
            "Epoch 4/500\n",
            "1/1 [==============================] - 0s 22ms/step - loss: 1.7735 - acc: 0.3119 - val_loss: 1.7932 - val_acc: 0.1351\n",
            "Epoch 5/500\n",
            "1/1 [==============================] - 0s 25ms/step - loss: 1.7691 - acc: 0.3119 - val_loss: 1.7909 - val_acc: 0.1351\n",
            "Epoch 6/500\n",
            "1/1 [==============================] - 0s 22ms/step - loss: 1.7676 - acc: 0.3119 - val_loss: 1.7885 - val_acc: 0.1351\n",
            "Epoch 7/500\n",
            "1/1 [==============================] - 0s 25ms/step - loss: 1.7609 - acc: 0.3119 - val_loss: 1.7861 - val_acc: 0.1351\n",
            "Epoch 8/500\n",
            "1/1 [==============================] - 0s 27ms/step - loss: 1.7575 - acc: 0.3119 - val_loss: 1.7836 - val_acc: 0.1351\n",
            "Epoch 9/500\n",
            "1/1 [==============================] - 0s 23ms/step - loss: 1.7517 - acc: 0.3119 - val_loss: 1.7811 - val_acc: 0.1351\n",
            "Epoch 10/500\n",
            "1/1 [==============================] - 0s 23ms/step - loss: 1.7478 - acc: 0.3119 - val_loss: 1.7787 - val_acc: 0.1351\n",
            "Epoch 11/500\n",
            "1/1 [==============================] - 0s 24ms/step - loss: 1.7425 - acc: 0.3119 - val_loss: 1.7763 - val_acc: 0.1351\n",
            "Epoch 12/500\n",
            "1/1 [==============================] - 0s 29ms/step - loss: 1.7447 - acc: 0.3119 - val_loss: 1.7739 - val_acc: 0.1351\n",
            "Epoch 13/500\n",
            "1/1 [==============================] - 0s 25ms/step - loss: 1.7364 - acc: 0.3119 - val_loss: 1.7716 - val_acc: 0.1351\n",
            "Epoch 14/500\n",
            "1/1 [==============================] - 0s 26ms/step - loss: 1.7311 - acc: 0.3119 - val_loss: 1.7694 - val_acc: 0.1351\n",
            "Epoch 15/500\n",
            "1/1 [==============================] - 0s 26ms/step - loss: 1.7264 - acc: 0.3119 - val_loss: 1.7673 - val_acc: 0.1351\n",
            "Epoch 16/500\n",
            "1/1 [==============================] - 0s 24ms/step - loss: 1.7298 - acc: 0.3119 - val_loss: 1.7652 - val_acc: 0.1351\n",
            "Epoch 17/500\n",
            "1/1 [==============================] - 0s 27ms/step - loss: 1.7207 - acc: 0.3119 - val_loss: 1.7631 - val_acc: 0.1351\n",
            "Epoch 18/500\n",
            "1/1 [==============================] - 0s 23ms/step - loss: 1.7174 - acc: 0.3119 - val_loss: 1.7610 - val_acc: 0.1351\n",
            "Epoch 19/500\n",
            "1/1 [==============================] - 0s 24ms/step - loss: 1.7150 - acc: 0.3119 - val_loss: 1.7590 - val_acc: 0.1351\n",
            "Epoch 20/500\n",
            "1/1 [==============================] - 0s 24ms/step - loss: 1.7115 - acc: 0.3119 - val_loss: 1.7569 - val_acc: 0.1351\n",
            "Epoch 21/500\n",
            "1/1 [==============================] - 0s 25ms/step - loss: 1.7000 - acc: 0.3119 - val_loss: 1.7549 - val_acc: 0.1351\n",
            "Epoch 22/500\n",
            "1/1 [==============================] - 0s 27ms/step - loss: 1.6978 - acc: 0.3119 - val_loss: 1.7529 - val_acc: 0.1351\n",
            "Epoch 23/500\n",
            "1/1 [==============================] - 0s 25ms/step - loss: 1.6987 - acc: 0.3119 - val_loss: 1.7509 - val_acc: 0.1351\n",
            "Epoch 24/500\n",
            "1/1 [==============================] - 0s 23ms/step - loss: 1.6920 - acc: 0.3119 - val_loss: 1.7490 - val_acc: 0.1351\n",
            "Epoch 25/500\n",
            "1/1 [==============================] - 0s 27ms/step - loss: 1.6863 - acc: 0.3119 - val_loss: 1.7472 - val_acc: 0.1351\n",
            "Epoch 26/500\n",
            "1/1 [==============================] - 0s 28ms/step - loss: 1.6812 - acc: 0.3119 - val_loss: 1.7456 - val_acc: 0.1351\n",
            "Epoch 27/500\n",
            "1/1 [==============================] - 0s 30ms/step - loss: 1.6811 - acc: 0.3119 - val_loss: 1.7438 - val_acc: 0.1351\n",
            "Epoch 28/500\n",
            "1/1 [==============================] - 0s 30ms/step - loss: 1.6777 - acc: 0.3119 - val_loss: 1.7421 - val_acc: 0.1351\n",
            "Epoch 29/500\n",
            "1/1 [==============================] - 0s 27ms/step - loss: 1.6732 - acc: 0.3119 - val_loss: 1.7404 - val_acc: 0.1351\n",
            "Epoch 30/500\n",
            "1/1 [==============================] - 0s 24ms/step - loss: 1.6749 - acc: 0.3119 - val_loss: 1.7387 - val_acc: 0.1351\n",
            "Epoch 31/500\n",
            "1/1 [==============================] - 0s 29ms/step - loss: 1.6759 - acc: 0.3119 - val_loss: 1.7369 - val_acc: 0.1351\n",
            "Epoch 32/500\n",
            "1/1 [==============================] - 0s 21ms/step - loss: 1.6652 - acc: 0.3119 - val_loss: 1.7353 - val_acc: 0.1351\n",
            "Epoch 33/500\n",
            "1/1 [==============================] - 0s 24ms/step - loss: 1.6514 - acc: 0.3119 - val_loss: 1.7338 - val_acc: 0.1351\n",
            "Epoch 34/500\n",
            "1/1 [==============================] - 0s 25ms/step - loss: 1.6507 - acc: 0.3119 - val_loss: 1.7323 - val_acc: 0.1351\n",
            "Epoch 35/500\n",
            "1/1 [==============================] - 0s 23ms/step - loss: 1.6500 - acc: 0.3119 - val_loss: 1.7307 - val_acc: 0.1351\n",
            "Epoch 36/500\n",
            "1/1 [==============================] - 0s 24ms/step - loss: 1.6470 - acc: 0.3119 - val_loss: 1.7291 - val_acc: 0.1351\n",
            "Epoch 37/500\n",
            "1/1 [==============================] - 0s 22ms/step - loss: 1.6378 - acc: 0.3119 - val_loss: 1.7275 - val_acc: 0.1351\n",
            "Epoch 38/500\n",
            "1/1 [==============================] - 0s 23ms/step - loss: 1.6356 - acc: 0.3119 - val_loss: 1.7261 - val_acc: 0.1351\n",
            "Epoch 39/500\n",
            "1/1 [==============================] - 0s 24ms/step - loss: 1.6403 - acc: 0.3119 - val_loss: 1.7245 - val_acc: 0.1351\n",
            "Epoch 40/500\n",
            "1/1 [==============================] - 0s 25ms/step - loss: 1.6299 - acc: 0.3119 - val_loss: 1.7229 - val_acc: 0.1351\n",
            "Epoch 41/500\n",
            "1/1 [==============================] - 0s 28ms/step - loss: 1.6345 - acc: 0.3119 - val_loss: 1.7213 - val_acc: 0.1351\n",
            "Epoch 42/500\n",
            "1/1 [==============================] - 0s 26ms/step - loss: 1.6115 - acc: 0.3119 - val_loss: 1.7198 - val_acc: 0.1351\n",
            "Epoch 43/500\n",
            "1/1 [==============================] - 0s 32ms/step - loss: 1.6160 - acc: 0.3119 - val_loss: 1.7185 - val_acc: 0.1351\n",
            "Epoch 44/500\n",
            "1/1 [==============================] - 0s 27ms/step - loss: 1.6054 - acc: 0.3119 - val_loss: 1.7170 - val_acc: 0.1351\n",
            "Epoch 45/500\n",
            "1/1 [==============================] - 0s 25ms/step - loss: 1.6128 - acc: 0.3119 - val_loss: 1.7154 - val_acc: 0.1351\n",
            "Epoch 46/500\n",
            "1/1 [==============================] - 0s 24ms/step - loss: 1.6010 - acc: 0.3119 - val_loss: 1.7139 - val_acc: 0.1351\n",
            "Epoch 47/500\n",
            "1/1 [==============================] - 0s 46ms/step - loss: 1.5958 - acc: 0.3119 - val_loss: 1.7125 - val_acc: 0.1351\n",
            "Epoch 48/500\n",
            "1/1 [==============================] - 0s 34ms/step - loss: 1.5887 - acc: 0.3119 - val_loss: 1.7112 - val_acc: 0.1351\n",
            "Epoch 49/500\n",
            "1/1 [==============================] - 0s 24ms/step - loss: 1.5781 - acc: 0.3119 - val_loss: 1.7100 - val_acc: 0.1351\n",
            "Epoch 50/500\n",
            "1/1 [==============================] - 0s 24ms/step - loss: 1.5757 - acc: 0.3119 - val_loss: 1.7088 - val_acc: 0.1351\n",
            "Epoch 51/500\n",
            "1/1 [==============================] - 0s 24ms/step - loss: 1.5640 - acc: 0.3119 - val_loss: 1.7075 - val_acc: 0.1351\n",
            "Epoch 52/500\n",
            "1/1 [==============================] - 0s 24ms/step - loss: 1.5724 - acc: 0.3119 - val_loss: 1.7062 - val_acc: 0.1351\n",
            "Epoch 53/500\n",
            "1/1 [==============================] - 0s 23ms/step - loss: 1.5607 - acc: 0.3119 - val_loss: 1.7049 - val_acc: 0.1351\n",
            "Epoch 54/500\n",
            "1/1 [==============================] - 0s 27ms/step - loss: 1.5486 - acc: 0.3119 - val_loss: 1.7037 - val_acc: 0.1351\n",
            "Epoch 55/500\n",
            "1/1 [==============================] - 0s 32ms/step - loss: 1.5585 - acc: 0.3211 - val_loss: 1.7024 - val_acc: 0.1351\n",
            "Epoch 56/500\n",
            "1/1 [==============================] - 0s 29ms/step - loss: 1.5510 - acc: 0.3119 - val_loss: 1.7010 - val_acc: 0.1351\n",
            "Epoch 57/500\n",
            "1/1 [==============================] - 0s 45ms/step - loss: 1.5474 - acc: 0.3211 - val_loss: 1.6995 - val_acc: 0.1351\n",
            "Epoch 58/500\n",
            "1/1 [==============================] - 0s 26ms/step - loss: 1.5347 - acc: 0.3119 - val_loss: 1.6980 - val_acc: 0.1351\n",
            "Epoch 59/500\n",
            "1/1 [==============================] - 0s 27ms/step - loss: 1.5332 - acc: 0.3303 - val_loss: 1.6965 - val_acc: 0.1351\n",
            "Epoch 60/500\n",
            "1/1 [==============================] - 0s 32ms/step - loss: 1.5381 - acc: 0.3486 - val_loss: 1.6950 - val_acc: 0.1351\n",
            "Epoch 61/500\n",
            "1/1 [==============================] - 0s 25ms/step - loss: 1.5279 - acc: 0.3211 - val_loss: 1.6937 - val_acc: 0.1351\n",
            "Epoch 62/500\n",
            "1/1 [==============================] - 0s 25ms/step - loss: 1.5181 - acc: 0.3486 - val_loss: 1.6925 - val_acc: 0.1351\n",
            "Epoch 63/500\n",
            "1/1 [==============================] - 0s 22ms/step - loss: 1.5229 - acc: 0.3303 - val_loss: 1.6913 - val_acc: 0.1351\n",
            "Epoch 64/500\n",
            "1/1 [==============================] - 0s 29ms/step - loss: 1.4951 - acc: 0.3394 - val_loss: 1.6902 - val_acc: 0.1351\n",
            "Epoch 65/500\n",
            "1/1 [==============================] - 0s 26ms/step - loss: 1.5093 - acc: 0.3761 - val_loss: 1.6892 - val_acc: 0.1351\n",
            "Epoch 66/500\n",
            "1/1 [==============================] - 0s 23ms/step - loss: 1.4917 - acc: 0.3761 - val_loss: 1.6882 - val_acc: 0.1351\n",
            "Epoch 67/500\n",
            "1/1 [==============================] - 0s 25ms/step - loss: 1.4931 - acc: 0.3761 - val_loss: 1.6872 - val_acc: 0.1351\n",
            "Epoch 68/500\n",
            "1/1 [==============================] - 0s 30ms/step - loss: 1.4972 - acc: 0.3853 - val_loss: 1.6863 - val_acc: 0.1351\n",
            "Epoch 69/500\n",
            "1/1 [==============================] - 0s 30ms/step - loss: 1.4823 - acc: 0.4037 - val_loss: 1.6856 - val_acc: 0.1351\n",
            "Epoch 70/500\n",
            "1/1 [==============================] - 0s 28ms/step - loss: 1.4541 - acc: 0.4128 - val_loss: 1.6850 - val_acc: 0.1351\n",
            "Epoch 71/500\n",
            "1/1 [==============================] - 0s 42ms/step - loss: 1.4691 - acc: 0.3761 - val_loss: 1.6845 - val_acc: 0.1351\n",
            "Epoch 72/500\n",
            "1/1 [==============================] - 0s 25ms/step - loss: 1.4554 - acc: 0.3945 - val_loss: 1.6842 - val_acc: 0.1351\n",
            "Epoch 73/500\n",
            "1/1 [==============================] - 0s 26ms/step - loss: 1.4399 - acc: 0.4037 - val_loss: 1.6837 - val_acc: 0.1351\n",
            "Epoch 74/500\n",
            "1/1 [==============================] - 0s 25ms/step - loss: 1.4516 - acc: 0.3945 - val_loss: 1.6834 - val_acc: 0.1351\n",
            "Epoch 75/500\n",
            "1/1 [==============================] - 0s 32ms/step - loss: 1.4544 - acc: 0.4587 - val_loss: 1.6829 - val_acc: 0.1351\n",
            "Epoch 76/500\n",
            "1/1 [==============================] - 0s 31ms/step - loss: 1.4661 - acc: 0.4679 - val_loss: 1.6824 - val_acc: 0.1351\n",
            "Epoch 77/500\n",
            "1/1 [==============================] - 0s 27ms/step - loss: 1.4178 - acc: 0.4771 - val_loss: 1.6821 - val_acc: 0.1351\n",
            "Epoch 78/500\n",
            "1/1 [==============================] - 0s 26ms/step - loss: 1.4097 - acc: 0.4862 - val_loss: 1.6816 - val_acc: 0.1351\n",
            "Epoch 79/500\n",
            "1/1 [==============================] - 0s 24ms/step - loss: 1.4030 - acc: 0.4862 - val_loss: 1.6814 - val_acc: 0.1351\n",
            "Epoch 80/500\n",
            "1/1 [==============================] - 0s 48ms/step - loss: 1.4157 - acc: 0.4771 - val_loss: 1.6808 - val_acc: 0.1351\n",
            "Epoch 81/500\n",
            "1/1 [==============================] - 0s 32ms/step - loss: 1.4001 - acc: 0.5413 - val_loss: 1.6804 - val_acc: 0.1351\n",
            "Epoch 82/500\n",
            "1/1 [==============================] - 0s 26ms/step - loss: 1.4236 - acc: 0.4954 - val_loss: 1.6800 - val_acc: 0.1351\n",
            "Epoch 83/500\n",
            "1/1 [==============================] - 0s 23ms/step - loss: 1.4042 - acc: 0.5872 - val_loss: 1.6797 - val_acc: 0.1351\n",
            "Epoch 84/500\n",
            "1/1 [==============================] - 0s 25ms/step - loss: 1.3988 - acc: 0.5046 - val_loss: 1.6792 - val_acc: 0.1351\n",
            "Epoch 85/500\n",
            "1/1 [==============================] - 0s 28ms/step - loss: 1.4306 - acc: 0.5505 - val_loss: 1.6789 - val_acc: 0.1351\n",
            "Epoch 86/500\n",
            "1/1 [==============================] - 0s 23ms/step - loss: 1.3655 - acc: 0.6239 - val_loss: 1.6787 - val_acc: 0.1351\n",
            "Epoch 87/500\n",
            "1/1 [==============================] - 0s 25ms/step - loss: 1.3680 - acc: 0.5872 - val_loss: 1.6785 - val_acc: 0.1351\n",
            "Epoch 88/500\n",
            "1/1 [==============================] - 0s 40ms/step - loss: 1.3606 - acc: 0.6514 - val_loss: 1.6785 - val_acc: 0.1351\n",
            "Epoch 89/500\n",
            "1/1 [==============================] - 0s 24ms/step - loss: 1.3316 - acc: 0.6697 - val_loss: 1.6784 - val_acc: 0.1351\n",
            "Epoch 90/500\n",
            "1/1 [==============================] - 0s 24ms/step - loss: 1.3393 - acc: 0.6514 - val_loss: 1.6781 - val_acc: 0.1351\n",
            "Epoch 91/500\n",
            "1/1 [==============================] - 0s 24ms/step - loss: 1.3492 - acc: 0.6330 - val_loss: 1.6778 - val_acc: 0.1351\n",
            "Epoch 92/500\n",
            "1/1 [==============================] - 0s 24ms/step - loss: 1.3172 - acc: 0.7156 - val_loss: 1.6778 - val_acc: 0.1351\n",
            "Epoch 93/500\n",
            "1/1 [==============================] - 0s 23ms/step - loss: 1.3214 - acc: 0.6422 - val_loss: 1.6779 - val_acc: 0.1351\n",
            "Epoch 94/500\n",
            "1/1 [==============================] - 0s 28ms/step - loss: 1.3100 - acc: 0.6514 - val_loss: 1.6777 - val_acc: 0.1351\n",
            "Epoch 95/500\n",
            "1/1 [==============================] - 0s 27ms/step - loss: 1.3002 - acc: 0.6422 - val_loss: 1.6773 - val_acc: 0.1351\n",
            "Epoch 96/500\n",
            "1/1 [==============================] - 0s 23ms/step - loss: 1.3059 - acc: 0.6147 - val_loss: 1.6768 - val_acc: 0.1351\n",
            "Epoch 97/500\n",
            "1/1 [==============================] - 0s 23ms/step - loss: 1.2815 - acc: 0.6697 - val_loss: 1.6763 - val_acc: 0.1351\n",
            "Epoch 98/500\n",
            "1/1 [==============================] - 0s 29ms/step - loss: 1.3000 - acc: 0.6514 - val_loss: 1.6757 - val_acc: 0.1622\n",
            "Epoch 99/500\n",
            "1/1 [==============================] - 0s 26ms/step - loss: 1.2780 - acc: 0.6972 - val_loss: 1.6750 - val_acc: 0.1892\n",
            "Epoch 100/500\n",
            "1/1 [==============================] - 0s 26ms/step - loss: 1.2857 - acc: 0.6697 - val_loss: 1.6745 - val_acc: 0.1892\n",
            "Epoch 101/500\n",
            "1/1 [==============================] - 0s 27ms/step - loss: 1.2579 - acc: 0.7248 - val_loss: 1.6740 - val_acc: 0.1892\n",
            "Epoch 102/500\n",
            "1/1 [==============================] - 0s 25ms/step - loss: 1.2841 - acc: 0.6330 - val_loss: 1.6735 - val_acc: 0.1892\n",
            "Epoch 103/500\n",
            "1/1 [==============================] - 0s 26ms/step - loss: 1.2514 - acc: 0.7064 - val_loss: 1.6730 - val_acc: 0.1892\n",
            "Epoch 104/500\n",
            "1/1 [==============================] - 0s 31ms/step - loss: 1.2255 - acc: 0.7248 - val_loss: 1.6725 - val_acc: 0.1892\n",
            "Epoch 105/500\n",
            "1/1 [==============================] - 0s 28ms/step - loss: 1.2499 - acc: 0.6972 - val_loss: 1.6721 - val_acc: 0.1892\n",
            "Epoch 106/500\n",
            "1/1 [==============================] - 0s 23ms/step - loss: 1.2540 - acc: 0.6789 - val_loss: 1.6716 - val_acc: 0.1892\n",
            "Epoch 107/500\n",
            "1/1 [==============================] - 0s 24ms/step - loss: 1.2172 - acc: 0.7248 - val_loss: 1.6709 - val_acc: 0.1892\n",
            "Epoch 108/500\n",
            "1/1 [==============================] - 0s 25ms/step - loss: 1.2305 - acc: 0.7339 - val_loss: 1.6704 - val_acc: 0.1892\n",
            "Epoch 109/500\n",
            "1/1 [==============================] - 0s 22ms/step - loss: 1.2505 - acc: 0.6789 - val_loss: 1.6698 - val_acc: 0.2162\n",
            "Epoch 110/500\n",
            "1/1 [==============================] - 0s 25ms/step - loss: 1.2178 - acc: 0.6881 - val_loss: 1.6693 - val_acc: 0.2162\n",
            "Epoch 111/500\n",
            "1/1 [==============================] - 0s 29ms/step - loss: 1.2128 - acc: 0.7523 - val_loss: 1.6689 - val_acc: 0.2162\n",
            "Epoch 112/500\n",
            "1/1 [==============================] - 0s 24ms/step - loss: 1.1673 - acc: 0.7706 - val_loss: 1.6686 - val_acc: 0.2162\n",
            "Epoch 113/500\n",
            "1/1 [==============================] - 0s 23ms/step - loss: 1.2086 - acc: 0.6972 - val_loss: 1.6682 - val_acc: 0.2162\n",
            "Epoch 114/500\n",
            "1/1 [==============================] - 0s 27ms/step - loss: 1.1935 - acc: 0.7156 - val_loss: 1.6676 - val_acc: 0.2162\n",
            "Epoch 115/500\n",
            "1/1 [==============================] - 0s 22ms/step - loss: 1.1644 - acc: 0.7431 - val_loss: 1.6671 - val_acc: 0.2162\n",
            "Epoch 116/500\n",
            "1/1 [==============================] - 0s 31ms/step - loss: 1.1765 - acc: 0.7156 - val_loss: 1.6667 - val_acc: 0.2162\n",
            "Epoch 117/500\n",
            "1/1 [==============================] - 0s 29ms/step - loss: 1.1837 - acc: 0.7248 - val_loss: 1.6667 - val_acc: 0.2162\n",
            "Epoch 118/500\n",
            "1/1 [==============================] - 0s 32ms/step - loss: 1.1764 - acc: 0.6789 - val_loss: 1.6668 - val_acc: 0.2162\n",
            "Epoch 119/500\n",
            "1/1 [==============================] - 0s 25ms/step - loss: 1.1396 - acc: 0.7339 - val_loss: 1.6668 - val_acc: 0.2162\n",
            "Epoch 120/500\n",
            "1/1 [==============================] - 0s 29ms/step - loss: 1.2027 - acc: 0.6606 - val_loss: 1.6668 - val_acc: 0.2162\n",
            "Epoch 121/500\n",
            "1/1 [==============================] - 0s 31ms/step - loss: 1.1930 - acc: 0.6881 - val_loss: 1.6666 - val_acc: 0.2162\n",
            "Epoch 122/500\n",
            "1/1 [==============================] - 0s 24ms/step - loss: 1.1288 - acc: 0.7523 - val_loss: 1.6665 - val_acc: 0.2432\n",
            "Epoch 123/500\n",
            "1/1 [==============================] - 0s 22ms/step - loss: 1.1272 - acc: 0.7523 - val_loss: 1.6663 - val_acc: 0.2432\n",
            "Epoch 124/500\n",
            "1/1 [==============================] - 0s 27ms/step - loss: 1.1335 - acc: 0.7523 - val_loss: 1.6659 - val_acc: 0.2432\n",
            "Epoch 125/500\n",
            "1/1 [==============================] - 0s 28ms/step - loss: 1.1382 - acc: 0.7064 - val_loss: 1.6655 - val_acc: 0.2432\n",
            "Epoch 126/500\n",
            "1/1 [==============================] - 0s 26ms/step - loss: 1.0865 - acc: 0.7798 - val_loss: 1.6650 - val_acc: 0.2432\n",
            "Epoch 127/500\n",
            "1/1 [==============================] - 0s 27ms/step - loss: 1.1000 - acc: 0.7339 - val_loss: 1.6641 - val_acc: 0.2432\n",
            "Epoch 128/500\n",
            "1/1 [==============================] - 0s 29ms/step - loss: 1.1112 - acc: 0.7064 - val_loss: 1.6628 - val_acc: 0.2432\n",
            "Epoch 129/500\n",
            "1/1 [==============================] - 0s 24ms/step - loss: 1.1081 - acc: 0.7798 - val_loss: 1.6614 - val_acc: 0.2703\n",
            "Epoch 130/500\n",
            "1/1 [==============================] - 0s 23ms/step - loss: 1.0695 - acc: 0.8716 - val_loss: 1.6602 - val_acc: 0.2703\n",
            "Epoch 131/500\n",
            "1/1 [==============================] - 0s 26ms/step - loss: 1.0846 - acc: 0.7064 - val_loss: 1.6588 - val_acc: 0.2703\n",
            "Epoch 132/500\n",
            "1/1 [==============================] - 0s 29ms/step - loss: 1.0688 - acc: 0.7339 - val_loss: 1.6572 - val_acc: 0.2703\n",
            "Epoch 133/500\n",
            "1/1 [==============================] - 0s 25ms/step - loss: 1.0731 - acc: 0.7339 - val_loss: 1.6556 - val_acc: 0.2703\n",
            "Epoch 134/500\n",
            "1/1 [==============================] - 0s 28ms/step - loss: 1.0856 - acc: 0.7431 - val_loss: 1.6538 - val_acc: 0.2703\n",
            "Epoch 135/500\n",
            "1/1 [==============================] - 0s 24ms/step - loss: 1.0495 - acc: 0.8165 - val_loss: 1.6522 - val_acc: 0.2703\n",
            "Epoch 136/500\n",
            "1/1 [==============================] - 0s 23ms/step - loss: 1.0600 - acc: 0.7890 - val_loss: 1.6505 - val_acc: 0.2703\n",
            "Epoch 137/500\n",
            "1/1 [==============================] - 0s 27ms/step - loss: 1.0727 - acc: 0.7339 - val_loss: 1.6493 - val_acc: 0.2703\n",
            "Epoch 138/500\n",
            "1/1 [==============================] - 0s 46ms/step - loss: 1.0118 - acc: 0.8532 - val_loss: 1.6480 - val_acc: 0.2703\n",
            "Epoch 139/500\n",
            "1/1 [==============================] - 0s 46ms/step - loss: 1.0860 - acc: 0.7615 - val_loss: 1.6473 - val_acc: 0.2703\n",
            "Epoch 140/500\n",
            "1/1 [==============================] - 0s 24ms/step - loss: 1.0001 - acc: 0.8716 - val_loss: 1.6463 - val_acc: 0.2703\n",
            "Epoch 141/500\n",
            "1/1 [==============================] - 0s 24ms/step - loss: 1.0413 - acc: 0.8073 - val_loss: 1.6451 - val_acc: 0.2703\n",
            "Epoch 142/500\n",
            "1/1 [==============================] - 0s 31ms/step - loss: 1.0210 - acc: 0.8440 - val_loss: 1.6437 - val_acc: 0.2703\n",
            "Epoch 143/500\n",
            "1/1 [==============================] - 0s 26ms/step - loss: 1.0057 - acc: 0.8165 - val_loss: 1.6418 - val_acc: 0.2703\n",
            "Epoch 144/500\n",
            "1/1 [==============================] - 0s 26ms/step - loss: 0.9794 - acc: 0.8165 - val_loss: 1.6396 - val_acc: 0.2703\n",
            "Epoch 145/500\n",
            "1/1 [==============================] - 0s 24ms/step - loss: 1.0123 - acc: 0.8624 - val_loss: 1.6372 - val_acc: 0.2703\n",
            "Epoch 146/500\n",
            "1/1 [==============================] - 0s 24ms/step - loss: 0.9890 - acc: 0.8349 - val_loss: 1.6345 - val_acc: 0.2973\n",
            "Epoch 147/500\n",
            "1/1 [==============================] - 0s 34ms/step - loss: 1.0147 - acc: 0.8257 - val_loss: 1.6324 - val_acc: 0.2703\n",
            "Epoch 148/500\n",
            "1/1 [==============================] - 0s 26ms/step - loss: 1.0128 - acc: 0.7982 - val_loss: 1.6306 - val_acc: 0.2703\n",
            "Epoch 149/500\n",
            "1/1 [==============================] - 0s 26ms/step - loss: 0.9632 - acc: 0.8165 - val_loss: 1.6285 - val_acc: 0.2703\n",
            "Epoch 150/500\n",
            "1/1 [==============================] - 0s 27ms/step - loss: 1.0079 - acc: 0.7982 - val_loss: 1.6267 - val_acc: 0.2703\n",
            "Epoch 151/500\n",
            "1/1 [==============================] - 0s 24ms/step - loss: 0.9464 - acc: 0.8899 - val_loss: 1.6249 - val_acc: 0.2703\n",
            "Epoch 152/500\n",
            "1/1 [==============================] - 0s 23ms/step - loss: 0.9654 - acc: 0.8349 - val_loss: 1.6230 - val_acc: 0.2703\n",
            "Epoch 153/500\n",
            "1/1 [==============================] - 0s 24ms/step - loss: 0.9377 - acc: 0.8532 - val_loss: 1.6201 - val_acc: 0.2703\n",
            "Epoch 154/500\n",
            "1/1 [==============================] - 0s 25ms/step - loss: 0.9321 - acc: 0.8807 - val_loss: 1.6168 - val_acc: 0.2973\n",
            "Epoch 155/500\n",
            "1/1 [==============================] - 0s 29ms/step - loss: 0.9174 - acc: 0.8440 - val_loss: 1.6131 - val_acc: 0.2973\n",
            "Epoch 156/500\n",
            "1/1 [==============================] - 0s 25ms/step - loss: 0.9746 - acc: 0.8349 - val_loss: 1.6099 - val_acc: 0.2973\n",
            "Epoch 157/500\n",
            "1/1 [==============================] - 0s 24ms/step - loss: 0.9067 - acc: 0.8991 - val_loss: 1.6071 - val_acc: 0.2973\n",
            "Epoch 158/500\n",
            "1/1 [==============================] - 0s 25ms/step - loss: 0.9202 - acc: 0.8716 - val_loss: 1.6046 - val_acc: 0.2973\n",
            "Epoch 159/500\n",
            "1/1 [==============================] - 0s 27ms/step - loss: 0.9204 - acc: 0.8624 - val_loss: 1.6016 - val_acc: 0.3243\n",
            "Epoch 160/500\n",
            "1/1 [==============================] - 0s 23ms/step - loss: 0.9585 - acc: 0.8532 - val_loss: 1.5998 - val_acc: 0.3243\n",
            "Epoch 161/500\n",
            "1/1 [==============================] - 0s 30ms/step - loss: 0.9006 - acc: 0.8899 - val_loss: 1.5983 - val_acc: 0.3243\n",
            "Epoch 162/500\n",
            "1/1 [==============================] - 0s 26ms/step - loss: 0.9584 - acc: 0.8349 - val_loss: 1.5965 - val_acc: 0.3243\n",
            "Epoch 163/500\n",
            "1/1 [==============================] - 0s 27ms/step - loss: 0.9348 - acc: 0.8257 - val_loss: 1.5946 - val_acc: 0.3243\n",
            "Epoch 164/500\n",
            "1/1 [==============================] - 0s 27ms/step - loss: 0.8829 - acc: 0.8716 - val_loss: 1.5924 - val_acc: 0.3243\n",
            "Epoch 165/500\n",
            "1/1 [==============================] - 0s 30ms/step - loss: 0.8866 - acc: 0.8440 - val_loss: 1.5899 - val_acc: 0.3514\n",
            "Epoch 166/500\n",
            "1/1 [==============================] - 0s 24ms/step - loss: 0.8601 - acc: 0.9083 - val_loss: 1.5873 - val_acc: 0.3514\n",
            "Epoch 167/500\n",
            "1/1 [==============================] - 0s 24ms/step - loss: 0.8514 - acc: 0.8532 - val_loss: 1.5843 - val_acc: 0.3514\n",
            "Epoch 168/500\n",
            "1/1 [==============================] - 0s 45ms/step - loss: 0.9125 - acc: 0.8440 - val_loss: 1.5814 - val_acc: 0.3784\n",
            "Epoch 169/500\n",
            "1/1 [==============================] - 0s 25ms/step - loss: 0.8556 - acc: 0.8807 - val_loss: 1.5784 - val_acc: 0.3784\n",
            "Epoch 170/500\n",
            "1/1 [==============================] - 0s 27ms/step - loss: 0.8937 - acc: 0.8349 - val_loss: 1.5754 - val_acc: 0.3784\n",
            "Epoch 171/500\n",
            "1/1 [==============================] - 0s 26ms/step - loss: 0.8812 - acc: 0.8532 - val_loss: 1.5729 - val_acc: 0.3784\n",
            "Epoch 172/500\n",
            "1/1 [==============================] - 0s 27ms/step - loss: 0.8286 - acc: 0.8899 - val_loss: 1.5705 - val_acc: 0.3784\n",
            "Epoch 173/500\n",
            "1/1 [==============================] - 0s 24ms/step - loss: 0.8383 - acc: 0.8807 - val_loss: 1.5678 - val_acc: 0.3784\n",
            "Epoch 174/500\n",
            "1/1 [==============================] - 0s 26ms/step - loss: 0.8603 - acc: 0.8624 - val_loss: 1.5652 - val_acc: 0.4054\n",
            "Epoch 175/500\n",
            "1/1 [==============================] - 0s 23ms/step - loss: 0.8102 - acc: 0.9174 - val_loss: 1.5625 - val_acc: 0.4054\n",
            "Epoch 176/500\n",
            "1/1 [==============================] - 0s 29ms/step - loss: 0.8492 - acc: 0.8991 - val_loss: 1.5597 - val_acc: 0.4054\n",
            "Epoch 177/500\n",
            "1/1 [==============================] - 0s 25ms/step - loss: 0.7795 - acc: 0.9266 - val_loss: 1.5565 - val_acc: 0.4054\n",
            "Epoch 178/500\n",
            "1/1 [==============================] - 0s 24ms/step - loss: 0.8650 - acc: 0.8349 - val_loss: 1.5539 - val_acc: 0.4054\n",
            "Epoch 179/500\n",
            "1/1 [==============================] - 0s 24ms/step - loss: 0.8549 - acc: 0.8716 - val_loss: 1.5515 - val_acc: 0.4054\n",
            "Epoch 180/500\n",
            "1/1 [==============================] - 0s 24ms/step - loss: 0.8336 - acc: 0.8624 - val_loss: 1.5498 - val_acc: 0.4054\n",
            "Epoch 181/500\n",
            "1/1 [==============================] - 0s 25ms/step - loss: 0.8459 - acc: 0.8440 - val_loss: 1.5483 - val_acc: 0.4054\n",
            "Epoch 182/500\n",
            "1/1 [==============================] - 0s 28ms/step - loss: 0.7927 - acc: 0.8899 - val_loss: 1.5470 - val_acc: 0.4054\n",
            "Epoch 183/500\n",
            "1/1 [==============================] - 0s 25ms/step - loss: 0.7815 - acc: 0.8991 - val_loss: 1.5458 - val_acc: 0.4054\n",
            "Epoch 184/500\n",
            "1/1 [==============================] - 0s 26ms/step - loss: 0.7676 - acc: 0.9083 - val_loss: 1.5436 - val_acc: 0.4054\n",
            "Epoch 185/500\n",
            "1/1 [==============================] - 0s 26ms/step - loss: 0.8230 - acc: 0.8532 - val_loss: 1.5420 - val_acc: 0.4054\n",
            "Epoch 186/500\n",
            "1/1 [==============================] - 0s 25ms/step - loss: 0.8010 - acc: 0.8716 - val_loss: 1.5404 - val_acc: 0.4054\n",
            "Epoch 187/500\n",
            "1/1 [==============================] - 0s 31ms/step - loss: 0.7027 - acc: 0.9266 - val_loss: 1.5384 - val_acc: 0.4054\n",
            "Epoch 188/500\n",
            "1/1 [==============================] - 0s 25ms/step - loss: 0.7603 - acc: 0.8899 - val_loss: 1.5364 - val_acc: 0.4054\n",
            "Epoch 189/500\n",
            "1/1 [==============================] - 0s 27ms/step - loss: 0.7485 - acc: 0.8991 - val_loss: 1.5346 - val_acc: 0.4054\n",
            "Epoch 190/500\n",
            "1/1 [==============================] - 0s 29ms/step - loss: 0.8024 - acc: 0.8716 - val_loss: 1.5334 - val_acc: 0.3784\n",
            "Epoch 191/500\n",
            "1/1 [==============================] - 0s 25ms/step - loss: 0.7557 - acc: 0.8807 - val_loss: 1.5314 - val_acc: 0.3784\n",
            "Epoch 192/500\n",
            "1/1 [==============================] - 0s 28ms/step - loss: 0.7223 - acc: 0.9174 - val_loss: 1.5290 - val_acc: 0.3784\n",
            "Epoch 193/500\n",
            "1/1 [==============================] - 0s 27ms/step - loss: 0.7860 - acc: 0.8716 - val_loss: 1.5268 - val_acc: 0.3784\n",
            "Epoch 194/500\n",
            "1/1 [==============================] - 0s 26ms/step - loss: 0.7300 - acc: 0.9083 - val_loss: 1.5251 - val_acc: 0.3784\n",
            "Epoch 195/500\n",
            "1/1 [==============================] - 0s 25ms/step - loss: 0.7229 - acc: 0.9266 - val_loss: 1.5232 - val_acc: 0.3784\n",
            "Epoch 196/500\n",
            "1/1 [==============================] - 0s 26ms/step - loss: 0.6820 - acc: 0.8991 - val_loss: 1.5213 - val_acc: 0.3784\n",
            "Epoch 197/500\n",
            "1/1 [==============================] - 0s 27ms/step - loss: 0.7619 - acc: 0.8807 - val_loss: 1.5201 - val_acc: 0.3784\n",
            "Epoch 198/500\n",
            "1/1 [==============================] - 0s 28ms/step - loss: 0.6876 - acc: 0.9266 - val_loss: 1.5187 - val_acc: 0.3784\n",
            "Epoch 199/500\n",
            "1/1 [==============================] - 0s 27ms/step - loss: 0.6973 - acc: 0.9266 - val_loss: 1.5170 - val_acc: 0.3784\n",
            "Epoch 200/500\n",
            "1/1 [==============================] - 0s 31ms/step - loss: 0.6977 - acc: 0.8899 - val_loss: 1.5147 - val_acc: 0.3784\n",
            "Epoch 201/500\n",
            "1/1 [==============================] - 0s 25ms/step - loss: 0.7535 - acc: 0.8991 - val_loss: 1.5124 - val_acc: 0.3784\n",
            "Epoch 202/500\n",
            "1/1 [==============================] - 0s 27ms/step - loss: 0.7202 - acc: 0.8899 - val_loss: 1.5107 - val_acc: 0.3784\n",
            "Epoch 203/500\n",
            "1/1 [==============================] - 0s 25ms/step - loss: 0.6955 - acc: 0.9083 - val_loss: 1.5088 - val_acc: 0.3784\n",
            "Epoch 204/500\n",
            "1/1 [==============================] - 0s 32ms/step - loss: 0.7090 - acc: 0.8807 - val_loss: 1.5069 - val_acc: 0.3784\n",
            "Epoch 205/500\n",
            "1/1 [==============================] - 0s 29ms/step - loss: 0.6715 - acc: 0.8991 - val_loss: 1.5050 - val_acc: 0.4054\n",
            "Epoch 206/500\n",
            "1/1 [==============================] - 0s 25ms/step - loss: 0.7280 - acc: 0.8716 - val_loss: 1.5036 - val_acc: 0.4054\n",
            "Epoch 207/500\n",
            "1/1 [==============================] - 0s 27ms/step - loss: 0.7016 - acc: 0.9083 - val_loss: 1.5021 - val_acc: 0.4054\n",
            "Epoch 208/500\n",
            "1/1 [==============================] - 0s 27ms/step - loss: 0.7101 - acc: 0.8807 - val_loss: 1.5007 - val_acc: 0.4054\n",
            "Epoch 209/500\n",
            "1/1 [==============================] - 0s 28ms/step - loss: 0.6832 - acc: 0.8807 - val_loss: 1.4989 - val_acc: 0.4054\n",
            "Epoch 210/500\n",
            "1/1 [==============================] - 0s 25ms/step - loss: 0.6525 - acc: 0.9083 - val_loss: 1.4971 - val_acc: 0.4054\n",
            "Epoch 211/500\n",
            "1/1 [==============================] - 0s 26ms/step - loss: 0.6639 - acc: 0.8899 - val_loss: 1.4960 - val_acc: 0.4054\n",
            "Epoch 212/500\n",
            "1/1 [==============================] - 0s 25ms/step - loss: 0.6566 - acc: 0.9266 - val_loss: 1.4949 - val_acc: 0.4054\n",
            "Epoch 213/500\n",
            "1/1 [==============================] - 0s 32ms/step - loss: 0.6212 - acc: 0.9358 - val_loss: 1.4937 - val_acc: 0.4324\n",
            "Epoch 214/500\n",
            "1/1 [==============================] - 0s 44ms/step - loss: 0.6393 - acc: 0.9266 - val_loss: 1.4916 - val_acc: 0.4324\n",
            "Epoch 215/500\n",
            "1/1 [==============================] - 0s 31ms/step - loss: 0.7021 - acc: 0.8716 - val_loss: 1.4898 - val_acc: 0.4595\n",
            "Epoch 216/500\n",
            "1/1 [==============================] - 0s 27ms/step - loss: 0.6956 - acc: 0.8807 - val_loss: 1.4878 - val_acc: 0.4865\n",
            "Epoch 217/500\n",
            "1/1 [==============================] - 0s 27ms/step - loss: 0.6533 - acc: 0.8899 - val_loss: 1.4857 - val_acc: 0.4865\n",
            "Epoch 218/500\n",
            "1/1 [==============================] - 0s 26ms/step - loss: 0.6303 - acc: 0.9174 - val_loss: 1.4838 - val_acc: 0.4865\n",
            "Epoch 219/500\n",
            "1/1 [==============================] - 0s 26ms/step - loss: 0.6340 - acc: 0.8991 - val_loss: 1.4826 - val_acc: 0.4865\n",
            "Epoch 220/500\n",
            "1/1 [==============================] - 0s 28ms/step - loss: 0.7020 - acc: 0.8349 - val_loss: 1.4822 - val_acc: 0.4595\n",
            "Epoch 221/500\n",
            "1/1 [==============================] - 0s 24ms/step - loss: 0.5959 - acc: 0.9266 - val_loss: 1.4818 - val_acc: 0.4324\n",
            "Epoch 222/500\n",
            "1/1 [==============================] - 0s 24ms/step - loss: 0.6319 - acc: 0.8991 - val_loss: 1.4809 - val_acc: 0.4324\n",
            "Epoch 223/500\n",
            "1/1 [==============================] - 0s 24ms/step - loss: 0.6057 - acc: 0.9083 - val_loss: 1.4799 - val_acc: 0.4324\n",
            "Epoch 224/500\n",
            "1/1 [==============================] - 0s 25ms/step - loss: 0.5679 - acc: 0.9541 - val_loss: 1.4785 - val_acc: 0.4324\n",
            "Epoch 225/500\n",
            "1/1 [==============================] - 0s 28ms/step - loss: 0.6807 - acc: 0.8532 - val_loss: 1.4766 - val_acc: 0.4324\n",
            "Epoch 226/500\n",
            "1/1 [==============================] - 0s 28ms/step - loss: 0.5861 - acc: 0.9083 - val_loss: 1.4741 - val_acc: 0.4324\n",
            "Epoch 227/500\n",
            "1/1 [==============================] - 0s 24ms/step - loss: 0.6027 - acc: 0.9083 - val_loss: 1.4713 - val_acc: 0.4324\n",
            "Epoch 228/500\n",
            "1/1 [==============================] - 0s 49ms/step - loss: 0.6194 - acc: 0.8991 - val_loss: 1.4683 - val_acc: 0.5135\n",
            "Epoch 229/500\n",
            "1/1 [==============================] - 0s 32ms/step - loss: 0.6388 - acc: 0.8716 - val_loss: 1.4655 - val_acc: 0.5135\n",
            "Epoch 230/500\n",
            "1/1 [==============================] - 0s 26ms/step - loss: 0.5991 - acc: 0.9174 - val_loss: 1.4637 - val_acc: 0.5135\n",
            "Epoch 231/500\n",
            "1/1 [==============================] - 0s 32ms/step - loss: 0.6132 - acc: 0.9083 - val_loss: 1.4624 - val_acc: 0.5135\n",
            "Epoch 232/500\n",
            "1/1 [==============================] - 0s 26ms/step - loss: 0.6193 - acc: 0.9083 - val_loss: 1.4612 - val_acc: 0.5135\n",
            "Epoch 233/500\n",
            "1/1 [==============================] - 0s 27ms/step - loss: 0.5725 - acc: 0.9541 - val_loss: 1.4603 - val_acc: 0.4865\n",
            "Epoch 234/500\n",
            "1/1 [==============================] - 0s 47ms/step - loss: 0.5908 - acc: 0.9174 - val_loss: 1.4598 - val_acc: 0.4595\n",
            "Epoch 235/500\n",
            "1/1 [==============================] - 0s 24ms/step - loss: 0.5965 - acc: 0.8991 - val_loss: 1.4596 - val_acc: 0.4324\n",
            "Epoch 236/500\n",
            "1/1 [==============================] - 0s 23ms/step - loss: 0.6217 - acc: 0.8624 - val_loss: 1.4596 - val_acc: 0.4324\n",
            "Epoch 237/500\n",
            "1/1 [==============================] - 0s 26ms/step - loss: 0.5988 - acc: 0.9174 - val_loss: 1.4586 - val_acc: 0.4324\n",
            "Epoch 238/500\n",
            "1/1 [==============================] - 0s 28ms/step - loss: 0.5463 - acc: 0.9358 - val_loss: 1.4579 - val_acc: 0.4324\n",
            "Epoch 239/500\n",
            "1/1 [==============================] - 0s 29ms/step - loss: 0.5764 - acc: 0.9174 - val_loss: 1.4565 - val_acc: 0.4324\n",
            "Epoch 240/500\n",
            "1/1 [==============================] - 0s 25ms/step - loss: 0.5853 - acc: 0.9174 - val_loss: 1.4548 - val_acc: 0.4324\n",
            "Epoch 241/500\n",
            "1/1 [==============================] - 0s 25ms/step - loss: 0.5304 - acc: 0.9358 - val_loss: 1.4536 - val_acc: 0.4324\n",
            "Epoch 242/500\n",
            "1/1 [==============================] - 0s 25ms/step - loss: 0.5514 - acc: 0.9266 - val_loss: 1.4520 - val_acc: 0.4324\n",
            "Epoch 243/500\n",
            "1/1 [==============================] - 0s 27ms/step - loss: 0.5901 - acc: 0.9083 - val_loss: 1.4506 - val_acc: 0.4595\n",
            "Epoch 244/500\n",
            "1/1 [==============================] - 0s 26ms/step - loss: 0.5438 - acc: 0.9450 - val_loss: 1.4482 - val_acc: 0.4595\n",
            "Epoch 245/500\n",
            "1/1 [==============================] - 0s 26ms/step - loss: 0.5788 - acc: 0.9358 - val_loss: 1.4462 - val_acc: 0.4595\n",
            "Epoch 246/500\n",
            "1/1 [==============================] - 0s 24ms/step - loss: 0.5349 - acc: 0.9358 - val_loss: 1.4448 - val_acc: 0.4595\n",
            "Epoch 247/500\n",
            "1/1 [==============================] - 0s 24ms/step - loss: 0.5547 - acc: 0.9083 - val_loss: 1.4435 - val_acc: 0.4595\n",
            "Epoch 248/500\n",
            "1/1 [==============================] - 0s 23ms/step - loss: 0.5891 - acc: 0.8991 - val_loss: 1.4439 - val_acc: 0.4595\n",
            "Epoch 249/500\n",
            "1/1 [==============================] - 0s 31ms/step - loss: 0.5659 - acc: 0.8991 - val_loss: 1.4450 - val_acc: 0.4595\n",
            "Epoch 250/500\n",
            "1/1 [==============================] - 0s 35ms/step - loss: 0.5472 - acc: 0.9266 - val_loss: 1.4459 - val_acc: 0.4324\n",
            "Epoch 251/500\n",
            "1/1 [==============================] - 0s 27ms/step - loss: 0.5845 - acc: 0.8899 - val_loss: 1.4460 - val_acc: 0.4324\n",
            "Epoch 252/500\n",
            "1/1 [==============================] - 0s 26ms/step - loss: 0.5104 - acc: 0.9541 - val_loss: 1.4461 - val_acc: 0.4324\n",
            "Epoch 253/500\n",
            "1/1 [==============================] - 0s 23ms/step - loss: 0.5765 - acc: 0.9174 - val_loss: 1.4459 - val_acc: 0.4324\n",
            "Epoch 254/500\n",
            "1/1 [==============================] - 0s 26ms/step - loss: 0.5192 - acc: 0.9174 - val_loss: 1.4456 - val_acc: 0.4324\n",
            "Epoch 255/500\n",
            "1/1 [==============================] - 0s 25ms/step - loss: 0.5532 - acc: 0.8991 - val_loss: 1.4456 - val_acc: 0.4324\n",
            "Epoch 256/500\n",
            "1/1 [==============================] - 0s 28ms/step - loss: 0.4994 - acc: 0.9541 - val_loss: 1.4458 - val_acc: 0.4324\n",
            "Epoch 257/500\n",
            "1/1 [==============================] - 0s 36ms/step - loss: 0.5525 - acc: 0.8991 - val_loss: 1.4457 - val_acc: 0.4324\n",
            "Training Accuracy: 1.0000\n",
            "Testing Accuracy:  0.4595\n"
          ],
          "name": "stdout"
        },
        {
          "output_type": "display_data",
          "data": {
            "image/png": "[encoded data removed]",
            "text/plain": [
              "<Figure size 864x360 with 2 Axes>"
            ]
          },
          "metadata": {
            "tags": []
          }
        }
      ]
    },
    {
      "cell_type": "code",
      "metadata": {
        "colab": {
          "base_uri": "https://localhost:8080/"
        },
        "id": "Ir-WeRLeKul7",
        "outputId": "2643e00d-ed56-4cc6-95b5-f308e492e779"
      },
      "source": [
        "y_test[0]"
      ],
      "execution_count": null,
      "outputs": [
        {
          "output_type": "execute_result",
          "data": {
            "text/plain": [
              "array([0., 1., 0., 0.], dtype=float32)"
            ]
          },
          "metadata": {
            "tags": []
          },
          "execution_count": 25
        }
      ]
    },
    {
      "cell_type": "code",
      "metadata": {
        "id": "nSeGVYTlK1wk"
      },
      "source": [
        "comentario = ['El presidente en alocución oficial pronunció un discurso de amor para toda la población, incitando a abrazar a todo aquel de la oposición y declarando que todas las posturas son válidas en el país.']"
      ],
      "execution_count": null,
      "outputs": []
    },
    {
      "cell_type": "code",
      "metadata": {
        "id": "ZgtngVXuMayE"
      },
      "source": [
        "comentario = t.texts_to_sequences(comentario)\n"
      ],
      "execution_count": null,
      "outputs": []
    },
    {
      "cell_type": "code",
      "metadata": {
        "id": "NKB6P4OdMekM"
      },
      "source": [
        "comentario = pad_sequences(comentario, padding = 'post',maxlen=maxlen)\n"
      ],
      "execution_count": null,
      "outputs": []
    },
    {
      "cell_type": "code",
      "metadata": {
        "colab": {
          "base_uri": "https://localhost:8080/"
        },
        "id": "TIW2RY8lMhXM",
        "outputId": "38dd79e6-259f-49c6-a8e5-3459a6f5053e"
      },
      "source": [
        "np.argmax(model.predict(comentario), axis=-1)"
      ],
      "execution_count": null,
      "outputs": [
        {
          "output_type": "execute_result",
          "data": {
            "text/plain": [
              "array([1])"
            ]
          },
          "metadata": {
            "tags": []
          },
          "execution_count": 29
        }
      ]
    },
    {
      "cell_type": "code",
      "metadata": {
        "id": "TynHNIptMoJ9",
        "colab": {
          "base_uri": "https://localhost:8080/"
        },
        "outputId": "a0bbbe4b-a440-4576-a75d-4cfa76ac61ae"
      },
      "source": [
        "X_train.shape[1]"
      ],
      "execution_count": null,
      "outputs": [
        {
          "output_type": "execute_result",
          "data": {
            "text/plain": [
              "76"
            ]
          },
          "metadata": {
            "tags": []
          },
          "execution_count": 30
        }
      ]
    }
  ]
}